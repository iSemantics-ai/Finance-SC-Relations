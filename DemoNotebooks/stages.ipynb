{
 "cells": [
  {
   "cell_type": "markdown",
   "id": "d4fa9a2c",
   "metadata": {},
   "source": [
    "# Imports"
   ]
  },
  {
   "cell_type": "code",
   "execution_count": 1,
   "id": "d477cb50",
   "metadata": {},
   "outputs": [],
   "source": [
    "import argparse\n",
    "import joblib\n",
    "import numpy as np\n",
    "import pandas as pd\n",
    "from typing import Text\n",
    "import yaml\n",
    "from colorama import Fore\n",
    "from tqdm import tqdm\n",
    "from pathlib import Path\n",
    "import os\n",
    "import sys \n",
    "\n"
   ]
  },
  {
   "cell_type": "code",
   "execution_count": 2,
   "id": "430adcaf",
   "metadata": {},
   "outputs": [],
   "source": [
    "#machine = \"local\"\n",
    "machine = \"paperspace\"\n",
    "\n",
    "if machine == \"local\":\n",
    "    src_dir= Path.cwd().parent    \n",
    "elif machine == \"paperspace\":\n",
    "    src_dir = Path(\"/notebooks/inferess-relation-extraction/\")\n",
    "\n",
    "sys.path.append(str(src_dir))\n"
   ]
  },
  {
   "cell_type": "code",
   "execution_count": 3,
   "id": "3ab3b185",
   "metadata": {},
   "outputs": [],
   "source": [
    "from src.utils import get_logger, dict2dot\n",
    "from src.language_model.spacy_loader import SpacyLoader\n"
   ]
  },
  {
   "cell_type": "markdown",
   "id": "e24c9580-22cc-4eb1-a71f-8e8547151006",
   "metadata": {
    "tags": []
   },
   "source": [
    "# load_data.py"
   ]
  },
  {
   "cell_type": "code",
   "execution_count": null,
   "id": "96c6f28a",
   "metadata": {},
   "outputs": [],
   "source": []
  },
  {
   "cell_type": "code",
   "execution_count": 4,
   "id": "edb65a50-9b83-4542-a9eb-fe4c0b0f69a2",
   "metadata": {},
   "outputs": [
    {
     "name": "stdout",
     "output_type": "stream",
     "text": [
      "2023-10-19 07:51:16,729 — DATA_LOAD — INFO — Load dataset\n"
     ]
    },
    {
     "name": "stderr",
     "output_type": "stream",
     "text": [
      "/tmp/ipykernel_3919/2716184175.py:64: FutureWarning: In a future version, `df.iloc[:, i] = newvals` will attempt to set the values inplace instead of always setting a new array. To retain the old behavior, use either `df[df.columns[i]] = newvals` or, if columns are non-unique, `df.isetitem(i, newvals)`\n",
      "  data.loc[:, config.base.index_col] = unique_ids\n"
     ]
    }
   ],
   "source": [
    "os.environ['CUDA_VISIBLE_DEVICES'] = \"0\"\n",
    "\n",
    "config_path = 'params.yaml'\n",
    "\n",
    "\"\"\"\n",
    "Load and validate data\n",
    "\"\"\" \n",
    "\n",
    "\"\"\"Load raw data.\n",
    "Args:\n",
    "    config_path {Text}: path to config\n",
    "\"\"\"\n",
    "\n",
    "with open(src_dir / config_path) as conf_file:\n",
    "    config = dict2dot(yaml.safe_load(conf_file))\n",
    "\n",
    "logger = get_logger('DATA_LOAD', log_level=config.base['log_level'])\n",
    "logger.info('Load dataset')\n",
    "## Read relations file\n",
    "data = pd.read_json(src_dir / config.load_data.dataset)\n",
    "data = data.dropna(subset=[config.load_data['text_col'],\n",
    "                     config.load_data.entity_1,\n",
    "                     config.load_data.entity_2])\n",
    "\n",
    "## Check missed columns \n",
    "missed_columns = set([\n",
    "  config.load_data['text_col'],\n",
    "  config.load_data.entity_1 ,\n",
    "  config.load_data.entity_2,\n",
    "  config.sc_train['target']]) - set(data.columns)\n",
    "\n",
    "\n",
    "if len(missed_columns) > 0: \n",
    "    raise ValueError(f\"Required columns missed <{','.join(x for x in missed_columns)}>\")\n",
    "\n",
    "if config.load_data['target'] is not None:\n",
    "    data.rename(columns={config.load_data['target']: 'relations'},inplace=True)\n",
    "\n",
    "data['relations'] = data['relations'].apply(lambda x : \"other\" if x not in\\\n",
    "                                       config.base['main_relations']\\\n",
    "                                       else x)\n",
    "\n",
    "\n",
    "data.rename(columns={config.load_data.text_col:'sents',\n",
    "                     config.load_data.entity_1:'entity_1',\n",
    "                     config.load_data.entity_2: 'entity_2',}, inplace=True)\n",
    "## annotate enities if missed\n",
    "if not 'spans' in data.columns or not 'org_groups' in data.columns: \n",
    "    spacy_loader = SpacyLoader(lm='en_core_web_trf',\n",
    "        require_gpu=True,\n",
    "        load_matcher=True)\n",
    "    sents, spans, groups, aliases = spacy_loader.predictor(data['sents'].tolist())\n",
    "    data['sents'] = sents\n",
    "    data['spans'] = spans\n",
    "    data['org_groups'] = groups\n",
    "    data['aliases'] = aliases\n",
    "# Generate unique IDs for unique strings in the column `sentence`\n",
    "if config.base.index_col not in data.columns:\n",
    "    unique_ids, unique_strings = pd.factorize(data[config.base.index_col])\n",
    "    logger.info(\"add idx\")\n",
    "    data.loc[:, config.base.index_col] = unique_ids\n",
    "else:\n",
    "    unique_ids, unique_strings = pd.factorize(data[config.base.index_col])\n",
    "    data.loc[:, config.base.index_col] = unique_ids\n",
    "data['idx_relation'] = data.groupby(config.base.index_col).cumcount()"
   ]
  },
  {
   "cell_type": "code",
   "execution_count": 13,
   "id": "6d9ced3e-52e1-4ce2-9a1c-36de50848b77",
   "metadata": {},
   "outputs": [],
   "source": []
  },
  {
   "cell_type": "code",
   "execution_count": 6,
   "id": "d7465f7b-64b6-4d47-a0f8-2bf35b088805",
   "metadata": {},
   "outputs": [
    {
     "data": {
      "text/html": [
       "<div>\n",
       "<style scoped>\n",
       "    .dataframe tbody tr th:only-of-type {\n",
       "        vertical-align: middle;\n",
       "    }\n",
       "\n",
       "    .dataframe tbody tr th {\n",
       "        vertical-align: top;\n",
       "    }\n",
       "\n",
       "    .dataframe thead th {\n",
       "        text-align: right;\n",
       "    }\n",
       "</style>\n",
       "<table border=\"1\" class=\"dataframe\">\n",
       "  <thead>\n",
       "    <tr style=\"text-align: right;\">\n",
       "      <th></th>\n",
       "      <th>sents</th>\n",
       "      <th>entity_2</th>\n",
       "      <th>relations</th>\n",
       "      <th>entity_1</th>\n",
       "      <th>Label</th>\n",
       "      <th>concept_class</th>\n",
       "      <th>idx</th>\n",
       "      <th>org_groups</th>\n",
       "      <th>spans</th>\n",
       "      <th>idx_relation</th>\n",
       "    </tr>\n",
       "  </thead>\n",
       "  <tbody>\n",
       "    <tr>\n",
       "      <th>0</th>\n",
       "      <td>On March 31, 2014, Tessera Inc filed a motion ...</td>\n",
       "      <td>Tessera Inc</td>\n",
       "      <td>other</td>\n",
       "      <td>Amkor</td>\n",
       "      <td>0</td>\n",
       "      <td>legal_and_regulatory</td>\n",
       "      <td>0</td>\n",
       "      <td>{'Tessera Inc': 0, 'Amkor': 1}</td>\n",
       "      <td>[{'text': 'March 31, 2014', 'label': 'DATE', '...</td>\n",
       "      <td>0</td>\n",
       "    </tr>\n",
       "    <tr>\n",
       "      <th>1</th>\n",
       "      <td>BE Aerospace TSA received an opinion from tax ...</td>\n",
       "      <td>BE Aerospace TSA</td>\n",
       "      <td>other</td>\n",
       "      <td>KLX</td>\n",
       "      <td>0</td>\n",
       "      <td>unknown</td>\n",
       "      <td>1</td>\n",
       "      <td>{'BE Aerospace TSA': 0, 'KLX': 2}</td>\n",
       "      <td>[{'text': 'BE Aerospace TSA', 'label': 'ORG', ...</td>\n",
       "      <td>0</td>\n",
       "    </tr>\n",
       "    <tr>\n",
       "      <th>2</th>\n",
       "      <td>Resort Savers Inc reports that Beijng Fanshan ...</td>\n",
       "      <td>Beijng Fanshan Yandong Chemical Factory</td>\n",
       "      <td>other</td>\n",
       "      <td>Resort Savers Inc</td>\n",
       "      <td>0</td>\n",
       "      <td>unknown</td>\n",
       "      <td>2</td>\n",
       "      <td>{'Beijng Fanshan Yandong Chemical Factory': 0,...</td>\n",
       "      <td>[{'text': 'Resort Savers Inc', 'label': 'ORG',...</td>\n",
       "      <td>0</td>\n",
       "    </tr>\n",
       "    <tr>\n",
       "      <th>3</th>\n",
       "      <td>Resort Savers Inc reports that Beijng Fanshan ...</td>\n",
       "      <td>Beijng Fanshan Yandong Chemical Factory</td>\n",
       "      <td>other</td>\n",
       "      <td>Fanshan Disctrict</td>\n",
       "      <td>0</td>\n",
       "      <td>unknown</td>\n",
       "      <td>2</td>\n",
       "      <td>{'Beijng Fanshan Yandong Chemical Factory': 0,...</td>\n",
       "      <td>[{'text': 'Resort Savers Inc', 'label': 'ORG',...</td>\n",
       "      <td>1</td>\n",
       "    </tr>\n",
       "    <tr>\n",
       "      <th>4</th>\n",
       "      <td>Resort Savers Inc reports that Beijng Fanshan ...</td>\n",
       "      <td>Resort Savers Inc</td>\n",
       "      <td>other</td>\n",
       "      <td>Fanshan Disctrict</td>\n",
       "      <td>0</td>\n",
       "      <td>unknown</td>\n",
       "      <td>2</td>\n",
       "      <td>{'Beijng Fanshan Yandong Chemical Factory': 0,...</td>\n",
       "      <td>[{'text': 'Resort Savers Inc', 'label': 'ORG',...</td>\n",
       "      <td>2</td>\n",
       "    </tr>\n",
       "  </tbody>\n",
       "</table>\n",
       "</div>"
      ],
      "text/plain": [
       "                                               sents  \\\n",
       "0  On March 31, 2014, Tessera Inc filed a motion ...   \n",
       "1  BE Aerospace TSA received an opinion from tax ...   \n",
       "2  Resort Savers Inc reports that Beijng Fanshan ...   \n",
       "3  Resort Savers Inc reports that Beijng Fanshan ...   \n",
       "4  Resort Savers Inc reports that Beijng Fanshan ...   \n",
       "\n",
       "                                  entity_2 relations           entity_1  \\\n",
       "0                              Tessera Inc     other              Amkor   \n",
       "1                         BE Aerospace TSA     other                KLX   \n",
       "2  Beijng Fanshan Yandong Chemical Factory     other  Resort Savers Inc   \n",
       "3  Beijng Fanshan Yandong Chemical Factory     other  Fanshan Disctrict   \n",
       "4                        Resort Savers Inc     other  Fanshan Disctrict   \n",
       "\n",
       "   Label         concept_class  idx  \\\n",
       "0      0  legal_and_regulatory    0   \n",
       "1      0               unknown    1   \n",
       "2      0               unknown    2   \n",
       "3      0               unknown    2   \n",
       "4      0               unknown    2   \n",
       "\n",
       "                                          org_groups  \\\n",
       "0                     {'Tessera Inc': 0, 'Amkor': 1}   \n",
       "1                  {'BE Aerospace TSA': 0, 'KLX': 2}   \n",
       "2  {'Beijng Fanshan Yandong Chemical Factory': 0,...   \n",
       "3  {'Beijng Fanshan Yandong Chemical Factory': 0,...   \n",
       "4  {'Beijng Fanshan Yandong Chemical Factory': 0,...   \n",
       "\n",
       "                                               spans  idx_relation  \n",
       "0  [{'text': 'March 31, 2014', 'label': 'DATE', '...             0  \n",
       "1  [{'text': 'BE Aerospace TSA', 'label': 'ORG', ...             0  \n",
       "2  [{'text': 'Resort Savers Inc', 'label': 'ORG',...             0  \n",
       "3  [{'text': 'Resort Savers Inc', 'label': 'ORG',...             1  \n",
       "4  [{'text': 'Resort Savers Inc', 'label': 'ORG',...             2  "
      ]
     },
     "execution_count": 6,
     "metadata": {},
     "output_type": "execute_result"
    }
   ],
   "source": [
    "data.head()"
   ]
  },
  {
   "cell_type": "code",
   "execution_count": 7,
   "id": "b30c3053-c8a0-4e21-83cb-bc227c8fde23",
   "metadata": {},
   "outputs": [
    {
     "data": {
      "text/plain": [
       "Int64Index([    0,     1,     2,     3,     4,     5,     6,     7,     8,\n",
       "                9,\n",
       "            ...\n",
       "            20863, 20864, 20865, 20866, 20867, 20868, 20869, 20870, 20871,\n",
       "            20872],\n",
       "           dtype='int64', length=20873)"
      ]
     },
     "execution_count": 7,
     "metadata": {},
     "output_type": "execute_result"
    }
   ],
   "source": [
    "data.index"
   ]
  },
  {
   "cell_type": "code",
   "execution_count": 8,
   "id": "e4a4121d-8ee7-45de-93c8-bef5ab9bd526",
   "metadata": {},
   "outputs": [
    {
     "name": "stdout",
     "output_type": "stream",
     "text": [
      "2023-10-07 07:29:44,093 — DATA_LOAD — INFO — \u001b[32mData loaded successfully!!!\u001b[39m\n",
      "2023-10-07 07:29:44,095 — DATA_LOAD — INFO — \u001b[34mSave training data into `data/raw/relations_training_data.json`\u001b[39m\n"
     ]
    }
   ],
   "source": [
    "\n",
    "np.save(src_dir / \"data/train/row_ids\", unique_strings)\n",
    "\n",
    "logger.info(Fore.GREEN + \"Data loaded successfully!!!\" + Fore.RESET)\n",
    "logger.info(Fore.BLUE+ f\"Save training data into `{config.load_data.output_dir}`\" + Fore.RESET)\n",
    "data.to_json(src_dir / config.load_data.output_dir, index='index')\n",
    "\n",
    "\n"
   ]
  },
  {
   "cell_type": "code",
   "execution_count": 9,
   "id": "452550a9-e515-4657-8a86-32cfc50bed92",
   "metadata": {},
   "outputs": [],
   "source": [
    "data = pd.read_json(src_dir / 'data/raw/relations_training_data.json')"
   ]
  },
  {
   "cell_type": "code",
   "execution_count": 10,
   "id": "9e694906-b4ff-405c-81f3-a83a6c08d5c0",
   "metadata": {
    "tags": []
   },
   "outputs": [
    {
     "data": {
      "text/plain": [
       "True"
      ]
     },
     "execution_count": 10,
     "metadata": {},
     "output_type": "execute_result"
    }
   ],
   "source": [
    "data[data['entity_1'].isnull()].shape[0] == 0"
   ]
  },
  {
   "cell_type": "markdown",
   "id": "9e78b5d0-0a99-4865-864a-a1f3ac59539a",
   "metadata": {
    "tags": []
   },
   "source": [
    "# **_data split_**"
   ]
  },
  {
   "cell_type": "code",
   "execution_count": 12,
   "id": "7d563e28",
   "metadata": {},
   "outputs": [],
   "source": [
    "import argparse\n",
    "import joblib\n",
    "from glob import glob\n",
    "import pandas as pd\n",
    "from matplotlib import pyplot  as plt\n",
    "from typing import Text\n",
    "import yaml\n",
    "from colorama import Fore\n",
    "from tqdm import tqdm\n",
    "from pathlib import Path\n",
    "from collections import defaultdict\n",
    "import random\n",
    "import os\n",
    "import sys\n",
    "\n",
    "from src.utils import get_logger, dict2dot, split_data\n",
    "from src.utils.preprocess import create_re_data\n",
    "from src.relation_extraction.preprocessing_funcs import inverse_dict"
   ]
  },
  {
   "cell_type": "code",
   "execution_count": 13,
   "id": "53687c25-d72f-49c9-84b2-26c08e133644",
   "metadata": {
    "tags": []
   },
   "outputs": [
    {
     "data": {
      "application/vnd.jupyter.widget-view+json": {
       "model_id": "fde9e7f62a304e32a9d02eaa693add9b",
       "version_major": 2,
       "version_minor": 0
      },
      "text/plain": [
       "sort dataset by indices:   0%|          | 0/5888 [00:00<?, ?it/s]"
      ]
     },
     "metadata": {},
     "output_type": "display_data"
    },
    {
     "data": {
      "application/vnd.jupyter.widget-view+json": {
       "model_id": "5f5def3516654e0d874d18f05166736f",
       "version_major": 2,
       "version_minor": 0
      },
      "text/plain": [
       "sort dataset by indices:   0%|          | 0/1473 [00:00<?, ?it/s]"
      ]
     },
     "metadata": {},
     "output_type": "display_data"
    },
    {
     "name": "stdout",
     "output_type": "stream",
     "text": [
      "2023-10-07 07:32:28,386 — data_split — INFO — Train and valid distributions\n",
      "|                           |   train_concept_class |   valid_concept_class |   train_Label |   valid_Label |\n",
      "|:--------------------------|----------------------:|----------------------:|--------------:|--------------:|\n",
      "| revenue                   |             0.320572  |             0.314587  |     nan       |    nan        |\n",
      "| agreement_and_partnership |             0.121326  |             0.118901  |     nan       |    nan        |\n",
      "| investment_related        |             0.119618  |             0.144838  |     nan       |    nan        |\n",
      "| supply_chain              |             0.0975911 |             0.0793529 |     nan       |    nan        |\n",
      "| unknown                   |             0.0966488 |             0.0973292 |     nan       |    nan        |\n",
      "| legal_and_regulatory      |             0.0659638 |             0.0564972 |     nan       |    nan        |\n",
      "| financial_statements      |             0.0497674 |             0.0652286 |     nan       |    nan        |\n",
      "| licensing_and_ip          |             0.0419342 |             0.0444273 |     nan       |    nan        |\n",
      "| product_related           |             0.0372813 |             0.0392912 |     nan       |    nan        |\n",
      "| services agreement        |             0.019318  |             0.0130971 |     nan       |    nan        |\n",
      "| real_estate               |             0.0160198 |             0.0154083 |     nan       |    nan        |\n",
      "| royalties                 |             0.0139584 |             0.0110426 |     nan       |    nan        |\n",
      "| 1                         |           nan         |           nan         |       0.59444 |      0.567283 |\n",
      "| 0                         |           nan         |           nan         |       0.40556 |      0.432717 |\n",
      "2023-10-07 07:32:28,619 — data_split — INFO — Train relations distribution:\n",
      " |          |   relations |\n",
      "|:---------|------------:|\n",
      "| other    |       11629 |\n",
      "| supplier |        5350 |\n",
      "2023-10-07 07:32:28,622 — data_split — INFO — Valid relations distribution:\n",
      " |          |   relations |\n",
      "|:---------|------------:|\n",
      "| other    |        2625 |\n",
      "| supplier |        1269 |\n",
      "2023-10-07 07:32:28,623 — data_split — INFO — Entity tagging...\n"
     ]
    },
    {
     "data": {
      "application/vnd.jupyter.widget-view+json": {
       "model_id": "516a5210ba1b4c3f96f98c9bdc271b84",
       "version_major": 2,
       "version_minor": 0
      },
      "text/plain": [
       "Tagging poles of relations:   0%|          | 0/16979 [00:00<?, ?it/s]"
      ]
     },
     "metadata": {},
     "output_type": "display_data"
    },
    {
     "data": {
      "application/vnd.jupyter.widget-view+json": {
       "model_id": "d2bdf98135604db685cd15b5af429e1b",
       "version_major": 2,
       "version_minor": 0
      },
      "text/plain": [
       "Tagging poles of relations:   0%|          | 0/3894 [00:00<?, ?it/s]"
      ]
     },
     "metadata": {},
     "output_type": "display_data"
    },
    {
     "name": "stdout",
     "output_type": "stream",
     "text": [
      "2023-10-07 07:32:32,512 — data_split — INFO — Saving training set with length=26625\n",
      "2023-10-07 07:32:33,074 — data_split — INFO — Saving validation set with length=3773\n"
     ]
    },
    {
     "data": {
      "image/png": "[encoded data removed]",
      "text/plain": [
       "<Figure size 640x480 with 1 Axes>"
      ]
     },
     "metadata": {},
     "output_type": "display_data"
    }
   ],
   "source": [
    "\"\"\" Split data set into train&valid splits \n",
    "\"\"\"\n",
    "\n",
    "\n",
    "# supplier_concepts= ['manufacturer', 'provider' ,'supplies', 'Supplier', 'supplier', 'provides', 'provide']\n",
    "\n",
    "# other_concepts = ['subsidiary', 'creditor','investor',\n",
    "#                'guarantor','lessor','sells products through','issuer',\n",
    "#                'lessor, manager, or operator','parent','', ' ','partner',\n",
    "#                 'intermediary', 'primary contract manufacturer','licensee','nothing','competitor','unknown','licensor']\n",
    "\n",
    "# customer_concepts = [\"Customer\", 'customer']\n",
    "\n",
    "# concepts = {\"supplier\": supplier_concepts,\n",
    "#        \"customer\": customer_concepts,\n",
    "#        \"other\": other_concepts}\n",
    "\n",
    "# def map_relation(relation, concepts):\n",
    "#     for label, concepts in concepts.items():\n",
    "#         for concept in concepts:\n",
    "#             if concept in relation:\n",
    "#                 return label\n",
    "\n",
    "\n",
    "config_path = 'params.yaml'\n",
    "\n",
    "            \n",
    "\"\"\"\n",
    "This function performs data splitting for relation extraction.\n",
    "\n",
    ":param config_path: (str) path to the configuration file.\n",
    ":return: None\n",
    "\"\"\"\n",
    "# Load configuration file\n",
    "with open(src_dir / config_path) as conf_file:\n",
    "    config = dict2dot(yaml.safe_load(conf_file))\n",
    "\n",
    "# Initialize logger and random seed\n",
    "logger = get_logger('data_split', log_level=config.base['log_level'])\n",
    "random.seed(config.base.random_state)\n",
    "\n",
    "# Load input data\n",
    "data = pd.read_json(src_dir / config.load_data.output_dir)\n",
    "# Validate input data\n",
    "missed_columns = set(['entity_1', 'entity_2', 'sents', 'org_groups', 'relations', config.base.index_col, 'Label']) - set(data.columns)\n",
    "if len(missed_columns) > 0:\n",
    "    raise ValueError(f\"Required columns missed <{','.join(x for x in missed_columns)}>\")\n",
    "\n",
    "\n",
    "train, valid = split_data(data=data,\n",
    "               index_col = config.base.index_col,\n",
    "               stratify_by = config.data_split.stratify_by,\n",
    "                val_size = config.data_split.val_size,\n",
    "                random_state = config.base.random_state)\n",
    "\n",
    "assert (train['idx'].isin(valid['idx'])).sum() == 0 \n",
    "\n",
    "distributions= {}\n",
    "for stratify_ele in config.data_split.stratify_by:\n",
    "    distributions[f\"train_{stratify_ele}\"] = \\\n",
    "    (train[stratify_ele].value_counts()/len(train)).to_dict()\n",
    "    distributions[f\"valid_{stratify_ele}\"] = \\\n",
    "    (valid[stratify_ele].value_counts()/len(valid)).to_dict()\n",
    "    \n",
    "dist_md = pd.DataFrame(distributions)\n",
    "logger.info(\"Train and valid distributions\\n{}\".format(dist_md.to_markdown()))\n",
    "# Log label distribution for train and valid data\n",
    "plt.hist(train.relations, log=True)\n",
    "plt.hist(valid.relations, log=True)\n",
    "plt.draw()\n",
    "\n",
    "# Concatenate weak labels, if any\n",
    "task_config = config.data_split\n",
    "if task_config.get('cleansed_labels'):\n",
    "    cleansed_labels = []\n",
    "    for fold_path in task_config.get('cleansed_labels'):\n",
    "        path = os.path.join(\"data/folds\", fold_path)\n",
    "        data_path = os.path.join(path, 'output.json')\n",
    "        issues_path = os.path.join(path, 'issues_report.json')\n",
    "        if os.path.isfile(data_path) and os.path.isfile(issues_path):\n",
    "            # Read data and issues report\n",
    "            cleansed_data = pd.read_json(data_path)\n",
    "            issues_report = pd.read_json(issues_path)\n",
    "\n",
    "            # Determine pruning fraction to drop from the data\n",
    "            pruning_indices = issues_report.head(int(task_config.get(\"issues_pruning\", 1) * len(issues_report)))['example']\n",
    "\n",
    "            # Prune the issues\n",
    "            cleansed_data = cleansed_data.drop(pruning_indices)\n",
    "            cleansed_data.reset_index(drop=True, inplace=True)\n",
    "\n",
    "            # Log data size after pruning\n",
    "            logger.info(f\"data size after pruning {cleansed_data.shape[0]}\")\n",
    "            cleansed_labels.append(cleansed_data)\n",
    "\n",
    "        else:\n",
    "            raise FileNotFoundError(f\"File '{data_path}' does not exist\")\n",
    "\n",
    "    # Concatenate cleansed labels\n",
    "    cleansed_data = pd.concat(cleansed_labels, axis=0).reset_index(drop=True)\n",
    "    cleansed_data[config.base.index_col] = range(len(train), len(train) + len(cleansed_data))\n",
    "\n",
    "    # Use only weak labels\n",
    "    if task_config.get(\"weak_only\"):\n",
    "        train = cleansed_data\n",
    "    else:\n",
    "        train = pd.concat([train, cleansed_data], axis=0).reset_index(drop=True)\n",
    "\n",
    "\n",
    "# Log data distribution for train data\n",
    "logger.info(f\"Train relations distribution:\\n {train.relations.value_counts().to_markdown()}\")\n",
    "logger.info(f\"Valid relations distribution:\\n {valid.relations.value_counts().to_markdown()}\")\n",
    "\n",
    "logger.info(\"Entity tagging...\")\n",
    "\n",
    "# Create tagged sentences to be tokenized\n",
    "train = create_re_data(train,\n",
    "                       'sents',\n",
    "                       'entity_2',\n",
    "                       'entity_1',\n",
    "                       'relations',\n",
    "                       inverse_dict,\n",
    "                      static_position=config.base.entity_static_position,\n",
    "                      num_positions=config.data_split.num_positions)\n",
    "valid = create_re_data(valid,\n",
    "                       'sents',\n",
    "                       'entity_2',\n",
    "                       'entity_1',\n",
    "                       'relations',\n",
    "                       inverse_dict,\n",
    "                      static_position=config.base.entity_static_position,\n",
    "                      num_positions=0)\n",
    "\n",
    "# Save training and validation data\n",
    "logger.info(f\"Saving training set with length={len(train)}\")\n",
    "train.to_json(src_dir / f\"{config.data_split.output_dir}/train.json\")\n",
    "logger.info(f\"Saving validation set with length={len(valid)}\")\n",
    "valid.to_json(src_dir / f\"{config.data_split.output_dir}/valid.json\")\n",
    "dist_md.to_markdown(src_dir / 'data/train/distributions.md')"
   ]
  },
  {
   "cell_type": "code",
   "execution_count": null,
   "id": "b115c45d-0680-4b75-b55b-08d8c7a1d3a9",
   "metadata": {},
   "outputs": [],
   "source": []
  },
  {
   "cell_type": "markdown",
   "id": "2e41f4fd-9421-4d59-b9a4-ea119707a180",
   "metadata": {},
   "source": [
    "# **_Train SC Classifier_**"
   ]
  },
  {
   "cell_type": "code",
   "execution_count": 16,
   "id": "9bba0569",
   "metadata": {},
   "outputs": [
    {
     "data": {
      "text/plain": [
       "{'base_model': 'nlpaueb/sec-bert-base',\n",
       " 'batch_size': 45,\n",
       " 'cuda': '0',\n",
       " 'epochs': 4,\n",
       " 'num_workers': 0,\n",
       " 'seed': 1,\n",
       " 'truncate': 512,\n",
       " 'wandb': False,\n",
       " 'warmup_smooth': 0.8,\n",
       " 'weight_decay': 0.001,\n",
       " 'learning_rate': 5e-05,\n",
       " 'load_pretrained': False,\n",
       " 'mutate': True,\n",
       " 'metric_dir': 'sc_metrics'}"
      ]
     },
     "execution_count": 16,
     "metadata": {},
     "output_type": "execute_result"
    }
   ],
   "source": []
  },
  {
   "cell_type": "code",
   "execution_count": 14,
   "id": "889edd0f-fa18-4f66-adca-534c9d54ac79",
   "metadata": {},
   "outputs": [
    {
     "name": "stdout",
     "output_type": "stream",
     "text": [
      "root==> /notebooks/inferess-relation-extraction\n"
     ]
    }
   ],
   "source": [
    "from pathlib import Path\n",
    "import sys \n",
    "from torch.nn import CrossEntropyLoss\n",
    "from torch.optim import AdamW\n",
    "\n",
    "from src.sc_classifier.config.core import config\n",
    "from src.sc_classifier.trainer import Trainer\n",
    "\n",
    "\n",
    "def sc_train():\n",
    "    trainer = Trainer(\n",
    "            loss_function=CrossEntropyLoss() , \n",
    "            optimizer=AdamW,\n",
    "            load_data=True\n",
    "    )\n",
    "    trainer.train(dict(config.train_args))"
   ]
  },
  {
   "cell_type": "code",
   "execution_count": 15,
   "id": "1fd30b40-74b4-478c-83d3-c3756c96edc8",
   "metadata": {},
   "outputs": [
    {
     "data": {
      "application/vnd.jupyter.widget-view+json": {
       "model_id": "d20bdb5475a94d398b97e571989b1829",
       "version_major": 2,
       "version_minor": 0
      },
      "text/plain": [
       "Downloading (…)lve/main/config.json:   0%|          | 0.00/568 [00:00<?, ?B/s]"
      ]
     },
     "metadata": {},
     "output_type": "display_data"
    },
    {
     "data": {
      "application/vnd.jupyter.widget-view+json": {
       "model_id": "68fbf75a01824316b4da848362b17007",
       "version_major": 2,
       "version_minor": 0
      },
      "text/plain": [
       "Downloading pytorch_model.bin:   0%|          | 0.00/439M [00:00<?, ?B/s]"
      ]
     },
     "metadata": {},
     "output_type": "display_data"
    },
    {
     "data": {
      "application/vnd.jupyter.widget-view+json": {
       "model_id": "8573924d966f4ebf892d9fa89559cf97",
       "version_major": 2,
       "version_minor": 0
      },
      "text/plain": [
       "Downloading (…)okenizer_config.json:   0%|          | 0.00/263 [00:00<?, ?B/s]"
      ]
     },
     "metadata": {},
     "output_type": "display_data"
    },
    {
     "data": {
      "application/vnd.jupyter.widget-view+json": {
       "model_id": "a7109efd82424f8a9c8202ed21886104",
       "version_major": 2,
       "version_minor": 0
      },
      "text/plain": [
       "Downloading (…)solve/main/vocab.txt:   0%|          | 0.00/221k [00:00<?, ?B/s]"
      ]
     },
     "metadata": {},
     "output_type": "display_data"
    },
    {
     "data": {
      "application/vnd.jupyter.widget-view+json": {
       "model_id": "d035a249d39f4966854e7144f415ad2b",
       "version_major": 2,
       "version_minor": 0
      },
      "text/plain": [
       "Downloading (…)cial_tokens_map.json:   0%|          | 0.00/112 [00:00<?, ?B/s]"
      ]
     },
     "metadata": {},
     "output_type": "display_data"
    },
    {
     "name": "stderr",
     "output_type": "stream",
     "text": [
      "mutate train text: 100%|██████████| 5864/5864 [00:02<00:00, 2530.93it/s]\n",
      "mutate valid text: 100%|██████████| 1469/1469 [00:00<00:00, 2311.28it/s]\n"
     ]
    },
    {
     "name": "stdout",
     "output_type": "stream",
     "text": [
      "2023-10-07 07:46:01,116 — SCClassifier — INFO — ---------Trainig Started---------\n",
      "2023-10-07 07:46:01,118 — SCClassifier — INFO — EPOCH -- 1\n"
     ]
    },
    {
     "name": "stderr",
     "output_type": "stream",
     "text": [
      "Train Acc: 86.9884: 100%|\u001b[35m██████████\u001b[0m| 131/131 [01:29<00:00,  1.47batch/s, loss=0.264]"
     ]
    },
    {
     "name": "stdout",
     "output_type": "stream",
     "text": [
      "2023-10-07 07:47:30,477 — SCClassifier — INFO — Train-Macro-F1 = 0.8688\n"
     ]
    },
    {
     "name": "stderr",
     "output_type": "stream",
     "text": [
      "\n"
     ]
    },
    {
     "name": "stdout",
     "output_type": "stream",
     "text": [
      "\u001b[36m \u001b[1m ---------Validation---------\n",
      "2023-10-07 07:47:40,251 — SCClassifier — INFO — valid set_Loss = 0.2455 | valid set_Acc = 0.9483 | valid set-Macro-F1 = 0.9475\n",
      "2023-10-07 07:47:40,264 — SCClassifier — INFO — valid macro_f1 increased from 0.0 to 0.9475365032104781 \n",
      "2023-10-07 07:47:40,265 — SCClassifier — INFO — Saving Checkpoint ....\n",
      "\u001b[97m ================================================================================\n",
      "2023-10-07 07:47:42,023 — SCClassifier — INFO — EPOCH -- 2\n"
     ]
    },
    {
     "name": "stderr",
     "output_type": "stream",
     "text": [
      "Train Acc: 97.2203: 100%|\u001b[35m██████████\u001b[0m| 131/131 [01:33<00:00,  1.40batch/s, loss=0.074] "
     ]
    },
    {
     "name": "stdout",
     "output_type": "stream",
     "text": [
      "2023-10-07 07:49:15,759 — SCClassifier — INFO — Train-Macro-F1 = 0.9720\n"
     ]
    },
    {
     "name": "stderr",
     "output_type": "stream",
     "text": [
      "\n"
     ]
    },
    {
     "name": "stdout",
     "output_type": "stream",
     "text": [
      "\u001b[36m \u001b[1m ---------Validation---------\n",
      "2023-10-07 07:49:26,265 — SCClassifier — INFO — valid set_Loss = 0.0714 | valid set_Acc = 0.9700 | valid set-Macro-F1 = 0.9698\n",
      "2023-10-07 07:49:26,277 — SCClassifier — INFO — valid macro_f1 increased from 0.9475365032104781 to 0.96980754857997 \n",
      "2023-10-07 07:49:26,278 — SCClassifier — INFO — Saving Checkpoint ....\n",
      "\u001b[97m ================================================================================\n",
      "2023-10-07 07:49:28,222 — SCClassifier — INFO — EPOCH -- 3\n"
     ]
    },
    {
     "name": "stderr",
     "output_type": "stream",
     "text": [
      "Train Acc: 99.4372: 100%|\u001b[35m██████████\u001b[0m| 131/131 [01:35<00:00,  1.37batch/s, loss=0.0204]"
     ]
    },
    {
     "name": "stdout",
     "output_type": "stream",
     "text": [
      "2023-10-07 07:51:03,942 — SCClassifier — INFO — Train-Macro-F1 = 0.9943\n"
     ]
    },
    {
     "name": "stderr",
     "output_type": "stream",
     "text": [
      "\n"
     ]
    },
    {
     "name": "stdout",
     "output_type": "stream",
     "text": [
      "\u001b[36m \u001b[1m ---------Validation---------\n",
      "2023-10-07 07:51:14,425 — SCClassifier — INFO — valid set_Loss = 0.0337 | valid set_Acc = 0.9687 | valid set-Macro-F1 = 0.9685\n",
      "\u001b[31m val_macro_f1 did not optimize: 0.96980754857997\n",
      "\u001b[97m ================================================================================\n",
      "2023-10-07 07:51:14,469 — SCClassifier — INFO — EPOCH -- 4\n"
     ]
    },
    {
     "name": "stderr",
     "output_type": "stream",
     "text": [
      "Train Acc: 99.7442: 100%|\u001b[35m██████████\u001b[0m| 131/131 [01:35<00:00,  1.37batch/s, loss=0.0111] "
     ]
    },
    {
     "name": "stdout",
     "output_type": "stream",
     "text": [
      "2023-10-07 07:52:49,948 — SCClassifier — INFO — Train-Macro-F1 = 0.9974\n"
     ]
    },
    {
     "name": "stderr",
     "output_type": "stream",
     "text": [
      "\n"
     ]
    },
    {
     "name": "stdout",
     "output_type": "stream",
     "text": [
      "\u001b[36m \u001b[1m ---------Validation---------\n",
      "2023-10-07 07:53:00,454 — SCClassifier — INFO — valid set_Loss = 0.0607 | valid set_Acc = 0.9707 | valid set-Macro-F1 = 0.9705\n",
      "2023-10-07 07:53:00,465 — SCClassifier — INFO — valid macro_f1 increased from 0.96980754857997 to 0.9705114409558911 \n",
      "2023-10-07 07:53:00,466 — SCClassifier — INFO — Saving Checkpoint ....\n",
      "\u001b[97m ================================================================================\n",
      "\u001b[35m Highest Macro-F1 score : 0.9705114409558911\n"
     ]
    }
   ],
   "source": [
    "sc_train()"
   ]
  },
  {
   "cell_type": "code",
   "execution_count": null,
   "id": "fb7a3dde",
   "metadata": {},
   "outputs": [],
   "source": []
  },
  {
   "cell_type": "markdown",
   "id": "f1b378fd-43f7-4c87-92f2-1e0d0fc2e8a7",
   "metadata": {
    "tags": []
   },
   "source": [
    "# **_Train Concept Classifier_**"
   ]
  },
  {
   "cell_type": "code",
   "execution_count": null,
   "id": "f746085e",
   "metadata": {},
   "outputs": [],
   "source": []
  },
  {
   "cell_type": "code",
   "execution_count": 5,
   "id": "63c4437a-dcf6-43c3-9d22-a006b48fba12",
   "metadata": {},
   "outputs": [
    {
     "name": "stdout",
     "output_type": "stream",
     "text": [
      "root==> /notebooks/inferess-relation-extraction\n"
     ]
    },
    {
     "data": {
      "application/vnd.jupyter.widget-view+json": {
       "model_id": "61165f33c1364e46b934243951f6cb6d",
       "version_major": 2,
       "version_minor": 0
      },
      "text/plain": [
       "(…)/sec-bert-shape/resolve/main/config.json:   0%|          | 0.00/568 [00:00<?, ?B/s]"
      ]
     },
     "metadata": {},
     "output_type": "display_data"
    },
    {
     "data": {
      "application/vnd.jupyter.widget-view+json": {
       "model_id": "967ce0dcf44e41b28a565035cbfc4aaa",
       "version_major": 2,
       "version_minor": 0
      },
      "text/plain": [
       "pytorch_model.bin:   0%|          | 0.00/439M [00:00<?, ?B/s]"
      ]
     },
     "metadata": {},
     "output_type": "display_data"
    },
    {
     "data": {
      "application/vnd.jupyter.widget-view+json": {
       "model_id": "4bb00f9c8d1c4011b247c0f6dac7b251",
       "version_major": 2,
       "version_minor": 0
      },
      "text/plain": [
       "(…)shape/resolve/main/tokenizer_config.json:   0%|          | 0.00/4.02k [00:00<?, ?B/s]"
      ]
     },
     "metadata": {},
     "output_type": "display_data"
    },
    {
     "data": {
      "application/vnd.jupyter.widget-view+json": {
       "model_id": "fbcd1df9bdb742b89ac4958c40b81cde",
       "version_major": 2,
       "version_minor": 0
      },
      "text/plain": [
       "(…)eb/sec-bert-shape/resolve/main/vocab.txt:   0%|          | 0.00/227k [00:00<?, ?B/s]"
      ]
     },
     "metadata": {},
     "output_type": "display_data"
    },
    {
     "data": {
      "application/vnd.jupyter.widget-view+json": {
       "model_id": "44f605e171544d2e877ef5761ff60826",
       "version_major": 2,
       "version_minor": 0
      },
      "text/plain": [
       "(…)ape/resolve/main/special_tokens_map.json:   0%|          | 0.00/3.78k [00:00<?, ?B/s]"
      ]
     },
     "metadata": {},
     "output_type": "display_data"
    },
    {
     "name": "stdout",
     "output_type": "stream",
     "text": [
      "2023-10-19 07:54:07,615 — SCClassifier — INFO — train columns - Index(['sents', 'orig_sents', 'relations', 'org_groups', 'spans', 'Label',\n",
      "       'concept_class', 'concept_class_remapped', 'idx', 'r_id',\n",
      "       'relation_tuples'],\n",
      "      dtype='object')\n"
     ]
    },
    {
     "name": "stderr",
     "output_type": "stream",
     "text": [
      "mutate train text: 100%|██████████| 2383/2383 [00:01<00:00, 2076.53it/s]\n",
      "mutate valid text: 100%|██████████| 884/884 [00:00<00:00, 2230.67it/s]\n"
     ]
    }
   ],
   "source": [
    "from pathlib import Path\n",
    "import sys \n",
    "import yaml\n",
    "src_dir = Path.cwd().parent\n",
    "sys.path.append(str(src_dir))\n",
    "import pandas as pd\n",
    "from torch.nn import CrossEntropyLoss\n",
    "from torch.optim import AdamW\n",
    "from src.sc_classifier.config.core import config, PACKAGE_ROOT\n",
    "from src.sc_classifier.trainer import Trainer\n",
    "from src.sc_classifier.models import constructor\n",
    "from src.utils import dict2dot\n",
    "\n",
    "# Read params file\n",
    "with open(PACKAGE_ROOT / 'params.yaml') as o:\n",
    "    params = dict2dot(yaml.safe_load(o))\n",
    "    \n",
    "# mutate train args to fit\n",
    "config.app_config.package_name = params.concept_train.package_name\n",
    "config.ml_model_config.target = \"concept_class_remapped\"\n",
    "config.ml_model_config.classes = params['concept_train']['classes']\n",
    "config.train_args = params.concept_train\n",
    "config.train_args.metric_dir = \"concept_metrics\"\n",
    "config.train_args.max_stratify = 500\n",
    "config.train_args.prune_stratify = True\n",
    "trainer = Trainer(\n",
    "        loss_function=CrossEntropyLoss() , \n",
    "        optimizer=AdamW,\n",
    "        load_data=True,\n",
    "        model_name= \"concept_model\",\n",
    "        config = config\n",
    ")\n",
    "#self = trainer"
   ]
  },
  {
   "cell_type": "code",
   "execution_count": 6,
   "id": "2c1f3513-5c8b-47ca-9a98-dd7382040f6d",
   "metadata": {},
   "outputs": [
    {
     "name": "stdout",
     "output_type": "stream",
     "text": [
      "2023-10-19 07:54:16,790 — SCClassifier — INFO — ---------Trainig Started---------\n",
      "2023-10-19 07:54:16,793 — SCClassifier — INFO — EPOCH -- 1\n"
     ]
    },
    {
     "name": "stderr",
     "output_type": "stream",
     "text": [
      "Train Acc: 7.7633: 100%|\u001b[35m██████████\u001b[0m| 38/38 [00:36<00:00,  1.04batch/s, loss=1.89]"
     ]
    },
    {
     "name": "stdout",
     "output_type": "stream",
     "text": [
      "2023-10-19 07:54:53,217 — SCClassifier — INFO — Train-Macro-F1 = 0.0678\n"
     ]
    },
    {
     "name": "stderr",
     "output_type": "stream",
     "text": [
      "\n"
     ]
    },
    {
     "name": "stdout",
     "output_type": "stream",
     "text": [
      "\u001b[36m \u001b[1m ---------Validation---------\n",
      "2023-10-19 07:54:59,437 — SCClassifier — INFO — valid set_Loss = 1.7221 | valid set_Acc = 0.3213 | valid set-Macro-F1 = 0.1709\n",
      "2023-10-19 07:54:59,456 — SCClassifier — INFO — valid macro_f1 increased from 0.0 to 0.17089365022838046 \n",
      "2023-10-19 07:54:59,457 — SCClassifier — INFO — Saving Checkpoint ....\n"
     ]
    },
    {
     "name": "stderr",
     "output_type": "stream",
     "text": [
      "/usr/local/lib/python3.9/dist-packages/sklearn/metrics/_classification.py:1334: UndefinedMetricWarning:\n",
      "\n",
      "Precision and F-score are ill-defined and being set to 0.0 in labels with no predicted samples. Use `zero_division` parameter to control this behavior.\n",
      "\n",
      "/usr/local/lib/python3.9/dist-packages/sklearn/metrics/_classification.py:1334: UndefinedMetricWarning:\n",
      "\n",
      "Precision and F-score are ill-defined and being set to 0.0 in labels with no predicted samples. Use `zero_division` parameter to control this behavior.\n",
      "\n",
      "/usr/local/lib/python3.9/dist-packages/sklearn/metrics/_classification.py:1334: UndefinedMetricWarning:\n",
      "\n",
      "Precision and F-score are ill-defined and being set to 0.0 in labels with no predicted samples. Use `zero_division` parameter to control this behavior.\n",
      "\n"
     ]
    },
    {
     "name": "stdout",
     "output_type": "stream",
     "text": [
      "\u001b[97m ================================================================================\n",
      "2023-10-19 07:55:01,612 — SCClassifier — INFO — EPOCH -- 2\n"
     ]
    },
    {
     "name": "stderr",
     "output_type": "stream",
     "text": [
      "Train Acc: 28.8712: 100%|\u001b[35m██████████\u001b[0m| 38/38 [00:35<00:00,  1.06batch/s, loss=1.72]"
     ]
    },
    {
     "name": "stdout",
     "output_type": "stream",
     "text": [
      "2023-10-19 07:55:37,367 — SCClassifier — INFO — Train-Macro-F1 = 0.1976\n"
     ]
    },
    {
     "name": "stderr",
     "output_type": "stream",
     "text": [
      "\n"
     ]
    },
    {
     "name": "stdout",
     "output_type": "stream",
     "text": [
      "\u001b[36m \u001b[1m ---------Validation---------\n",
      "2023-10-19 07:55:43,576 — SCClassifier — INFO — valid set_Loss = 1.5723 | valid set_Acc = 0.5271 | valid set-Macro-F1 = 0.3101\n",
      "2023-10-19 07:55:43,600 — SCClassifier — INFO — valid macro_f1 increased from 0.17089365022838046 to 0.3100631001766643 \n",
      "2023-10-19 07:55:43,602 — SCClassifier — INFO — Saving Checkpoint ....\n"
     ]
    },
    {
     "name": "stderr",
     "output_type": "stream",
     "text": [
      "/usr/local/lib/python3.9/dist-packages/sklearn/metrics/_classification.py:1334: UndefinedMetricWarning:\n",
      "\n",
      "Precision and F-score are ill-defined and being set to 0.0 in labels with no predicted samples. Use `zero_division` parameter to control this behavior.\n",
      "\n",
      "/usr/local/lib/python3.9/dist-packages/sklearn/metrics/_classification.py:1334: UndefinedMetricWarning:\n",
      "\n",
      "Precision and F-score are ill-defined and being set to 0.0 in labels with no predicted samples. Use `zero_division` parameter to control this behavior.\n",
      "\n",
      "/usr/local/lib/python3.9/dist-packages/sklearn/metrics/_classification.py:1334: UndefinedMetricWarning:\n",
      "\n",
      "Precision and F-score are ill-defined and being set to 0.0 in labels with no predicted samples. Use `zero_division` parameter to control this behavior.\n",
      "\n"
     ]
    },
    {
     "name": "stdout",
     "output_type": "stream",
     "text": [
      "\u001b[97m ================================================================================\n",
      "2023-10-19 07:55:46,067 — SCClassifier — INFO — EPOCH -- 3\n"
     ]
    },
    {
     "name": "stderr",
     "output_type": "stream",
     "text": [
      "Train Acc: 44.9853: 100%|\u001b[35m██████████\u001b[0m| 38/38 [00:36<00:00,  1.05batch/s, loss=1.56]"
     ]
    },
    {
     "name": "stdout",
     "output_type": "stream",
     "text": [
      "2023-10-19 07:56:22,177 — SCClassifier — INFO — Train-Macro-F1 = 0.3402\n"
     ]
    },
    {
     "name": "stderr",
     "output_type": "stream",
     "text": [
      "\n"
     ]
    },
    {
     "name": "stdout",
     "output_type": "stream",
     "text": [
      "\u001b[36m \u001b[1m ---------Validation---------\n",
      "2023-10-19 07:56:28,323 — SCClassifier — INFO — valid set_Loss = 1.3530 | valid set_Acc = 0.6131 | valid set-Macro-F1 = 0.3994\n",
      "2023-10-19 07:56:28,345 — SCClassifier — INFO — valid macro_f1 increased from 0.3100631001766643 to 0.3993621605735715 \n",
      "2023-10-19 07:56:28,347 — SCClassifier — INFO — Saving Checkpoint ....\n"
     ]
    },
    {
     "name": "stderr",
     "output_type": "stream",
     "text": [
      "/usr/local/lib/python3.9/dist-packages/sklearn/metrics/_classification.py:1334: UndefinedMetricWarning:\n",
      "\n",
      "Precision and F-score are ill-defined and being set to 0.0 in labels with no predicted samples. Use `zero_division` parameter to control this behavior.\n",
      "\n",
      "/usr/local/lib/python3.9/dist-packages/sklearn/metrics/_classification.py:1334: UndefinedMetricWarning:\n",
      "\n",
      "Precision and F-score are ill-defined and being set to 0.0 in labels with no predicted samples. Use `zero_division` parameter to control this behavior.\n",
      "\n",
      "/usr/local/lib/python3.9/dist-packages/sklearn/metrics/_classification.py:1334: UndefinedMetricWarning:\n",
      "\n",
      "Precision and F-score are ill-defined and being set to 0.0 in labels with no predicted samples. Use `zero_division` parameter to control this behavior.\n",
      "\n"
     ]
    },
    {
     "name": "stdout",
     "output_type": "stream",
     "text": [
      "\u001b[97m ================================================================================\n",
      "2023-10-19 07:56:30,584 — SCClassifier — INFO — EPOCH -- 4\n"
     ]
    },
    {
     "name": "stderr",
     "output_type": "stream",
     "text": [
      "Train Acc: 56.6513: 100%|\u001b[35m██████████\u001b[0m| 38/38 [00:35<00:00,  1.06batch/s, loss=1.28]"
     ]
    },
    {
     "name": "stdout",
     "output_type": "stream",
     "text": [
      "2023-10-19 07:57:06,563 — SCClassifier — INFO — Train-Macro-F1 = 0.4556\n"
     ]
    },
    {
     "name": "stderr",
     "output_type": "stream",
     "text": [
      "\n"
     ]
    },
    {
     "name": "stdout",
     "output_type": "stream",
     "text": [
      "\u001b[36m \u001b[1m ---------Validation---------\n",
      "2023-10-19 07:57:12,760 — SCClassifier — INFO — valid set_Loss = 1.0748 | valid set_Acc = 0.6629 | valid set-Macro-F1 = 0.4901\n",
      "2023-10-19 07:57:12,783 — SCClassifier — INFO — valid macro_f1 increased from 0.3993621605735715 to 0.49008528293189607 \n",
      "2023-10-19 07:57:12,784 — SCClassifier — INFO — Saving Checkpoint ....\n"
     ]
    },
    {
     "name": "stderr",
     "output_type": "stream",
     "text": [
      "/usr/local/lib/python3.9/dist-packages/sklearn/metrics/_classification.py:1334: UndefinedMetricWarning:\n",
      "\n",
      "Precision and F-score are ill-defined and being set to 0.0 in labels with no predicted samples. Use `zero_division` parameter to control this behavior.\n",
      "\n",
      "/usr/local/lib/python3.9/dist-packages/sklearn/metrics/_classification.py:1334: UndefinedMetricWarning:\n",
      "\n",
      "Precision and F-score are ill-defined and being set to 0.0 in labels with no predicted samples. Use `zero_division` parameter to control this behavior.\n",
      "\n",
      "/usr/local/lib/python3.9/dist-packages/sklearn/metrics/_classification.py:1334: UndefinedMetricWarning:\n",
      "\n",
      "Precision and F-score are ill-defined and being set to 0.0 in labels with no predicted samples. Use `zero_division` parameter to control this behavior.\n",
      "\n"
     ]
    },
    {
     "name": "stdout",
     "output_type": "stream",
     "text": [
      "\u001b[97m ================================================================================\n",
      "2023-10-19 07:57:15,026 — SCClassifier — INFO — EPOCH -- 5\n"
     ]
    },
    {
     "name": "stderr",
     "output_type": "stream",
     "text": [
      "Train Acc: 66.5967: 100%|\u001b[35m██████████\u001b[0m| 38/38 [00:35<00:00,  1.06batch/s, loss=1.01]"
     ]
    },
    {
     "name": "stdout",
     "output_type": "stream",
     "text": [
      "2023-10-19 07:57:51,026 — SCClassifier — INFO — Train-Macro-F1 = 0.5610\n"
     ]
    },
    {
     "name": "stderr",
     "output_type": "stream",
     "text": [
      "\n"
     ]
    },
    {
     "name": "stdout",
     "output_type": "stream",
     "text": [
      "\u001b[36m \u001b[1m ---------Validation---------\n",
      "2023-10-19 07:57:57,188 — SCClassifier — INFO — valid set_Loss = 0.9319 | valid set_Acc = 0.7149 | valid set-Macro-F1 = 0.5949\n",
      "2023-10-19 07:57:57,207 — SCClassifier — INFO — valid macro_f1 increased from 0.49008528293189607 to 0.5948685794244768 \n",
      "2023-10-19 07:57:57,209 — SCClassifier — INFO — Saving Checkpoint ....\n",
      "\u001b[97m ================================================================================\n",
      "2023-10-19 07:57:59,204 — SCClassifier — INFO — EPOCH -- 6\n"
     ]
    },
    {
     "name": "stderr",
     "output_type": "stream",
     "text": [
      "Train Acc: 73.5208: 100%|\u001b[35m██████████\u001b[0m| 38/38 [00:36<00:00,  1.06batch/s, loss=0.776]"
     ]
    },
    {
     "name": "stdout",
     "output_type": "stream",
     "text": [
      "2023-10-19 07:58:35,224 — SCClassifier — INFO — Train-Macro-F1 = 0.7092\n"
     ]
    },
    {
     "name": "stderr",
     "output_type": "stream",
     "text": [
      "\n"
     ]
    },
    {
     "name": "stdout",
     "output_type": "stream",
     "text": [
      "\u001b[36m \u001b[1m ---------Validation---------\n",
      "2023-10-19 07:58:41,422 — SCClassifier — INFO — valid set_Loss = 0.8073 | valid set_Acc = 0.7477 | valid set-Macro-F1 = 0.7018\n",
      "2023-10-19 07:58:41,442 — SCClassifier — INFO — valid macro_f1 increased from 0.5948685794244768 to 0.7017659865435698 \n",
      "2023-10-19 07:58:41,443 — SCClassifier — INFO — Saving Checkpoint ....\n",
      "\u001b[97m ================================================================================\n",
      "2023-10-19 07:58:43,579 — SCClassifier — INFO — EPOCH -- 7\n"
     ]
    },
    {
     "name": "stderr",
     "output_type": "stream",
     "text": [
      "Train Acc: 78.7663: 100%|\u001b[35m██████████\u001b[0m| 38/38 [00:36<00:00,  1.05batch/s, loss=0.643]"
     ]
    },
    {
     "name": "stdout",
     "output_type": "stream",
     "text": [
      "2023-10-19 07:59:19,676 — SCClassifier — INFO — Train-Macro-F1 = 0.7851\n"
     ]
    },
    {
     "name": "stderr",
     "output_type": "stream",
     "text": [
      "\n"
     ]
    },
    {
     "name": "stdout",
     "output_type": "stream",
     "text": [
      "\u001b[36m \u001b[1m ---------Validation---------\n",
      "2023-10-19 07:59:25,834 — SCClassifier — INFO — valid set_Loss = 0.8783 | valid set_Acc = 0.7432 | valid set-Macro-F1 = 0.7114\n",
      "2023-10-19 07:59:25,849 — SCClassifier — INFO — valid macro_f1 increased from 0.7017659865435698 to 0.7113931664963088 \n",
      "2023-10-19 07:59:25,850 — SCClassifier — INFO — Saving Checkpoint ....\n",
      "\u001b[97m ================================================================================\n",
      "2023-10-19 07:59:27,810 — SCClassifier — INFO — EPOCH -- 8\n"
     ]
    },
    {
     "name": "stderr",
     "output_type": "stream",
     "text": [
      "Train Acc: 82.9207: 100%|\u001b[35m██████████\u001b[0m| 38/38 [00:35<00:00,  1.06batch/s, loss=0.519]"
     ]
    },
    {
     "name": "stdout",
     "output_type": "stream",
     "text": [
      "2023-10-19 08:00:03,536 — SCClassifier — INFO — Train-Macro-F1 = 0.8290\n"
     ]
    },
    {
     "name": "stderr",
     "output_type": "stream",
     "text": [
      "\n"
     ]
    },
    {
     "name": "stdout",
     "output_type": "stream",
     "text": [
      "\u001b[36m \u001b[1m ---------Validation---------\n",
      "2023-10-19 08:00:09,665 — SCClassifier — INFO — valid set_Loss = 0.8849 | valid set_Acc = 0.7364 | valid set-Macro-F1 = 0.7112\n",
      "\u001b[31m val_macro_f1 did not optimize: 0.7113931664963088\n",
      "\u001b[97m ================================================================================\n",
      "2023-10-19 08:00:09,695 — SCClassifier — INFO — EPOCH -- 9\n"
     ]
    },
    {
     "name": "stderr",
     "output_type": "stream",
     "text": [
      "Train Acc: 86.2358: 100%|\u001b[35m██████████\u001b[0m| 38/38 [00:35<00:00,  1.07batch/s, loss=0.424]"
     ]
    },
    {
     "name": "stdout",
     "output_type": "stream",
     "text": [
      "2023-10-19 08:00:45,194 — SCClassifier — INFO — Train-Macro-F1 = 0.8668\n"
     ]
    },
    {
     "name": "stderr",
     "output_type": "stream",
     "text": [
      "\n"
     ]
    },
    {
     "name": "stdout",
     "output_type": "stream",
     "text": [
      "\u001b[36m \u001b[1m ---------Validation---------\n",
      "2023-10-19 08:00:51,339 — SCClassifier — INFO — valid set_Loss = 0.9682 | valid set_Acc = 0.7376 | valid set-Macro-F1 = 0.7182\n",
      "2023-10-19 08:00:51,352 — SCClassifier — INFO — valid macro_f1 increased from 0.7113931664963088 to 0.718191071759997 \n",
      "2023-10-19 08:00:51,353 — SCClassifier — INFO — Saving Checkpoint ....\n",
      "\u001b[97m ================================================================================\n",
      "2023-10-19 08:00:53,158 — SCClassifier — INFO — EPOCH -- 10\n"
     ]
    },
    {
     "name": "stderr",
     "output_type": "stream",
     "text": [
      "Train Acc: 90.9778: 100%|\u001b[35m██████████\u001b[0m| 38/38 [00:35<00:00,  1.07batch/s, loss=0.327]"
     ]
    },
    {
     "name": "stdout",
     "output_type": "stream",
     "text": [
      "2023-10-19 08:01:28,809 — SCClassifier — INFO — Train-Macro-F1 = 0.9101\n"
     ]
    },
    {
     "name": "stderr",
     "output_type": "stream",
     "text": [
      "\n"
     ]
    },
    {
     "name": "stdout",
     "output_type": "stream",
     "text": [
      "\u001b[36m \u001b[1m ---------Validation---------\n",
      "2023-10-19 08:01:34,980 — SCClassifier — INFO — valid set_Loss = 0.9057 | valid set_Acc = 0.7590 | valid set-Macro-F1 = 0.7364\n",
      "2023-10-19 08:01:34,993 — SCClassifier — INFO — valid macro_f1 increased from 0.718191071759997 to 0.7364268739235564 \n",
      "2023-10-19 08:01:34,994 — SCClassifier — INFO — Saving Checkpoint ....\n",
      "\u001b[97m ================================================================================\n",
      "\u001b[35m Highest Macro-F1 score : 0.7364268739235564\n"
     ]
    },
    {
     "data": {
      "text/plain": [
       "{'base_model': 'nlpaueb/sec-bert-shape',\n",
       " 'batch_size': 64,\n",
       " 'classes': ['revenue',\n",
       "  'supply_chain',\n",
       "  'agreement',\n",
       "  'licensing_and_ip',\n",
       "  'financial_statements',\n",
       "  'real_estate'],\n",
       " 'clip': False,\n",
       " 'cuda': '0',\n",
       " 'dev_test_split': False,\n",
       " 'epochs': 10,\n",
       " 'features': ['orig_sents'],\n",
       " 'learning_rate': 1e-05,\n",
       " 'load_pretrained': False,\n",
       " 'mutate': True,\n",
       " 'num_workers': 0,\n",
       " 'package_name': 'ConceptClassifier',\n",
       " 'pipeline_name': 'concept_classifier',\n",
       " 'seed': 1,\n",
       " 'target': 'concept_class_remapped',\n",
       " 'train_file': 'data/train/train.json',\n",
       " 'truncate': 512,\n",
       " 'valid_file': 'data/train/valid.json',\n",
       " 'wandb': False,\n",
       " 'warmup_smooth': 3,\n",
       " 'weight_decay': 0.001,\n",
       " 'metric_dir': 'concept_metrics',\n",
       " 'max_stratify': 500,\n",
       " 'prune_stratify': True,\n",
       " 'score': 0.7364268739235564}"
      ]
     },
     "execution_count": 6,
     "metadata": {},
     "output_type": "execute_result"
    }
   ],
   "source": [
    "trainer.train(dict(config.train_args))"
   ]
  },
  {
   "cell_type": "code",
   "execution_count": 7,
   "id": "2e38b4bf",
   "metadata": {},
   "outputs": [
    {
     "name": "stdout",
     "output_type": "stream",
     "text": [
      "2023-10-19 08:02:09,537 — SCClassifier — INFO — valid_Loss = 0.2219 | valid_Acc = 0.9446 | valid-Macro-F1 = 0.9408\n",
      "2023-10-19 08:02:09,552 — SCClassifier — INFO — ---evaluation---\n",
      "2023-10-19 08:02:09,559 — SCClassifier — INFO — \n",
      "                      precision    recall  f1-score      support\n",
      "revenue                0.961847  0.958000  0.959920   500.000000\n",
      "supply_chain           0.931774  0.973523  0.952191   491.000000\n",
      "agreement              0.919132  0.932000  0.925521   500.000000\n",
      "licensing_and_ip       0.970522  0.961798  0.966140   445.000000\n",
      "financial_statements   0.956140  0.881402  0.917251   371.000000\n",
      "real_estate            0.890244  0.960526  0.924051    76.000000\n",
      "accuracy               0.944608  0.944608  0.944608     0.944608\n",
      "macro avg              0.938277  0.944542  0.940846  2383.000000\n",
      "weighted avg           0.945136  0.944608  0.944485  2383.000000\n"
     ]
    },
    {
     "data": {
      "text/html": [
       "<div>\n",
       "<style scoped>\n",
       "    .dataframe tbody tr th:only-of-type {\n",
       "        vertical-align: middle;\n",
       "    }\n",
       "\n",
       "    .dataframe tbody tr th {\n",
       "        vertical-align: top;\n",
       "    }\n",
       "\n",
       "    .dataframe thead th {\n",
       "        text-align: right;\n",
       "    }\n",
       "</style>\n",
       "<table border=\"1\" class=\"dataframe\">\n",
       "  <thead>\n",
       "    <tr style=\"text-align: right;\">\n",
       "      <th></th>\n",
       "      <th>precision</th>\n",
       "      <th>recall</th>\n",
       "      <th>f1-score</th>\n",
       "      <th>support</th>\n",
       "    </tr>\n",
       "  </thead>\n",
       "  <tbody>\n",
       "    <tr>\n",
       "      <th>revenue</th>\n",
       "      <td>0.961847</td>\n",
       "      <td>0.958000</td>\n",
       "      <td>0.959920</td>\n",
       "      <td>500.000000</td>\n",
       "    </tr>\n",
       "    <tr>\n",
       "      <th>supply_chain</th>\n",
       "      <td>0.931774</td>\n",
       "      <td>0.973523</td>\n",
       "      <td>0.952191</td>\n",
       "      <td>491.000000</td>\n",
       "    </tr>\n",
       "    <tr>\n",
       "      <th>agreement</th>\n",
       "      <td>0.919132</td>\n",
       "      <td>0.932000</td>\n",
       "      <td>0.925521</td>\n",
       "      <td>500.000000</td>\n",
       "    </tr>\n",
       "    <tr>\n",
       "      <th>licensing_and_ip</th>\n",
       "      <td>0.970522</td>\n",
       "      <td>0.961798</td>\n",
       "      <td>0.966140</td>\n",
       "      <td>445.000000</td>\n",
       "    </tr>\n",
       "    <tr>\n",
       "      <th>financial_statements</th>\n",
       "      <td>0.956140</td>\n",
       "      <td>0.881402</td>\n",
       "      <td>0.917251</td>\n",
       "      <td>371.000000</td>\n",
       "    </tr>\n",
       "    <tr>\n",
       "      <th>real_estate</th>\n",
       "      <td>0.890244</td>\n",
       "      <td>0.960526</td>\n",
       "      <td>0.924051</td>\n",
       "      <td>76.000000</td>\n",
       "    </tr>\n",
       "    <tr>\n",
       "      <th>accuracy</th>\n",
       "      <td>0.944608</td>\n",
       "      <td>0.944608</td>\n",
       "      <td>0.944608</td>\n",
       "      <td>0.944608</td>\n",
       "    </tr>\n",
       "    <tr>\n",
       "      <th>macro avg</th>\n",
       "      <td>0.938277</td>\n",
       "      <td>0.944542</td>\n",
       "      <td>0.940846</td>\n",
       "      <td>2383.000000</td>\n",
       "    </tr>\n",
       "    <tr>\n",
       "      <th>weighted avg</th>\n",
       "      <td>0.945136</td>\n",
       "      <td>0.944608</td>\n",
       "      <td>0.944485</td>\n",
       "      <td>2383.000000</td>\n",
       "    </tr>\n",
       "  </tbody>\n",
       "</table>\n",
       "</div>"
      ],
      "text/plain": [
       "                      precision    recall  f1-score      support\n",
       "revenue                0.961847  0.958000  0.959920   500.000000\n",
       "supply_chain           0.931774  0.973523  0.952191   491.000000\n",
       "agreement              0.919132  0.932000  0.925521   500.000000\n",
       "licensing_and_ip       0.970522  0.961798  0.966140   445.000000\n",
       "financial_statements   0.956140  0.881402  0.917251   371.000000\n",
       "real_estate            0.890244  0.960526  0.924051    76.000000\n",
       "accuracy               0.944608  0.944608  0.944608     0.944608\n",
       "macro avg              0.938277  0.944542  0.940846  2383.000000\n",
       "weighted avg           0.945136  0.944608  0.944485  2383.000000"
      ]
     },
     "execution_count": 7,
     "metadata": {},
     "output_type": "execute_result"
    }
   ],
   "source": [
    "trainer.eval(self.train_ds)"
   ]
  },
  {
   "cell_type": "code",
   "execution_count": 8,
   "id": "35f0067c",
   "metadata": {},
   "outputs": [
    {
     "name": "stdout",
     "output_type": "stream",
     "text": [
      "2023-10-19 08:02:16,186 — SCClassifier — INFO — valid_Loss = 0.9057 | valid_Acc = 0.7590 | valid-Macro-F1 = 0.7364\n",
      "2023-10-19 08:02:16,203 — SCClassifier — INFO — ---evaluation---\n",
      "2023-10-19 08:02:16,209 — SCClassifier — INFO — \n",
      "                      precision    recall  f1-score    support\n",
      "revenue                0.927492  0.777215  0.845730  395.00000\n",
      "supply_chain           0.601227  0.796748  0.685315  123.00000\n",
      "agreement              0.642384  0.687943  0.664384  141.00000\n",
      "licensing_and_ip       0.719697  0.848214  0.778689  112.00000\n",
      "financial_statements   0.674419  0.617021  0.644444   94.00000\n",
      "real_estate            0.761905  0.842105  0.800000   19.00000\n",
      "accuracy               0.759050  0.759050  0.759050    0.75905\n",
      "macro avg              0.721187  0.761541  0.736427  884.00000\n",
      "weighted avg           0.779824  0.759050  0.763604  884.00000\n"
     ]
    },
    {
     "data": {
      "text/html": [
       "<div>\n",
       "<style scoped>\n",
       "    .dataframe tbody tr th:only-of-type {\n",
       "        vertical-align: middle;\n",
       "    }\n",
       "\n",
       "    .dataframe tbody tr th {\n",
       "        vertical-align: top;\n",
       "    }\n",
       "\n",
       "    .dataframe thead th {\n",
       "        text-align: right;\n",
       "    }\n",
       "</style>\n",
       "<table border=\"1\" class=\"dataframe\">\n",
       "  <thead>\n",
       "    <tr style=\"text-align: right;\">\n",
       "      <th></th>\n",
       "      <th>precision</th>\n",
       "      <th>recall</th>\n",
       "      <th>f1-score</th>\n",
       "      <th>support</th>\n",
       "    </tr>\n",
       "  </thead>\n",
       "  <tbody>\n",
       "    <tr>\n",
       "      <th>revenue</th>\n",
       "      <td>0.927492</td>\n",
       "      <td>0.777215</td>\n",
       "      <td>0.845730</td>\n",
       "      <td>395.00000</td>\n",
       "    </tr>\n",
       "    <tr>\n",
       "      <th>supply_chain</th>\n",
       "      <td>0.601227</td>\n",
       "      <td>0.796748</td>\n",
       "      <td>0.685315</td>\n",
       "      <td>123.00000</td>\n",
       "    </tr>\n",
       "    <tr>\n",
       "      <th>agreement</th>\n",
       "      <td>0.642384</td>\n",
       "      <td>0.687943</td>\n",
       "      <td>0.664384</td>\n",
       "      <td>141.00000</td>\n",
       "    </tr>\n",
       "    <tr>\n",
       "      <th>licensing_and_ip</th>\n",
       "      <td>0.719697</td>\n",
       "      <td>0.848214</td>\n",
       "      <td>0.778689</td>\n",
       "      <td>112.00000</td>\n",
       "    </tr>\n",
       "    <tr>\n",
       "      <th>financial_statements</th>\n",
       "      <td>0.674419</td>\n",
       "      <td>0.617021</td>\n",
       "      <td>0.644444</td>\n",
       "      <td>94.00000</td>\n",
       "    </tr>\n",
       "    <tr>\n",
       "      <th>real_estate</th>\n",
       "      <td>0.761905</td>\n",
       "      <td>0.842105</td>\n",
       "      <td>0.800000</td>\n",
       "      <td>19.00000</td>\n",
       "    </tr>\n",
       "    <tr>\n",
       "      <th>accuracy</th>\n",
       "      <td>0.759050</td>\n",
       "      <td>0.759050</td>\n",
       "      <td>0.759050</td>\n",
       "      <td>0.75905</td>\n",
       "    </tr>\n",
       "    <tr>\n",
       "      <th>macro avg</th>\n",
       "      <td>0.721187</td>\n",
       "      <td>0.761541</td>\n",
       "      <td>0.736427</td>\n",
       "      <td>884.00000</td>\n",
       "    </tr>\n",
       "    <tr>\n",
       "      <th>weighted avg</th>\n",
       "      <td>0.779824</td>\n",
       "      <td>0.759050</td>\n",
       "      <td>0.763604</td>\n",
       "      <td>884.00000</td>\n",
       "    </tr>\n",
       "  </tbody>\n",
       "</table>\n",
       "</div>"
      ],
      "text/plain": [
       "                      precision    recall  f1-score    support\n",
       "revenue                0.927492  0.777215  0.845730  395.00000\n",
       "supply_chain           0.601227  0.796748  0.685315  123.00000\n",
       "agreement              0.642384  0.687943  0.664384  141.00000\n",
       "licensing_and_ip       0.719697  0.848214  0.778689  112.00000\n",
       "financial_statements   0.674419  0.617021  0.644444   94.00000\n",
       "real_estate            0.761905  0.842105  0.800000   19.00000\n",
       "accuracy               0.759050  0.759050  0.759050    0.75905\n",
       "macro avg              0.721187  0.761541  0.736427  884.00000\n",
       "weighted avg           0.779824  0.759050  0.763604  884.00000"
      ]
     },
     "execution_count": 8,
     "metadata": {},
     "output_type": "execute_result"
    }
   ],
   "source": [
    "trainer.eval(self.valid_ds)"
   ]
  },
  {
   "cell_type": "code",
   "execution_count": 9,
   "id": "127ab9eb-3d4d-490f-a60c-8355a9f0b0de",
   "metadata": {},
   "outputs": [],
   "source": [
    "text = trainer.valid_ds['text']\n",
    "true_labels = trainer.valid_ds['label_id']"
   ]
  },
  {
   "cell_type": "code",
   "execution_count": 10,
   "id": "c01d9334-734b-44d9-abf6-7c9cbfdca84b",
   "metadata": {},
   "outputs": [
    {
     "name": "stderr",
     "output_type": "stream",
     "text": [
      "100%|\u001b[32m██████████\u001b[0m| 14/14 [00:21<00:00,  1.54s/batch]\n"
     ]
    }
   ],
   "source": [
    "output = trainer.predict(text)"
   ]
  },
  {
   "cell_type": "code",
   "execution_count": 11,
   "id": "ae6599f7-02b4-4af4-9aa5-70ecf3d38723",
   "metadata": {},
   "outputs": [
    {
     "name": "stderr",
     "output_type": "stream",
     "text": [
      "100%|\u001b[32m██████████\u001b[0m| 14/14 [00:21<00:00,  1.53s/batch]\n"
     ]
    }
   ],
   "source": [
    "scores, labels = trainer.predict(text)"
   ]
  },
  {
   "cell_type": "code",
   "execution_count": 12,
   "id": "fc2201b6-9e0d-4c41-99ea-d47f89418d4a",
   "metadata": {},
   "outputs": [],
   "source": [
    "classes_scores  =  list(map(lambda x: {trainer.model.config.id2label[k]:v for k,v in enumerate(x)} , scores))\n",
    "soreted_scores = list(map(lambda x: sorted(x.items(), key=lambda x: x[1], reverse=True) , classes_scores))\n",
    "\n",
    "#soreted_scores[0][0][0], soreted_scores[0][1][0]\n",
    "\n",
    "top_2 = list(map(lambda x: [x[0][0], x[1][0]] , soreted_scores ))"
   ]
  },
  {
   "cell_type": "code",
   "execution_count": null,
   "id": "55145e52-ba2a-4d30-b717-6659e52c2a99",
   "metadata": {},
   "outputs": [],
   "source": []
  },
  {
   "cell_type": "code",
   "execution_count": 13,
   "id": "c6e5826b-d4b0-441e-a38d-b5e1c33af294",
   "metadata": {},
   "outputs": [],
   "source": [
    "prediction_frame = pd.DataFrame({\"text\":text,\n",
    "              \"expected\":list(map(lambda x: trainer.model.config.id2label[x], true_labels) ),\n",
    "              \"predicted\":list(map(lambda x: trainer.model.config.id2label[x], labels)),\n",
    "              \"top_2\": top_2,\n",
    "              \"score\":list(scores.max(1)),\n",
    "              \"scores_dist\": soreted_scores,\n",
    "              \"Label\":trainer.valid_ds[\"Label\"].tolist()})"
   ]
  },
  {
   "cell_type": "code",
   "execution_count": 14,
   "id": "92243779-8246-4c8a-90b6-32914c03e13e",
   "metadata": {},
   "outputs": [
    {
     "data": {
      "text/plain": [
       "0.9117647058823529"
      ]
     },
     "execution_count": 14,
     "metadata": {},
     "output_type": "execute_result"
    }
   ],
   "source": [
    "prediction_frame.apply(lambda x : x[\"expected\"] in x[\"top_2\"], axis=1).sum() / len(prediction_frame)"
   ]
  },
  {
   "cell_type": "code",
   "execution_count": 15,
   "id": "7d8b7485-5185-4c26-bdd3-a82cd5d410d8",
   "metadata": {},
   "outputs": [
    {
     "data": {
      "text/plain": [
       "0.9117647058823529"
      ]
     },
     "execution_count": 15,
     "metadata": {},
     "output_type": "execute_result"
    }
   ],
   "source": [
    "# score when the expected concept exists within the top 2 concepts\n",
    "prediction_frame.apply(lambda x : x[\"expected\"] in x[\"top_2\"], axis=1).sum() / len(prediction_frame)\n",
    "#output: 0.8039"
   ]
  },
  {
   "cell_type": "code",
   "execution_count": 16,
   "id": "c4ed1636-6fec-4207-8875-216e79bb7e8f",
   "metadata": {},
   "outputs": [
    {
     "data": {
      "text/plain": [
       "0.7567873303167421"
      ]
     },
     "execution_count": 16,
     "metadata": {},
     "output_type": "execute_result"
    }
   ],
   "source": [
    "# score when the expected concept equals the predicted ones\n",
    "prediction_frame.apply(lambda x : x[\"expected\"] == x['predicted'] , axis=1).sum() / len(prediction_frame)"
   ]
  },
  {
   "cell_type": "code",
   "execution_count": 27,
   "id": "45fca94f-60a4-481d-93b7-e59f5095b442",
   "metadata": {},
   "outputs": [
    {
     "data": {
      "text/plain": [
       "0.768993839835729"
      ]
     },
     "execution_count": 27,
     "metadata": {},
     "output_type": "execute_result"
    }
   ],
   "source": [
    "prediction_frame.apply(lambda x : x[\"expected\"] in x[\"top_2\"] and x['score'] > 0.5, axis=1).sum() / len(prediction_frame)"
   ]
  },
  {
   "cell_type": "code",
   "execution_count": 125,
   "id": "d96c2825-d887-46b3-858a-0dd1814f3c24",
   "metadata": {},
   "outputs": [],
   "source": [
    "pd.set_option(\"display.max_colwidth\", None)\n",
    "pd.set_option(\"display.max_rows\", 100)\n"
   ]
  },
  {
   "cell_type": "code",
   "execution_count": 17,
   "id": "3e844d46-7009-4d0b-aa1c-f753f54e7e23",
   "metadata": {
    "collapsed": true,
    "jupyter": {
     "outputs_hidden": true
    },
    "tags": []
   },
   "outputs": [],
   "source": [
    "prediction_frame[prediction_frame.apply(lambda x :x[\"expected\"] != x['predicted'], axis=1)].head(100) "
   ]
  },
  {
   "cell_type": "code",
   "execution_count": 12,
   "id": "e71108f5-fc0e-4c14-a2ef-b792c622bb59",
   "metadata": {},
   "outputs": [],
   "source": [
    "# Read train and validation sets from JSON files\n",
    "train = pd.read_json(self.train_file)\n",
    "valid = pd.read_json(self.valid_file)\n",
    "\n",
    "# Drop duplicate rows based on an index column\n",
    "train.drop_duplicates(self.index_col, inplace=True, ignore_index=True)\n",
    "valid.drop_duplicates(self.index_col, inplace=True, ignore_index=True)\n",
    "# validate that data contains all required inputs for train and validation\n",
    "if not all([x in train.columns or x in valid.columns for x in self.basic_columns]):\n",
    "    raise (\"Invalid train or valid dataset, missing required columns...\")\n",
    "# transform inputs using pre-trained transformer tokenizer\n",
    "if isinstance(valid[self.target].iloc[0], str):\n",
    "\n",
    "    train[self.target] = train[self.target].apply(lambda x: \\\n",
    "                                            int(self.model.config.label2id[x])) \n",
    "    valid[self.target] = valid[self.target].apply(lambda x: \\\n",
    "                                            int(self.model.config.label2id[x]))"
   ]
  },
  {
   "cell_type": "code",
   "execution_count": 13,
   "id": "7ac302a0-49d5-4459-b987-74a277405025",
   "metadata": {},
   "outputs": [
    {
     "data": {
      "text/plain": [
       "0       {'AG Mortgage Investment Trust, Inc.': 0, 'REI...\n",
       "1       {'Bristol Investment Fund Ltd.': 0, 'Wizard Wo...\n",
       "2       {'Kinder Morgan Inc': 0, 'Kinder Morgan': 0, '...\n",
       "3                {'US Well Services LLC': 0, 'Antero': 1}\n",
       "4                  {'Cardinal Health': 0, 'VIVUS Inc': 1}\n",
       "                              ...                        \n",
       "6212    {'the PRC Ministry of Commerce': 0, 'CHINA BAK...\n",
       "6213    {'Paratek Pharmaceuticals Inc': 0, 'Allergan P...\n",
       "6214    {'Spirit AeroSystems Holdings Inc': 0, 'Boeing...\n",
       "6215    {'CONE Midstream Partners L.P.': 0, 'CONE Mids...\n",
       "6216    {'DJO Holdings': 0, 'Guarantors': 1, 'Guaranto...\n",
       "Name: org_groups, Length: 6217, dtype: object"
      ]
     },
     "execution_count": 13,
     "metadata": {},
     "output_type": "execute_result"
    }
   ],
   "source": [
    "train['org_groups']"
   ]
  },
  {
   "cell_type": "markdown",
   "id": "6cd55ab5-bad9-4a0a-a758-7875a75c50ed",
   "metadata": {
    "jp-MarkdownHeadingCollapsed": true,
    "tags": []
   },
   "source": [
    "# train preprocess"
   ]
  },
  {
   "cell_type": "code",
   "execution_count": 1,
   "id": "25f942dc-e365-4da3-93c1-309f5ee65215",
   "metadata": {},
   "outputs": [],
   "source": [
    "\"\"\" Split data set into train&valid splits \n",
    "\"\"\"\n",
    "import argparse\n",
    "import joblib\n",
    "import pandas as pd\n",
    "from matplotlib import pyplot  as plt\n",
    "from typing import Text\n",
    "import yaml\n",
    "from colorama import Fore\n",
    "from tqdm import tqdm\n",
    "from pathlib import Path\n",
    "import sys \n",
    "\n",
    "\n",
    "from src.utils import get_logger, dict2dot\n",
    "from src.relation_extraction.preprocessing_funcs import preprocess_custom_data\n",
    "\n",
    "\n",
    "config_path = 'params.yaml'\n",
    "\n",
    "\"\"\"This method tag text to be formated with respect to relation extraction enocder \n",
    "\"\"\"\n",
    "with open(src_dir/ config_path) as conf_file:\n",
    "    config = dict2dot(yaml.safe_load(conf_file))\n",
    "\n",
    "logger = get_logger('train preprocessing', log_level=config['base']['log_level'])\n",
    "\n",
    "config.train_preprocess.files = [config.train_preprocess.output_dir+'train.json' ,\n",
    "                   config.train_preprocess.output_dir+'valid.json']\n",
    "\n",
    "# train, valid, rm = preprocess_custom_data(config.train_preprocess)\n",
    "# logger.info(Fore.MAGENTA+f\"\\ntrain shape: {train.shape}\\u2705\\nvalid shape: {valid.shape}\\u2705\\nrelations: {rm.rel2idx}\\u2705\"+Fore.RESET)\n",
    "\n"
   ]
  },
  {
   "cell_type": "code",
   "execution_count": null,
   "id": "681e0fb5",
   "metadata": {},
   "outputs": [],
   "source": []
  },
  {
   "cell_type": "code",
   "execution_count": null,
   "id": "da0ba2c5",
   "metadata": {},
   "outputs": [],
   "source": []
  },
  {
   "cell_type": "markdown",
   "id": "fc3ed631-39fd-4e05-b070-9b05b9467686",
   "metadata": {
    "tags": []
   },
   "source": [
    "# **_Evaluation_**"
   ]
  },
  {
   "cell_type": "code",
   "execution_count": 2,
   "id": "343ad718-b83a-4b2b-bdcc-be6c307dc5d3",
   "metadata": {},
   "outputs": [
    {
     "name": "stdout",
     "output_type": "stream",
     "text": [
      "2023-10-03 08:16:20,384 — 🌌 spaCy — INFO — Language model used is None\n",
      "Torch GPU Exists..\n",
      "2023-10-03 08:16:25,516 — Evaluate — INFO — Loading the pretrained model\n",
      "2023-10-03 08:16:25,517 — 💫 Relations Extractor — INFO — Loading tokenizer and model...\n"
     ]
    },
    {
     "name": "stderr",
     "output_type": "stream",
     "text": [
      "You are resizing the embedding layer without providing a `pad_to_multiple_of` parameter. This means that the new embedding dimension will be 30005. This might induce some performance reduction as *Tensor Cores* will not be available. For more details about this, or help on choosing the correct value for resizing, refer to this guide: https://docs.nvidia.com/deeplearning/performance/dl-performance-matrix-multiplication/index.html#requirements-tc\n",
      "10/03/2023 08:16:27 AM [INFO]: Loaded model.\n"
     ]
    },
    {
     "name": "stdout",
     "output_type": "stream",
     "text": [
      "2023-10-03 08:16:27,665 — 💫 Relations Extractor — INFO — Done!\n"
     ]
    },
    {
     "data": {
      "application/vnd.jupyter.widget-view+json": {
       "model_id": "18a56fd66f354b79b7a63b65b88f57f9",
       "version_major": 2,
       "version_minor": 0
      },
      "text/plain": [
       "Tagging poles of relations:   0%|          | 0/701 [00:00<?, ?it/s]"
      ]
     },
     "metadata": {},
     "output_type": "display_data"
    },
    {
     "name": "stderr",
     "output_type": "stream",
     "text": [
      "mutate text: 100%|██████████| 1200/1200 [00:00<00:00, 5598.63it/s]\n",
      "10/03/2023 08:16:28 AM [INFO]: Tokenizing data...\n",
      "tokenization: 100%|██████████| 1200/1200 [00:00<00:00, 4767.46it/s]\n",
      "tags positioning: 100%|██████████| 1200/1200 [00:00<00:00, 79977.83it/s]\n"
     ]
    },
    {
     "name": "stdout",
     "output_type": "stream",
     "text": [
      "\n",
      "Invalid rows/total: 0/1200\n"
     ]
    },
    {
     "name": "stderr",
     "output_type": "stream",
     "text": [
      "100%|██████████| 24/24 [00:03<00:00,  6.73it/s]\n",
      "mutate text: 100%|██████████| 1200/1200 [00:00<00:00, 5796.97it/s]\n",
      "10/03/2023 08:16:32 AM [INFO]: Tokenizing data...\n",
      "tokenization: 100%|██████████| 1200/1200 [00:00<00:00, 3930.82it/s]\n",
      "tags positioning: 100%|██████████| 1200/1200 [00:00<00:00, 78794.63it/s]\n"
     ]
    },
    {
     "name": "stdout",
     "output_type": "stream",
     "text": [
      "\n",
      "Invalid rows/total: 0/1200\n"
     ]
    },
    {
     "name": "stderr",
     "output_type": "stream",
     "text": [
      "100%|██████████| 24/24 [00:03<00:00,  6.65it/s]\n"
     ]
    },
    {
     "name": "stdout",
     "output_type": "stream",
     "text": [
      "The classification report:\n",
      "              precision    recall  f1-score     support\n",
      "customer       0.690141  0.803279  0.742424   61.000000\n",
      "other          0.840000  0.923077  0.879581  364.000000\n",
      "supplier       0.900901  0.746269  0.816327  268.000000\n",
      "accuracy       0.844156  0.844156  0.844156    0.844156\n",
      "macro avg      0.810347  0.824208  0.812777  693.000000\n",
      "weighted avg   0.850361  0.844156  0.843046  693.000000\n",
      "\n",
      "At threshold `0.9` dropped: datapoint=112\n",
      "        frac=0.16161616161616166\n",
      "Classification report for score above threshold:\n",
      "              precision    recall  f1-score     support\n",
      "customer       0.854167  0.953488  0.901099   43.000000\n",
      "other          0.899135  0.948328  0.923077  329.000000\n",
      "supplier       0.930108  0.827751  0.875949  209.000000\n",
      "accuracy       0.905336  0.905336  0.905336    0.905336\n",
      "macro avg      0.894470  0.909856  0.900042  581.000000\n",
      "weighted avg   0.906949  0.905336  0.904497  581.000000\n",
      "\n",
      "\n",
      "At threshold `0.95` dropped: datapoint=135\n",
      "        frac=0.19480519480519476\n",
      "Classification report for score above threshold:\n",
      "              precision    recall  f1-score     support\n",
      "customer       0.931818  0.953488  0.942529   43.000000\n",
      "other          0.898507  0.961661  0.929012  313.000000\n",
      "supplier       0.938547  0.831683  0.881890  202.000000\n",
      "accuracy       0.913978  0.913978  0.913978    0.913978\n",
      "macro avg      0.922958  0.915611  0.917810  558.000000\n",
      "weighted avg   0.915569  0.913978  0.912995  558.000000\n",
      "\n",
      "\n",
      "At threshold `0.99` dropped: datapoint=187\n",
      "        frac=0.2698412698412699\n",
      "Classification report for score above threshold:\n",
      "              precision    recall  f1-score     support\n",
      "customer       0.928571  0.951220  0.939759   41.000000\n",
      "other          0.908805  0.973064  0.939837  297.000000\n",
      "supplier       0.952055  0.827381  0.885350  168.000000\n",
      "accuracy       0.922925  0.922925  0.922925    0.922925\n",
      "macro avg      0.929810  0.917221  0.921649  506.000000\n",
      "weighted avg   0.924766  0.922925  0.921740  506.000000\n",
      "\n",
      "\n",
      "test metrics\n",
      "{'customer': {'precision': 0.6901408450704225, 'recall': 0.8032786885245902, 'f1-score': 0.7424242424242424, 'support': 61}, 'other': {'precision': 0.84, 'recall': 0.9230769230769231, 'f1-score': 0.8795811518324608, 'support': 364}, 'supplier': {'precision': 0.9009009009009009, 'recall': 0.746268656716418, 'f1-score': 0.8163265306122449, 'support': 268}, 'accuracy': 0.8441558441558441, 'macro avg': {'precision': 0.8103472486571078, 'recall': 0.8242080894393103, 'f1-score': 0.8127773082896494, 'support': 693}, 'weighted avg': {'precision': 0.8503607979664318, 'recall': 0.8441558441558441, 'f1-score': 0.8430460725237752, 'support': 693}}\n"
     ]
    },
    {
     "data": {
      "image/png": "[encoded data removed]",
      "text/plain": [
       "<Figure size 1000x700 with 2 Axes>"
      ]
     },
     "metadata": {},
     "output_type": "display_data"
    },
    {
     "name": "stdout",
     "output_type": "stream",
     "text": [
      "saving test report\n"
     ]
    },
    {
     "name": "stderr",
     "output_type": "stream",
     "text": [
      "mutate text: 100%|██████████| 1200/1200 [00:00<00:00, 4236.28it/s]\n",
      "10/03/2023 08:16:36 AM [INFO]: Tokenizing data...\n",
      "tokenization: 100%|██████████| 1200/1200 [00:00<00:00, 3138.21it/s]\n",
      "tags positioning: 100%|██████████| 1200/1200 [00:00<00:00, 54759.50it/s]\n"
     ]
    },
    {
     "name": "stdout",
     "output_type": "stream",
     "text": [
      "\n",
      "Invalid rows/total: 0/1200\n"
     ]
    },
    {
     "name": "stderr",
     "output_type": "stream",
     "text": [
      "100%|██████████| 24/24 [00:03<00:00,  6.53it/s]\n",
      "mutate text: 100%|██████████| 1200/1200 [00:00<00:00, 5624.23it/s]\n",
      "10/03/2023 08:16:41 AM [INFO]: Tokenizing data...\n",
      "tokenization: 100%|██████████| 1200/1200 [00:00<00:00, 4712.00it/s]\n",
      "tags positioning: 100%|██████████| 1200/1200 [00:00<00:00, 71599.59it/s]\n"
     ]
    },
    {
     "name": "stdout",
     "output_type": "stream",
     "text": [
      "\n",
      "Invalid rows/total: 0/1200\n"
     ]
    },
    {
     "name": "stderr",
     "output_type": "stream",
     "text": [
      "100%|██████████| 24/24 [00:03<00:00,  6.57it/s]\n"
     ]
    },
    {
     "name": "stdout",
     "output_type": "stream",
     "text": [
      "The classification report:\n",
      "              precision    recall  f1-score     support\n",
      "customer       0.906667  0.761194  0.827586  268.000000\n",
      "other          0.840399  0.925824  0.881046  364.000000\n",
      "supplier       0.731343  0.803279  0.765625   61.000000\n",
      "accuracy       0.851371  0.851371  0.851371    0.851371\n",
      "macro avg      0.826136  0.830099  0.824752  693.000000\n",
      "weighted avg   0.856427  0.851371  0.850212  693.000000\n",
      "\n",
      "At threshold `0.9` dropped: datapoint=110\n",
      "        frac=0.15873015873015872\n",
      "Classification report for score above threshold:\n",
      "              precision    recall  f1-score     support\n",
      "customer       0.931217  0.826291  0.875622  213.000000\n",
      "other          0.899135  0.954128  0.925816  327.000000\n",
      "supplier       0.872340  0.953488  0.911111   43.000000\n",
      "accuracy       0.907376  0.907376  0.907376    0.907376\n",
      "macro avg      0.900898  0.911303  0.904183  583.000000\n",
      "weighted avg   0.908880  0.907376  0.906393  583.000000\n",
      "\n",
      "\n",
      "At threshold `0.95` dropped: datapoint=137\n",
      "        frac=0.1976911976911977\n",
      "Classification report for score above threshold:\n",
      "              precision    recall  f1-score     support\n",
      "customer       0.937853  0.830000  0.880637  200.000000\n",
      "other          0.903614  0.958466  0.930233  313.000000\n",
      "supplier       0.872340  0.953488  0.911111   43.000000\n",
      "accuracy       0.911871  0.911871  0.911871    0.911871\n",
      "macro avg      0.904603  0.913985  0.907327  556.000000\n",
      "weighted avg   0.913512  0.911871  0.910913  556.000000\n",
      "\n",
      "\n",
      "At threshold `0.99` dropped: datapoint=192\n",
      "        frac=0.2770562770562771\n",
      "Classification report for score above threshold:\n",
      "              precision    recall  f1-score     support\n",
      "customer       0.951049  0.829268  0.885993  164.000000\n",
      "other          0.911111  0.972881  0.940984  295.000000\n",
      "supplier       0.930233  0.952381  0.941176   42.000000\n",
      "accuracy       0.924152  0.924152  0.924152    0.924152\n",
      "macro avg      0.930798  0.918177  0.922718  501.000000\n",
      "weighted avg   0.925788  0.924152  0.922999  501.000000\n",
      "\n",
      "\n",
      "test metrics\n",
      "{'customer': {'precision': 0.9066666666666666, 'recall': 0.7611940298507462, 'f1-score': 0.8275862068965518, 'support': 268}, 'other': {'precision': 0.8403990024937655, 'recall': 0.9258241758241759, 'f1-score': 0.8810457516339869, 'support': 364}, 'supplier': {'precision': 0.7313432835820896, 'recall': 0.8032786885245902, 'f1-score': 0.765625, 'support': 61}, 'accuracy': 0.8513708513708513, 'macro avg': {'precision': 0.8261363175808406, 'recall': 0.8300989647331708, 'f1-score': 0.8247523195101797, 'support': 693}, 'weighted avg': {'precision': 0.8564269031355047, 'recall': 0.8513708513708513, 'f1-score': 0.8502119510000681, 'support': 693}}\n"
     ]
    },
    {
     "data": {
      "text/plain": [
       "<Figure size 640x480 with 0 Axes>"
      ]
     },
     "metadata": {},
     "output_type": "display_data"
    },
    {
     "data": {
      "image/png": "[encoded data removed]",
      "text/plain": [
       "<Figure size 1000x700 with 2 Axes>"
      ]
     },
     "metadata": {},
     "output_type": "display_data"
    },
    {
     "name": "stderr",
     "output_type": "stream",
     "text": [
      "mutate text: 100%|██████████| 5922/5922 [00:00<00:00, 6220.54it/s]\n",
      "10/03/2023 08:16:46 AM [INFO]: Tokenizing data...\n",
      "tokenization: 100%|██████████| 5922/5922 [00:01<00:00, 3718.03it/s]\n",
      "tags positioning: 100%|██████████| 5922/5922 [00:00<00:00, 79301.54it/s]\n"
     ]
    },
    {
     "name": "stdout",
     "output_type": "stream",
     "text": [
      "\n",
      "Invalid rows/total: 0/5922\n"
     ]
    },
    {
     "name": "stderr",
     "output_type": "stream",
     "text": [
      "100%|██████████| 119/119 [00:21<00:00,  5.57it/s]\n",
      "mutate text: 100%|██████████| 5922/5922 [00:01<00:00, 5847.59it/s]\n",
      "10/03/2023 08:17:10 AM [INFO]: Tokenizing data...\n",
      "tokenization: 100%|██████████| 5922/5922 [00:01<00:00, 3965.43it/s]\n",
      "tags positioning: 100%|██████████| 5922/5922 [00:00<00:00, 44245.89it/s]\n"
     ]
    },
    {
     "name": "stdout",
     "output_type": "stream",
     "text": [
      "\n",
      "Invalid rows/total: 0/5922\n"
     ]
    },
    {
     "name": "stderr",
     "output_type": "stream",
     "text": [
      "100%|██████████| 119/119 [00:23<00:00,  5.16it/s]\n"
     ]
    },
    {
     "name": "stdout",
     "output_type": "stream",
     "text": [
      "The classification report:\n",
      "              precision    recall  f1-score      support\n",
      "customer       0.936327  0.925166  0.930713  1510.000000\n",
      "other          0.967842  0.964507  0.966172  2902.000000\n",
      "supplier       0.908322  0.925166  0.916667  1510.000000\n",
      "accuracy       0.944444  0.944444  0.944444     0.944444\n",
      "macro avg      0.937497  0.938279  0.937850  5922.000000\n",
      "weighted avg   0.944630  0.944444  0.944508  5922.000000\n",
      "\n",
      "At threshold `0.9` dropped: datapoint=340\n",
      "        frac=0.05741303613644044\n",
      "Classification report for score above threshold:\n",
      "              precision    recall  f1-score      support\n",
      "customer       0.961398  0.954447  0.957910  1383.000000\n",
      "other          0.982525  0.978338  0.980427  2816.000000\n",
      "supplier       0.940214  0.955170  0.947633  1383.000000\n",
      "accuracy       0.966679  0.966679  0.966679     0.966679\n",
      "macro avg      0.961379  0.962652  0.961990  5582.000000\n",
      "weighted avg   0.966808  0.966679  0.966723  5582.000000\n",
      "\n",
      "\n",
      "At threshold `0.95` dropped: datapoint=478\n",
      "        frac=0.0807159743329956\n",
      "Classification report for score above threshold:\n",
      "              precision    recall  f1-score      support\n",
      "customer       0.966717  0.963075  0.964892  1327.000000\n",
      "other          0.985596  0.984178  0.984887  2781.000000\n",
      "supplier       0.954647  0.961078  0.957852  1336.000000\n",
      "accuracy       0.973365  0.973365  0.973365     0.973365\n",
      "macro avg      0.968987  0.969444  0.969210  5444.000000\n",
      "weighted avg   0.973399  0.973365  0.973378  5444.000000\n",
      "\n",
      "\n",
      "At threshold `0.99` dropped: datapoint=797\n",
      "        frac=0.13458291117865584\n",
      "Classification report for score above threshold:\n",
      "              precision    recall  f1-score      support\n",
      "customer       0.976705  0.971854  0.974274  1208.000000\n",
      "other          0.989668  0.989668  0.989668  2710.000000\n",
      "supplier       0.967024  0.971831  0.969421  1207.000000\n",
      "accuracy       0.981268  0.981268  0.981268     0.981268\n",
      "macro avg      0.977799  0.977784  0.977788  5125.000000\n",
      "weighted avg   0.981280  0.981268  0.981271  5125.000000\n",
      "\n",
      "\n",
      "dev metrics\n",
      "{'customer': {'precision': 0.9363270777479893, 'recall': 0.9251655629139073, 'f1-score': 0.9307128580946036, 'support': 1510}, 'other': {'precision': 0.9678423236514523, 'recall': 0.9645072363886974, 'f1-score': 0.9661719019675526, 'support': 2902}, 'supplier': {'precision': 0.9083224967490247, 'recall': 0.9251655629139073, 'f1-score': 0.9166666666666667, 'support': 1510}, 'accuracy': 0.9444444444444444, 'macro avg': {'precision': 0.9374972993828221, 'recall': 0.9382794540721706, 'f1-score': 0.9378504755762744, 'support': 5922}, 'weighted avg': {'precision': 0.9446300710447494, 'recall': 0.9444444444444444, 'f1-score': 0.9445075889732112, 'support': 5922}}\n"
     ]
    },
    {
     "data": {
      "image/png": "[encoded data removed]",
      "text/plain": [
       "<Figure size 1000x700 with 2 Axes>"
      ]
     },
     "metadata": {},
     "output_type": "display_data"
    },
    {
     "name": "stdout",
     "output_type": "stream",
     "text": [
      "saving dev report\n"
     ]
    },
    {
     "data": {
      "text/plain": [
       "<Figure size 640x480 with 0 Axes>"
      ]
     },
     "metadata": {},
     "output_type": "display_data"
    }
   ],
   "source": [
    "import argparse\n",
    "import json\n",
    "import pandas as pd\n",
    "import numpy as np\n",
    "from typing import Text\n",
    "import yaml\n",
    "from colorama import Fore\n",
    "import seaborn as sns\n",
    "import matplotlib.pyplot as plt\n",
    "import sys\n",
    "import os\n",
    "from pathlib import Path\n",
    "src_dir = Path.cwd().parent\n",
    "sys.path.append(str(src_dir)) \n",
    "from src.utils.logs import get_logger\n",
    "from src.utils.data import dict2dot\n",
    "from sklearn.metrics import classification_report, confusion_matrix\n",
    "from src.relation_extraction.infer import infer_from_trained\n",
    "from src.relation_extraction.preprocessing_funcs import (inverse_relations,\n",
    "                                                        inverse_dict)\n",
    "from src.utils.preprocess import create_re_data, get_source, entity_annotation\n",
    "from src.relation_extraction.misc import create_org_groups #,evaluation_report\n",
    "from src.language_model.spacy_loader import SpacyLoader\n",
    "\n",
    "config_path = 'params.yaml'\n",
    "\n",
    "\"\"\"\n",
    "Load and validate data\n",
    "\"\"\" \n",
    "\n",
    "\"\"\"Load raw data.\n",
    "Args:\n",
    "    config_path {Text}: path to config\n",
    "\"\"\"\n",
    "\n",
    "with open(src_dir/ config_path) as conf_file:\n",
    "    config = dict2dot(yaml.safe_load(conf_file))\n",
    "\n",
    "logger = get_logger('Evaluate', log_level=config.base['log_level'])\n",
    "## Modify params with what fits evaluation \n",
    "config['train']['inverse']= False \n",
    "config['train']['replace_ent']= False \n",
    "## Read relations file\n",
    "test_data = pd.read_json(src_dir / config.evaluate['dataset'])\n",
    "test_data = test_data.dropna(subset=[config.evaluate.text_col])\n",
    "## Check missed columns \n",
    "missed_columns = set([config.evaluate.text_col,\n",
    "  config.evaluate.entity_1,\n",
    "  config.evaluate.entity_2,\n",
    "  config.evaluate.target]) - set(test_data.columns)\n",
    "\n",
    "# define the dataset metadata used for the training\n",
    "dataset_name = Path(config.load_data.dataset).name.split('.')[0]\n",
    "# read yaml config associated to the dataset\n",
    "with open(src_dir /'data/config/{}.yaml'.format(dataset_name), 'r')as o:\n",
    "    data_files = yaml.safe_load(o)\n",
    "    data_sources = {x:Path(y['dir']).name for x,y in data_files.items()}\n",
    "# load the ids mapping dict\n",
    "ids_map = np.load(src_dir / \"data/train/row_ids.npy\", allow_pickle=True)\n",
    "\n",
    "\n",
    "if len(missed_columns) > 0: \n",
    "    raise ValueError(f\"Required columns missed <{','.join(x for x in missed_columns)}>\")\n",
    "# Save sentence id for later use\n",
    "if config.base.index_col not in test_data.columns: \n",
    "    test_data[config.base.index_col] = list(range(len(test_data)))\n",
    "## If spans pre-detected don't load entity extractor        \n",
    "test_data = test_data.drop_duplicates(subset = [config.evaluate.text_col,\n",
    "                           config.evaluate.entity_1, \n",
    "                           config.evaluate.entity_2,]).reset_index(drop=True)\n",
    "## Clean the test_data using preprocess pipe\n",
    "test_data.rename(columns={config.evaluate.text_col:'orig_sent',\n",
    "                 config.evaluate.entity_1:'entity_1',\n",
    "                 config.evaluate.entity_2: 'entity_2', \n",
    "                 config.evaluate.target: 'relations',\n",
    "                 config.evaluate.spans: 'spans'}, inplace=True)\n",
    "\n",
    "test_data[\"org_groups\"] = test_data.spans.apply(lambda x : create_org_groups(x))\n",
    "# Setup the basic targets\n",
    "test_data['relations'] = test_data['relations'].apply\\\n",
    "(lambda x : x if x in config.base.main_relations else 'other')\n",
    "# Check spans\n",
    "extract_ent = False if 'spans' in test_data.columns else True\n",
    "if not extract_ent:\n",
    "    from src.language_model.spacy_loader import Docs_Container, SpacyLoader\n",
    "    # \n",
    "    docs_container = Docs_Container()\n",
    "    docs_container._docs,\\\n",
    "    docs_container._spans,\\\n",
    "    docs_container._ents = (test_data['orig_sent'].tolist(),\n",
    "                            test_data['spans'].tolist(),\n",
    "                            test_data['org_groups'].apply(lambda x : set(x.keys())).to_list())\n",
    "\n",
    "    spacy_loader = SpacyLoader(lm=None,\n",
    "                               require_gpu = True,\n",
    "                               entity_matcher= str(src_dir / \"artifacts/matcher_model\"),\n",
    "                               load_matcher=True)\n",
    "    group_docs, aliases_docs = spacy_loader.group_ents(docs_container)\n",
    "    test_data.loc[:, 'org_groups']= group_docs\n",
    "\n",
    "# Initiate the inferer\n",
    "inferer = infer_from_trained(detect_entities=extract_ent,\n",
    "                             language_model=\"en_core_web_trf\",\n",
    "                             require_gpu=True,\n",
    "                             basic_targets= ['supplier','customer'],\n",
    "                             load_matcher=True\n",
    "                            )\n",
    "\n",
    "if extract_ent: \n",
    "    sents, spans, groups, aliases = inferer.spacy_loader.predictor(test_data['orig_sent'].tolist())\n",
    "    test_data.loc[:, 'sents'] = sents\n",
    "    test_data.loc[:, 'spans'] = spans\n",
    "    test_data.loc[:, 'org_groups'] = groups\n",
    "    test_data.loc[:, 'aliases'] = aliases\n",
    "\n",
    "# Load fine-tune model\n",
    "logger.info(\"Loading the pretrained model\")\n",
    "inferer.load_model({'model_path': str(src_dir / config.train.model_path),\n",
    "                   'batch_size': config.train.batch_size})\n",
    "tagged = create_re_data(test_data,\n",
    "               'orig_sent',\n",
    "               'entity_2',\n",
    "               'entity_1',\n",
    "               'relations',\n",
    "               inverse_dict,\n",
    "               static_position=config.base['entity_static_position'],\n",
    "              ).dropna(axis='columns')\n",
    "if len(missed_columns) > 0: \n",
    "    raise ValueError(f\"Required columns missed <{','.join(x for x in missed_columns)}>\")\n",
    "\n",
    "# Inverse the entity_tags\n",
    "inverse_data = tagged.copy()\n",
    "inverse_data.sents = inverse_data.sents.apply(inverse_relations)\n",
    "assert not all(inverse_data.sents == tagged.sents)\n",
    "inverse_data.relations = inverse_data.relations.apply(\n",
    "    lambda x: inverse_dict[x]\n",
    ")\n",
    "\n",
    "# Test metricsa and errors reporting \n",
    "test_errors, test_output = evaluation_report(inferer=inferer,\n",
    "                  tagged_data=tagged,\n",
    "                  tag_name='test',\n",
    "                  report_dir= str(src_dir/ 'metrics'),\n",
    "                  mutate= config.evaluate['mutate'],\n",
    "                  reverse= config.evaluate['reverse'],\n",
    "                  save_reports=True)\n",
    "# Inverse tags errors\n",
    "test_inv_errors, test_inv_output = evaluation_report(inferer=inferer,\n",
    "                  tagged_data=inverse_data,\n",
    "                  tag_name='test',\n",
    "                  report_dir= str(src_dir/ 'metrics'),\n",
    "                  mutate= config.evaluate['mutate'],\n",
    "                  reverse= config.evaluate['reverse'],\n",
    "                  save_reports=False)\n",
    "\n",
    "test_output[\"inverse_prediction\"] = test_inv_output.prediction.apply(lambda x : inverse_dict[x])\n",
    "test_output['inverse_score'] = test_inv_output['score']\n",
    "direction_conflict = test_output.query(\"prediction != inverse_prediction\")\n",
    "direction_conflict.drop(columns=['spans', 'prediction_id'])\\\n",
    "                  .to_excel(src_dir / \"metrics/test_inconsistent_directions.xlsx\")\n",
    "\n",
    "\n",
    "\n",
    "# create evaluation report for the dev-set\n",
    "dev_data = pd.read_json(src_dir / config['train']['valid_data'])\n",
    "\n",
    "if config.evaluate.return_source:\n",
    "    dev_data.loc[:, 'source_data'] = dev_data[config.base.index_col]\\\n",
    "    .apply(lambda x : get_source(ids_map,data_sources,x))\n",
    "# Inverse the entity_tags\n",
    "dev_inverse = dev_data.copy()\n",
    "dev_inverse.sents = dev_inverse.sents.apply(inverse_relations)\n",
    "assert not all(dev_inverse.sents == dev_data.sents)\n",
    "dev_inverse.relations = dev_inverse.relations.apply(\n",
    "    lambda x: inverse_dict[x]\n",
    ")\n",
    "assert not all(dev_inverse.relations == dev_data.relations)\n",
    "\n",
    "# Dev metrics and errors reports \n",
    "dev_errors, dev_output = evaluation_report(inferer=inferer,\n",
    "                  tagged_data=dev_data.drop(columns=['r_id']),\n",
    "                  tag_name='dev',\n",
    "                  report_dir= str(src_dir/ 'metrics'),\n",
    "                  mutate= config.evaluate['mutate'],\n",
    "                  reverse= config.evaluate['reverse'],\n",
    "                  save_reports=True)\n",
    "# Inverse tags errors\n",
    "dev_inv_errors, dev_inv_output = evaluation_report(inferer=inferer,\n",
    "                  tagged_data=dev_inverse,\n",
    "                  tag_name='dev',\n",
    "                  report_dir= str(src_dir/ 'metrics'),\n",
    "                  mutate= config.evaluate['mutate'],\n",
    "                   reverse= config.evaluate['reverse'],\n",
    "\n",
    "                   save_reports=False)\n"
   ]
  },
  {
   "cell_type": "code",
   "execution_count": null,
   "id": "3bef2637-a581-4eab-bcde-48c08483ca33",
   "metadata": {},
   "outputs": [],
   "source": []
  },
  {
   "cell_type": "code",
   "execution_count": null,
   "id": "57d1c46d-0f1a-4f83-8a20-9050eec9d545",
   "metadata": {},
   "outputs": [],
   "source": []
  },
  {
   "cell_type": "code",
   "execution_count": null,
   "id": "85b9dd3d-6f73-477c-8dea-97775d2f4ac3",
   "metadata": {},
   "outputs": [],
   "source": []
  }
 ],
 "metadata": {
  "kernelspec": {
   "display_name": "Python 3 (ipykernel)",
   "language": "python",
   "name": "python3"
  },
  "language_info": {
   "codemirror_mode": {
    "name": "ipython",
    "version": 3
   },
   "file_extension": ".py",
   "mimetype": "text/x-python",
   "name": "python",
   "nbconvert_exporter": "python",
   "pygments_lexer": "ipython3",
   "version": "3.9.16"
  }
 },
 "nbformat": 4,
 "nbformat_minor": 5
}
