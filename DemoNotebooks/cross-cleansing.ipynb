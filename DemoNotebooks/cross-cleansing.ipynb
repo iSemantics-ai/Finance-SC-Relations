{
 "cells": [
  {
   "cell_type": "markdown",
   "id": "e44017fd-4b49-434f-9503-3090c09592ca",
   "metadata": {},
   "source": [
    "# Read data"
   ]
  },
  {
   "cell_type": "code",
   "execution_count": 2,
   "id": "f8e24371-a495-4892-a12a-5ff06ff933f6",
   "metadata": {},
   "outputs": [
    {
     "name": "stderr",
     "output_type": "stream",
     "text": [
      "[nltk_data] Downloading package words to /root/nltk_data...\n",
      "[nltk_data]   Package words is already up-to-date!\n"
     ]
    },
    {
     "name": "stdout",
     "output_type": "stream",
     "text": [
      "/notebooks/Finance-SC-Relations\n",
      "Torch GPU Exists..\n"
     ]
    }
   ],
   "source": [
    "import sys\n",
    "from pathlib import Path\n",
    "import pandas as pd\n",
    "src_dir = Path.cwd().parent\n",
    "sys.path.append(str(src_dir))\n",
    "from src.data_cleansing.cross_cleaner import CrossCleaner"
   ]
  },
  {
   "cell_type": "code",
   "execution_count": 3,
   "id": "111dfc4e-50fe-49c0-8bc1-a8dbd68dc04d",
   "metadata": {},
   "outputs": [],
   "source": [
    "pd.set_option(\"display.max_colwidth\", None)\n",
    "cross_cleaner = CrossCleaner(\"LLM_ALL_ALIGNED_COMPLEX\")"
   ]
  },
  {
   "cell_type": "code",
   "execution_count": null,
   "id": "a52f74ed-0381-4445-87f8-e4235041c588",
   "metadata": {
    "tags": []
   },
   "outputs": [
    {
     "name": "stdout",
     "output_type": "stream",
     "text": [
      "2023-12-31 08:03:12,476 — 📝 CrossCleaner — INFO — at fold 0 with shape is : (883, 2)\n",
      "2023-12-31 08:03:12,477 — 📝 CrossCleaner — INFO — at fold 1 with shape is : (883, 2)\n",
      "2023-12-31 08:03:12,478 — 📝 CrossCleaner — INFO — at fold 2 with shape is : (883, 2)\n",
      "2023-12-31 08:03:12,479 — 📝 CrossCleaner — INFO — at fold 3 with shape is : (883, 2)\n",
      "2023-12-31 08:03:12,480 — 📝 CrossCleaner — INFO — at fold 4 with shape is : (889, 2)\n"
     ]
    },
    {
     "data": {
      "application/vnd.jupyter.widget-view+json": {
       "model_id": "6be81402aad3416ab47443ca593830be",
       "version_major": 2,
       "version_minor": 0
      },
      "text/plain": [
       "Tagging poles of relations:   0%|          | 0/10657 [00:00<?, ?it/s]"
      ]
     },
     "metadata": {},
     "output_type": "display_data"
    },
    {
     "data": {
      "application/vnd.jupyter.widget-view+json": {
       "model_id": "98fa4d28075e4376b73e7180b029410e",
       "version_major": 2,
       "version_minor": 0
      },
      "text/plain": [
       "Tagging poles of relations:   0%|          | 0/2937 [00:00<?, ?it/s]"
      ]
     },
     "metadata": {},
     "output_type": "display_data"
    },
    {
     "name": "stdout",
     "output_type": "stream",
     "text": [
      "Processing file: train\n"
     ]
    },
    {
     "name": "stderr",
     "output_type": "stream",
     "text": [
      "12/31/2023 08:03:14 AM [INFO]: Duplicating relations with reversed direction.\n"
     ]
    },
    {
     "data": {
      "application/vnd.jupyter.widget-view+json": {
       "model_id": "8c0b1113672141bd9ebf619ea5ea9abb",
       "version_major": 2,
       "version_minor": 0
      },
      "text/plain": [
       "sort dataset by indices:   0%|          | 0/3529 [00:00<?, ?it/s]"
      ]
     },
     "metadata": {},
     "output_type": "display_data"
    },
    {
     "name": "stderr",
     "output_type": "stream",
     "text": [
      "prog-bar: 100%|██████████| 15363/15363 [00:00<00:00, 146432.96it/s]\n",
      "12/31/2023 08:03:16 AM [INFO]: Duplicating relations with reversed direction.\n"
     ]
    },
    {
     "name": "stdout",
     "output_type": "stream",
     "text": [
      "Processing file: test\n"
     ]
    },
    {
     "data": {
      "application/vnd.jupyter.widget-view+json": {
       "model_id": "9f1d05af96994681ad1d91ac4be99b5a",
       "version_major": 2,
       "version_minor": 0
      },
      "text/plain": [
       "sort dataset by indices:   0%|          | 0/880 [00:00<?, ?it/s]"
      ]
     },
     "metadata": {},
     "output_type": "display_data"
    },
    {
     "name": "stderr",
     "output_type": "stream",
     "text": [
      "prog-bar: 100%|██████████| 4235/4235 [00:00<00:00, 148341.68it/s]\n"
     ]
    },
    {
     "data": {
      "application/vnd.jupyter.widget-view+json": {
       "model_id": "b85f7ef842384c5c95797af18398aef3",
       "version_major": 2,
       "version_minor": 0
      },
      "text/plain": [
       "Tagging poles of relations:   0%|          | 0/10573 [00:00<?, ?it/s]"
      ]
     },
     "metadata": {},
     "output_type": "display_data"
    },
    {
     "data": {
      "application/vnd.jupyter.widget-view+json": {
       "model_id": "b0e5d615e8054d358fe0afc556318db6",
       "version_major": 2,
       "version_minor": 0
      },
      "text/plain": [
       "Tagging poles of relations:   0%|          | 0/3021 [00:00<?, ?it/s]"
      ]
     },
     "metadata": {},
     "output_type": "display_data"
    },
    {
     "name": "stdout",
     "output_type": "stream",
     "text": [
      "Processing file: train\n"
     ]
    },
    {
     "name": "stderr",
     "output_type": "stream",
     "text": [
      "12/31/2023 08:03:19 AM [INFO]: Duplicating relations with reversed direction.\n"
     ]
    },
    {
     "data": {
      "application/vnd.jupyter.widget-view+json": {
       "model_id": "97fbfb745abc4774965f9ef67c7302de",
       "version_major": 2,
       "version_minor": 0
      },
      "text/plain": [
       "sort dataset by indices:   0%|          | 0/3531 [00:00<?, ?it/s]"
      ]
     },
     "metadata": {},
     "output_type": "display_data"
    },
    {
     "name": "stderr",
     "output_type": "stream",
     "text": [
      "prog-bar: 100%|██████████| 15306/15306 [00:00<00:00, 148183.92it/s]\n",
      "12/31/2023 08:03:21 AM [INFO]: Duplicating relations with reversed direction.\n"
     ]
    },
    {
     "name": "stdout",
     "output_type": "stream",
     "text": [
      "Processing file: test\n"
     ]
    },
    {
     "data": {
      "application/vnd.jupyter.widget-view+json": {
       "model_id": "c4ed85a2b8a04244ac5f77fc9b33820d",
       "version_major": 2,
       "version_minor": 0
      },
      "text/plain": [
       "sort dataset by indices:   0%|          | 0/878 [00:00<?, ?it/s]"
      ]
     },
     "metadata": {},
     "output_type": "display_data"
    },
    {
     "name": "stderr",
     "output_type": "stream",
     "text": [
      "prog-bar: 100%|██████████| 4292/4292 [00:00<00:00, 139119.72it/s]\n"
     ]
    },
    {
     "data": {
      "application/vnd.jupyter.widget-view+json": {
       "model_id": "a7b0ac8ee5494f3d8820e51ad4e09491",
       "version_major": 2,
       "version_minor": 0
      },
      "text/plain": [
       "Tagging poles of relations:   0%|          | 0/10836 [00:00<?, ?it/s]"
      ]
     },
     "metadata": {},
     "output_type": "display_data"
    },
    {
     "data": {
      "application/vnd.jupyter.widget-view+json": {
       "model_id": "f6f20c1e7e2c4ac587c35e097b707714",
       "version_major": 2,
       "version_minor": 0
      },
      "text/plain": [
       "Tagging poles of relations:   0%|          | 0/2758 [00:00<?, ?it/s]"
      ]
     },
     "metadata": {},
     "output_type": "display_data"
    },
    {
     "name": "stdout",
     "output_type": "stream",
     "text": [
      "Processing file: train\n"
     ]
    },
    {
     "name": "stderr",
     "output_type": "stream",
     "text": [
      "12/31/2023 08:03:24 AM [INFO]: Duplicating relations with reversed direction.\n"
     ]
    },
    {
     "data": {
      "application/vnd.jupyter.widget-view+json": {
       "model_id": "9ec8ab32cf2f4a958a9283af5ce1f6b3",
       "version_major": 2,
       "version_minor": 0
      },
      "text/plain": [
       "sort dataset by indices:   0%|          | 0/3526 [00:00<?, ?it/s]"
      ]
     },
     "metadata": {},
     "output_type": "display_data"
    },
    {
     "name": "stderr",
     "output_type": "stream",
     "text": [
      "prog-bar: 100%|██████████| 15642/15642 [00:00<00:00, 141929.12it/s]\n",
      "12/31/2023 08:03:26 AM [INFO]: Duplicating relations with reversed direction.\n"
     ]
    },
    {
     "name": "stdout",
     "output_type": "stream",
     "text": [
      "Processing file: test\n"
     ]
    },
    {
     "data": {
      "application/vnd.jupyter.widget-view+json": {
       "model_id": "28a3ad6441cc4ffea69400b59a7e2f35",
       "version_major": 2,
       "version_minor": 0
      },
      "text/plain": [
       "sort dataset by indices:   0%|          | 0/883 [00:00<?, ?it/s]"
      ]
     },
     "metadata": {},
     "output_type": "display_data"
    },
    {
     "name": "stderr",
     "output_type": "stream",
     "text": [
      "prog-bar: 100%|██████████| 3956/3956 [00:00<00:00, 144992.63it/s]\n"
     ]
    },
    {
     "data": {
      "application/vnd.jupyter.widget-view+json": {
       "model_id": "3f11c80cef3b47fe990b981bb3ab90a4",
       "version_major": 2,
       "version_minor": 0
      },
      "text/plain": [
       "Tagging poles of relations:   0%|          | 0/11057 [00:00<?, ?it/s]"
      ]
     },
     "metadata": {},
     "output_type": "display_data"
    },
    {
     "data": {
      "application/vnd.jupyter.widget-view+json": {
       "model_id": "ef7bba1853c84c77ba398f19760b84fe",
       "version_major": 2,
       "version_minor": 0
      },
      "text/plain": [
       "Tagging poles of relations:   0%|          | 0/2537 [00:00<?, ?it/s]"
      ]
     },
     "metadata": {},
     "output_type": "display_data"
    },
    {
     "name": "stderr",
     "output_type": "stream",
     "text": [
      "12/31/2023 08:03:29 AM [INFO]: Duplicating relations with reversed direction.\n"
     ]
    },
    {
     "name": "stdout",
     "output_type": "stream",
     "text": [
      "Processing file: train\n"
     ]
    },
    {
     "data": {
      "application/vnd.jupyter.widget-view+json": {
       "model_id": "a832bfc2f5834f7695574006ec013002",
       "version_major": 2,
       "version_minor": 0
      },
      "text/plain": [
       "sort dataset by indices:   0%|          | 0/3527 [00:00<?, ?it/s]"
      ]
     },
     "metadata": {},
     "output_type": "display_data"
    },
    {
     "name": "stderr",
     "output_type": "stream",
     "text": [
      "prog-bar: 100%|██████████| 15891/15891 [00:00<00:00, 142228.49it/s]\n",
      "12/31/2023 08:03:31 AM [INFO]: Duplicating relations with reversed direction.\n"
     ]
    },
    {
     "name": "stdout",
     "output_type": "stream",
     "text": [
      "Processing file: test\n"
     ]
    },
    {
     "data": {
      "application/vnd.jupyter.widget-view+json": {
       "model_id": "0b6aeb76db2b45fe990f693f059db5e3",
       "version_major": 2,
       "version_minor": 0
      },
      "text/plain": [
       "sort dataset by indices:   0%|          | 0/882 [00:00<?, ?it/s]"
      ]
     },
     "metadata": {},
     "output_type": "display_data"
    },
    {
     "name": "stderr",
     "output_type": "stream",
     "text": [
      "prog-bar: 100%|██████████| 3707/3707 [00:00<00:00, 145037.27it/s]\n"
     ]
    },
    {
     "data": {
      "application/vnd.jupyter.widget-view+json": {
       "model_id": "916286c0daa34163babf143e71a67f25",
       "version_major": 2,
       "version_minor": 0
      },
      "text/plain": [
       "Tagging poles of relations:   0%|          | 0/11253 [00:00<?, ?it/s]"
      ]
     },
     "metadata": {},
     "output_type": "display_data"
    }
   ],
   "source": [
    "folds=  cross_cleaner.cross_split(\n",
    "                data_path= \"data/raw/relations_training_data.json\",\n",
    "                n_folds= 5,\n",
    "                stratify_by=\"Label\",\n",
    "                index_col = 'idx',\n",
    "                feature_column = 'sents',\n",
    "                ent1 = 'entity_1',\n",
    "                ent2 = 'entity_2',\n",
    "                label = 'relations',\n",
    "                additional_func = None)\n"
   ]
  },
  {
   "cell_type": "code",
   "execution_count": 3,
   "id": "f8c5583e-2270-4156-85ed-99d953e7c4f5",
   "metadata": {
    "collapsed": true,
    "jupyter": {
     "outputs_hidden": true
    },
    "tags": []
   },
   "outputs": [
    {
     "name": "stdin",
     "output_type": "stream",
     "text": [
      "This Fold </notebooks/inferess-relation-extraction/data/folds/LLM_ALL_ALIGNED_COMPLEX/fold0> have been trained before are you sure you want to continue?!(yes|no|break) no\n",
      "This Fold </notebooks/inferess-relation-extraction/data/folds/LLM_ALL_ALIGNED_COMPLEX/fold4> have been trained before are you sure you want to continue?!(yes|no|break) no\n",
      "This Fold </notebooks/inferess-relation-extraction/data/folds/LLM_ALL_ALIGNED_COMPLEX/fold3> have been trained before are you sure you want to continue?!(yes|no|break) no\n",
      "This Fold </notebooks/inferess-relation-extraction/data/folds/LLM_ALL_ALIGNED_COMPLEX/fold2> have been trained before are you sure you want to continue?!(yes|no|break) no\n"
     ]
    },
    {
     "name": "stderr",
     "output_type": "stream",
     "text": [
      "09/26/2023 11:18:22 AM [INFO]: preprocessing_funcs tokenizer from pre-trained model\n"
     ]
    },
    {
     "name": "stdout",
     "output_type": "stream",
     "text": [
      "\u001b[32m ============================================================ \n",
      " Training Fold With Dir </notebooks/inferess-relation-extraction/data/folds/LLM_ALL_ALIGNED_COMPLEX/fold1> \n",
      " ============================================================ \n",
      " \u001b[39m\n",
      "max_length=113\n"
     ]
    },
    {
     "name": "stderr",
     "output_type": "stream",
     "text": [
      "mutate text: 100%|██████████| 37623/37623 [00:04<00:00, 8619.39it/s]\n",
      "09/26/2023 11:18:29 AM [INFO]: Tokenizing data...\n",
      "tokenization: 100%|██████████| 37623/37623 [00:09<00:00, 3891.75it/s]\n",
      "tags positioning: 100%|██████████| 37623/37623 [00:00<00:00, 80479.06it/s]\n"
     ]
    },
    {
     "name": "stdout",
     "output_type": "stream",
     "text": [
      "\n",
      "Invalid rows/total: 0/37623\n"
     ]
    },
    {
     "name": "stderr",
     "output_type": "stream",
     "text": [
      "mutate text: 100%|██████████| 5968/5968 [00:00<00:00, 7532.80it/s]\n",
      "09/26/2023 11:18:39 AM [INFO]: Tokenizing data...\n",
      "tokenization: 100%|██████████| 5968/5968 [00:01<00:00, 4315.83it/s]\n",
      "tags positioning: 100%|██████████| 5968/5968 [00:00<00:00, 72424.39it/s]\n",
      "09/26/2023 11:18:41 AM [INFO]: Loaded 37623 Training samples.\n"
     ]
    },
    {
     "name": "stdout",
     "output_type": "stream",
     "text": [
      "\n",
      "Invalid rows/total: 0/5968\n"
     ]
    },
    {
     "name": "stderr",
     "output_type": "stream",
     "text": [
      "Some weights of the model checkpoint at nlpaueb/sec-bert-base were not used when initializing BertModel: ['cls.predictions.decoder.weight', 'cls.predictions.transform.dense.weight', 'cls.predictions.transform.dense.bias', 'cls.predictions.decoder.bias', 'cls.seq_relationship.weight', 'cls.predictions.bias', 'cls.predictions.transform.LayerNorm.weight', 'cls.seq_relationship.bias', 'cls.predictions.transform.LayerNorm.bias']\n",
      "- This IS expected if you are initializing BertModel from the checkpoint of a model trained on another task or with another architecture (e.g. initializing a BertForSequenceClassification model from a BertForPreTraining model).\n",
      "- This IS NOT expected if you are initializing BertModel from the checkpoint of a model that you expect to be exactly identical (initializing a BertForSequenceClassification model from a BertForSequenceClassification model).\n",
      "09/26/2023 11:18:45 AM [INFO]: Not Using Weighted Loss\n",
      "09/26/2023 11:18:45 AM [INFO]: start_epoch : 0\tbest_pred : 0\t\n",
      "09/26/2023 11:18:45 AM [INFO]: Using fp16...\n",
      "/notebooks/inferess-relation-extraction/apex/__init__.py:68: DeprecatedFeatureWarning: apex.amp is deprecated and will be removed by the end of February 2023. Use [PyTorch AMP](https://pytorch.org/docs/stable/amp.html)\n",
      "  warnings.warn(msg, DeprecatedFeatureWarning)\n",
      "09/26/2023 11:18:45 AM [INFO]: Starting training process...\n",
      "/notebooks/inferess-relation-extraction/apex/amp/_initialize.py:27: UserWarning: An input tensor was not cuda.\n",
      "  warnings.warn(\"An input tensor was not cuda.\")\n"
     ]
    },
    {
     "name": "stdout",
     "output_type": "stream",
     "text": [
      "Selected optimization level O2:  FP16 training with FP32 batchnorm and FP32 master weights.\n",
      "\n",
      "Defaults for this optimization level are:\n",
      "enabled                : True\n",
      "opt_level              : O2\n",
      "cast_model_type        : torch.float16\n",
      "patch_torch_functions  : False\n",
      "keep_batchnorm_fp32    : True\n",
      "master_weights         : True\n",
      "loss_scale             : dynamic\n",
      "Processing user overrides (additional kwargs that are not None)...\n",
      "After processing overrides, optimization options are:\n",
      "enabled                : True\n",
      "opt_level              : O2\n",
      "cast_model_type        : torch.float16\n",
      "patch_torch_functions  : False\n",
      "keep_batchnorm_fp32    : True\n",
      "master_weights         : True\n",
      "loss_scale             : dynamic\n",
      "Warning:  multi_tensor_applier fused unscale kernel is unavailable, possibly because apex was installed without --cuda_ext --cpp_ext. Using Python fallback.  Original ImportError was: ModuleNotFoundError(\"No module named 'amp_C'\")\n",
      "Gradient overflow.  Skipping step, loss scaler 0 reducing loss scale to 32768.0\n",
      "Gradient overflow.  Skipping step, loss scaler 0 reducing loss scale to 16384.0\n",
      "Gradient overflow.  Skipping step, loss scaler 0 reducing loss scale to 8192.0\n"
     ]
    },
    {
     "name": "stderr",
     "output_type": "stream",
     "text": [
      "09/26/2023 11:18:59 AM [INFO]: [Epoch: 1,  3750/ 37623 points] total loss, accuracy per batch: 0.747, 0.686\n",
      "09/26/2023 11:19:13 AM [INFO]: [Epoch: 1,  7500/ 37623 points] total loss, accuracy per batch: 0.572, 0.771\n",
      "09/26/2023 11:19:27 AM [INFO]: [Epoch: 1, 11250/ 37623 points] total loss, accuracy per batch: 0.392, 0.857\n",
      "09/26/2023 11:19:42 AM [INFO]: [Epoch: 1, 15000/ 37623 points] total loss, accuracy per batch: 0.352, 0.880\n",
      "09/26/2023 11:19:56 AM [INFO]: [Epoch: 1, 18750/ 37623 points] total loss, accuracy per batch: 0.341, 0.882\n",
      "09/26/2023 11:20:10 AM [INFO]: [Epoch: 1, 22500/ 37623 points] total loss, accuracy per batch: 0.319, 0.895\n",
      "09/26/2023 11:20:25 AM [INFO]: [Epoch: 1, 26250/ 37623 points] total loss, accuracy per batch: 0.288, 0.895\n",
      "09/26/2023 11:20:39 AM [INFO]: [Epoch: 1, 30000/ 37623 points] total loss, accuracy per batch: 0.293, 0.906\n",
      "09/26/2023 11:20:53 AM [INFO]: [Epoch: 1, 33750/ 37623 points] total loss, accuracy per batch: 0.200, 0.938\n",
      "09/26/2023 11:21:07 AM [INFO]: [Epoch: 1, 37500/ 37623 points] total loss, accuracy per batch: 0.257, 0.926\n",
      "09/26/2023 11:21:07 AM [INFO]: Evaluating test samples...\n",
      "100%|██████████| 120/120 [00:07<00:00, 16.54it/s]\n",
      "09/26/2023 11:21:15 AM [INFO]: Epoch finished, took 150.12 seconds.\n",
      "09/26/2023 11:21:15 AM [INFO]: Losses at Epoch 1: 0.3763788\n",
      "09/26/2023 11:21:15 AM [INFO]: Train accuracy at Epoch 1: 0.8637600\n",
      "09/26/2023 11:21:15 AM [INFO]: Valid results Epoch 1: {'valid_accuracy': 0.9191, 'valid_f1_macro': 0.9152, 'valid_recall': 0.9192, 'valid_precision': 0.9117, 'other_f1_score': 0.9325, 'supplier_f1_score': 0.8951, 'customer_f1_score': 0.918}\n",
      "09/26/2023 11:21:15 AM [INFO]: Saving new checkpoint, the model score improved from 0 to 0.9152\n",
      "/notebooks/inferess-relation-extraction/apex/amp/_initialize.py:27: UserWarning: An input tensor was not cuda.\n",
      "  warnings.warn(\"An input tensor was not cuda.\")\n",
      "09/26/2023 11:21:30 AM [INFO]: [Epoch: 2,  3750/ 37623 points] total loss, accuracy per batch: 0.264, 0.923\n",
      "09/26/2023 11:21:44 AM [INFO]: [Epoch: 2,  7500/ 37623 points] total loss, accuracy per batch: 0.267, 0.917\n",
      "09/26/2023 11:21:59 AM [INFO]: [Epoch: 2, 11250/ 37623 points] total loss, accuracy per batch: 0.219, 0.925\n",
      "09/26/2023 11:22:14 AM [INFO]: [Epoch: 2, 15000/ 37623 points] total loss, accuracy per batch: 0.182, 0.942\n",
      "09/26/2023 11:22:28 AM [INFO]: [Epoch: 2, 18750/ 37623 points] total loss, accuracy per batch: 0.172, 0.949\n",
      "09/26/2023 11:22:42 AM [INFO]: [Epoch: 2, 22500/ 37623 points] total loss, accuracy per batch: 0.180, 0.951\n",
      "09/26/2023 11:22:57 AM [INFO]: [Epoch: 2, 26250/ 37623 points] total loss, accuracy per batch: 0.140, 0.954\n",
      "09/26/2023 11:23:12 AM [INFO]: [Epoch: 2, 30000/ 37623 points] total loss, accuracy per batch: 0.143, 0.955\n",
      "09/26/2023 11:23:26 AM [INFO]: [Epoch: 2, 33750/ 37623 points] total loss, accuracy per batch: 0.116, 0.969\n",
      "09/26/2023 11:23:40 AM [INFO]: [Epoch: 2, 37500/ 37623 points] total loss, accuracy per batch: 0.098, 0.971\n",
      "09/26/2023 11:23:41 AM [INFO]: Evaluating test samples...\n",
      "100%|██████████| 120/120 [00:07<00:00, 16.17it/s]\n",
      "09/26/2023 11:23:48 AM [INFO]: Epoch finished, took 152.77 seconds.\n",
      "09/26/2023 11:23:48 AM [INFO]: Losses at Epoch 2: 0.1780596\n",
      "09/26/2023 11:23:48 AM [INFO]: Train accuracy at Epoch 2: 0.9455733\n",
      "09/26/2023 11:23:48 AM [INFO]: Valid results Epoch 2: {'valid_accuracy': 0.9217, 'valid_f1_macro': 0.9187, 'valid_recall': 0.9247, 'valid_precision': 0.9137, 'other_f1_score': 0.9326, 'supplier_f1_score': 0.9013, 'customer_f1_score': 0.9222}\n",
      "09/26/2023 11:23:48 AM [INFO]: Saving new checkpoint, the model score improved from 0.9152 to 0.9187\n",
      "/notebooks/inferess-relation-extraction/apex/amp/_initialize.py:27: UserWarning: An input tensor was not cuda.\n",
      "  warnings.warn(\"An input tensor was not cuda.\")\n",
      "09/26/2023 11:24:04 AM [INFO]: [Epoch: 3,  3750/ 37623 points] total loss, accuracy per batch: 0.146, 0.955\n",
      "09/26/2023 11:24:18 AM [INFO]: [Epoch: 3,  7500/ 37623 points] total loss, accuracy per batch: 0.169, 0.950\n",
      "09/26/2023 11:24:32 AM [INFO]: [Epoch: 3, 11250/ 37623 points] total loss, accuracy per batch: 0.094, 0.970\n",
      "09/26/2023 11:24:48 AM [INFO]: [Epoch: 3, 15000/ 37623 points] total loss, accuracy per batch: 0.092, 0.971\n",
      "09/26/2023 11:25:02 AM [INFO]: [Epoch: 3, 18750/ 37623 points] total loss, accuracy per batch: 0.090, 0.970\n",
      "09/26/2023 11:25:16 AM [INFO]: [Epoch: 3, 22500/ 37623 points] total loss, accuracy per batch: 0.107, 0.966\n",
      "09/26/2023 11:25:31 AM [INFO]: [Epoch: 3, 26250/ 37623 points] total loss, accuracy per batch: 0.063, 0.979\n",
      "09/26/2023 11:25:45 AM [INFO]: [Epoch: 3, 30000/ 37623 points] total loss, accuracy per batch: 0.060, 0.982\n",
      "09/26/2023 11:25:59 AM [INFO]: [Epoch: 3, 33750/ 37623 points] total loss, accuracy per batch: 0.048, 0.987\n",
      "09/26/2023 11:26:14 AM [INFO]: [Epoch: 3, 37500/ 37623 points] total loss, accuracy per batch: 0.039, 0.987\n",
      "09/26/2023 11:26:14 AM [INFO]: Evaluating test samples...\n",
      "100%|██████████| 120/120 [00:06<00:00, 17.21it/s]\n",
      "09/26/2023 11:26:21 AM [INFO]: Epoch finished, took 151.93 seconds.\n",
      "09/26/2023 11:26:21 AM [INFO]: Losses at Epoch 3: 0.0908746\n",
      "09/26/2023 11:26:21 AM [INFO]: Train accuracy at Epoch 3: 0.9717867\n",
      "09/26/2023 11:26:21 AM [INFO]: Valid results Epoch 3: {'valid_accuracy': 0.9207, 'valid_f1_macro': 0.9178, 'valid_recall': 0.9196, 'valid_precision': 0.9162, 'other_f1_score': 0.9304, 'supplier_f1_score': 0.9054, 'customer_f1_score': 0.9178}\n"
     ]
    },
    {
     "data": {
      "image/png": "[encoded data removed]",
      "text/plain": [
       "<Figure size 600x600 with 1 Axes>"
      ]
     },
     "metadata": {},
     "output_type": "display_data"
    },
    {
     "data": {
      "image/png": "[encoded data removed]",
      "text/plain": [
       "<Figure size 600x600 with 1 Axes>"
      ]
     },
     "metadata": {},
     "output_type": "display_data"
    },
    {
     "data": {
      "image/png": "[encoded data removed]",
      "text/plain": [
       "<Figure size 600x600 with 1 Axes>"
      ]
     },
     "metadata": {},
     "output_type": "display_data"
    }
   ],
   "source": [
    "cross_cleaner.train_models()"
   ]
  },
  {
   "cell_type": "code",
   "execution_count": 34,
   "id": "14c748c8-ff96-4431-b681-41d57c40daf6",
   "metadata": {
    "collapsed": true,
    "jupyter": {
     "outputs_hidden": true
    },
    "tags": []
   },
   "outputs": [
    {
     "name": "stdout",
     "output_type": "stream",
     "text": [
      "2023-09-26 18:36:40,313 — Evaluate — INFO — Get test data\n",
      "2023-09-26 18:36:40,357 — 🌌 spaCy — INFO — Language model used is None\n"
     ]
    },
    {
     "data": {
      "application/vnd.jupyter.widget-view+json": {
       "model_id": "0ea0fbfe01c0482588bfa02881356ba5",
       "version_major": 2,
       "version_minor": 0
      },
      "text/plain": [
       "Tagging poles of relations:   0%|          | 0/701 [00:00<?, ?it/s]"
      ]
     },
     "metadata": {},
     "output_type": "display_data"
    },
    {
     "name": "stdout",
     "output_type": "stream",
     "text": [
      "Torch GPU Exists..\n",
      "Loading the pretrained model: fold0\n",
      "2023-09-26 18:36:42,594 — 💫 Relations Extractor — INFO — Loading tokenizer and model...\n"
     ]
    },
    {
     "name": "stderr",
     "output_type": "stream",
     "text": [
      "09/26/2023 06:36:44 PM [INFO]: Loaded model.\n"
     ]
    },
    {
     "name": "stdout",
     "output_type": "stream",
     "text": [
      "2023-09-26 18:36:44,027 — 💫 Relations Extractor — INFO — Done!\n"
     ]
    },
    {
     "name": "stderr",
     "output_type": "stream",
     "text": [
      "mutate text: 100%|██████████| 1200/1200 [00:00<00:00, 7553.57it/s]\n",
      "09/26/2023 06:36:44 PM [INFO]: Tokenizing data...\n",
      "tokenization: 100%|██████████| 1200/1200 [00:00<00:00, 5095.00it/s]\n",
      "tags positioning: 100%|██████████| 1200/1200 [00:00<00:00, 67849.78it/s]\n"
     ]
    },
    {
     "name": "stdout",
     "output_type": "stream",
     "text": [
      "\n",
      "Invalid rows/total: 0/1200\n"
     ]
    },
    {
     "name": "stderr",
     "output_type": "stream",
     "text": [
      "100%|██████████| 24/24 [00:03<00:00,  6.85it/s]\n",
      "mutate text: 100%|██████████| 1200/1200 [00:00<00:00, 8735.95it/s]\n",
      "09/26/2023 06:36:48 PM [INFO]: Tokenizing data...\n",
      "tokenization: 100%|██████████| 1200/1200 [00:00<00:00, 5082.99it/s]\n",
      "tags positioning: 100%|██████████| 1200/1200 [00:00<00:00, 82692.55it/s]\n"
     ]
    },
    {
     "name": "stdout",
     "output_type": "stream",
     "text": [
      "\n",
      "Invalid rows/total: 0/1200\n"
     ]
    },
    {
     "name": "stderr",
     "output_type": "stream",
     "text": [
      "100%|██████████| 24/24 [00:03<00:00,  6.91it/s]\n"
     ]
    },
    {
     "name": "stdout",
     "output_type": "stream",
     "text": [
      "The classification report:\n",
      "              precision    recall  f1-score     support\n",
      "customer       0.736111  0.868852  0.796992   61.000000\n",
      "other          0.853786  0.898352  0.875502  364.000000\n",
      "supplier       0.878151  0.779851  0.826087  268.000000\n",
      "accuracy       0.849928  0.849928  0.849928    0.849928\n",
      "macro avg      0.822683  0.849018  0.832860  693.000000\n",
      "weighted avg   0.852850  0.849928  0.849481  693.000000\n",
      "\n",
      "At threshold `0.9` dropped: datapoint=87\n",
      "        frac=0.1255411255411255\n",
      "Classification report for score above threshold:\n",
      "              precision    recall  f1-score     support\n",
      "customer       0.894737  0.879310  0.886957   58.000000\n",
      "other          0.879656  0.935976  0.906942  328.000000\n",
      "supplier       0.895000  0.813636  0.852381  220.000000\n",
      "accuracy       0.886139  0.886139  0.886139    0.886139\n",
      "macro avg      0.889798  0.876307  0.882093  606.000000\n",
      "weighted avg   0.886670  0.886139  0.885222  606.000000\n",
      "\n",
      "\n",
      "At threshold `0.95` dropped: datapoint=107\n",
      "        frac=0.15440115440115443\n",
      "Classification report for score above threshold:\n",
      "              precision    recall  f1-score     support\n",
      "customer       0.910714  0.879310  0.894737   58.000000\n",
      "other          0.891496  0.947040  0.918429  321.000000\n",
      "supplier       0.904762  0.826087  0.863636  207.000000\n",
      "accuracy       0.897611  0.897611  0.897611    0.897611\n",
      "macro avg      0.902324  0.884146  0.892267  586.000000\n",
      "weighted avg   0.898084  0.897611  0.896729  586.000000\n",
      "\n",
      "\n",
      "At threshold `0.99` dropped: datapoint=152\n",
      "        frac=0.21933621933621938\n",
      "Classification report for score above threshold:\n",
      "              precision    recall  f1-score     support\n",
      "customer       0.918367  0.900000  0.909091   50.000000\n",
      "other          0.911392  0.963211  0.936585  299.000000\n",
      "supplier       0.931818  0.854167  0.891304  192.000000\n",
      "accuracy       0.918669  0.918669  0.918669    0.918669\n",
      "macro avg      0.920526  0.905792  0.912327  541.000000\n",
      "weighted avg   0.919286  0.918669  0.917974  541.000000\n",
      "\n",
      "\n",
      "test metrics\n",
      "{'customer': {'precision': 0.7361111111111112, 'recall': 0.8688524590163934, 'f1-score': 0.7969924812030076, 'support': 61}, 'other': {'precision': 0.8537859007832899, 'recall': 0.8983516483516484, 'f1-score': 0.8755020080321286, 'support': 364}, 'supplier': {'precision': 0.8781512605042017, 'recall': 0.7798507462686567, 'f1-score': 0.826086956521739, 'support': 268}, 'accuracy': 0.84992784992785, 'macro avg': {'precision': 0.8226827574662009, 'recall': 0.8490182845455662, 'f1-score': 0.8328604819189586, 'support': 693}, 'weighted avg': {'precision': 0.852850481209266, 'recall': 0.84992784992785, 'f1-score': 0.8494813515510885, 'support': 693}}\n"
     ]
    },
    {
     "data": {
      "image/png": "[encoded data removed]",
      "text/plain": [
       "<Figure size 1000x700 with 2 Axes>"
      ]
     },
     "metadata": {},
     "output_type": "display_data"
    },
    {
     "name": "stdout",
     "output_type": "stream",
     "text": [
      "saving test report\n",
      "Loading the pretrained model: fold4\n",
      "2023-09-26 18:36:52,228 — 💫 Relations Extractor — INFO — Loading tokenizer and model...\n"
     ]
    },
    {
     "name": "stderr",
     "output_type": "stream",
     "text": [
      "09/26/2023 06:36:53 PM [INFO]: Loaded model.\n"
     ]
    },
    {
     "name": "stdout",
     "output_type": "stream",
     "text": [
      "2023-09-26 18:36:53,588 — 💫 Relations Extractor — INFO — Done!\n"
     ]
    },
    {
     "name": "stderr",
     "output_type": "stream",
     "text": [
      "mutate text: 100%|██████████| 1200/1200 [00:00<00:00, 7447.39it/s]\n",
      "09/26/2023 06:36:53 PM [INFO]: Tokenizing data...\n",
      "tokenization: 100%|██████████| 1200/1200 [00:00<00:00, 5187.74it/s]\n",
      "tags positioning: 100%|██████████| 1200/1200 [00:00<00:00, 84980.92it/s]\n"
     ]
    },
    {
     "name": "stdout",
     "output_type": "stream",
     "text": [
      "\n",
      "Invalid rows/total: 0/1200\n"
     ]
    },
    {
     "name": "stderr",
     "output_type": "stream",
     "text": [
      "100%|██████████| 24/24 [00:03<00:00,  6.88it/s]\n",
      "mutate text: 100%|██████████| 1200/1200 [00:00<00:00, 8677.35it/s]\n",
      "09/26/2023 06:36:57 PM [INFO]: Tokenizing data...\n",
      "tokenization: 100%|██████████| 1200/1200 [00:00<00:00, 5232.59it/s]\n",
      "tags positioning: 100%|██████████| 1200/1200 [00:00<00:00, 88545.02it/s]\n"
     ]
    },
    {
     "name": "stdout",
     "output_type": "stream",
     "text": [
      "\n",
      "Invalid rows/total: 0/1200\n"
     ]
    },
    {
     "name": "stderr",
     "output_type": "stream",
     "text": [
      "100%|██████████| 24/24 [00:03<00:00,  6.85it/s]\n"
     ]
    },
    {
     "name": "stdout",
     "output_type": "stream",
     "text": [
      "The classification report:\n",
      "              precision    recall  f1-score     support\n",
      "customer       0.702703  0.852459  0.770370   61.000000\n",
      "other          0.872340  0.901099  0.886486  364.000000\n",
      "supplier       0.868313  0.787313  0.825832  268.000000\n",
      "accuracy       0.852814  0.852814  0.852814    0.852814\n",
      "macro avg      0.814452  0.846957  0.827563  693.000000\n",
      "weighted avg   0.855851  0.852814  0.852809  693.000000\n",
      "\n",
      "At threshold `0.9` dropped: datapoint=108\n",
      "        frac=0.1558441558441559\n",
      "Classification report for score above threshold:\n",
      "              precision    recall  f1-score     support\n",
      "customer       0.824561  0.921569  0.870370   51.000000\n",
      "other          0.899408  0.950000  0.924012  320.000000\n",
      "supplier       0.921053  0.817757  0.866337  214.000000\n",
      "accuracy       0.899145  0.899145  0.899145    0.899145\n",
      "macro avg      0.881674  0.896442  0.886906  585.000000\n",
      "weighted avg   0.900801  0.899145  0.898237  585.000000\n",
      "\n",
      "\n",
      "At threshold `0.95` dropped: datapoint=140\n",
      "        frac=0.202020202020202\n",
      "Classification report for score above threshold:\n",
      "              precision    recall  f1-score     support\n",
      "customer       0.830189  0.916667  0.871287   48.000000\n",
      "other          0.906250  0.960265  0.932476  302.000000\n",
      "supplier       0.938889  0.832512  0.882507  203.000000\n",
      "accuracy       0.909584  0.909584  0.909584    0.909584\n",
      "macro avg      0.891776  0.903148  0.895423  553.000000\n",
      "weighted avg   0.911629  0.909584  0.908822  553.000000\n",
      "\n",
      "\n",
      "At threshold `0.99` dropped: datapoint=207\n",
      "        frac=0.2987012987012987\n",
      "Classification report for score above threshold:\n",
      "              precision    recall  f1-score     support\n",
      "customer       0.904762  0.926829  0.915663   41.000000\n",
      "other          0.917763  0.968750  0.942568  288.000000\n",
      "supplier       0.935714  0.834395  0.882155  157.000000\n",
      "accuracy       0.921811  0.921811  0.921811    0.921811\n",
      "macro avg      0.919413  0.909991  0.913462  486.000000\n",
      "weighted avg   0.922465  0.921811  0.920782  486.000000\n",
      "\n",
      "\n",
      "test metrics\n",
      "{'customer': {'precision': 0.7027027027027027, 'recall': 0.8524590163934426, 'f1-score': 0.7703703703703704, 'support': 61}, 'other': {'precision': 0.8723404255319149, 'recall': 0.9010989010989011, 'f1-score': 0.8864864864864866, 'support': 364}, 'supplier': {'precision': 0.8683127572016461, 'recall': 0.7873134328358209, 'f1-score': 0.8258317025440314, 'support': 268}, 'accuracy': 0.8528138528138528, 'macro avg': {'precision': 0.8144519618120879, 'recall': 0.8469571167760549, 'f1-score': 0.8275628531336294, 'support': 693}, 'weighted avg': {'precision': 0.8558507917583306, 'recall': 0.8528138528138528, 'f1-score': 0.8528089032546524, 'support': 693}}\n"
     ]
    },
    {
     "data": {
      "text/plain": [
       "<Figure size 640x480 with 0 Axes>"
      ]
     },
     "metadata": {},
     "output_type": "display_data"
    },
    {
     "data": {
      "image/png": "[encoded data removed]",
      "text/plain": [
       "<Figure size 1000x700 with 2 Axes>"
      ]
     },
     "metadata": {},
     "output_type": "display_data"
    },
    {
     "name": "stdout",
     "output_type": "stream",
     "text": [
      "saving test report\n",
      "Loading the pretrained model: fold3\n",
      "2023-09-26 18:37:01,679 — 💫 Relations Extractor — INFO — Loading tokenizer and model...\n"
     ]
    },
    {
     "name": "stderr",
     "output_type": "stream",
     "text": [
      "09/26/2023 06:37:03 PM [INFO]: Loaded model.\n"
     ]
    },
    {
     "name": "stdout",
     "output_type": "stream",
     "text": [
      "2023-09-26 18:37:03,047 — 💫 Relations Extractor — INFO — Done!\n"
     ]
    },
    {
     "name": "stderr",
     "output_type": "stream",
     "text": [
      "mutate text: 100%|██████████| 1200/1200 [00:00<00:00, 7212.25it/s]\n",
      "09/26/2023 06:37:03 PM [INFO]: Tokenizing data...\n",
      "tokenization: 100%|██████████| 1200/1200 [00:00<00:00, 5362.66it/s]\n",
      "tags positioning: 100%|██████████| 1200/1200 [00:00<00:00, 86209.42it/s]\n"
     ]
    },
    {
     "name": "stdout",
     "output_type": "stream",
     "text": [
      "\n",
      "Invalid rows/total: 0/1200\n"
     ]
    },
    {
     "name": "stderr",
     "output_type": "stream",
     "text": [
      "100%|██████████| 24/24 [00:03<00:00,  6.79it/s]\n",
      "mutate text: 100%|██████████| 1200/1200 [00:00<00:00, 8450.54it/s]\n",
      "09/26/2023 06:37:07 PM [INFO]: Tokenizing data...\n",
      "tokenization: 100%|██████████| 1200/1200 [00:00<00:00, 4947.78it/s]\n",
      "tags positioning: 100%|██████████| 1200/1200 [00:00<00:00, 79819.29it/s]\n"
     ]
    },
    {
     "name": "stdout",
     "output_type": "stream",
     "text": [
      "\n",
      "Invalid rows/total: 0/1200\n"
     ]
    },
    {
     "name": "stderr",
     "output_type": "stream",
     "text": [
      "100%|██████████| 24/24 [00:03<00:00,  6.77it/s]\n"
     ]
    },
    {
     "name": "stdout",
     "output_type": "stream",
     "text": [
      "The classification report:\n",
      "              precision    recall  f1-score     support\n",
      "customer       0.750000  0.885246  0.812030   61.000000\n",
      "other          0.878628  0.914835  0.896366  364.000000\n",
      "supplier       0.888430  0.802239  0.843137  268.000000\n",
      "accuracy       0.868687  0.868687  0.868687    0.868687\n",
      "macro avg      0.839019  0.867440  0.850511  693.000000\n",
      "weighted avg   0.871096  0.868687  0.868358  693.000000\n",
      "\n",
      "At threshold `0.9` dropped: datapoint=92\n",
      "        frac=0.13275613275613274\n",
      "Classification report for score above threshold:\n",
      "              precision    recall  f1-score     support\n",
      "customer       0.872727  0.888889  0.880734   54.000000\n",
      "other          0.906061  0.943218  0.924266  317.000000\n",
      "supplier       0.916667  0.860870  0.887892  230.000000\n",
      "accuracy       0.906822  0.906822  0.906822    0.906822\n",
      "macro avg      0.898485  0.897659  0.897631  601.000000\n",
      "weighted avg   0.907124  0.906822  0.906435  601.000000\n",
      "\n",
      "\n",
      "At threshold `0.95` dropped: datapoint=126\n",
      "        frac=0.18181818181818177\n",
      "Classification report for score above threshold:\n",
      "              precision    recall  f1-score     support\n",
      "customer       0.880000  0.916667  0.897959   48.000000\n",
      "other          0.926984  0.954248  0.940419  306.000000\n",
      "supplier       0.925743  0.877934  0.901205  213.000000\n",
      "accuracy       0.922399  0.922399  0.922399    0.922399\n",
      "macro avg      0.910909  0.916283  0.913194  567.000000\n",
      "weighted avg   0.922540  0.922399  0.922093  567.000000\n",
      "\n",
      "\n",
      "At threshold `0.99` dropped: datapoint=183\n",
      "        frac=0.2640692640692641\n",
      "Classification report for score above threshold:\n",
      "              precision    recall  f1-score     support\n",
      "customer       0.900000  0.923077  0.911392   39.000000\n",
      "other          0.936455  0.972222  0.954003  288.000000\n",
      "supplier       0.941520  0.879781  0.909605  183.000000\n",
      "accuracy       0.935294  0.935294  0.935294    0.935294\n",
      "macro avg      0.925992  0.925027  0.925000  510.000000\n",
      "weighted avg   0.935485  0.935294  0.934814  510.000000\n",
      "\n",
      "\n",
      "test metrics\n",
      "{'customer': {'precision': 0.75, 'recall': 0.8852459016393442, 'f1-score': 0.8120300751879699, 'support': 61}, 'other': {'precision': 0.8786279683377308, 'recall': 0.9148351648351648, 'f1-score': 0.8963660834454912, 'support': 364}, 'supplier': {'precision': 0.8884297520661157, 'recall': 0.8022388059701493, 'f1-score': 0.8431372549019609, 'support': 268}, 'accuracy': 0.8686868686868687, 'macro avg': {'precision': 0.8390192401346154, 'recall': 0.8674399574815528, 'f1-score': 0.8505111378451407, 'support': 693}, 'weighted avg': {'precision': 0.8710963261596726, 'recall': 0.8686868686868687, 'f1-score': 0.8683576814925694, 'support': 693}}\n"
     ]
    },
    {
     "data": {
      "text/plain": [
       "<Figure size 640x480 with 0 Axes>"
      ]
     },
     "metadata": {},
     "output_type": "display_data"
    },
    {
     "data": {
      "image/png": "[encoded data removed]",
      "text/plain": [
       "<Figure size 1000x700 with 2 Axes>"
      ]
     },
     "metadata": {},
     "output_type": "display_data"
    },
    {
     "name": "stdout",
     "output_type": "stream",
     "text": [
      "saving test report\n",
      "Loading the pretrained model: fold2\n",
      "2023-09-26 18:37:11,220 — 💫 Relations Extractor — INFO — Loading tokenizer and model...\n"
     ]
    },
    {
     "name": "stderr",
     "output_type": "stream",
     "text": [
      "09/26/2023 06:37:12 PM [INFO]: Loaded model.\n"
     ]
    },
    {
     "name": "stdout",
     "output_type": "stream",
     "text": [
      "2023-09-26 18:37:12,576 — 💫 Relations Extractor — INFO — Done!\n"
     ]
    },
    {
     "name": "stderr",
     "output_type": "stream",
     "text": [
      "mutate text: 100%|██████████| 1200/1200 [00:00<00:00, 7422.22it/s]\n",
      "09/26/2023 06:37:12 PM [INFO]: Tokenizing data...\n",
      "tokenization: 100%|██████████| 1200/1200 [00:00<00:00, 5087.83it/s]\n",
      "tags positioning: 100%|██████████| 1200/1200 [00:00<00:00, 85960.60it/s]\n"
     ]
    },
    {
     "name": "stdout",
     "output_type": "stream",
     "text": [
      "\n",
      "Invalid rows/total: 0/1200\n"
     ]
    },
    {
     "name": "stderr",
     "output_type": "stream",
     "text": [
      "100%|██████████| 24/24 [00:03<00:00,  6.82it/s]\n",
      "mutate text: 100%|██████████| 1200/1200 [00:00<00:00, 8844.08it/s]\n",
      "09/26/2023 06:37:16 PM [INFO]: Tokenizing data...\n",
      "tokenization: 100%|██████████| 1200/1200 [00:00<00:00, 5234.31it/s]\n",
      "tags positioning: 100%|██████████| 1200/1200 [00:00<00:00, 87693.44it/s]\n"
     ]
    },
    {
     "name": "stdout",
     "output_type": "stream",
     "text": [
      "\n",
      "Invalid rows/total: 0/1200\n"
     ]
    },
    {
     "name": "stderr",
     "output_type": "stream",
     "text": [
      "100%|██████████| 24/24 [00:03<00:00,  6.76it/s]\n"
     ]
    },
    {
     "name": "stdout",
     "output_type": "stream",
     "text": [
      "The classification report:\n",
      "              precision    recall  f1-score     support\n",
      "customer       0.712121  0.770492  0.740157   61.000000\n",
      "other          0.861979  0.909341  0.885027  364.000000\n",
      "supplier       0.864198  0.783582  0.821918  268.000000\n",
      "accuracy       0.848485  0.848485  0.848485    0.848485\n",
      "macro avg      0.812766  0.821138  0.815701  693.000000\n",
      "weighted avg   0.849646  0.848485  0.847869  693.000000\n",
      "\n",
      "At threshold `0.9` dropped: datapoint=88\n",
      "        frac=0.12698412698412698\n",
      "Classification report for score above threshold:\n",
      "              precision    recall  f1-score     support\n",
      "customer       0.824561  0.824561  0.824561   57.000000\n",
      "other          0.894737  0.956250  0.924471  320.000000\n",
      "supplier       0.917476  0.828947  0.870968  228.000000\n",
      "accuracy       0.895868  0.895868  0.895868    0.895868\n",
      "macro avg      0.878925  0.869920  0.873333  605.000000\n",
      "weighted avg   0.896695  0.895868  0.894895  605.000000\n",
      "\n",
      "\n",
      "At threshold `0.95` dropped: datapoint=106\n",
      "        frac=0.15295815295815296\n",
      "Classification report for score above threshold:\n",
      "              precision    recall  f1-score     support\n",
      "customer       0.836364  0.821429  0.828829   56.000000\n",
      "other          0.903904  0.961661  0.931889  313.000000\n",
      "supplier       0.919598  0.839450  0.877698  218.000000\n",
      "accuracy       0.902896  0.902896  0.902896    0.902896\n",
      "macro avg      0.886622  0.874180  0.879472  587.000000\n",
      "weighted avg   0.903289  0.902896  0.901931  587.000000\n",
      "\n",
      "\n",
      "At threshold `0.99` dropped: datapoint=168\n",
      "        frac=0.24242424242424243\n",
      "Classification report for score above threshold:\n",
      "              precision    recall  f1-score     support\n",
      "customer       0.843137  0.895833  0.868687   48.000000\n",
      "other          0.962585  0.969178  0.965870  292.000000\n",
      "supplier       0.927778  0.902703  0.915068  185.000000\n",
      "accuracy       0.939048  0.939048  0.939048    0.939048\n",
      "macro avg      0.911167  0.922571  0.916542  525.000000\n",
      "weighted avg   0.939399  0.939048  0.939083  525.000000\n",
      "\n",
      "\n",
      "test metrics\n",
      "{'customer': {'precision': 0.7121212121212122, 'recall': 0.7704918032786885, 'f1-score': 0.7401574803149605, 'support': 61}, 'other': {'precision': 0.8619791666666666, 'recall': 0.9093406593406593, 'f1-score': 0.8850267379679144, 'support': 364}, 'supplier': {'precision': 0.8641975308641975, 'recall': 0.7835820895522388, 'f1-score': 0.8219178082191781, 'support': 268}, 'accuracy': 0.8484848484848485, 'macro avg': {'precision': 0.8127659698840254, 'recall': 0.8211381840571956, 'f1-score': 0.8157006755006844, 'support': 693}, 'weighted avg': {'precision': 0.8496461022765736, 'recall': 0.8484848484848485, 'f1-score': 0.8478691363957765, 'support': 693}}\n"
     ]
    },
    {
     "data": {
      "text/plain": [
       "<Figure size 640x480 with 0 Axes>"
      ]
     },
     "metadata": {},
     "output_type": "display_data"
    },
    {
     "data": {
      "image/png": "[encoded data removed]",
      "text/plain": [
       "<Figure size 1000x700 with 2 Axes>"
      ]
     },
     "metadata": {},
     "output_type": "display_data"
    },
    {
     "name": "stdout",
     "output_type": "stream",
     "text": [
      "saving test report\n",
      "Loading the pretrained model: fold1\n",
      "2023-09-26 18:37:20,734 — 💫 Relations Extractor — INFO — Loading tokenizer and model...\n"
     ]
    },
    {
     "name": "stderr",
     "output_type": "stream",
     "text": [
      "09/26/2023 06:37:22 PM [INFO]: Loaded model.\n"
     ]
    },
    {
     "name": "stdout",
     "output_type": "stream",
     "text": [
      "2023-09-26 18:37:22,102 — 💫 Relations Extractor — INFO — Done!\n"
     ]
    },
    {
     "name": "stderr",
     "output_type": "stream",
     "text": [
      "mutate text: 100%|██████████| 1200/1200 [00:00<00:00, 7615.25it/s]\n",
      "09/26/2023 06:37:22 PM [INFO]: Tokenizing data...\n",
      "tokenization: 100%|██████████| 1200/1200 [00:00<00:00, 5227.83it/s]\n",
      "tags positioning: 100%|██████████| 1200/1200 [00:00<00:00, 87014.24it/s]\n"
     ]
    },
    {
     "name": "stdout",
     "output_type": "stream",
     "text": [
      "\n",
      "Invalid rows/total: 0/1200\n"
     ]
    },
    {
     "name": "stderr",
     "output_type": "stream",
     "text": [
      "100%|██████████| 24/24 [00:03<00:00,  6.75it/s]\n",
      "mutate text: 100%|██████████| 1200/1200 [00:00<00:00, 8334.89it/s]\n",
      "09/26/2023 06:37:26 PM [INFO]: Tokenizing data...\n",
      "tokenization: 100%|██████████| 1200/1200 [00:00<00:00, 5239.25it/s]\n",
      "tags positioning: 100%|██████████| 1200/1200 [00:00<00:00, 82977.48it/s]\n"
     ]
    },
    {
     "name": "stdout",
     "output_type": "stream",
     "text": [
      "\n",
      "Invalid rows/total: 0/1200\n"
     ]
    },
    {
     "name": "stderr",
     "output_type": "stream",
     "text": [
      "100%|██████████| 24/24 [00:03<00:00,  6.69it/s]\n"
     ]
    },
    {
     "name": "stdout",
     "output_type": "stream",
     "text": [
      "The classification report:\n",
      "              precision    recall  f1-score     support\n",
      "customer       0.765625  0.803279  0.784000   61.000000\n",
      "other          0.824000  0.848901  0.836265  364.000000\n",
      "supplier       0.783465  0.742537  0.762452  268.000000\n",
      "accuracy       0.803752  0.803752  0.803752    0.803752\n",
      "macro avg      0.791030  0.798239  0.794239  693.000000\n",
      "weighted avg   0.803186  0.803752  0.803119  693.000000\n",
      "\n",
      "At threshold `0.9` dropped: datapoint=84\n",
      "        frac=0.12121212121212122\n",
      "Classification report for score above threshold:\n",
      "              precision    recall  f1-score    support\n",
      "customer       0.875000  0.823529  0.848485   51.00000\n",
      "other          0.851852  0.892537  0.871720  335.00000\n",
      "supplier       0.809524  0.762332  0.785219  223.00000\n",
      "accuracy       0.839080  0.839080  0.839080    0.83908\n",
      "macro avg      0.845459  0.826133  0.835141  609.00000\n",
      "weighted avg   0.838291  0.839080  0.838100  609.00000\n",
      "\n",
      "\n",
      "At threshold `0.95` dropped: datapoint=110\n",
      "        frac=0.15873015873015872\n",
      "Classification report for score above threshold:\n",
      "              precision    recall  f1-score     support\n",
      "customer       0.886364  0.847826  0.866667   46.000000\n",
      "other          0.857558  0.907692  0.881913  325.000000\n",
      "supplier       0.830769  0.764151  0.796069  212.000000\n",
      "accuracy       0.850772  0.850772  0.850772    0.850772\n",
      "macro avg      0.858230  0.839890  0.848216  583.000000\n",
      "weighted avg   0.850090  0.850772  0.849494  583.000000\n",
      "\n",
      "\n",
      "At threshold `0.99` dropped: datapoint=183\n",
      "        frac=0.2640692640692641\n",
      "Classification report for score above threshold:\n",
      "              precision    recall  f1-score     support\n",
      "customer       0.970588  0.891892  0.929577   37.000000\n",
      "other          0.879630  0.956376  0.916399  298.000000\n",
      "supplier       0.907895  0.788571  0.844037  175.000000\n",
      "accuracy       0.894118  0.894118  0.894118    0.894118\n",
      "macro avg      0.919371  0.878946  0.896671  510.000000\n",
      "weighted avg   0.895927  0.894118  0.892525  510.000000\n",
      "\n",
      "\n",
      "test metrics\n",
      "{'customer': {'precision': 0.765625, 'recall': 0.8032786885245902, 'f1-score': 0.784, 'support': 61}, 'other': {'precision': 0.824, 'recall': 0.8489010989010989, 'f1-score': 0.8362652232746954, 'support': 364}, 'supplier': {'precision': 0.7834645669291339, 'recall': 0.7425373134328358, 'f1-score': 0.7624521072796936, 'support': 268}, 'accuracy': 0.8037518037518038, 'macro avg': {'precision': 0.7910298556430445, 'recall': 0.7982390336195082, 'f1-score': 0.7942391101847964, 'support': 693}, 'weighted avg': {'precision': 0.803185611741714, 'recall': 0.8037518037518038, 'f1-score': 0.8031193449104576, 'support': 693}}\n"
     ]
    },
    {
     "data": {
      "text/plain": [
       "<Figure size 640x480 with 0 Axes>"
      ]
     },
     "metadata": {},
     "output_type": "display_data"
    },
    {
     "data": {
      "image/png": "[encoded data removed]",
      "text/plain": [
       "<Figure size 1000x700 with 2 Axes>"
      ]
     },
     "metadata": {},
     "output_type": "display_data"
    },
    {
     "name": "stdout",
     "output_type": "stream",
     "text": [
      "saving test report\n"
     ]
    },
    {
     "data": {
      "text/plain": [
       "<Figure size 640x480 with 0 Axes>"
      ]
     },
     "metadata": {},
     "output_type": "display_data"
    }
   ],
   "source": [
    "cross_cleaner.cross_evaluation()"
   ]
  },
  {
   "cell_type": "code",
   "execution_count": 71,
   "id": "10e79c93-1a3c-4719-9d40-29376c3db24f",
   "metadata": {
    "collapsed": true,
    "jupyter": {
     "outputs_hidden": true
    },
    "tags": []
   },
   "outputs": [
    {
     "name": "stdout",
     "output_type": "stream",
     "text": [
      "Torch GPU Exists..\n",
      "2023-09-26 18:59:10,205 — 📝 CrossCleaner — INFO — Process fold0...\n",
      "2023-09-26 18:59:10,300 — 📝 CrossCleaner — INFO — before augmentation (4620, 10)\n",
      "2023-09-26 18:59:10,301 — 📝 CrossCleaner — INFO — reverse main relations\n",
      "2023-09-26 18:59:10,328 — 📝 CrossCleaner — INFO — augmenations shape (1505, 10)\n",
      "2023-09-26 18:59:10,340 — 📝 CrossCleaner — INFO — after augmentation (6125, 10)\n",
      "2023-09-26 18:59:10,341 — 💫 Relations Extractor — INFO — Loading tokenizer and model...\n"
     ]
    },
    {
     "name": "stderr",
     "output_type": "stream",
     "text": [
      "09/26/2023 06:59:11 PM [INFO]: Loaded model.\n"
     ]
    },
    {
     "name": "stdout",
     "output_type": "stream",
     "text": [
      "2023-09-26 18:59:11,797 — 💫 Relations Extractor — INFO — Done!\n"
     ]
    },
    {
     "name": "stderr",
     "output_type": "stream",
     "text": [
      "mutate text: 100%|██████████| 6125/6125 [00:00<00:00, 7002.74it/s]\n",
      "09/26/2023 06:59:12 PM [INFO]: Tokenizing data...\n",
      "tokenization: 100%|██████████| 6125/6125 [00:00<00:00, 6362.99it/s]\n",
      "tags positioning: 100%|██████████| 6125/6125 [00:00<00:00, 83691.23it/s]\n"
     ]
    },
    {
     "name": "stdout",
     "output_type": "stream",
     "text": [
      "\n",
      "Invalid rows/total: 0/6125\n"
     ]
    },
    {
     "name": "stderr",
     "output_type": "stream",
     "text": [
      "100%|██████████| 383/383 [00:14<00:00, 25.60it/s]\n",
      "mutate text: 100%|██████████| 6125/6125 [00:00<00:00, 6891.61it/s]\n",
      "09/26/2023 06:59:29 PM [INFO]: Tokenizing data...\n",
      "tokenization: 100%|██████████| 6125/6125 [00:00<00:00, 6397.90it/s]\n",
      "tags positioning: 100%|██████████| 6125/6125 [00:00<00:00, 89323.05it/s]\n"
     ]
    },
    {
     "name": "stdout",
     "output_type": "stream",
     "text": [
      "\n",
      "Invalid rows/total: 0/6125\n"
     ]
    },
    {
     "name": "stderr",
     "output_type": "stream",
     "text": [
      "100%|██████████| 383/383 [00:15<00:00, 25.23it/s]\n"
     ]
    },
    {
     "name": "stdout",
     "output_type": "stream",
     "text": [
      "2023-09-26 18:59:46,116 — 📝 CrossCleaner — INFO — Process fold4...\n",
      "2023-09-26 18:59:46,189 — 📝 CrossCleaner — INFO — before augmentation (3489, 10)\n",
      "2023-09-26 18:59:46,190 — 📝 CrossCleaner — INFO — reverse main relations\n",
      "2023-09-26 18:59:46,210 — 📝 CrossCleaner — INFO — augmenations shape (1226, 10)\n",
      "2023-09-26 18:59:46,214 — 📝 CrossCleaner — INFO — after augmentation (4715, 10)\n",
      "2023-09-26 18:59:46,215 — 💫 Relations Extractor — INFO — Loading tokenizer and model...\n"
     ]
    },
    {
     "name": "stderr",
     "output_type": "stream",
     "text": [
      "09/26/2023 06:59:47 PM [INFO]: Loaded model.\n"
     ]
    },
    {
     "name": "stdout",
     "output_type": "stream",
     "text": [
      "2023-09-26 18:59:47,651 — 💫 Relations Extractor — INFO — Done!\n"
     ]
    },
    {
     "name": "stderr",
     "output_type": "stream",
     "text": [
      "mutate text: 100%|██████████| 4715/4715 [00:00<00:00, 7989.28it/s]\n",
      "09/26/2023 06:59:48 PM [INFO]: Tokenizing data...\n",
      "tokenization: 100%|██████████| 4715/4715 [00:01<00:00, 4392.79it/s]\n",
      "tags positioning: 100%|██████████| 4715/4715 [00:00<00:00, 80975.76it/s]\n"
     ]
    },
    {
     "name": "stdout",
     "output_type": "stream",
     "text": [
      "\n",
      "Invalid rows/total: 0/4715\n"
     ]
    },
    {
     "name": "stderr",
     "output_type": "stream",
     "text": [
      "100%|██████████| 295/295 [00:16<00:00, 18.08it/s]\n",
      "mutate text: 100%|██████████| 4715/4715 [00:00<00:00, 7896.58it/s]\n",
      "09/26/2023 07:00:06 PM [INFO]: Tokenizing data...\n",
      "tokenization: 100%|██████████| 4715/4715 [00:01<00:00, 4123.08it/s]\n",
      "tags positioning: 100%|██████████| 4715/4715 [00:00<00:00, 73166.66it/s]\n"
     ]
    },
    {
     "name": "stdout",
     "output_type": "stream",
     "text": [
      "\n",
      "Invalid rows/total: 0/4715\n"
     ]
    },
    {
     "name": "stderr",
     "output_type": "stream",
     "text": [
      "100%|██████████| 295/295 [00:16<00:00, 17.89it/s]\n"
     ]
    },
    {
     "name": "stdout",
     "output_type": "stream",
     "text": [
      "2023-09-26 19:00:24,267 — 📝 CrossCleaner — INFO — Process fold3...\n",
      "2023-09-26 19:00:24,346 — 📝 CrossCleaner — INFO — before augmentation (3748, 10)\n",
      "2023-09-26 19:00:24,347 — 📝 CrossCleaner — INFO — reverse main relations\n",
      "2023-09-26 19:00:24,366 — 📝 CrossCleaner — INFO — augmenations shape (1269, 10)\n",
      "2023-09-26 19:00:24,370 — 📝 CrossCleaner — INFO — after augmentation (5017, 10)\n",
      "2023-09-26 19:00:24,371 — 💫 Relations Extractor — INFO — Loading tokenizer and model...\n"
     ]
    },
    {
     "name": "stderr",
     "output_type": "stream",
     "text": [
      "09/26/2023 07:00:25 PM [INFO]: Loaded model.\n"
     ]
    },
    {
     "name": "stdout",
     "output_type": "stream",
     "text": [
      "2023-09-26 19:00:25,692 — 💫 Relations Extractor — INFO — Done!\n"
     ]
    },
    {
     "name": "stderr",
     "output_type": "stream",
     "text": [
      "mutate text: 100%|██████████| 5017/5017 [00:00<00:00, 7649.97it/s]\n",
      "09/26/2023 07:00:26 PM [INFO]: Tokenizing data...\n",
      "tokenization: 100%|██████████| 5017/5017 [00:01<00:00, 4001.02it/s]\n",
      "tags positioning: 100%|██████████| 5017/5017 [00:00<00:00, 70651.20it/s]\n"
     ]
    },
    {
     "name": "stdout",
     "output_type": "stream",
     "text": [
      "\n",
      "Invalid rows/total: 0/5017\n"
     ]
    },
    {
     "name": "stderr",
     "output_type": "stream",
     "text": [
      "100%|██████████| 314/314 [00:17<00:00, 17.64it/s]\n",
      "mutate text: 100%|██████████| 5017/5017 [00:00<00:00, 7489.62it/s]\n",
      "09/26/2023 07:00:46 PM [INFO]: Tokenizing data...\n",
      "tokenization: 100%|██████████| 5017/5017 [00:01<00:00, 4040.70it/s]\n",
      "tags positioning: 100%|██████████| 5017/5017 [00:00<00:00, 76701.49it/s]\n"
     ]
    },
    {
     "name": "stdout",
     "output_type": "stream",
     "text": [
      "\n",
      "Invalid rows/total: 0/5017\n"
     ]
    },
    {
     "name": "stderr",
     "output_type": "stream",
     "text": [
      "100%|██████████| 314/314 [00:17<00:00, 17.52it/s]\n"
     ]
    },
    {
     "name": "stdout",
     "output_type": "stream",
     "text": [
      "2023-09-26 19:01:05,675 — 📝 CrossCleaner — INFO — Process fold2...\n",
      "2023-09-26 19:01:05,771 — 📝 CrossCleaner — INFO — before augmentation (4130, 10)\n",
      "2023-09-26 19:01:05,772 — 📝 CrossCleaner — INFO — reverse main relations\n",
      "2023-09-26 19:01:05,793 — 📝 CrossCleaner — INFO — augmenations shape (1417, 10)\n",
      "2023-09-26 19:01:05,797 — 📝 CrossCleaner — INFO — after augmentation (5547, 10)\n",
      "2023-09-26 19:01:05,798 — 💫 Relations Extractor — INFO — Loading tokenizer and model...\n"
     ]
    },
    {
     "name": "stderr",
     "output_type": "stream",
     "text": [
      "09/26/2023 07:01:07 PM [INFO]: Loaded model.\n"
     ]
    },
    {
     "name": "stdout",
     "output_type": "stream",
     "text": [
      "2023-09-26 19:01:07,264 — 💫 Relations Extractor — INFO — Done!\n"
     ]
    },
    {
     "name": "stderr",
     "output_type": "stream",
     "text": [
      "mutate text: 100%|██████████| 5547/5547 [00:00<00:00, 6735.30it/s]\n",
      "09/26/2023 07:01:08 PM [INFO]: Tokenizing data...\n",
      "tokenization: 100%|██████████| 5547/5547 [00:01<00:00, 4436.20it/s]\n",
      "tags positioning: 100%|██████████| 5547/5547 [00:00<00:00, 79019.28it/s]\n"
     ]
    },
    {
     "name": "stdout",
     "output_type": "stream",
     "text": [
      "\n",
      "Invalid rows/total: 0/5547\n"
     ]
    },
    {
     "name": "stderr",
     "output_type": "stream",
     "text": [
      "100%|██████████| 347/347 [00:16<00:00, 21.28it/s]\n",
      "mutate text: 100%|██████████| 5547/5547 [00:00<00:00, 8639.92it/s]\n",
      "09/26/2023 07:01:26 PM [INFO]: Tokenizing data...\n",
      "tokenization: 100%|██████████| 5547/5547 [00:01<00:00, 5544.93it/s]\n",
      "tags positioning: 100%|██████████| 5547/5547 [00:00<00:00, 79330.75it/s]\n"
     ]
    },
    {
     "name": "stdout",
     "output_type": "stream",
     "text": [
      "\n",
      "Invalid rows/total: 0/5547\n"
     ]
    },
    {
     "name": "stderr",
     "output_type": "stream",
     "text": [
      "100%|██████████| 347/347 [00:16<00:00, 21.06it/s]\n"
     ]
    },
    {
     "name": "stdout",
     "output_type": "stream",
     "text": [
      "2023-09-26 19:01:44,206 — 📝 CrossCleaner — INFO — Process fold1...\n",
      "2023-09-26 19:01:44,296 — 📝 CrossCleaner — INFO — before augmentation (4451, 10)\n",
      "2023-09-26 19:01:44,297 — 📝 CrossCleaner — INFO — reverse main relations\n",
      "2023-09-26 19:01:44,317 — 📝 CrossCleaner — INFO — augmenations shape (1517, 10)\n",
      "2023-09-26 19:01:44,321 — 📝 CrossCleaner — INFO — after augmentation (5968, 10)\n",
      "2023-09-26 19:01:44,322 — 💫 Relations Extractor — INFO — Loading tokenizer and model...\n"
     ]
    },
    {
     "name": "stderr",
     "output_type": "stream",
     "text": [
      "09/26/2023 07:01:45 PM [INFO]: Loaded model.\n"
     ]
    },
    {
     "name": "stdout",
     "output_type": "stream",
     "text": [
      "2023-09-26 19:01:45,698 — 💫 Relations Extractor — INFO — Done!\n"
     ]
    },
    {
     "name": "stderr",
     "output_type": "stream",
     "text": [
      "mutate text: 100%|██████████| 5968/5968 [00:00<00:00, 7482.66it/s]\n",
      "09/26/2023 07:01:46 PM [INFO]: Tokenizing data...\n",
      "tokenization: 100%|██████████| 5968/5968 [00:01<00:00, 5705.14it/s]\n",
      "tags positioning: 100%|██████████| 5968/5968 [00:00<00:00, 85458.65it/s]\n"
     ]
    },
    {
     "name": "stdout",
     "output_type": "stream",
     "text": [
      "\n",
      "Invalid rows/total: 0/5968\n"
     ]
    },
    {
     "name": "stderr",
     "output_type": "stream",
     "text": [
      "100%|██████████| 373/373 [00:16<00:00, 22.49it/s]\n",
      "mutate text: 100%|██████████| 5968/5968 [00:00<00:00, 7484.95it/s]\n",
      "09/26/2023 07:02:05 PM [INFO]: Tokenizing data...\n",
      "tokenization: 100%|██████████| 5968/5968 [00:01<00:00, 5548.40it/s]\n",
      "tags positioning: 100%|██████████| 5968/5968 [00:00<00:00, 81558.49it/s]\n"
     ]
    },
    {
     "name": "stdout",
     "output_type": "stream",
     "text": [
      "\n",
      "Invalid rows/total: 0/5968\n"
     ]
    },
    {
     "name": "stderr",
     "output_type": "stream",
     "text": [
      "100%|██████████| 373/373 [00:17<00:00, 21.93it/s]\n"
     ]
    },
    {
     "name": "stdout",
     "output_type": "stream",
     "text": [
      "Finding label issues ...\n",
      "Finding outlier issues ...\n",
      "Fitting OOD estimator based on provided pred_probs ...\n",
      "\n",
      "Audit complete. 1420 issues found in the dataset.\n",
      "2023-09-26 19:02:29,973 — 📝 CrossCleaner — INFO — issues distribution:\n",
      "other       699\n",
      "customer    321\n",
      "supplier    305\n",
      "Name: relations, dtype: int64\n"
     ]
    },
    {
     "name": "stderr",
     "output_type": "stream",
     "text": [
      "/tmp/ipykernel_880/1225595861.py:524: SettingWithCopyWarning: \n",
      "A value is trying to be set on a copy of a slice from a DataFrame.\n",
      "Try using .loc[row_indexer,col_indexer] = value instead\n",
      "\n",
      "See the caveats in the documentation: https://pandas.pydata.org/pandas-docs/stable/user_guide/indexing.html#returning-a-view-versus-a-copy\n",
      "  data_issues['label_score'] = examples_w_issue.label_score\n"
     ]
    }
   ],
   "source": [
    "data = cross_cleaner.generate_issues_report()"
   ]
  },
  {
   "cell_type": "code",
   "execution_count": 72,
   "id": "1c746e2d-ed5d-4095-a9ae-6aa6753ebc33",
   "metadata": {},
   "outputs": [],
   "source": [
    "issues = pd.read_json(cross_cleaner._models_dir / \"issues_report.json\")"
   ]
  },
  {
   "cell_type": "code",
   "execution_count": 73,
   "id": "6e2391ef-58b8-4c01-825b-461185845582",
   "metadata": {},
   "outputs": [
    {
     "data": {
      "text/plain": [
       "(683,)"
      ]
     },
     "execution_count": 73,
     "metadata": {},
     "output_type": "execute_result"
    }
   ],
   "source": [
    "issues.idx.unique().shape"
   ]
  },
  {
   "cell_type": "code",
   "execution_count": 74,
   "id": "72d934fe-21b8-4b17-9b82-7a95a185080a",
   "metadata": {},
   "outputs": [
    {
     "data": {
      "text/plain": [
       "<AxesSubplot: ylabel='Frequency'>"
      ]
     },
     "execution_count": 74,
     "metadata": {},
     "output_type": "execute_result"
    },
    {
     "data": {
      "image/png": "[encoded data removed]",
      "text/plain": [
       "<Figure size 640x480 with 1 Axes>"
      ]
     },
     "metadata": {},
     "output_type": "display_data"
    }
   ],
   "source": [
    "issues['label_score'].plot(kind='hist', bins=200)"
   ]
  },
  {
   "cell_type": "code",
   "execution_count": 75,
   "id": "a83efd48-e7ce-4847-9891-d5c3b3d38a68",
   "metadata": {
    "tags": []
   },
   "outputs": [
    {
     "data": {
      "text/html": [
       "<div>\n",
       "<style scoped>\n",
       "    .dataframe tbody tr th:only-of-type {\n",
       "        vertical-align: middle;\n",
       "    }\n",
       "\n",
       "    .dataframe tbody tr th {\n",
       "        vertical-align: top;\n",
       "    }\n",
       "\n",
       "    .dataframe thead th {\n",
       "        text-align: right;\n",
       "    }\n",
       "</style>\n",
       "<table border=\"1\" class=\"dataframe\">\n",
       "  <thead>\n",
       "    <tr style=\"text-align: right;\">\n",
       "      <th></th>\n",
       "      <th>sents</th>\n",
       "      <th>entity_2</th>\n",
       "      <th>relations</th>\n",
       "      <th>entity_1</th>\n",
       "      <th>prediction</th>\n",
       "      <th>scores</th>\n",
       "      <th>label_score</th>\n",
       "    </tr>\n",
       "  </thead>\n",
       "  <tbody>\n",
       "    <tr>\n",
       "      <th>20484</th>\n",
       "      <td>[E2] DILLARDS Inc [/E2] received income of approximately $112 million and $113 million from [E1] the Wells Fargo Alliance [/E1] and former Synchrony Alliance in fiscal 2014 and 2013, respectively</td>\n",
       "      <td>DILLARDS Inc</td>\n",
       "      <td>customer</td>\n",
       "      <td>the Wells Fargo Alliance</td>\n",
       "      <td>supplier</td>\n",
       "      <td>[0.0009246112000000001, 0.9990751743, 2.394e-07]</td>\n",
       "      <td>2.394000e-07</td>\n",
       "    </tr>\n",
       "    <tr>\n",
       "      <th>18841</th>\n",
       "      <td>the loss of client relationships, including PHH Corp private label and subservicing agreements, and/or [E1] PHH Corp [/E1] agreements with [E2] Realogy [/E2]; and/or</td>\n",
       "      <td>Realogy</td>\n",
       "      <td>supplier</td>\n",
       "      <td>PHH Corp</td>\n",
       "      <td>customer</td>\n",
       "      <td>[0.0005523252000000001, 2.464e-07, 0.9994474053000001]</td>\n",
       "      <td>2.464000e-07</td>\n",
       "    </tr>\n",
       "    <tr>\n",
       "      <th>18331</th>\n",
       "      <td>[E1] DILLARDS Inc [/E1] received income of approximately $112 million and $113 million from [E2] the Wells Fargo Alliance [/E2] and former Synchrony Alliance in fiscal 2014 and 2013, respectively</td>\n",
       "      <td>the Wells Fargo Alliance</td>\n",
       "      <td>supplier</td>\n",
       "      <td>DILLARDS Inc</td>\n",
       "      <td>customer</td>\n",
       "      <td>[0.0008386399000000001, 2.507e-07, 0.9991611242]</td>\n",
       "      <td>2.507000e-07</td>\n",
       "    </tr>\n",
       "    <tr>\n",
       "      <th>18332</th>\n",
       "      <td>[E1] DILLARDS Inc [/E1] received income of approximately $112 million and $113 million from the Wells Fargo Alliance and former [E2] Synchrony Alliance [/E2] in fiscal 2014 and 2013, respectively</td>\n",
       "      <td>Synchrony Alliance</td>\n",
       "      <td>supplier</td>\n",
       "      <td>DILLARDS Inc</td>\n",
       "      <td>customer</td>\n",
       "      <td>[0.0008359244000000001, 2.861e-07, 0.9991637468000001]</td>\n",
       "      <td>2.861000e-07</td>\n",
       "    </tr>\n",
       "    <tr>\n",
       "      <th>20485</th>\n",
       "      <td>[E2] DILLARDS Inc [/E2] received income of approximately $112 million and $113 million from the Wells Fargo Alliance and former [E1] Synchrony Alliance [/E1] in fiscal 2014 and 2013, respectively</td>\n",
       "      <td>DILLARDS Inc</td>\n",
       "      <td>customer</td>\n",
       "      <td>Synchrony Alliance</td>\n",
       "      <td>supplier</td>\n",
       "      <td>[0.0008817402000000001, 0.9991179705000001, 2.881e-07]</td>\n",
       "      <td>2.881000e-07</td>\n",
       "    </tr>\n",
       "    <tr>\n",
       "      <th>20787</th>\n",
       "      <td>the loss of client relationships, including PHH Corp private label and subservicing agreements, and/or [E2] PHH Corp [/E2] agreements with [E1] Realogy [/E1]; and/or</td>\n",
       "      <td>PHH Corp</td>\n",
       "      <td>customer</td>\n",
       "      <td>Realogy</td>\n",
       "      <td>supplier</td>\n",
       "      <td>[0.0013373049, 0.9986623526, 3.553e-07]</td>\n",
       "      <td>3.553000e-07</td>\n",
       "    </tr>\n",
       "    <tr>\n",
       "      <th>20538</th>\n",
       "      <td>[E2] ELECTRO RENT Corp [/E2] reseller agreement with [E1] Keysight [/E1] was not renewed after its May 31, 2015 expiration date</td>\n",
       "      <td>ELECTRO RENT Corp</td>\n",
       "      <td>customer</td>\n",
       "      <td>Keysight</td>\n",
       "      <td>supplier</td>\n",
       "      <td>[0.0002374612, 0.9997621179, 4.421e-07]</td>\n",
       "      <td>4.421000e-07</td>\n",
       "    </tr>\n",
       "    <tr>\n",
       "      <th>18337</th>\n",
       "      <td>[E1] DILLARDS Inc [/E1] received income of approximately $91 million, $94 million and $101 million from the [E2] Wells Fargo [/E2] and former Synchrony alliances in fiscal 2019, 2018 and 2017, respectively</td>\n",
       "      <td>Wells Fargo</td>\n",
       "      <td>supplier</td>\n",
       "      <td>DILLARDS Inc</td>\n",
       "      <td>customer</td>\n",
       "      <td>[0.0012583958, 4.463e-07, 0.9987411499000001]</td>\n",
       "      <td>4.463000e-07</td>\n",
       "    </tr>\n",
       "    <tr>\n",
       "      <th>20488</th>\n",
       "      <td>[E2] DILLARDS Inc [/E2] received income of approximately $91 million, $94 million and $101 million from the [E1] Wells Fargo [/E1] and former Synchrony alliances in fiscal 2019, 2018 and 2017, respectively</td>\n",
       "      <td>DILLARDS Inc</td>\n",
       "      <td>customer</td>\n",
       "      <td>Wells Fargo</td>\n",
       "      <td>supplier</td>\n",
       "      <td>[0.0012563277, 0.9987432361, 4.5640000000000004e-07]</td>\n",
       "      <td>4.564000e-07</td>\n",
       "    </tr>\n",
       "    <tr>\n",
       "      <th>3507</th>\n",
       "      <td>In September 2016, Cobalt International announced that [E1] Cobalt International [/E1] entered into an amendment to Cobalt International drilling contract with [E2] Rowan Reliance Limited [/E2] and recorded a charge of $95.9 million, of which $76.3 million was paid in 2016 and $19.6 million was paid in 2017.</td>\n",
       "      <td>Rowan Reliance Limited</td>\n",
       "      <td>supplier</td>\n",
       "      <td>Cobalt International</td>\n",
       "      <td>customer</td>\n",
       "      <td>[0.0003844802, 4.615e-07, 0.9996150732]</td>\n",
       "      <td>4.615000e-07</td>\n",
       "    </tr>\n",
       "    <tr>\n",
       "      <th>5513</th>\n",
       "      <td>In September 2016, Cobalt International announced that [E2] Cobalt International [/E2] entered into an amendment to Cobalt International drilling contract with [E1] Rowan Reliance Limited [/E1] and recorded a charge of $95.9 million, of which $76.3 million was paid in 2016 and $19.6 million was paid in 2017.</td>\n",
       "      <td>Cobalt International</td>\n",
       "      <td>customer</td>\n",
       "      <td>Rowan Reliance Limited</td>\n",
       "      <td>supplier</td>\n",
       "      <td>[0.0004846313, 0.9995148182, 4.811e-07]</td>\n",
       "      <td>4.811000e-07</td>\n",
       "    </tr>\n",
       "    <tr>\n",
       "      <th>18338</th>\n",
       "      <td>[E1] DILLARDS Inc [/E1] received income of approximately $91 million, $94 million and $101 million from the Wells Fargo and former [E2] Synchrony [/E2] alliances in fiscal 2019, 2018 and 2017, respectively</td>\n",
       "      <td>Synchrony</td>\n",
       "      <td>supplier</td>\n",
       "      <td>DILLARDS Inc</td>\n",
       "      <td>customer</td>\n",
       "      <td>[0.0011446329000000001, 5.403e-07, 0.9988548756000001]</td>\n",
       "      <td>5.403000e-07</td>\n",
       "    </tr>\n",
       "    <tr>\n",
       "      <th>20489</th>\n",
       "      <td>[E2] DILLARDS Inc [/E2] received income of approximately $91 million, $94 million and $101 million from the Wells Fargo and former [E1] Synchrony [/E1] alliances in fiscal 2019, 2018 and 2017, respectively</td>\n",
       "      <td>DILLARDS Inc</td>\n",
       "      <td>customer</td>\n",
       "      <td>Synchrony</td>\n",
       "      <td>supplier</td>\n",
       "      <td>[0.0010312818, 0.9989681244, 5.588000000000001e-07]</td>\n",
       "      <td>5.588000e-07</td>\n",
       "    </tr>\n",
       "    <tr>\n",
       "      <th>19008</th>\n",
       "      <td>Georgia Power has also entered into affiliate long term PPAs with [E2] Southern Power [/E2], some of which [E1] Georgia Power [/E1] accounts for as leases</td>\n",
       "      <td>Southern Power</td>\n",
       "      <td>supplier</td>\n",
       "      <td>Georgia Power</td>\n",
       "      <td>customer</td>\n",
       "      <td>[8.22092e-05, 5.705e-07, 0.9999172091]</td>\n",
       "      <td>5.705000e-07</td>\n",
       "    </tr>\n",
       "    <tr>\n",
       "      <th>18468</th>\n",
       "      <td>[E1] ELECTRO RENT Corp [/E1] reseller agreement with [E2] Keysight [/E2] was not renewed after its May 31, 2015 expiration date</td>\n",
       "      <td>Keysight</td>\n",
       "      <td>supplier</td>\n",
       "      <td>ELECTRO RENT Corp</td>\n",
       "      <td>customer</td>\n",
       "      <td>[0.00019546250000000001, 5.906e-07, 0.9998039007]</td>\n",
       "      <td>5.906000e-07</td>\n",
       "    </tr>\n",
       "    <tr>\n",
       "      <th>20883</th>\n",
       "      <td>Georgia Power has also entered into affiliate long term PPAs with [E1] Southern Power [/E1], some of which [E2] Georgia Power [/E2] accounts for as leases</td>\n",
       "      <td>Georgia Power</td>\n",
       "      <td>customer</td>\n",
       "      <td>Southern Power</td>\n",
       "      <td>supplier</td>\n",
       "      <td>[8.55852e-05, 0.9999137521, 6.668e-07]</td>\n",
       "      <td>6.668000e-07</td>\n",
       "    </tr>\n",
       "    <tr>\n",
       "      <th>20516</th>\n",
       "      <td>Keysight is Agilent Technologies Inc (\"[E1] Agilent Technologies Inc [/E1]\"), with whom [E2] ELECTRO RENT Corp [/E2] originally entered into the reseller agreement</td>\n",
       "      <td>ELECTRO RENT Corp</td>\n",
       "      <td>customer</td>\n",
       "      <td>Agilent Technologies Inc</td>\n",
       "      <td>supplier</td>\n",
       "      <td>[0.0005630229, 0.9994357824000001, 1.1728e-06]</td>\n",
       "      <td>1.172800e-06</td>\n",
       "    </tr>\n",
       "    <tr>\n",
       "      <th>18417</th>\n",
       "      <td>Keysight is Agilent Technologies Inc (\"[E2] Agilent Technologies Inc [/E2]\"), with whom [E1] ELECTRO RENT Corp [/E1] originally entered into the reseller agreement</td>\n",
       "      <td>Agilent Technologies Inc</td>\n",
       "      <td>supplier</td>\n",
       "      <td>ELECTRO RENT Corp</td>\n",
       "      <td>customer</td>\n",
       "      <td>[0.0005240456, 1.2526e-06, 0.9994747043000001]</td>\n",
       "      <td>1.252600e-06</td>\n",
       "    </tr>\n",
       "    <tr>\n",
       "      <th>13424</th>\n",
       "      <td>[E1] TAKE TWO INTERACTIVE SOFTWARE Inc [/E1] derive most of TAKE TWO INTERACTIVE SOFTWARE Inc revenue from the sale of products made for video game platforms manufactured by third parties, such as [E2] Sony [/E2]'s PS4 and PS3 and Microsoft's Xbox One and Xbox 360, which comprised 82.6% of TAKE TWO INTERACTIVE SOFTWARE Inc net revenue by product platform for the fiscal year ended March 31, 2016</td>\n",
       "      <td>Sony</td>\n",
       "      <td>supplier</td>\n",
       "      <td>TAKE TWO INTERACTIVE SOFTWARE Inc</td>\n",
       "      <td>customer</td>\n",
       "      <td>[0.00040451850000000004, 1.6363000000000001e-06, 0.9995937943000001]</td>\n",
       "      <td>1.636300e-06</td>\n",
       "    </tr>\n",
       "    <tr>\n",
       "      <th>15189</th>\n",
       "      <td>[E2] TAKE TWO INTERACTIVE SOFTWARE Inc [/E2] derive most of TAKE TWO INTERACTIVE SOFTWARE Inc revenue from the sale of products made for video game platforms manufactured by third parties, such as [E1] Sony [/E1]'s PS4 and PS3 and Microsoft's Xbox One and Xbox 360, which comprised 82.6% of TAKE TWO INTERACTIVE SOFTWARE Inc net revenue by product platform for the fiscal year ended March 31, 2016</td>\n",
       "      <td>TAKE TWO INTERACTIVE SOFTWARE Inc</td>\n",
       "      <td>customer</td>\n",
       "      <td>Sony</td>\n",
       "      <td>supplier</td>\n",
       "      <td>[0.00041565360000000003, 0.9995827079, 1.6404e-06]</td>\n",
       "      <td>1.640400e-06</td>\n",
       "    </tr>\n",
       "    <tr>\n",
       "      <th>14895</th>\n",
       "      <td>LUMINEX Corp have negotiated significant minimum women's health purchases from [E2] LabCorp [/E2] through June 2018, pursuant to which LabCorp committed to acquire no less than $63.1 million of LUMINEX Corp women's health products from January 1, 2017 through June 30, 2018; of which in 2017, LabCorp acquired approximately $36 million of [E1] LUMINEX Corp [/E1] women's health products</td>\n",
       "      <td>LabCorp</td>\n",
       "      <td>customer</td>\n",
       "      <td>LUMINEX Corp</td>\n",
       "      <td>supplier</td>\n",
       "      <td>[1.5232900000000001e-05, 0.9999830127, 1.7162e-06]</td>\n",
       "      <td>1.716200e-06</td>\n",
       "    </tr>\n",
       "    <tr>\n",
       "      <th>20586</th>\n",
       "      <td>Any decision by either party to not renew Hewlett Packard agreement with Canon or to limit or reduce the scope of the agreement could adversely affect Hewlett Packard net revenue from LaserJet products; however, [E2] Hewlett Packard [/E2] have a long standing business relationship with [E1] Canon [/E1] and do not anticipate non renewal of this agreement</td>\n",
       "      <td>Hewlett Packard</td>\n",
       "      <td>customer</td>\n",
       "      <td>Canon</td>\n",
       "      <td>supplier</td>\n",
       "      <td>[0.0001088471, 0.9998890758000001, 2.0304e-06]</td>\n",
       "      <td>2.030400e-06</td>\n",
       "    </tr>\n",
       "    <tr>\n",
       "      <th>12965</th>\n",
       "      <td>LUMINEX Corp have negotiated significant minimum women's health purchases from [E1] LabCorp [/E1] through June 2018, pursuant to which LabCorp committed to acquire no less than $63.1 million of LUMINEX Corp women's health products from January 1, 2017 through June 30, 2018; of which in 2017, LabCorp acquired approximately $36 million of [E2] LUMINEX Corp [/E2] women's health products</td>\n",
       "      <td>LUMINEX Corp</td>\n",
       "      <td>supplier</td>\n",
       "      <td>LabCorp</td>\n",
       "      <td>customer</td>\n",
       "      <td>[2.02416e-05, 2.2101000000000002e-06, 0.999977529]</td>\n",
       "      <td>2.210100e-06</td>\n",
       "    </tr>\n",
       "    <tr>\n",
       "      <th>18530</th>\n",
       "      <td>Any decision by either party to not renew Hewlett Packard agreement with Canon or to limit or reduce the scope of the agreement could adversely affect Hewlett Packard net revenue from LaserJet products; however, [E1] Hewlett Packard [/E1] have a long standing business relationship with [E2] Canon [/E2] and do not anticipate non renewal of this agreement</td>\n",
       "      <td>Canon</td>\n",
       "      <td>supplier</td>\n",
       "      <td>Hewlett Packard</td>\n",
       "      <td>customer</td>\n",
       "      <td>[0.0001042338, 2.2264e-06, 0.9998935461]</td>\n",
       "      <td>2.226400e-06</td>\n",
       "    </tr>\n",
       "    <tr>\n",
       "      <th>13259</th>\n",
       "      <td>TAKE TWO INTERACTIVE SOFTWARE Inc's  derive most of TAKE TWO INTERACTIVE SOFTWARE Inc's  revenue from the sale of products made for video game platforms manufactured by third parties, such as [E2] Sony [/E2]'s PS3, Microsoft's Xbox 360 and Nintendo's Wii, which comprised approximately 79.5% of [E1] TAKE TWO INTERACTIVE SOFTWARE Inc's [/E1] 's net revenue by product platform for the fiscal year ended March 31, 2013</td>\n",
       "      <td>Sony</td>\n",
       "      <td>supplier</td>\n",
       "      <td>TAKE TWO INTERACTIVE SOFTWARE Inc's</td>\n",
       "      <td>customer</td>\n",
       "      <td>[0.00028491540000000003, 2.5690000000000003e-06, 0.9997125864]</td>\n",
       "      <td>2.569000e-06</td>\n",
       "    </tr>\n",
       "    <tr>\n",
       "      <th>10668</th>\n",
       "      <td>In any event of termination by KHK, unless such termination is the result of KHK's termination for certain types of breach of the agreement by Ultragenyx Pharmaceutical Inc, [E2] Ultragenyx Pharmaceutical Inc [/E2] may receive low single digit to low double digit royalties on net post termination sales by [E1] KHK [/E1] in one or more countries or territories, the amount of which varies depending on the timing of, and reason for, such termination</td>\n",
       "      <td>Ultragenyx Pharmaceutical Inc</td>\n",
       "      <td>customer</td>\n",
       "      <td>KHK</td>\n",
       "      <td>supplier</td>\n",
       "      <td>[0.00014396260000000002, 0.9998532534000001, 2.8059e-06]</td>\n",
       "      <td>2.805900e-06</td>\n",
       "    </tr>\n",
       "    <tr>\n",
       "      <th>9352</th>\n",
       "      <td>In any event of termination by KHK, unless such termination is the result of KHK's termination for certain types of breach of the agreement by Ultragenyx Pharmaceutical Inc, [E1] Ultragenyx Pharmaceutical Inc [/E1] may receive low single digit to low double digit royalties on net post termination sales by [E2] KHK [/E2] in one or more countries or territories, the amount of which varies depending on the timing of, and reason for, such termination</td>\n",
       "      <td>KHK</td>\n",
       "      <td>supplier</td>\n",
       "      <td>Ultragenyx Pharmaceutical Inc</td>\n",
       "      <td>customer</td>\n",
       "      <td>[0.000143291, 2.9713000000000002e-06, 0.9998537302]</td>\n",
       "      <td>2.971300e-06</td>\n",
       "    </tr>\n",
       "    <tr>\n",
       "      <th>13261</th>\n",
       "      <td>TAKE TWO INTERACTIVE SOFTWARE Inc's  derive most of TAKE TWO INTERACTIVE SOFTWARE Inc's  revenue from the sale of products made for video game platforms manufactured by third parties, such as Sony's PS3, Microsoft's Xbox 360 and [E2] Nintendo [/E2]'s Wii, which comprised approximately 79.5% of [E1] TAKE TWO INTERACTIVE SOFTWARE Inc's [/E1] 's net revenue by product platform for the fiscal year ended March 31, 2013</td>\n",
       "      <td>Nintendo</td>\n",
       "      <td>supplier</td>\n",
       "      <td>TAKE TWO INTERACTIVE SOFTWARE Inc's</td>\n",
       "      <td>customer</td>\n",
       "      <td>[0.0006212367000000001, 3.0993e-06, 0.9993757010000001]</td>\n",
       "      <td>3.099300e-06</td>\n",
       "    </tr>\n",
       "    <tr>\n",
       "      <th>15077</th>\n",
       "      <td>TAKE TWO INTERACTIVE SOFTWARE Inc's  derive most of TAKE TWO INTERACTIVE SOFTWARE Inc's  revenue from the sale of products made for video game platforms manufactured by third parties, such as Sony's PS3, Microsoft's Xbox 360 and [E1] Nintendo [/E1]'s Wii, which comprised approximately 79.5% of [E2] TAKE TWO INTERACTIVE SOFTWARE Inc's [/E2] 's net revenue by product platform for the fiscal year ended March 31, 2013</td>\n",
       "      <td>TAKE TWO INTERACTIVE SOFTWARE Inc's</td>\n",
       "      <td>customer</td>\n",
       "      <td>Nintendo</td>\n",
       "      <td>supplier</td>\n",
       "      <td>[0.0003983207, 0.9995985627, 3.1362e-06]</td>\n",
       "      <td>3.136200e-06</td>\n",
       "    </tr>\n",
       "    <tr>\n",
       "      <th>15075</th>\n",
       "      <td>TAKE TWO INTERACTIVE SOFTWARE Inc's  derive most of TAKE TWO INTERACTIVE SOFTWARE Inc's  revenue from the sale of products made for video game platforms manufactured by third parties, such as [E1] Sony [/E1]'s PS3, Microsoft's Xbox 360 and Nintendo's Wii, which comprised approximately 79.5% of [E2] TAKE TWO INTERACTIVE SOFTWARE Inc's [/E2] 's net revenue by product platform for the fiscal year ended March 31, 2013</td>\n",
       "      <td>TAKE TWO INTERACTIVE SOFTWARE Inc's</td>\n",
       "      <td>customer</td>\n",
       "      <td>Sony</td>\n",
       "      <td>supplier</td>\n",
       "      <td>[0.0003441685, 0.9996527433000001, 3.1517000000000002e-06]</td>\n",
       "      <td>3.151700e-06</td>\n",
       "    </tr>\n",
       "    <tr>\n",
       "      <th>15534</th>\n",
       "      <td>While Sucampo Pharmaceuticals Inc are currently utilizing R Tech to perform these manufacturing functions and rely on Takeda and [E2] Abbott [/E2] to perform many of these sales and marketing functions with respect to the sale of AMITIZA in the respective territories, [E1] Sucampo Pharmaceuticals Inc [/E1] may nevertheless encounter unforeseen expenses, difficulties, complications and delays as Sucampo Pharmaceuticals Inc establish these commercial functions for AMITIZA and RESCULA and for other products for which Sucampo Pharmaceuticals Inc may receive regulatory marketing approval</td>\n",
       "      <td>Abbott</td>\n",
       "      <td>customer</td>\n",
       "      <td>Sucampo Pharmaceuticals Inc</td>\n",
       "      <td>supplier</td>\n",
       "      <td>[6.92909e-05, 0.9999274611000001, 3.2189000000000002e-06]</td>\n",
       "      <td>3.218900e-06</td>\n",
       "    </tr>\n",
       "    <tr>\n",
       "      <th>14013</th>\n",
       "      <td>While Sucampo Pharmaceuticals Inc are currently utilizing R Tech to perform these manufacturing functions and rely on Takeda and [E1] Abbott [/E1] to perform many of these sales and marketing functions with respect to the sale of AMITIZA in the respective territories, [E2] Sucampo Pharmaceuticals Inc [/E2] may nevertheless encounter unforeseen expenses, difficulties, complications and delays as Sucampo Pharmaceuticals Inc establish these commercial functions for AMITIZA and RESCULA and for other products for which Sucampo Pharmaceuticals Inc may receive regulatory marketing approval</td>\n",
       "      <td>Sucampo Pharmaceuticals Inc</td>\n",
       "      <td>supplier</td>\n",
       "      <td>Abbott</td>\n",
       "      <td>customer</td>\n",
       "      <td>[0.0001077736, 4.4249e-06, 0.9998878241]</td>\n",
       "      <td>4.424900e-06</td>\n",
       "    </tr>\n",
       "    <tr>\n",
       "      <th>1820</th>\n",
       "      <td>Since NGL Energy Partners December 2013 acquisition of Gavilon Energy, [E1] NGL Energy Partners [/E1] have purchased crude oil and natural gas from and sold crude oil and natural gas to [E2] WPX [/E2].</td>\n",
       "      <td>WPX</td>\n",
       "      <td>supplier</td>\n",
       "      <td>NGL Energy Partners</td>\n",
       "      <td>customer</td>\n",
       "      <td>[0.0040106601000000006, 4.8055e-06, 0.9959845543]</td>\n",
       "      <td>4.805500e-06</td>\n",
       "    </tr>\n",
       "    <tr>\n",
       "      <th>15190</th>\n",
       "      <td>TAKE TWO INTERACTIVE SOFTWARE Inc derive most of TAKE TWO INTERACTIVE SOFTWARE Inc revenue from the sale of products made for video game platforms manufactured by third parties, such as Sony's PS4 and PS3 and [E1] Microsoft [/E1]'s Xbox One and Xbox 360, which comprised 82.6% of [E2] TAKE TWO INTERACTIVE SOFTWARE Inc [/E2] net revenue by product platform for the fiscal year ended March 31, 2016</td>\n",
       "      <td>TAKE TWO INTERACTIVE SOFTWARE Inc</td>\n",
       "      <td>customer</td>\n",
       "      <td>Microsoft</td>\n",
       "      <td>supplier</td>\n",
       "      <td>[0.0007435926, 0.9992514849, 4.872600000000001e-06]</td>\n",
       "      <td>4.872600e-06</td>\n",
       "    </tr>\n",
       "    <tr>\n",
       "      <th>27059</th>\n",
       "      <td>[E1] IMMUNOGEN INC [/E1] reports that Included in license and milestone fees for the year ended June 30, 2009 was a $6.5 million milestone related to the initiation of Phase III clinical testing of trastuzumab emtansine, or T DM1, by Roche, a $4 million milestone related to the initiation of Phase II clinical testing of AVE1642 by Sanofi and a $500,000 milestone related to the initiation of Phase I clinical testing of BT 062 by [E2] Biotest [/E2].</td>\n",
       "      <td>Biotest</td>\n",
       "      <td>customer</td>\n",
       "      <td>IMMUNOGEN INC</td>\n",
       "      <td>other</td>\n",
       "      <td>[0.9999905825000001, 4.2068e-06, 5.2587e-06]</td>\n",
       "      <td>5.258700e-06</td>\n",
       "    </tr>\n",
       "    <tr>\n",
       "      <th>23877</th>\n",
       "      <td>[E2] IMMUNOGEN INC [/E2] reports that Included in license and milestone fees for the year ended June 30, 2009 was a $6.5 million milestone related to the initiation of Phase III clinical testing of trastuzumab emtansine, or T DM1, by [E1] Roche [/E1], a $4 million milestone related to the initiation of Phase II clinical testing of AVE1642 by Sanofi and a $500,000 milestone related to the initiation of Phase I clinical testing of BT 062 by Biotest.</td>\n",
       "      <td>IMMUNOGEN INC</td>\n",
       "      <td>supplier</td>\n",
       "      <td>Roche</td>\n",
       "      <td>other</td>\n",
       "      <td>[0.9999904633000001, 5.33e-06, 4.254e-06]</td>\n",
       "      <td>5.330000e-06</td>\n",
       "    </tr>\n",
       "    <tr>\n",
       "      <th>13425</th>\n",
       "      <td>TAKE TWO INTERACTIVE SOFTWARE Inc derive most of TAKE TWO INTERACTIVE SOFTWARE Inc revenue from the sale of products made for video game platforms manufactured by third parties, such as Sony's PS4 and PS3 and [E2] Microsoft [/E2]'s Xbox One and Xbox 360, which comprised 82.6% of [E1] TAKE TWO INTERACTIVE SOFTWARE Inc [/E1] net revenue by product platform for the fiscal year ended March 31, 2016</td>\n",
       "      <td>Microsoft</td>\n",
       "      <td>supplier</td>\n",
       "      <td>TAKE TWO INTERACTIVE SOFTWARE Inc</td>\n",
       "      <td>customer</td>\n",
       "      <td>[0.0007569565, 5.3322e-06, 0.9992376566000001]</td>\n",
       "      <td>5.332200e-06</td>\n",
       "    </tr>\n",
       "    <tr>\n",
       "      <th>27058</th>\n",
       "      <td>[E1] IMMUNOGEN INC [/E1] reports that Included in license and milestone fees for the year ended June 30, 2009 was a $6.5 million milestone related to the initiation of Phase III clinical testing of trastuzumab emtansine, or T DM1, by Roche, a $4 million milestone related to the initiation of Phase II clinical testing of AVE1642 by [E2] Sanofi [/E2] and a $500,000 milestone related to the initiation of Phase I clinical testing of BT 062 by Biotest.</td>\n",
       "      <td>Sanofi</td>\n",
       "      <td>customer</td>\n",
       "      <td>IMMUNOGEN INC</td>\n",
       "      <td>other</td>\n",
       "      <td>[0.9999904037, 4.2314e-06, 5.3494e-06]</td>\n",
       "      <td>5.349400e-06</td>\n",
       "    </tr>\n",
       "    <tr>\n",
       "      <th>23878</th>\n",
       "      <td>[E2] IMMUNOGEN INC [/E2] reports that Included in license and milestone fees for the year ended June 30, 2009 was a $6.5 million milestone related to the initiation of Phase III clinical testing of trastuzumab emtansine, or T DM1, by Roche, a $4 million milestone related to the initiation of Phase II clinical testing of AVE1642 by [E1] Sanofi [/E1] and a $500,000 milestone related to the initiation of Phase I clinical testing of BT 062 by Biotest.</td>\n",
       "      <td>IMMUNOGEN INC</td>\n",
       "      <td>supplier</td>\n",
       "      <td>Sanofi</td>\n",
       "      <td>other</td>\n",
       "      <td>[0.9999902844, 5.4529e-06, 4.2621e-06]</td>\n",
       "      <td>5.452900e-06</td>\n",
       "    </tr>\n",
       "    <tr>\n",
       "      <th>20514</th>\n",
       "      <td>[E1] EL PASO ELECTRIC Co [/E1] recovers fuel and purchased power costs from the Rio Grande Electric Coop (\"[E2] the Rio Grande Electric Coop [/E2]\") pursuant to an ongoing contract with a two year notice to terminate provision</td>\n",
       "      <td>the Rio Grande Electric Coop</td>\n",
       "      <td>customer</td>\n",
       "      <td>EL PASO ELECTRIC Co</td>\n",
       "      <td>supplier</td>\n",
       "      <td>[0.00039566700000000005, 0.9995988011, 5.5685e-06]</td>\n",
       "      <td>5.568500e-06</td>\n",
       "    </tr>\n",
       "    <tr>\n",
       "      <th>27057</th>\n",
       "      <td>[E1] IMMUNOGEN INC [/E1] reports that Included in license and milestone fees for the year ended June 30, 2009 was a $6.5 million milestone related to the initiation of Phase III clinical testing of trastuzumab emtansine, or T DM1, by [E2] Roche [/E2], a $4 million milestone related to the initiation of Phase II clinical testing of AVE1642 by Sanofi and a $500,000 milestone related to the initiation of Phase I clinical testing of BT 062 by Biotest.</td>\n",
       "      <td>Roche</td>\n",
       "      <td>customer</td>\n",
       "      <td>IMMUNOGEN INC</td>\n",
       "      <td>other</td>\n",
       "      <td>[0.9999898672, 4.4749e-06, 5.6547e-06]</td>\n",
       "      <td>5.654700e-06</td>\n",
       "    </tr>\n",
       "    <tr>\n",
       "      <th>23879</th>\n",
       "      <td>[E2] IMMUNOGEN INC [/E2] reports that Included in license and milestone fees for the year ended June 30, 2009 was a $6.5 million milestone related to the initiation of Phase III clinical testing of trastuzumab emtansine, or T DM1, by Roche, a $4 million milestone related to the initiation of Phase II clinical testing of AVE1642 by Sanofi and a $500,000 milestone related to the initiation of Phase I clinical testing of BT 062 by [E1] Biotest [/E1].</td>\n",
       "      <td>IMMUNOGEN INC</td>\n",
       "      <td>supplier</td>\n",
       "      <td>Biotest</td>\n",
       "      <td>other</td>\n",
       "      <td>[0.9999901056, 5.8004e-06, 4.0239000000000006e-06]</td>\n",
       "      <td>5.800400e-06</td>\n",
       "    </tr>\n",
       "    <tr>\n",
       "      <th>24176</th>\n",
       "      <td>If NuStar fails to operate any portion of the McKee products system in accordance with the terms of Valero Energy Corp operating agreement with them, such failure could result in Valero Energy Corp inability to meet Valero Energy Corp commitments to Valero, which in turn could result in a reduction in Valero Energy Corp revenues, or in [E1] Valero Energy Corp [/E1] becoming liable to Valero for any losses it may sustain by reason of Valero Energy Corp failure to comply, which losses may not be recoverable by Valero Energy Corp from [E2] NuStar [/E2] .</td>\n",
       "      <td>NuStar</td>\n",
       "      <td>supplier</td>\n",
       "      <td>Valero Energy Corp</td>\n",
       "      <td>other</td>\n",
       "      <td>[0.9999883175000001, 5.8241e-06, 5.848400000000001e-06]</td>\n",
       "      <td>5.824100e-06</td>\n",
       "    </tr>\n",
       "    <tr>\n",
       "      <th>27136</th>\n",
       "      <td>In 2012, EchoStar Corp began performing a number of the corporate functions for ourselves and EchoStar Corp subsidiaries that were formerly performed on EchoStar Corp behalf by DISH Network Corporation and its subsidiaries “[E2] DISH Network Corporation [/E2]”, pursuant to the management services agreement and the professional services agreement between [E1] EchoStar Corp [/E1] and DISH Network Corporation.</td>\n",
       "      <td>DISH Network Corporation</td>\n",
       "      <td>customer</td>\n",
       "      <td>EchoStar Corp</td>\n",
       "      <td>other</td>\n",
       "      <td>[0.9999841452, 9.8027e-06, 6.0365000000000006e-06]</td>\n",
       "      <td>6.036500e-06</td>\n",
       "    </tr>\n",
       "    <tr>\n",
       "      <th>26012</th>\n",
       "      <td>[E2] Insight Enterprises Inc [/E2] partner with providers to deliver solutions around collaboration and messaging, managed security and data management including Microsoft , Symantec, CA Technologies, [E1] IBM [/E1], McAfee and DataPipe.</td>\n",
       "      <td>Insight Enterprises Inc</td>\n",
       "      <td>customer</td>\n",
       "      <td>IBM</td>\n",
       "      <td>supplier</td>\n",
       "      <td>[0.0016803667, 0.9983134866000001, 6.0629e-06]</td>\n",
       "      <td>6.062900e-06</td>\n",
       "    </tr>\n",
       "    <tr>\n",
       "      <th>13260</th>\n",
       "      <td>TAKE TWO INTERACTIVE SOFTWARE Inc's  derive most of [E1] TAKE TWO INTERACTIVE SOFTWARE Inc's [/E1]  revenue from the sale of products made for video game platforms manufactured by third parties, such as Sony's PS3, [E2] Microsoft [/E2]'s Xbox 360 and Nintendo's Wii, which comprised approximately 79.5% of TAKE TWO INTERACTIVE SOFTWARE Inc's 's net revenue by product platform for the fiscal year ended March 31, 2013</td>\n",
       "      <td>Microsoft</td>\n",
       "      <td>supplier</td>\n",
       "      <td>TAKE TWO INTERACTIVE SOFTWARE Inc's</td>\n",
       "      <td>customer</td>\n",
       "      <td>[0.0010678398, 6.0845e-06, 0.9989261627]</td>\n",
       "      <td>6.084500e-06</td>\n",
       "    </tr>\n",
       "    <tr>\n",
       "      <th>21945</th>\n",
       "      <td>[E1] Insight Enterprises Inc [/E1] partner with providers to deliver solutions around collaboration and messaging, managed security and data management including Microsoft , Symantec, CA Technologies, [E2] IBM [/E2], McAfee and DataPipe.</td>\n",
       "      <td>IBM</td>\n",
       "      <td>supplier</td>\n",
       "      <td>Insight Enterprises Inc</td>\n",
       "      <td>customer</td>\n",
       "      <td>[0.0018527299, 6.4084e-06, 0.9981408119]</td>\n",
       "      <td>6.408400e-06</td>\n",
       "    </tr>\n",
       "    <tr>\n",
       "      <th>24017</th>\n",
       "      <td>In 2012, EchoStar Corp began performing a number of the corporate functions for ourselves and EchoStar Corp subsidiaries that were formerly performed on EchoStar Corp behalf by DISH Network Corporation and its subsidiaries “[E1] DISH Network Corporation [/E1]”, pursuant to the management services agreement and the professional services agreement between [E2] EchoStar Corp [/E2] and DISH Network Corporation.</td>\n",
       "      <td>EchoStar Corp</td>\n",
       "      <td>supplier</td>\n",
       "      <td>DISH Network Corporation</td>\n",
       "      <td>other</td>\n",
       "      <td>[0.999982357, 6.6448e-06, 1.0949000000000001e-05]</td>\n",
       "      <td>6.644800e-06</td>\n",
       "    </tr>\n",
       "    <tr>\n",
       "      <th>27213</th>\n",
       "      <td>If NuStar fails to operate any portion of the McKee products system in accordance with the terms of Valero Energy Corp operating agreement with them, such failure could result in Valero Energy Corp inability to meet Valero Energy Corp commitments to Valero, which in turn could result in a reduction in Valero Energy Corp revenues, or in [E2] Valero Energy Corp [/E2] becoming liable to Valero for any losses it may sustain by reason of Valero Energy Corp failure to comply, which losses may not be recoverable by Valero Energy Corp from [E1] NuStar [/E1] .</td>\n",
       "      <td>Valero Energy Corp</td>\n",
       "      <td>customer</td>\n",
       "      <td>NuStar</td>\n",
       "      <td>other</td>\n",
       "      <td>[0.9999871254, 6.1223e-06, 6.7435e-06]</td>\n",
       "      <td>6.743500e-06</td>\n",
       "    </tr>\n",
       "    <tr>\n",
       "      <th>26011</th>\n",
       "      <td>[E2] Insight Enterprises Inc [/E2] partner with providers to deliver solutions around collaboration and messaging, managed security and data management including Microsoft , Symantec, [E1] CA Technologies [/E1], IBM, McAfee and DataPipe.</td>\n",
       "      <td>Insight Enterprises Inc</td>\n",
       "      <td>customer</td>\n",
       "      <td>CA Technologies</td>\n",
       "      <td>supplier</td>\n",
       "      <td>[0.0019035124000000001, 0.9980897903, 6.7699e-06]</td>\n",
       "      <td>6.769900e-06</td>\n",
       "    </tr>\n",
       "    <tr>\n",
       "      <th>14012</th>\n",
       "      <td>While Sucampo Pharmaceuticals Inc are currently utilizing R Tech to perform these manufacturing functions and rely on [E1] Takeda [/E1] and Abbott to perform many of these sales and marketing functions with respect to the sale of AMITIZA in the respective territories, Sucampo Pharmaceuticals Inc may nevertheless encounter unforeseen expenses, difficulties, complications and delays as Sucampo Pharmaceuticals Inc establish these commercial functions for AMITIZA and RESCULA and for other products for which [E2] Sucampo Pharmaceuticals Inc [/E2] may receive regulatory marketing approval</td>\n",
       "      <td>Sucampo Pharmaceuticals Inc</td>\n",
       "      <td>supplier</td>\n",
       "      <td>Takeda</td>\n",
       "      <td>customer</td>\n",
       "      <td>[0.00020372870000000002, 8.0093e-06, 0.9997882843]</td>\n",
       "      <td>8.009300e-06</td>\n",
       "    </tr>\n",
       "    <tr>\n",
       "      <th>15533</th>\n",
       "      <td>While Sucampo Pharmaceuticals Inc are currently utilizing R Tech to perform these manufacturing functions and rely on [E2] Takeda [/E2] and Abbott to perform many of these sales and marketing functions with respect to the sale of AMITIZA in the respective territories, Sucampo Pharmaceuticals Inc may nevertheless encounter unforeseen expenses, difficulties, complications and delays as Sucampo Pharmaceuticals Inc establish these commercial functions for AMITIZA and RESCULA and for other products for which [E1] Sucampo Pharmaceuticals Inc [/E1] may receive regulatory marketing approval</td>\n",
       "      <td>Takeda</td>\n",
       "      <td>customer</td>\n",
       "      <td>Sucampo Pharmaceuticals Inc</td>\n",
       "      <td>supplier</td>\n",
       "      <td>[0.0001176316, 0.9998742342, 8.1231e-06]</td>\n",
       "      <td>8.123100e-06</td>\n",
       "    </tr>\n",
       "    <tr>\n",
       "      <th>26138</th>\n",
       "      <td>[E1] ATLANTIC POWER CORP [/E1] reports that The Williams Lake energy purchase agreement may extend to September 30, 2019 at the option of [E2] BC Hydro [/E2].</td>\n",
       "      <td>BC Hydro</td>\n",
       "      <td>customer</td>\n",
       "      <td>ATLANTIC POWER CORP</td>\n",
       "      <td>other</td>\n",
       "      <td>[0.9999863505000001, 5.470200000000001e-06, 8.1893e-06]</td>\n",
       "      <td>8.189300e-06</td>\n",
       "    </tr>\n",
       "    <tr>\n",
       "      <th>27099</th>\n",
       "      <td>[E1] Anika Therapeutics Inc [/E1] reports that In mid 2005, the agreement was assigned to [E2] DePuy Mitek Inc [/E2], a subsidiary of Johnson Johnson.</td>\n",
       "      <td>DePuy Mitek Inc</td>\n",
       "      <td>customer</td>\n",
       "      <td>Anika Therapeutics Inc</td>\n",
       "      <td>other</td>\n",
       "      <td>[0.9999848604, 7.0112e-06, 8.204600000000001e-06]</td>\n",
       "      <td>8.204600e-06</td>\n",
       "    </tr>\n",
       "    <tr>\n",
       "      <th>23947</th>\n",
       "      <td>[E2] Anika Therapeutics Inc [/E2] reports that In mid 2005, the agreement was assigned to [E1] DePuy Mitek Inc [/E1], a subsidiary of Johnson Johnson.</td>\n",
       "      <td>Anika Therapeutics Inc</td>\n",
       "      <td>supplier</td>\n",
       "      <td>DePuy Mitek Inc</td>\n",
       "      <td>other</td>\n",
       "      <td>[0.9999841452, 8.7862e-06, 7.096e-06]</td>\n",
       "      <td>8.786200e-06</td>\n",
       "    </tr>\n",
       "    <tr>\n",
       "      <th>22802</th>\n",
       "      <td>The complete loss of, or significant reduction in business from, or a material adverse change in the financial condition of, Wal Mart or [E1] Target [/E1] would cause a material and adverse change in [E2] EMERSON RADIO Corp’s [/E2] revenues and operating results see Item 1A “Risk Factors — Business Related Risks — “Uncertain Impact of Appointment of Provisional Liquidators for Grande, Emerson’s Controlling Shareholder”.</td>\n",
       "      <td>EMERSON RADIO Corp’s</td>\n",
       "      <td>supplier</td>\n",
       "      <td>Target</td>\n",
       "      <td>other</td>\n",
       "      <td>[0.9999858737, 9.129400000000001e-06, 4.9368e-06]</td>\n",
       "      <td>9.129400e-06</td>\n",
       "    </tr>\n",
       "    <tr>\n",
       "      <th>26491</th>\n",
       "      <td>The complete loss of, or significant reduction in business from, or a material adverse change in the financial condition of, Wal Mart or [E2] Target [/E2] would cause a material and adverse change in [E1] EMERSON RADIO Corp’s [/E1] revenues and operating results see Item 1A “Risk Factors — Business Related Risks — “Uncertain Impact of Appointment of Provisional Liquidators for Grande, Emerson’s Controlling Shareholder”.</td>\n",
       "      <td>Target</td>\n",
       "      <td>customer</td>\n",
       "      <td>EMERSON RADIO Corp’s</td>\n",
       "      <td>other</td>\n",
       "      <td>[0.9999861121, 4.6959e-06, 9.173400000000001e-06]</td>\n",
       "      <td>9.173400e-06</td>\n",
       "    </tr>\n",
       "    <tr>\n",
       "      <th>20577</th>\n",
       "      <td>In addition, [E2] Lockheed Martin [/E2] awarded [E1] AEROJET ROCKETDYNE HOLDINGS Inc [/E1] a contract to support production of NASA's Orion spacecraft fleet for Artemis missions three through five with an option to support missions six through eight</td>\n",
       "      <td>Lockheed Martin</td>\n",
       "      <td>customer</td>\n",
       "      <td>AEROJET ROCKETDYNE HOLDINGS Inc</td>\n",
       "      <td>supplier</td>\n",
       "      <td>[1.49969e-05, 0.9999756813, 9.3663e-06]</td>\n",
       "      <td>9.366300e-06</td>\n",
       "    </tr>\n",
       "    <tr>\n",
       "      <th>21947</th>\n",
       "      <td>[E1] Insight Enterprises Inc [/E1] partner with providers to deliver solutions around collaboration and messaging, managed security and data management including Microsoft , Symantec, CA Technologies, IBM, McAfee and [E2] DataPipe [/E2].</td>\n",
       "      <td>DataPipe</td>\n",
       "      <td>supplier</td>\n",
       "      <td>Insight Enterprises Inc</td>\n",
       "      <td>customer</td>\n",
       "      <td>[0.0019045845000000001, 9.401e-06, 0.9980859756]</td>\n",
       "      <td>9.401000e-06</td>\n",
       "    </tr>\n",
       "    <tr>\n",
       "      <th>26490</th>\n",
       "      <td>The complete loss of, or significant reduction in business from, or a material adverse change in the financial condition of, [E2] Wal Mart [/E2] or Target would cause a material and adverse change in [E1] EMERSON RADIO Corp’s [/E1] revenues and operating results see Item 1A “Risk Factors — Business Related Risks — “Uncertain Impact of Appointment of Provisional Liquidators for Grande, Emerson’s Controlling Shareholder”.</td>\n",
       "      <td>Wal Mart</td>\n",
       "      <td>customer</td>\n",
       "      <td>EMERSON RADIO Corp’s</td>\n",
       "      <td>other</td>\n",
       "      <td>[0.9999858737, 4.7219000000000005e-06, 9.4235e-06]</td>\n",
       "      <td>9.423500e-06</td>\n",
       "    </tr>\n",
       "    <tr>\n",
       "      <th>21944</th>\n",
       "      <td>[E1] Insight Enterprises Inc [/E1] partner with providers to deliver solutions around collaboration and messaging, managed security and data management including Microsoft , Symantec, [E2] CA Technologies [/E2], IBM, McAfee and DataPipe.</td>\n",
       "      <td>CA Technologies</td>\n",
       "      <td>supplier</td>\n",
       "      <td>Insight Enterprises Inc</td>\n",
       "      <td>customer</td>\n",
       "      <td>[0.0023156891, 9.630800000000001e-06, 0.9976747036]</td>\n",
       "      <td>9.630800e-06</td>\n",
       "    </tr>\n",
       "    <tr>\n",
       "      <th>22801</th>\n",
       "      <td>The complete loss of, or significant reduction in business from, or a material adverse change in the financial condition of, [E1] Wal Mart [/E1] or Target would cause a material and adverse change in [E2] EMERSON RADIO Corp’s [/E2] revenues and operating results see Item 1A “Risk Factors — Business Related Risks — “Uncertain Impact of Appointment of Provisional Liquidators for Grande, Emerson’s Controlling Shareholder”.</td>\n",
       "      <td>EMERSON RADIO Corp’s</td>\n",
       "      <td>supplier</td>\n",
       "      <td>Wal Mart</td>\n",
       "      <td>other</td>\n",
       "      <td>[0.9999854565, 9.8462e-06, 4.6178e-06]</td>\n",
       "      <td>9.846200e-06</td>\n",
       "    </tr>\n",
       "    <tr>\n",
       "      <th>21379</th>\n",
       "      <td>Any decision by either party to not renew [E2] Hewlett Packard [/E2] agreement with [E1] Canon [/E1] or to limit or reduce the scope of the agreement could adversely affect Hewlett Packard net revenue from LaserJet products; however, Hewlett Packard have a long standing business relationship with Canon and do not anticipate non renewal of this agreement</td>\n",
       "      <td>Hewlett Packard</td>\n",
       "      <td>customer</td>\n",
       "      <td>Canon</td>\n",
       "      <td>supplier</td>\n",
       "      <td>[0.0001733242, 0.9998164773, 1.02498e-05]</td>\n",
       "      <td>1.024980e-05</td>\n",
       "    </tr>\n",
       "    <tr>\n",
       "      <th>26010</th>\n",
       "      <td>[E2] Insight Enterprises Inc [/E2] partner with providers to deliver solutions around collaboration and messaging, managed security and data management including Microsoft , [E1] Symantec [/E1], CA Technologies, IBM, McAfee and DataPipe.</td>\n",
       "      <td>Insight Enterprises Inc</td>\n",
       "      <td>customer</td>\n",
       "      <td>Symantec</td>\n",
       "      <td>supplier</td>\n",
       "      <td>[0.0025187451000000002, 0.9974709749, 1.0285e-05]</td>\n",
       "      <td>1.028500e-05</td>\n",
       "    </tr>\n",
       "    <tr>\n",
       "      <th>22206</th>\n",
       "      <td>[E2] ATLANTIC POWER CORP [/E2] reports that The Williams Lake energy purchase agreement may extend to September 30, 2019 at the option of [E1] BC Hydro [/E1].</td>\n",
       "      <td>ATLANTIC POWER CORP</td>\n",
       "      <td>supplier</td>\n",
       "      <td>BC Hydro</td>\n",
       "      <td>other</td>\n",
       "      <td>[0.9999839067, 1.03638e-05, 5.707000000000001e-06]</td>\n",
       "      <td>1.036380e-05</td>\n",
       "    </tr>\n",
       "    <tr>\n",
       "      <th>21943</th>\n",
       "      <td>[E1] Insight Enterprises Inc [/E1] partner with providers to deliver solutions around collaboration and messaging, managed security and data management including Microsoft , [E2] Symantec [/E2], CA Technologies, IBM, McAfee and DataPipe.</td>\n",
       "      <td>Symantec</td>\n",
       "      <td>supplier</td>\n",
       "      <td>Insight Enterprises Inc</td>\n",
       "      <td>customer</td>\n",
       "      <td>[0.00260414, 1.08068e-05, 0.997385025]</td>\n",
       "      <td>1.080680e-05</td>\n",
       "    </tr>\n",
       "    <tr>\n",
       "      <th>4623</th>\n",
       "      <td>Since NGL Energy Partners December 2013 acquisition of Gavilon Energy, [E2] NGL Energy Partners [/E2] have purchased crude oil and natural gas from and sold crude oil and natural gas to [E1] WPX [/E1].</td>\n",
       "      <td>NGL Energy Partners</td>\n",
       "      <td>customer</td>\n",
       "      <td>WPX</td>\n",
       "      <td>supplier</td>\n",
       "      <td>[0.0046206331, 0.9953680634000001, 1.13476e-05]</td>\n",
       "      <td>1.134760e-05</td>\n",
       "    </tr>\n",
       "    <tr>\n",
       "      <th>26014</th>\n",
       "      <td>[E2] Insight Enterprises Inc [/E2] partner with providers to deliver solutions around collaboration and messaging, managed security and data management including Microsoft , Symantec, CA Technologies, IBM, McAfee and [E1] DataPipe [/E1].</td>\n",
       "      <td>Insight Enterprises Inc</td>\n",
       "      <td>customer</td>\n",
       "      <td>DataPipe</td>\n",
       "      <td>supplier</td>\n",
       "      <td>[0.0022411905000000003, 0.9977465868000001, 1.22526e-05]</td>\n",
       "      <td>1.225260e-05</td>\n",
       "    </tr>\n",
       "    <tr>\n",
       "      <th>8640</th>\n",
       "      <td>On November 25, 2013, [E2] Sypris Technologies Inc [/E2] initiated an arbitration proceeding against [E1] Dana Limited [/E1] under the Non Administered Arbitration Rules of the International Institute for Conflict Prevention and Resolution alleging that Dana Limited had entered and then repudiated a five year extension of the parties' long term supply agreement, to run through 2019</td>\n",
       "      <td>Sypris Technologies Inc</td>\n",
       "      <td>supplier</td>\n",
       "      <td>Dana Limited</td>\n",
       "      <td>customer</td>\n",
       "      <td>[9.37506e-05, 1.33739e-05, 0.9998928905000001]</td>\n",
       "      <td>1.337390e-05</td>\n",
       "    </tr>\n",
       "    <tr>\n",
       "      <th>26013</th>\n",
       "      <td>[E2] Insight Enterprises Inc [/E2] partner with providers to deliver solutions around collaboration and messaging, managed security and data management including Microsoft , Symantec, CA Technologies, IBM, [E1] McAfee [/E1] and DataPipe.</td>\n",
       "      <td>Insight Enterprises Inc</td>\n",
       "      <td>customer</td>\n",
       "      <td>McAfee</td>\n",
       "      <td>supplier</td>\n",
       "      <td>[0.0021135311, 0.9978730679000001, 1.33984e-05]</td>\n",
       "      <td>1.339840e-05</td>\n",
       "    </tr>\n",
       "    <tr>\n",
       "      <th>18415</th>\n",
       "      <td>[E2] EL PASO ELECTRIC Co [/E2] recovers fuel and purchased power costs from the Rio Grande Electric Coop (\"[E1] the Rio Grande Electric Coop [/E1]\") pursuant to an ongoing contract with a two year notice to terminate provision</td>\n",
       "      <td>EL PASO ELECTRIC Co</td>\n",
       "      <td>supplier</td>\n",
       "      <td>the Rio Grande Electric Coop</td>\n",
       "      <td>customer</td>\n",
       "      <td>[0.0005269429000000001, 1.3519300000000001e-05, 0.9994595647000001]</td>\n",
       "      <td>1.351930e-05</td>\n",
       "    </tr>\n",
       "    <tr>\n",
       "      <th>24750</th>\n",
       "      <td>INTERMOLECULAR Inc have agreed to recommend [E1] ATMI [/E1] materials to INTERMOLECULAR Inc customers in these CDPs, provided that the ATMI materials are timely available, meet [E2] INTERMOLECULAR Inc [/E2] customer requirements and are cost competitive.</td>\n",
       "      <td>INTERMOLECULAR Inc</td>\n",
       "      <td>other</td>\n",
       "      <td>ATMI</td>\n",
       "      <td>customer</td>\n",
       "      <td>[1.4157400000000001e-05, 0.0003404279, 0.9996453524000001]</td>\n",
       "      <td>1.415740e-05</td>\n",
       "    </tr>\n",
       "    <tr>\n",
       "      <th>10215</th>\n",
       "      <td>On November 25, 2013, [E1] Sypris Technologies Inc [/E1] initiated an arbitration proceeding against [E2] Dana Limited [/E2] under the Non Administered Arbitration Rules of the International Institute for Conflict Prevention and Resolution alleging that Dana Limited had entered and then repudiated a five year extension of the parties' long term supply agreement, to run through 2019</td>\n",
       "      <td>Dana Limited</td>\n",
       "      <td>customer</td>\n",
       "      <td>Sypris Technologies Inc</td>\n",
       "      <td>supplier</td>\n",
       "      <td>[0.00011876660000000001, 0.9998668432000001, 1.432e-05]</td>\n",
       "      <td>1.432000e-05</td>\n",
       "    </tr>\n",
       "    <tr>\n",
       "      <th>21942</th>\n",
       "      <td>[E1] Insight Enterprises Inc [/E1] partner with providers to deliver solutions around collaboration and messaging, managed security and data management including [E2] Microsoft [/E2] , Symantec, CA Technologies, IBM, McAfee and DataPipe.</td>\n",
       "      <td>Microsoft</td>\n",
       "      <td>supplier</td>\n",
       "      <td>Insight Enterprises Inc</td>\n",
       "      <td>customer</td>\n",
       "      <td>[0.0025099774, 1.46647e-05, 0.9974753857]</td>\n",
       "      <td>1.466470e-05</td>\n",
       "    </tr>\n",
       "    <tr>\n",
       "      <th>19940</th>\n",
       "      <td>Any decision by either party to not renew [E1] Hewlett Packard [/E1] agreement with [E2] Canon [/E2] or to limit or reduce the scope of the agreement could adversely affect Hewlett Packard net revenue from LaserJet products; however, Hewlett Packard have a long standing business relationship with Canon and do not anticipate non renewal of this agreement</td>\n",
       "      <td>Canon</td>\n",
       "      <td>supplier</td>\n",
       "      <td>Hewlett Packard</td>\n",
       "      <td>customer</td>\n",
       "      <td>[0.0001496039, 1.48386e-05, 0.9998356104]</td>\n",
       "      <td>1.483860e-05</td>\n",
       "    </tr>\n",
       "    <tr>\n",
       "      <th>26009</th>\n",
       "      <td>[E2] Insight Enterprises Inc [/E2] partner with providers to deliver solutions around collaboration and messaging, managed security and data management including [E1] Microsoft [/E1] , Symantec, CA Technologies, IBM, McAfee and DataPipe.</td>\n",
       "      <td>Insight Enterprises Inc</td>\n",
       "      <td>customer</td>\n",
       "      <td>Microsoft</td>\n",
       "      <td>supplier</td>\n",
       "      <td>[0.0023408374000000003, 0.9976443052, 1.49041e-05]</td>\n",
       "      <td>1.490410e-05</td>\n",
       "    </tr>\n",
       "    <tr>\n",
       "      <th>9227</th>\n",
       "      <td>[E1] Ultragenyx Pharmaceutical Inc [/E1] reports that Once the repayment obligation to Takeda is determinable, then any excess of the total arrangement consideration over the repayment obligation to [E2] Takeda [/E2], if any, will be classified as deferred revenue, allocated to the deliverables on a relative fair value basis, and subsequently will be recognized as collaboration revenue as the underlying services are performed</td>\n",
       "      <td>Takeda</td>\n",
       "      <td>supplier</td>\n",
       "      <td>Ultragenyx Pharmaceutical Inc</td>\n",
       "      <td>customer</td>\n",
       "      <td>[0.0001721322, 1.49058e-05, 0.9998129606]</td>\n",
       "      <td>1.490580e-05</td>\n",
       "    </tr>\n",
       "    <tr>\n",
       "      <th>26069</th>\n",
       "      <td>There can be no assurances, therefore, as to: i the timing or the number of any new customer accounts migrated to CSG SYSTEMS INTERNATIONAL Inc by Comcast; or ii whether the [E2] Comcast [/E2] and Time Warner merger will be consummated, and whether Comcast would choose to migrate any of the acquired Time Warner customer accounts onto [E1] CSG SYSTEMS INTERNATIONAL Inc [/E1] platform.</td>\n",
       "      <td>Comcast</td>\n",
       "      <td>customer</td>\n",
       "      <td>CSG SYSTEMS INTERNATIONAL Inc</td>\n",
       "      <td>other</td>\n",
       "      <td>[0.9999808669, 3.9382e-06, 1.51496e-05]</td>\n",
       "      <td>1.514960e-05</td>\n",
       "    </tr>\n",
       "    <tr>\n",
       "      <th>21946</th>\n",
       "      <td>[E1] Insight Enterprises Inc [/E1] partner with providers to deliver solutions around collaboration and messaging, managed security and data management including Microsoft , Symantec, CA Technologies, IBM, [E2] McAfee [/E2] and DataPipe.</td>\n",
       "      <td>McAfee</td>\n",
       "      <td>supplier</td>\n",
       "      <td>Insight Enterprises Inc</td>\n",
       "      <td>customer</td>\n",
       "      <td>[0.0025044112000000003, 1.59111e-05, 0.9974796772000001]</td>\n",
       "      <td>1.591110e-05</td>\n",
       "    </tr>\n",
       "    <tr>\n",
       "      <th>8874</th>\n",
       "      <td>Due to the termination of NTN BUZZTIME Inc relationship with Buffalo Wild Wings corporate owned restaurants and most of its franchisees in November 2019, [E1] Buffalo Wild Wings [/E1] offered [E2] NTN BUZZTIME Inc [/E2] the opportunity to take back title to all of the tablets, cases and charging trays located at sites that terminated service with NTN BUZZTIME Inc at zero cost to NTN BUZZTIME Inc other than for shipping and related charges of approximately $175,000</td>\n",
       "      <td>NTN BUZZTIME Inc</td>\n",
       "      <td>supplier</td>\n",
       "      <td>Buffalo Wild Wings</td>\n",
       "      <td>customer</td>\n",
       "      <td>[3.42226e-05, 1.63991e-05, 0.9999493361]</td>\n",
       "      <td>1.639910e-05</td>\n",
       "    </tr>\n",
       "    <tr>\n",
       "      <th>14107</th>\n",
       "      <td>This shift in business model was not successful as MABWE MINERALS Inc had not generated any revenues from licensing agreements until July 5, 2011, at which time [E2] MABWE MINERALS Inc [/E2] entered into an agreement with California Capital Equity LLC (\"California Capital Equity LLC\") granting [E1] California Capital Equity LLC [/E1] an exclusive license (even as to MABWE MINERALS Inc) leaving MABWE MINERALS Inc without any continuing rights in or to its intellectual property</td>\n",
       "      <td>MABWE MINERALS Inc</td>\n",
       "      <td>other</td>\n",
       "      <td>California Capital Equity LLC</td>\n",
       "      <td>supplier</td>\n",
       "      <td>[1.67788e-05, 0.9999787211000001, 4.5226000000000005e-06]</td>\n",
       "      <td>1.677880e-05</td>\n",
       "    </tr>\n",
       "    <tr>\n",
       "      <th>10353</th>\n",
       "      <td>Due to the termination of NTN BUZZTIME Inc relationship with Buffalo Wild Wings corporate owned restaurants and most of its franchisees in November 2019, [E2] Buffalo Wild Wings [/E2] offered [E1] NTN BUZZTIME Inc [/E1] the opportunity to take back title to all of the tablets, cases and charging trays located at sites that terminated service with NTN BUZZTIME Inc at zero cost to NTN BUZZTIME Inc other than for shipping and related charges of approximately $175,000</td>\n",
       "      <td>Buffalo Wild Wings</td>\n",
       "      <td>customer</td>\n",
       "      <td>NTN BUZZTIME Inc</td>\n",
       "      <td>supplier</td>\n",
       "      <td>[4.19602e-05, 0.9999411106, 1.6943e-05]</td>\n",
       "      <td>1.694300e-05</td>\n",
       "    </tr>\n",
       "    <tr>\n",
       "      <th>26885</th>\n",
       "      <td>In addition, [E1] KLONDEX MINES Ltd [/E1] entered into a Gold Offering Agreement with [E2] Waterton Global Value [/E2], L.P. “Waterton”, dated March 31, 2011, as amended and restated October 4, 2011 the \"Gold Supply Agreement\", in which KLONDEX MINES Ltd granted Waterton the right to purchase refined bullion as defined therein produced from Fire Creek, on a monthly basis, for a five year period ending February 28, 2018.</td>\n",
       "      <td>Waterton Global Value</td>\n",
       "      <td>customer</td>\n",
       "      <td>KLONDEX MINES Ltd</td>\n",
       "      <td>other</td>\n",
       "      <td>[0.9999744892, 8.522900000000001e-06, 1.70126e-05]</td>\n",
       "      <td>1.701260e-05</td>\n",
       "    </tr>\n",
       "    <tr>\n",
       "      <th>10578</th>\n",
       "      <td>[E2] Ultragenyx Pharmaceutical Inc [/E2] reports that Once the repayment obligation to Takeda is determinable, then any excess of the total arrangement consideration over the repayment obligation to [E1] Takeda [/E1], if any, will be classified as deferred revenue, allocated to the deliverables on a relative fair value basis, and subsequently will be recognized as collaboration revenue as the underlying services are performed</td>\n",
       "      <td>Ultragenyx Pharmaceutical Inc</td>\n",
       "      <td>customer</td>\n",
       "      <td>Takeda</td>\n",
       "      <td>supplier</td>\n",
       "      <td>[0.0001748607, 0.9998058081000001, 1.9309e-05]</td>\n",
       "      <td>1.930900e-05</td>\n",
       "    </tr>\n",
       "    <tr>\n",
       "      <th>26511</th>\n",
       "      <td>[E1] UniTek Global Services Inc [/E1] Northeast Turf Agreement with [E2] ATT [/E2] concludes in August 2014.</td>\n",
       "      <td>ATT</td>\n",
       "      <td>customer</td>\n",
       "      <td>UniTek Global Services Inc</td>\n",
       "      <td>other</td>\n",
       "      <td>[0.9999721646, 8.3906e-06, 1.9472000000000003e-05]</td>\n",
       "      <td>1.947200e-05</td>\n",
       "    </tr>\n",
       "    <tr>\n",
       "      <th>22839</th>\n",
       "      <td>[E2] UniTek Global Services Inc [/E2] Northeast Turf Agreement with [E1] ATT [/E1] concludes in August 2014.</td>\n",
       "      <td>UniTek Global Services Inc</td>\n",
       "      <td>supplier</td>\n",
       "      <td>ATT</td>\n",
       "      <td>other</td>\n",
       "      <td>[0.9999710321, 2.0301600000000002e-05, 8.6397e-06]</td>\n",
       "      <td>2.030160e-05</td>\n",
       "    </tr>\n",
       "    <tr>\n",
       "      <th>22056</th>\n",
       "      <td>There can be no assurances, therefore, as to: i the timing or the number of any new customer accounts migrated to CSG SYSTEMS INTERNATIONAL Inc by Comcast; or ii whether the [E1] Comcast [/E1] and Time Warner merger will be consummated, and whether Comcast would choose to migrate any of the acquired Time Warner customer accounts onto [E2] CSG SYSTEMS INTERNATIONAL Inc [/E2] platform.</td>\n",
       "      <td>CSG SYSTEMS INTERNATIONAL Inc</td>\n",
       "      <td>supplier</td>\n",
       "      <td>Comcast</td>\n",
       "      <td>other</td>\n",
       "      <td>[0.9999755025, 2.06319e-05, 3.8873e-06]</td>\n",
       "      <td>2.063190e-05</td>\n",
       "    </tr>\n",
       "    <tr>\n",
       "      <th>14913</th>\n",
       "      <td>In Mexico, [E2] NII HOLDINGS Inc [/E2] subscriber base, operating revenues and operating cash flows were negatively impacted by [E1] Sprint [/E1]'s decision to deactivate its iDEN network in the US in mid 2013 and NII HOLDINGS Inc failure to effectively deploy and optimize NII HOLDINGS Inc WCDMA network to meet the needs of customers who were seeking new services to replace their iDEN services, particularly customers living in areas near the border of Mexico and the U.S</td>\n",
       "      <td>NII HOLDINGS Inc</td>\n",
       "      <td>customer</td>\n",
       "      <td>Sprint</td>\n",
       "      <td>supplier</td>\n",
       "      <td>[0.0001335845, 0.9998451471, 2.11907e-05]</td>\n",
       "      <td>2.119070e-05</td>\n",
       "    </tr>\n",
       "    <tr>\n",
       "      <th>12620</th>\n",
       "      <td>In 2011, [E1] ALLERGAN Inc [/E1] recorded income tax benefits of $22.2 million and $7.4 million, respectively, associated with the upfront payment and regulatory milestone payment related to the collaboration and co promotion agreement with [E2] MAP [/E2] and income tax benefits of $4.6 million associated with the upfront payment related to the collaboration and license agreement with Molecular Partners AG</td>\n",
       "      <td>MAP</td>\n",
       "      <td>supplier</td>\n",
       "      <td>ALLERGAN Inc</td>\n",
       "      <td>customer</td>\n",
       "      <td>[0.0018000458000000002, 2.2642300000000002e-05, 0.99817729]</td>\n",
       "      <td>2.264230e-05</td>\n",
       "    </tr>\n",
       "    <tr>\n",
       "      <th>8156</th>\n",
       "      <td>In the event that Vanda Pharmaceuticals Inc terminate Vanda Pharmaceuticals Inc license, or if Lilly terminates Vanda Pharmaceuticals Inc license for the reasons stated above, all of Vanda Pharmaceuticals Inc rights to tradipitant (including any intellectual property Vanda Pharmaceuticals Inc develop with respect to tradipitant) will revert back to Lilly, subject to payment by [E2] Lilly [/E2] to [E1] Vanda Pharmaceuticals Inc [/E1] of a royalty on net sales of products that contain tradipitant</td>\n",
       "      <td>Lilly</td>\n",
       "      <td>supplier</td>\n",
       "      <td>Vanda Pharmaceuticals Inc</td>\n",
       "      <td>customer</td>\n",
       "      <td>[0.0003260795, 2.2877200000000002e-05, 0.9996510148000001]</td>\n",
       "      <td>2.287720e-05</td>\n",
       "    </tr>\n",
       "    <tr>\n",
       "      <th>23526</th>\n",
       "      <td>In addition, [E2] KLONDEX MINES Ltd [/E2] entered into a Gold Offering Agreement with [E1] Waterton Global Value [/E1], L.P. “Waterton”, dated March 31, 2011, as amended and restated October 4, 2011 the \"Gold Supply Agreement\", in which KLONDEX MINES Ltd granted Waterton the right to purchase refined bullion as defined therein produced from Fire Creek, on a monthly basis, for a five year period ending February 28, 2018.</td>\n",
       "      <td>KLONDEX MINES Ltd</td>\n",
       "      <td>supplier</td>\n",
       "      <td>Waterton Global Value</td>\n",
       "      <td>other</td>\n",
       "      <td>[0.9999656677000001, 2.48763e-05, 9.446200000000001e-06]</td>\n",
       "      <td>2.487630e-05</td>\n",
       "    </tr>\n",
       "    <tr>\n",
       "      <th>8028</th>\n",
       "      <td>[E1] Allergan PLC [/E1] reports that The provision for rebates as a percentage of gross product sales has increased from 15.2% in 2011, to 15.7% in 2012 and to 16.4% in 2013 primarily related to the increase in commercial rebates of the branded business due in large part to the Warner Chilcott Acquisition and the growth of international revenues as a result of the acquisitions of [E2] Specifar [/E2] in 2011 and Ascent and Actavis in January and October 2012, respectively, in the Actavis Pharma segment</td>\n",
       "      <td>Specifar</td>\n",
       "      <td>supplier</td>\n",
       "      <td>Allergan PLC</td>\n",
       "      <td>customer</td>\n",
       "      <td>[0.012202315, 2.53198e-05, 0.9877723455]</td>\n",
       "      <td>2.531980e-05</td>\n",
       "    </tr>\n",
       "    <tr>\n",
       "      <th>14689</th>\n",
       "      <td>In 2011, [E2] ALLERGAN Inc [/E2] recorded income tax benefits of $22.2 million and $7.4 million, respectively, associated with the upfront payment and regulatory milestone payment related to the collaboration and co promotion agreement with [E1] MAP [/E1] and income tax benefits of $4.6 million associated with the upfront payment related to the collaboration and license agreement with Molecular Partners AG</td>\n",
       "      <td>ALLERGAN Inc</td>\n",
       "      <td>customer</td>\n",
       "      <td>MAP</td>\n",
       "      <td>supplier</td>\n",
       "      <td>[0.0016307721, 0.9983429909, 2.62279e-05]</td>\n",
       "      <td>2.622790e-05</td>\n",
       "    </tr>\n",
       "    <tr>\n",
       "      <th>21670</th>\n",
       "      <td>Although Telenav Inc have negotiated revenue sharing for advertising Telenav Inc provide to Sprint customers and premium subscription fees, in the event [E1] Sprint [/E1] no longer provides Telenav Inc with material compensation for the inclusion of Telenav Inc navigation services in Sprint bundled service offerings, [E2] Telenav Inc [/E2] believe that Telenav Inc revenue would decline substantially and Telenav Inc other sources of revenue from Sprint would not offset the shortfall in the near term.</td>\n",
       "      <td>Telenav Inc</td>\n",
       "      <td>supplier</td>\n",
       "      <td>Sprint</td>\n",
       "      <td>other</td>\n",
       "      <td>[0.9999588132, 2.69167e-05, 1.43108e-05]</td>\n",
       "      <td>2.691670e-05</td>\n",
       "    </tr>\n",
       "    <tr>\n",
       "      <th>25878</th>\n",
       "      <td>Although Telenav Inc have negotiated revenue sharing for advertising Telenav Inc provide to Sprint customers and premium subscription fees, in the event [E2] Sprint [/E2] no longer provides Telenav Inc with material compensation for the inclusion of Telenav Inc navigation services in Sprint bundled service offerings, [E1] Telenav Inc [/E1] believe that Telenav Inc revenue would decline substantially and Telenav Inc other sources of revenue from Sprint would not offset the shortfall in the near term.</td>\n",
       "      <td>Sprint</td>\n",
       "      <td>customer</td>\n",
       "      <td>Telenav Inc</td>\n",
       "      <td>other</td>\n",
       "      <td>[0.9999530315, 1.76921e-05, 2.9275900000000002e-05]</td>\n",
       "      <td>2.927590e-05</td>\n",
       "    </tr>\n",
       "    <tr>\n",
       "      <th>14438</th>\n",
       "      <td>In the case of SEATTLE GENETICS Inc other collaboration and license agreements, such as SEATTLE GENETICS Inc ADCETRIS collaboration with Millennium or SEATTLE GENETICS Inc co development agreement with [E2] Agensys [/E2], SEATTLE GENETICS Inc proprietary products or product candidates may be covered by the collaboration or [E1] SEATTLE GENETICS Inc [/E1] may be involved in certain development activities; however, the achievement of milestone events under these agreements is based on activities undertaken by the collaborator</td>\n",
       "      <td>Agensys</td>\n",
       "      <td>supplier</td>\n",
       "      <td>SEATTLE GENETICS Inc</td>\n",
       "      <td>customer</td>\n",
       "      <td>[0.0004000032, 3.2146e-05, 0.9995678067]</td>\n",
       "      <td>3.214600e-05</td>\n",
       "    </tr>\n",
       "    <tr>\n",
       "      <th>18517</th>\n",
       "      <td>In addition, [E1] Lockheed Martin [/E1] awarded [E2] AEROJET ROCKETDYNE HOLDINGS Inc [/E2] a contract to support production of NASA's Orion spacecraft fleet for Artemis missions three through five with an option to support missions six through eight</td>\n",
       "      <td>AEROJET ROCKETDYNE HOLDINGS Inc</td>\n",
       "      <td>supplier</td>\n",
       "      <td>Lockheed Martin</td>\n",
       "      <td>customer</td>\n",
       "      <td>[1.81729e-05, 3.37183e-05, 0.9999480844]</td>\n",
       "      <td>3.371830e-05</td>\n",
       "    </tr>\n",
       "    <tr>\n",
       "      <th>9518</th>\n",
       "      <td>Effective March 23, 2017, [E1] TAKE TWO INTERACTIVE SOFTWARE Inc [/E1] entered into a PlayStation Global Developer and Publisher Agreement with [E2] Sony Computer Entertainment Inc [/E2] and certain of its affiliates, pursuant to which Sony granted TAKE TWO INTERACTIVE SOFTWARE Inc the right and license to develop, publish, have manufactured, market, advertise, distribute and sell PlayStation compatible products for all PlayStation systems, including the PS4, PS3 and PSP</td>\n",
       "      <td>Sony Computer Entertainment Inc</td>\n",
       "      <td>supplier</td>\n",
       "      <td>TAKE TWO INTERACTIVE SOFTWARE Inc</td>\n",
       "      <td>customer</td>\n",
       "      <td>[0.0014964859, 3.3794800000000004e-05, 0.9984697104]</td>\n",
       "      <td>3.379480e-05</td>\n",
       "    </tr>\n",
       "    <tr>\n",
       "      <th>3600</th>\n",
       "      <td>[E1] Palo Alto Networks Inc [/E1] contract with [E2] Flextronics [/E2] permits them to terminate the agreement for their convenience, subject to prior notice requirements.</td>\n",
       "      <td>Flextronics</td>\n",
       "      <td>supplier</td>\n",
       "      <td>Palo Alto Networks Inc</td>\n",
       "      <td>customer</td>\n",
       "      <td>[0.0008449698, 3.4788e-05, 0.9991202950000001]</td>\n",
       "      <td>3.478800e-05</td>\n",
       "    </tr>\n",
       "    <tr>\n",
       "      <th>8758</th>\n",
       "      <td>In phase one of [E1] Hydrodynex Inc [/E1] multiphase marketing plan, subject to successful renegotiation of Hydrodynex Inc license agreement, payment for and receipt of the AO System test reactor unit, and subsequently, receipt of approval from the EPA, of which there is no assurance, Hydrodynex Inc intend to market and sell the AO System, a device that disinfects potable water systems and industrial water systems, under an OEM arrangement with Hydrodynex Inc [E2] Licensor Hydrosystemtechnik GmbH [/E2]</td>\n",
       "      <td>Licensor Hydrosystemtechnik GmbH</td>\n",
       "      <td>supplier</td>\n",
       "      <td>Hydrodynex Inc</td>\n",
       "      <td>customer</td>\n",
       "      <td>[0.0104429815, 3.67068e-05, 0.989520371]</td>\n",
       "      <td>3.670680e-05</td>\n",
       "    </tr>\n",
       "  </tbody>\n",
       "</table>\n",
       "</div>"
      ],
      "text/plain": [
       "                                                                                                                                                                                                                                                                                                                                                                                                                                                                                                                                                                                                               sents  \\\n",
       "20484                                                                                                                                                                                                                                                                                                                                                                                                            [E2] DILLARDS Inc [/E2] received income of approximately $112 million and $113 million from [E1] the Wells Fargo Alliance [/E1] and former Synchrony Alliance in fiscal 2014 and 2013, respectively   \n",
       "18841                                                                                                                                                                                                                                                                                                                                                                                                                                          the loss of client relationships, including PHH Corp private label and subservicing agreements, and/or [E1] PHH Corp [/E1] agreements with [E2] Realogy [/E2]; and/or   \n",
       "18331                                                                                                                                                                                                                                                                                                                                                                                                            [E1] DILLARDS Inc [/E1] received income of approximately $112 million and $113 million from [E2] the Wells Fargo Alliance [/E2] and former Synchrony Alliance in fiscal 2014 and 2013, respectively   \n",
       "18332                                                                                                                                                                                                                                                                                                                                                                                                            [E1] DILLARDS Inc [/E1] received income of approximately $112 million and $113 million from the Wells Fargo Alliance and former [E2] Synchrony Alliance [/E2] in fiscal 2014 and 2013, respectively   \n",
       "20485                                                                                                                                                                                                                                                                                                                                                                                                            [E2] DILLARDS Inc [/E2] received income of approximately $112 million and $113 million from the Wells Fargo Alliance and former [E1] Synchrony Alliance [/E1] in fiscal 2014 and 2013, respectively   \n",
       "20787                                                                                                                                                                                                                                                                                                                                                                                                                                          the loss of client relationships, including PHH Corp private label and subservicing agreements, and/or [E2] PHH Corp [/E2] agreements with [E1] Realogy [/E1]; and/or   \n",
       "20538                                                                                                                                                                                                                                                                                                                                                                                                                                                                                [E2] ELECTRO RENT Corp [/E2] reseller agreement with [E1] Keysight [/E1] was not renewed after its May 31, 2015 expiration date   \n",
       "18337                                                                                                                                                                                                                                                                                                                                                                                                  [E1] DILLARDS Inc [/E1] received income of approximately $91 million, $94 million and $101 million from the [E2] Wells Fargo [/E2] and former Synchrony alliances in fiscal 2019, 2018 and 2017, respectively   \n",
       "20488                                                                                                                                                                                                                                                                                                                                                                                                  [E2] DILLARDS Inc [/E2] received income of approximately $91 million, $94 million and $101 million from the [E1] Wells Fargo [/E1] and former Synchrony alliances in fiscal 2019, 2018 and 2017, respectively   \n",
       "3507                                                                                                                                                                                                                                                                                           In September 2016, Cobalt International announced that [E1] Cobalt International [/E1] entered into an amendment to Cobalt International drilling contract with [E2] Rowan Reliance Limited [/E2] and recorded a charge of $95.9 million, of which $76.3 million was paid in 2016 and $19.6 million was paid in 2017.   \n",
       "5513                                                                                                                                                                                                                                                                                           In September 2016, Cobalt International announced that [E2] Cobalt International [/E2] entered into an amendment to Cobalt International drilling contract with [E1] Rowan Reliance Limited [/E1] and recorded a charge of $95.9 million, of which $76.3 million was paid in 2016 and $19.6 million was paid in 2017.   \n",
       "18338                                                                                                                                                                                                                                                                                                                                                                                                  [E1] DILLARDS Inc [/E1] received income of approximately $91 million, $94 million and $101 million from the Wells Fargo and former [E2] Synchrony [/E2] alliances in fiscal 2019, 2018 and 2017, respectively   \n",
       "20489                                                                                                                                                                                                                                                                                                                                                                                                  [E2] DILLARDS Inc [/E2] received income of approximately $91 million, $94 million and $101 million from the Wells Fargo and former [E1] Synchrony [/E1] alliances in fiscal 2019, 2018 and 2017, respectively   \n",
       "19008                                                                                                                                                                                                                                                                                                                                                                                                                                                     Georgia Power has also entered into affiliate long term PPAs with [E2] Southern Power [/E2], some of which [E1] Georgia Power [/E1] accounts for as leases   \n",
       "18468                                                                                                                                                                                                                                                                                                                                                                                                                                                                                [E1] ELECTRO RENT Corp [/E1] reseller agreement with [E2] Keysight [/E2] was not renewed after its May 31, 2015 expiration date   \n",
       "20883                                                                                                                                                                                                                                                                                                                                                                                                                                                     Georgia Power has also entered into affiliate long term PPAs with [E1] Southern Power [/E1], some of which [E2] Georgia Power [/E2] accounts for as leases   \n",
       "20516                                                                                                                                                                                                                                                                                                                                                                                                                                            Keysight is Agilent Technologies Inc (\"[E1] Agilent Technologies Inc [/E1]\"), with whom [E2] ELECTRO RENT Corp [/E2] originally entered into the reseller agreement   \n",
       "18417                                                                                                                                                                                                                                                                                                                                                                                                                                            Keysight is Agilent Technologies Inc (\"[E2] Agilent Technologies Inc [/E2]\"), with whom [E1] ELECTRO RENT Corp [/E1] originally entered into the reseller agreement   \n",
       "13424                                                                                                                                                                                                  [E1] TAKE TWO INTERACTIVE SOFTWARE Inc [/E1] derive most of TAKE TWO INTERACTIVE SOFTWARE Inc revenue from the sale of products made for video game platforms manufactured by third parties, such as [E2] Sony [/E2]'s PS4 and PS3 and Microsoft's Xbox One and Xbox 360, which comprised 82.6% of TAKE TWO INTERACTIVE SOFTWARE Inc net revenue by product platform for the fiscal year ended March 31, 2016   \n",
       "15189                                                                                                                                                                                                  [E2] TAKE TWO INTERACTIVE SOFTWARE Inc [/E2] derive most of TAKE TWO INTERACTIVE SOFTWARE Inc revenue from the sale of products made for video game platforms manufactured by third parties, such as [E1] Sony [/E1]'s PS4 and PS3 and Microsoft's Xbox One and Xbox 360, which comprised 82.6% of TAKE TWO INTERACTIVE SOFTWARE Inc net revenue by product platform for the fiscal year ended March 31, 2016   \n",
       "14895                                                                                                                                                                                                             LUMINEX Corp have negotiated significant minimum women's health purchases from [E2] LabCorp [/E2] through June 2018, pursuant to which LabCorp committed to acquire no less than $63.1 million of LUMINEX Corp women's health products from January 1, 2017 through June 30, 2018; of which in 2017, LabCorp acquired approximately $36 million of [E1] LUMINEX Corp [/E1] women's health products   \n",
       "20586                                                                                                                                                                                                                                            Any decision by either party to not renew Hewlett Packard agreement with Canon or to limit or reduce the scope of the agreement could adversely affect Hewlett Packard net revenue from LaserJet products; however, [E2] Hewlett Packard [/E2] have a long standing business relationship with [E1] Canon [/E1] and do not anticipate non renewal of this agreement   \n",
       "12965                                                                                                                                                                                                             LUMINEX Corp have negotiated significant minimum women's health purchases from [E1] LabCorp [/E1] through June 2018, pursuant to which LabCorp committed to acquire no less than $63.1 million of LUMINEX Corp women's health products from January 1, 2017 through June 30, 2018; of which in 2017, LabCorp acquired approximately $36 million of [E2] LUMINEX Corp [/E2] women's health products   \n",
       "18530                                                                                                                                                                                                                                            Any decision by either party to not renew Hewlett Packard agreement with Canon or to limit or reduce the scope of the agreement could adversely affect Hewlett Packard net revenue from LaserJet products; however, [E1] Hewlett Packard [/E1] have a long standing business relationship with [E2] Canon [/E2] and do not anticipate non renewal of this agreement   \n",
       "13259                                                                                                                                                                              TAKE TWO INTERACTIVE SOFTWARE Inc's  derive most of TAKE TWO INTERACTIVE SOFTWARE Inc's  revenue from the sale of products made for video game platforms manufactured by third parties, such as [E2] Sony [/E2]'s PS3, Microsoft's Xbox 360 and Nintendo's Wii, which comprised approximately 79.5% of [E1] TAKE TWO INTERACTIVE SOFTWARE Inc's [/E1] 's net revenue by product platform for the fiscal year ended March 31, 2013   \n",
       "10668                                                                                                                                             In any event of termination by KHK, unless such termination is the result of KHK's termination for certain types of breach of the agreement by Ultragenyx Pharmaceutical Inc, [E2] Ultragenyx Pharmaceutical Inc [/E2] may receive low single digit to low double digit royalties on net post termination sales by [E1] KHK [/E1] in one or more countries or territories, the amount of which varies depending on the timing of, and reason for, such termination   \n",
       "9352                                                                                                                                              In any event of termination by KHK, unless such termination is the result of KHK's termination for certain types of breach of the agreement by Ultragenyx Pharmaceutical Inc, [E1] Ultragenyx Pharmaceutical Inc [/E1] may receive low single digit to low double digit royalties on net post termination sales by [E2] KHK [/E2] in one or more countries or territories, the amount of which varies depending on the timing of, and reason for, such termination   \n",
       "13261                                                                                                                                                                              TAKE TWO INTERACTIVE SOFTWARE Inc's  derive most of TAKE TWO INTERACTIVE SOFTWARE Inc's  revenue from the sale of products made for video game platforms manufactured by third parties, such as Sony's PS3, Microsoft's Xbox 360 and [E2] Nintendo [/E2]'s Wii, which comprised approximately 79.5% of [E1] TAKE TWO INTERACTIVE SOFTWARE Inc's [/E1] 's net revenue by product platform for the fiscal year ended March 31, 2013   \n",
       "15077                                                                                                                                                                              TAKE TWO INTERACTIVE SOFTWARE Inc's  derive most of TAKE TWO INTERACTIVE SOFTWARE Inc's  revenue from the sale of products made for video game platforms manufactured by third parties, such as Sony's PS3, Microsoft's Xbox 360 and [E1] Nintendo [/E1]'s Wii, which comprised approximately 79.5% of [E2] TAKE TWO INTERACTIVE SOFTWARE Inc's [/E2] 's net revenue by product platform for the fiscal year ended March 31, 2013   \n",
       "15075                                                                                                                                                                              TAKE TWO INTERACTIVE SOFTWARE Inc's  derive most of TAKE TWO INTERACTIVE SOFTWARE Inc's  revenue from the sale of products made for video game platforms manufactured by third parties, such as [E1] Sony [/E1]'s PS3, Microsoft's Xbox 360 and Nintendo's Wii, which comprised approximately 79.5% of [E2] TAKE TWO INTERACTIVE SOFTWARE Inc's [/E2] 's net revenue by product platform for the fiscal year ended March 31, 2013   \n",
       "15534  While Sucampo Pharmaceuticals Inc are currently utilizing R Tech to perform these manufacturing functions and rely on Takeda and [E2] Abbott [/E2] to perform many of these sales and marketing functions with respect to the sale of AMITIZA in the respective territories, [E1] Sucampo Pharmaceuticals Inc [/E1] may nevertheless encounter unforeseen expenses, difficulties, complications and delays as Sucampo Pharmaceuticals Inc establish these commercial functions for AMITIZA and RESCULA and for other products for which Sucampo Pharmaceuticals Inc may receive regulatory marketing approval   \n",
       "14013  While Sucampo Pharmaceuticals Inc are currently utilizing R Tech to perform these manufacturing functions and rely on Takeda and [E1] Abbott [/E1] to perform many of these sales and marketing functions with respect to the sale of AMITIZA in the respective territories, [E2] Sucampo Pharmaceuticals Inc [/E2] may nevertheless encounter unforeseen expenses, difficulties, complications and delays as Sucampo Pharmaceuticals Inc establish these commercial functions for AMITIZA and RESCULA and for other products for which Sucampo Pharmaceuticals Inc may receive regulatory marketing approval   \n",
       "1820                                                                                                                                                                                                                                                                                                                                                                                                       Since NGL Energy Partners December 2013 acquisition of Gavilon Energy, [E1] NGL Energy Partners [/E1] have purchased crude oil and natural gas from and sold crude oil and natural gas to [E2] WPX [/E2].   \n",
       "15190                                                                                                                                                                                                  TAKE TWO INTERACTIVE SOFTWARE Inc derive most of TAKE TWO INTERACTIVE SOFTWARE Inc revenue from the sale of products made for video game platforms manufactured by third parties, such as Sony's PS4 and PS3 and [E1] Microsoft [/E1]'s Xbox One and Xbox 360, which comprised 82.6% of [E2] TAKE TWO INTERACTIVE SOFTWARE Inc [/E2] net revenue by product platform for the fiscal year ended March 31, 2016   \n",
       "27059                                                                                                                                            [E1] IMMUNOGEN INC [/E1] reports that Included in license and milestone fees for the year ended June 30, 2009 was a $6.5 million milestone related to the initiation of Phase III clinical testing of trastuzumab emtansine, or T DM1, by Roche, a $4 million milestone related to the initiation of Phase II clinical testing of AVE1642 by Sanofi and a $500,000 milestone related to the initiation of Phase I clinical testing of BT 062 by [E2] Biotest [/E2].   \n",
       "23877                                                                                                                                            [E2] IMMUNOGEN INC [/E2] reports that Included in license and milestone fees for the year ended June 30, 2009 was a $6.5 million milestone related to the initiation of Phase III clinical testing of trastuzumab emtansine, or T DM1, by [E1] Roche [/E1], a $4 million milestone related to the initiation of Phase II clinical testing of AVE1642 by Sanofi and a $500,000 milestone related to the initiation of Phase I clinical testing of BT 062 by Biotest.   \n",
       "13425                                                                                                                                                                                                  TAKE TWO INTERACTIVE SOFTWARE Inc derive most of TAKE TWO INTERACTIVE SOFTWARE Inc revenue from the sale of products made for video game platforms manufactured by third parties, such as Sony's PS4 and PS3 and [E2] Microsoft [/E2]'s Xbox One and Xbox 360, which comprised 82.6% of [E1] TAKE TWO INTERACTIVE SOFTWARE Inc [/E1] net revenue by product platform for the fiscal year ended March 31, 2016   \n",
       "27058                                                                                                                                            [E1] IMMUNOGEN INC [/E1] reports that Included in license and milestone fees for the year ended June 30, 2009 was a $6.5 million milestone related to the initiation of Phase III clinical testing of trastuzumab emtansine, or T DM1, by Roche, a $4 million milestone related to the initiation of Phase II clinical testing of AVE1642 by [E2] Sanofi [/E2] and a $500,000 milestone related to the initiation of Phase I clinical testing of BT 062 by Biotest.   \n",
       "23878                                                                                                                                            [E2] IMMUNOGEN INC [/E2] reports that Included in license and milestone fees for the year ended June 30, 2009 was a $6.5 million milestone related to the initiation of Phase III clinical testing of trastuzumab emtansine, or T DM1, by Roche, a $4 million milestone related to the initiation of Phase II clinical testing of AVE1642 by [E1] Sanofi [/E1] and a $500,000 milestone related to the initiation of Phase I clinical testing of BT 062 by Biotest.   \n",
       "20514                                                                                                                                                                                                                                                                                                                                                                             [E1] EL PASO ELECTRIC Co [/E1] recovers fuel and purchased power costs from the Rio Grande Electric Coop (\"[E2] the Rio Grande Electric Coop [/E2]\") pursuant to an ongoing contract with a two year notice to terminate provision   \n",
       "27057                                                                                                                                            [E1] IMMUNOGEN INC [/E1] reports that Included in license and milestone fees for the year ended June 30, 2009 was a $6.5 million milestone related to the initiation of Phase III clinical testing of trastuzumab emtansine, or T DM1, by [E2] Roche [/E2], a $4 million milestone related to the initiation of Phase II clinical testing of AVE1642 by Sanofi and a $500,000 milestone related to the initiation of Phase I clinical testing of BT 062 by Biotest.   \n",
       "23879                                                                                                                                            [E2] IMMUNOGEN INC [/E2] reports that Included in license and milestone fees for the year ended June 30, 2009 was a $6.5 million milestone related to the initiation of Phase III clinical testing of trastuzumab emtansine, or T DM1, by Roche, a $4 million milestone related to the initiation of Phase II clinical testing of AVE1642 by Sanofi and a $500,000 milestone related to the initiation of Phase I clinical testing of BT 062 by [E1] Biotest [/E1].   \n",
       "24176                                  If NuStar fails to operate any portion of the McKee products system in accordance with the terms of Valero Energy Corp operating agreement with them, such failure could result in Valero Energy Corp inability to meet Valero Energy Corp commitments to Valero, which in turn could result in a reduction in Valero Energy Corp revenues, or in [E1] Valero Energy Corp [/E1] becoming liable to Valero for any losses it may sustain by reason of Valero Energy Corp failure to comply, which losses may not be recoverable by Valero Energy Corp from [E2] NuStar [/E2] .   \n",
       "27136                                                                                                                                                                                     In 2012, EchoStar Corp began performing a number of the corporate functions for ourselves and EchoStar Corp subsidiaries that were formerly performed on EchoStar Corp behalf by DISH Network Corporation and its subsidiaries “[E2] DISH Network Corporation [/E2]”, pursuant to the management services agreement and the professional services agreement between [E1] EchoStar Corp [/E1] and DISH Network Corporation.   \n",
       "26012                                                                                                                                                                                                                                                                                                                                                                  [E2] Insight Enterprises Inc [/E2] partner with providers to deliver solutions around collaboration and messaging, managed security and data management including Microsoft , Symantec, CA Technologies, [E1] IBM [/E1], McAfee and DataPipe.   \n",
       "13260                                                                                                                                                                              TAKE TWO INTERACTIVE SOFTWARE Inc's  derive most of [E1] TAKE TWO INTERACTIVE SOFTWARE Inc's [/E1]  revenue from the sale of products made for video game platforms manufactured by third parties, such as Sony's PS3, [E2] Microsoft [/E2]'s Xbox 360 and Nintendo's Wii, which comprised approximately 79.5% of TAKE TWO INTERACTIVE SOFTWARE Inc's 's net revenue by product platform for the fiscal year ended March 31, 2013   \n",
       "21945                                                                                                                                                                                                                                                                                                                                                                  [E1] Insight Enterprises Inc [/E1] partner with providers to deliver solutions around collaboration and messaging, managed security and data management including Microsoft , Symantec, CA Technologies, [E2] IBM [/E2], McAfee and DataPipe.   \n",
       "24017                                                                                                                                                                                     In 2012, EchoStar Corp began performing a number of the corporate functions for ourselves and EchoStar Corp subsidiaries that were formerly performed on EchoStar Corp behalf by DISH Network Corporation and its subsidiaries “[E1] DISH Network Corporation [/E1]”, pursuant to the management services agreement and the professional services agreement between [E2] EchoStar Corp [/E2] and DISH Network Corporation.   \n",
       "27213                                  If NuStar fails to operate any portion of the McKee products system in accordance with the terms of Valero Energy Corp operating agreement with them, such failure could result in Valero Energy Corp inability to meet Valero Energy Corp commitments to Valero, which in turn could result in a reduction in Valero Energy Corp revenues, or in [E2] Valero Energy Corp [/E2] becoming liable to Valero for any losses it may sustain by reason of Valero Energy Corp failure to comply, which losses may not be recoverable by Valero Energy Corp from [E1] NuStar [/E1] .   \n",
       "26011                                                                                                                                                                                                                                                                                                                                                                  [E2] Insight Enterprises Inc [/E2] partner with providers to deliver solutions around collaboration and messaging, managed security and data management including Microsoft , Symantec, [E1] CA Technologies [/E1], IBM, McAfee and DataPipe.   \n",
       "14012  While Sucampo Pharmaceuticals Inc are currently utilizing R Tech to perform these manufacturing functions and rely on [E1] Takeda [/E1] and Abbott to perform many of these sales and marketing functions with respect to the sale of AMITIZA in the respective territories, Sucampo Pharmaceuticals Inc may nevertheless encounter unforeseen expenses, difficulties, complications and delays as Sucampo Pharmaceuticals Inc establish these commercial functions for AMITIZA and RESCULA and for other products for which [E2] Sucampo Pharmaceuticals Inc [/E2] may receive regulatory marketing approval   \n",
       "15533  While Sucampo Pharmaceuticals Inc are currently utilizing R Tech to perform these manufacturing functions and rely on [E2] Takeda [/E2] and Abbott to perform many of these sales and marketing functions with respect to the sale of AMITIZA in the respective territories, Sucampo Pharmaceuticals Inc may nevertheless encounter unforeseen expenses, difficulties, complications and delays as Sucampo Pharmaceuticals Inc establish these commercial functions for AMITIZA and RESCULA and for other products for which [E1] Sucampo Pharmaceuticals Inc [/E1] may receive regulatory marketing approval   \n",
       "26138                                                                                                                                                                                                                                                                                                                                                                                                                                                 [E1] ATLANTIC POWER CORP [/E1] reports that The Williams Lake energy purchase agreement may extend to September 30, 2019 at the option of [E2] BC Hydro [/E2].   \n",
       "27099                                                                                                                                                                                                                                                                                                                                                                                                                                                         [E1] Anika Therapeutics Inc [/E1] reports that In mid 2005, the agreement was assigned to [E2] DePuy Mitek Inc [/E2], a subsidiary of Johnson Johnson.   \n",
       "23947                                                                                                                                                                                                                                                                                                                                                                                                                                                         [E2] Anika Therapeutics Inc [/E2] reports that In mid 2005, the agreement was assigned to [E1] DePuy Mitek Inc [/E1], a subsidiary of Johnson Johnson.   \n",
       "22802                                                                                                                                                                        The complete loss of, or significant reduction in business from, or a material adverse change in the financial condition of, Wal Mart or [E1] Target [/E1] would cause a material and adverse change in [E2] EMERSON RADIO Corp’s [/E2] revenues and operating results see Item 1A “Risk Factors — Business Related Risks — “Uncertain Impact of Appointment of Provisional Liquidators for Grande, Emerson’s Controlling Shareholder”.   \n",
       "26491                                                                                                                                                                        The complete loss of, or significant reduction in business from, or a material adverse change in the financial condition of, Wal Mart or [E2] Target [/E2] would cause a material and adverse change in [E1] EMERSON RADIO Corp’s [/E1] revenues and operating results see Item 1A “Risk Factors — Business Related Risks — “Uncertain Impact of Appointment of Provisional Liquidators for Grande, Emerson’s Controlling Shareholder”.   \n",
       "20577                                                                                                                                                                                                                                                                                                                                                      In addition, [E2] Lockheed Martin [/E2] awarded [E1] AEROJET ROCKETDYNE HOLDINGS Inc [/E1] a contract to support production of NASA's Orion spacecraft fleet for Artemis missions three through five with an option to support missions six through eight   \n",
       "21947                                                                                                                                                                                                                                                                                                                                                                  [E1] Insight Enterprises Inc [/E1] partner with providers to deliver solutions around collaboration and messaging, managed security and data management including Microsoft , Symantec, CA Technologies, IBM, McAfee and [E2] DataPipe [/E2].   \n",
       "26490                                                                                                                                                                        The complete loss of, or significant reduction in business from, or a material adverse change in the financial condition of, [E2] Wal Mart [/E2] or Target would cause a material and adverse change in [E1] EMERSON RADIO Corp’s [/E1] revenues and operating results see Item 1A “Risk Factors — Business Related Risks — “Uncertain Impact of Appointment of Provisional Liquidators for Grande, Emerson’s Controlling Shareholder”.   \n",
       "21944                                                                                                                                                                                                                                                                                                                                                                  [E1] Insight Enterprises Inc [/E1] partner with providers to deliver solutions around collaboration and messaging, managed security and data management including Microsoft , Symantec, [E2] CA Technologies [/E2], IBM, McAfee and DataPipe.   \n",
       "22801                                                                                                                                                                        The complete loss of, or significant reduction in business from, or a material adverse change in the financial condition of, [E1] Wal Mart [/E1] or Target would cause a material and adverse change in [E2] EMERSON RADIO Corp’s [/E2] revenues and operating results see Item 1A “Risk Factors — Business Related Risks — “Uncertain Impact of Appointment of Provisional Liquidators for Grande, Emerson’s Controlling Shareholder”.   \n",
       "21379                                                                                                                                                                                                                                            Any decision by either party to not renew [E2] Hewlett Packard [/E2] agreement with [E1] Canon [/E1] or to limit or reduce the scope of the agreement could adversely affect Hewlett Packard net revenue from LaserJet products; however, Hewlett Packard have a long standing business relationship with Canon and do not anticipate non renewal of this agreement   \n",
       "26010                                                                                                                                                                                                                                                                                                                                                                  [E2] Insight Enterprises Inc [/E2] partner with providers to deliver solutions around collaboration and messaging, managed security and data management including Microsoft , [E1] Symantec [/E1], CA Technologies, IBM, McAfee and DataPipe.   \n",
       "22206                                                                                                                                                                                                                                                                                                                                                                                                                                                 [E2] ATLANTIC POWER CORP [/E2] reports that The Williams Lake energy purchase agreement may extend to September 30, 2019 at the option of [E1] BC Hydro [/E1].   \n",
       "21943                                                                                                                                                                                                                                                                                                                                                                  [E1] Insight Enterprises Inc [/E1] partner with providers to deliver solutions around collaboration and messaging, managed security and data management including Microsoft , [E2] Symantec [/E2], CA Technologies, IBM, McAfee and DataPipe.   \n",
       "4623                                                                                                                                                                                                                                                                                                                                                                                                       Since NGL Energy Partners December 2013 acquisition of Gavilon Energy, [E2] NGL Energy Partners [/E2] have purchased crude oil and natural gas from and sold crude oil and natural gas to [E1] WPX [/E1].   \n",
       "26014                                                                                                                                                                                                                                                                                                                                                                  [E2] Insight Enterprises Inc [/E2] partner with providers to deliver solutions around collaboration and messaging, managed security and data management including Microsoft , Symantec, CA Technologies, IBM, McAfee and [E1] DataPipe [/E1].   \n",
       "8640                                                                                                                                                                                                                On November 25, 2013, [E2] Sypris Technologies Inc [/E2] initiated an arbitration proceeding against [E1] Dana Limited [/E1] under the Non Administered Arbitration Rules of the International Institute for Conflict Prevention and Resolution alleging that Dana Limited had entered and then repudiated a five year extension of the parties' long term supply agreement, to run through 2019   \n",
       "26013                                                                                                                                                                                                                                                                                                                                                                  [E2] Insight Enterprises Inc [/E2] partner with providers to deliver solutions around collaboration and messaging, managed security and data management including Microsoft , Symantec, CA Technologies, IBM, [E1] McAfee [/E1] and DataPipe.   \n",
       "18415                                                                                                                                                                                                                                                                                                                                                                             [E2] EL PASO ELECTRIC Co [/E2] recovers fuel and purchased power costs from the Rio Grande Electric Coop (\"[E1] the Rio Grande Electric Coop [/E1]\") pursuant to an ongoing contract with a two year notice to terminate provision   \n",
       "24750                                                                                                                                                                                                                                                                                                                                                 INTERMOLECULAR Inc have agreed to recommend [E1] ATMI [/E1] materials to INTERMOLECULAR Inc customers in these CDPs, provided that the ATMI materials are timely available, meet [E2] INTERMOLECULAR Inc [/E2] customer requirements and are cost competitive.   \n",
       "10215                                                                                                                                                                                                               On November 25, 2013, [E1] Sypris Technologies Inc [/E1] initiated an arbitration proceeding against [E2] Dana Limited [/E2] under the Non Administered Arbitration Rules of the International Institute for Conflict Prevention and Resolution alleging that Dana Limited had entered and then repudiated a five year extension of the parties' long term supply agreement, to run through 2019   \n",
       "21942                                                                                                                                                                                                                                                                                                                                                                  [E1] Insight Enterprises Inc [/E1] partner with providers to deliver solutions around collaboration and messaging, managed security and data management including [E2] Microsoft [/E2] , Symantec, CA Technologies, IBM, McAfee and DataPipe.   \n",
       "19940                                                                                                                                                                                                                                            Any decision by either party to not renew [E1] Hewlett Packard [/E1] agreement with [E2] Canon [/E2] or to limit or reduce the scope of the agreement could adversely affect Hewlett Packard net revenue from LaserJet products; however, Hewlett Packard have a long standing business relationship with Canon and do not anticipate non renewal of this agreement   \n",
       "26009                                                                                                                                                                                                                                                                                                                                                                  [E2] Insight Enterprises Inc [/E2] partner with providers to deliver solutions around collaboration and messaging, managed security and data management including [E1] Microsoft [/E1] , Symantec, CA Technologies, IBM, McAfee and DataPipe.   \n",
       "9227                                                                                                                                                                   [E1] Ultragenyx Pharmaceutical Inc [/E1] reports that Once the repayment obligation to Takeda is determinable, then any excess of the total arrangement consideration over the repayment obligation to [E2] Takeda [/E2], if any, will be classified as deferred revenue, allocated to the deliverables on a relative fair value basis, and subsequently will be recognized as collaboration revenue as the underlying services are performed   \n",
       "26069                                                                                                                                                                                                             There can be no assurances, therefore, as to: i the timing or the number of any new customer accounts migrated to CSG SYSTEMS INTERNATIONAL Inc by Comcast; or ii whether the [E2] Comcast [/E2] and Time Warner merger will be consummated, and whether Comcast would choose to migrate any of the acquired Time Warner customer accounts onto [E1] CSG SYSTEMS INTERNATIONAL Inc [/E1] platform.   \n",
       "21946                                                                                                                                                                                                                                                                                                                                                                  [E1] Insight Enterprises Inc [/E1] partner with providers to deliver solutions around collaboration and messaging, managed security and data management including Microsoft , Symantec, CA Technologies, IBM, [E2] McAfee [/E2] and DataPipe.   \n",
       "8874                                                                                                                            Due to the termination of NTN BUZZTIME Inc relationship with Buffalo Wild Wings corporate owned restaurants and most of its franchisees in November 2019, [E1] Buffalo Wild Wings [/E1] offered [E2] NTN BUZZTIME Inc [/E2] the opportunity to take back title to all of the tablets, cases and charging trays located at sites that terminated service with NTN BUZZTIME Inc at zero cost to NTN BUZZTIME Inc other than for shipping and related charges of approximately $175,000   \n",
       "14107                                                                                                               This shift in business model was not successful as MABWE MINERALS Inc had not generated any revenues from licensing agreements until July 5, 2011, at which time [E2] MABWE MINERALS Inc [/E2] entered into an agreement with California Capital Equity LLC (\"California Capital Equity LLC\") granting [E1] California Capital Equity LLC [/E1] an exclusive license (even as to MABWE MINERALS Inc) leaving MABWE MINERALS Inc without any continuing rights in or to its intellectual property   \n",
       "10353                                                                                                                           Due to the termination of NTN BUZZTIME Inc relationship with Buffalo Wild Wings corporate owned restaurants and most of its franchisees in November 2019, [E2] Buffalo Wild Wings [/E2] offered [E1] NTN BUZZTIME Inc [/E1] the opportunity to take back title to all of the tablets, cases and charging trays located at sites that terminated service with NTN BUZZTIME Inc at zero cost to NTN BUZZTIME Inc other than for shipping and related charges of approximately $175,000   \n",
       "26885                                                                                                                                                                        In addition, [E1] KLONDEX MINES Ltd [/E1] entered into a Gold Offering Agreement with [E2] Waterton Global Value [/E2], L.P. “Waterton”, dated March 31, 2011, as amended and restated October 4, 2011 the \"Gold Supply Agreement\", in which KLONDEX MINES Ltd granted Waterton the right to purchase refined bullion as defined therein produced from Fire Creek, on a monthly basis, for a five year period ending February 28, 2018.   \n",
       "10578                                                                                                                                                                  [E2] Ultragenyx Pharmaceutical Inc [/E2] reports that Once the repayment obligation to Takeda is determinable, then any excess of the total arrangement consideration over the repayment obligation to [E1] Takeda [/E1], if any, will be classified as deferred revenue, allocated to the deliverables on a relative fair value basis, and subsequently will be recognized as collaboration revenue as the underlying services are performed   \n",
       "26511                                                                                                                                                                                                                                                                                                                                                                                                                                                                                                   [E1] UniTek Global Services Inc [/E1] Northeast Turf Agreement with [E2] ATT [/E2] concludes in August 2014.   \n",
       "22839                                                                                                                                                                                                                                                                                                                                                                                                                                                                                                   [E2] UniTek Global Services Inc [/E2] Northeast Turf Agreement with [E1] ATT [/E1] concludes in August 2014.   \n",
       "22056                                                                                                                                                                                                             There can be no assurances, therefore, as to: i the timing or the number of any new customer accounts migrated to CSG SYSTEMS INTERNATIONAL Inc by Comcast; or ii whether the [E1] Comcast [/E1] and Time Warner merger will be consummated, and whether Comcast would choose to migrate any of the acquired Time Warner customer accounts onto [E2] CSG SYSTEMS INTERNATIONAL Inc [/E2] platform.   \n",
       "14913                                                                                                                     In Mexico, [E2] NII HOLDINGS Inc [/E2] subscriber base, operating revenues and operating cash flows were negatively impacted by [E1] Sprint [/E1]'s decision to deactivate its iDEN network in the US in mid 2013 and NII HOLDINGS Inc failure to effectively deploy and optimize NII HOLDINGS Inc WCDMA network to meet the needs of customers who were seeking new services to replace their iDEN services, particularly customers living in areas near the border of Mexico and the U.S   \n",
       "12620                                                                                                                                                                                      In 2011, [E1] ALLERGAN Inc [/E1] recorded income tax benefits of $22.2 million and $7.4 million, respectively, associated with the upfront payment and regulatory milestone payment related to the collaboration and co promotion agreement with [E2] MAP [/E2] and income tax benefits of $4.6 million associated with the upfront payment related to the collaboration and license agreement with Molecular Partners AG   \n",
       "8156                                                                                             In the event that Vanda Pharmaceuticals Inc terminate Vanda Pharmaceuticals Inc license, or if Lilly terminates Vanda Pharmaceuticals Inc license for the reasons stated above, all of Vanda Pharmaceuticals Inc rights to tradipitant (including any intellectual property Vanda Pharmaceuticals Inc develop with respect to tradipitant) will revert back to Lilly, subject to payment by [E2] Lilly [/E2] to [E1] Vanda Pharmaceuticals Inc [/E1] of a royalty on net sales of products that contain tradipitant   \n",
       "23526                                                                                                                                                                        In addition, [E2] KLONDEX MINES Ltd [/E2] entered into a Gold Offering Agreement with [E1] Waterton Global Value [/E1], L.P. “Waterton”, dated March 31, 2011, as amended and restated October 4, 2011 the \"Gold Supply Agreement\", in which KLONDEX MINES Ltd granted Waterton the right to purchase refined bullion as defined therein produced from Fire Creek, on a monthly basis, for a five year period ending February 28, 2018.   \n",
       "8028                                                                                      [E1] Allergan PLC [/E1] reports that The provision for rebates as a percentage of gross product sales has increased from 15.2% in 2011, to 15.7% in 2012 and to 16.4% in 2013 primarily related to the increase in commercial rebates of the branded business due in large part to the Warner Chilcott Acquisition and the growth of international revenues as a result of the acquisitions of [E2] Specifar [/E2] in 2011 and Ascent and Actavis in January and October 2012, respectively, in the Actavis Pharma segment   \n",
       "14689                                                                                                                                                                                      In 2011, [E2] ALLERGAN Inc [/E2] recorded income tax benefits of $22.2 million and $7.4 million, respectively, associated with the upfront payment and regulatory milestone payment related to the collaboration and co promotion agreement with [E1] MAP [/E1] and income tax benefits of $4.6 million associated with the upfront payment related to the collaboration and license agreement with Molecular Partners AG   \n",
       "21670                                                                                       Although Telenav Inc have negotiated revenue sharing for advertising Telenav Inc provide to Sprint customers and premium subscription fees, in the event [E1] Sprint [/E1] no longer provides Telenav Inc with material compensation for the inclusion of Telenav Inc navigation services in Sprint bundled service offerings, [E2] Telenav Inc [/E2] believe that Telenav Inc revenue would decline substantially and Telenav Inc other sources of revenue from Sprint would not offset the shortfall in the near term.   \n",
       "25878                                                                                       Although Telenav Inc have negotiated revenue sharing for advertising Telenav Inc provide to Sprint customers and premium subscription fees, in the event [E2] Sprint [/E2] no longer provides Telenav Inc with material compensation for the inclusion of Telenav Inc navigation services in Sprint bundled service offerings, [E1] Telenav Inc [/E1] believe that Telenav Inc revenue would decline substantially and Telenav Inc other sources of revenue from Sprint would not offset the shortfall in the near term.   \n",
       "14438                                                              In the case of SEATTLE GENETICS Inc other collaboration and license agreements, such as SEATTLE GENETICS Inc ADCETRIS collaboration with Millennium or SEATTLE GENETICS Inc co development agreement with [E2] Agensys [/E2], SEATTLE GENETICS Inc proprietary products or product candidates may be covered by the collaboration or [E1] SEATTLE GENETICS Inc [/E1] may be involved in certain development activities; however, the achievement of milestone events under these agreements is based on activities undertaken by the collaborator   \n",
       "18517                                                                                                                                                                                                                                                                                                                                                      In addition, [E1] Lockheed Martin [/E1] awarded [E2] AEROJET ROCKETDYNE HOLDINGS Inc [/E2] a contract to support production of NASA's Orion spacecraft fleet for Artemis missions three through five with an option to support missions six through eight   \n",
       "9518                                                                                                                     Effective March 23, 2017, [E1] TAKE TWO INTERACTIVE SOFTWARE Inc [/E1] entered into a PlayStation Global Developer and Publisher Agreement with [E2] Sony Computer Entertainment Inc [/E2] and certain of its affiliates, pursuant to which Sony granted TAKE TWO INTERACTIVE SOFTWARE Inc the right and license to develop, publish, have manufactured, market, advertise, distribute and sell PlayStation compatible products for all PlayStation systems, including the PS4, PS3 and PSP   \n",
       "3600                                                                                                                                                                                                                                                                                                                                                                                                                                     [E1] Palo Alto Networks Inc [/E1] contract with [E2] Flextronics [/E2] permits them to terminate the agreement for their convenience, subject to prior notice requirements.   \n",
       "8758                                                                                     In phase one of [E1] Hydrodynex Inc [/E1] multiphase marketing plan, subject to successful renegotiation of Hydrodynex Inc license agreement, payment for and receipt of the AO System test reactor unit, and subsequently, receipt of approval from the EPA, of which there is no assurance, Hydrodynex Inc intend to market and sell the AO System, a device that disinfects potable water systems and industrial water systems, under an OEM arrangement with Hydrodynex Inc [E2] Licensor Hydrosystemtechnik GmbH [/E2]   \n",
       "\n",
       "                                  entity_2 relations  \\\n",
       "20484                         DILLARDS Inc  customer   \n",
       "18841                              Realogy  supplier   \n",
       "18331             the Wells Fargo Alliance  supplier   \n",
       "18332                   Synchrony Alliance  supplier   \n",
       "20485                         DILLARDS Inc  customer   \n",
       "20787                             PHH Corp  customer   \n",
       "20538                    ELECTRO RENT Corp  customer   \n",
       "18337                          Wells Fargo  supplier   \n",
       "20488                         DILLARDS Inc  customer   \n",
       "3507                Rowan Reliance Limited  supplier   \n",
       "5513                  Cobalt International  customer   \n",
       "18338                            Synchrony  supplier   \n",
       "20489                         DILLARDS Inc  customer   \n",
       "19008                       Southern Power  supplier   \n",
       "18468                             Keysight  supplier   \n",
       "20883                        Georgia Power  customer   \n",
       "20516                    ELECTRO RENT Corp  customer   \n",
       "18417             Agilent Technologies Inc  supplier   \n",
       "13424                                 Sony  supplier   \n",
       "15189    TAKE TWO INTERACTIVE SOFTWARE Inc  customer   \n",
       "14895                              LabCorp  customer   \n",
       "20586                      Hewlett Packard  customer   \n",
       "12965                         LUMINEX Corp  supplier   \n",
       "18530                                Canon  supplier   \n",
       "13259                                 Sony  supplier   \n",
       "10668        Ultragenyx Pharmaceutical Inc  customer   \n",
       "9352                                   KHK  supplier   \n",
       "13261                             Nintendo  supplier   \n",
       "15077  TAKE TWO INTERACTIVE SOFTWARE Inc's  customer   \n",
       "15075  TAKE TWO INTERACTIVE SOFTWARE Inc's  customer   \n",
       "15534                               Abbott  customer   \n",
       "14013          Sucampo Pharmaceuticals Inc  supplier   \n",
       "1820                                   WPX  supplier   \n",
       "15190    TAKE TWO INTERACTIVE SOFTWARE Inc  customer   \n",
       "27059                              Biotest  customer   \n",
       "23877                        IMMUNOGEN INC  supplier   \n",
       "13425                            Microsoft  supplier   \n",
       "27058                               Sanofi  customer   \n",
       "23878                        IMMUNOGEN INC  supplier   \n",
       "20514         the Rio Grande Electric Coop  customer   \n",
       "27057                                Roche  customer   \n",
       "23879                        IMMUNOGEN INC  supplier   \n",
       "24176                               NuStar  supplier   \n",
       "27136             DISH Network Corporation  customer   \n",
       "26012              Insight Enterprises Inc  customer   \n",
       "13260                            Microsoft  supplier   \n",
       "21945                                  IBM  supplier   \n",
       "24017                        EchoStar Corp  supplier   \n",
       "27213                   Valero Energy Corp  customer   \n",
       "26011              Insight Enterprises Inc  customer   \n",
       "14012          Sucampo Pharmaceuticals Inc  supplier   \n",
       "15533                               Takeda  customer   \n",
       "26138                             BC Hydro  customer   \n",
       "27099                      DePuy Mitek Inc  customer   \n",
       "23947               Anika Therapeutics Inc  supplier   \n",
       "22802                 EMERSON RADIO Corp’s  supplier   \n",
       "26491                               Target  customer   \n",
       "20577                      Lockheed Martin  customer   \n",
       "21947                             DataPipe  supplier   \n",
       "26490                             Wal Mart  customer   \n",
       "21944                      CA Technologies  supplier   \n",
       "22801                 EMERSON RADIO Corp’s  supplier   \n",
       "21379                      Hewlett Packard  customer   \n",
       "26010              Insight Enterprises Inc  customer   \n",
       "22206                  ATLANTIC POWER CORP  supplier   \n",
       "21943                             Symantec  supplier   \n",
       "4623                   NGL Energy Partners  customer   \n",
       "26014              Insight Enterprises Inc  customer   \n",
       "8640               Sypris Technologies Inc  supplier   \n",
       "26013              Insight Enterprises Inc  customer   \n",
       "18415                  EL PASO ELECTRIC Co  supplier   \n",
       "24750                   INTERMOLECULAR Inc     other   \n",
       "10215                         Dana Limited  customer   \n",
       "21942                            Microsoft  supplier   \n",
       "19940                                Canon  supplier   \n",
       "26009              Insight Enterprises Inc  customer   \n",
       "9227                                Takeda  supplier   \n",
       "26069                              Comcast  customer   \n",
       "21946                               McAfee  supplier   \n",
       "8874                      NTN BUZZTIME Inc  supplier   \n",
       "14107                   MABWE MINERALS Inc     other   \n",
       "10353                   Buffalo Wild Wings  customer   \n",
       "26885                Waterton Global Value  customer   \n",
       "10578        Ultragenyx Pharmaceutical Inc  customer   \n",
       "26511                                  ATT  customer   \n",
       "22839           UniTek Global Services Inc  supplier   \n",
       "22056        CSG SYSTEMS INTERNATIONAL Inc  supplier   \n",
       "14913                     NII HOLDINGS Inc  customer   \n",
       "12620                                  MAP  supplier   \n",
       "8156                                 Lilly  supplier   \n",
       "23526                    KLONDEX MINES Ltd  supplier   \n",
       "8028                              Specifar  supplier   \n",
       "14689                         ALLERGAN Inc  customer   \n",
       "21670                          Telenav Inc  supplier   \n",
       "25878                               Sprint  customer   \n",
       "14438                              Agensys  supplier   \n",
       "18517      AEROJET ROCKETDYNE HOLDINGS Inc  supplier   \n",
       "9518       Sony Computer Entertainment Inc  supplier   \n",
       "3600                           Flextronics  supplier   \n",
       "8758      Licensor Hydrosystemtechnik GmbH  supplier   \n",
       "\n",
       "                                  entity_1 prediction  \\\n",
       "20484             the Wells Fargo Alliance   supplier   \n",
       "18841                             PHH Corp   customer   \n",
       "18331                         DILLARDS Inc   customer   \n",
       "18332                         DILLARDS Inc   customer   \n",
       "20485                   Synchrony Alliance   supplier   \n",
       "20787                              Realogy   supplier   \n",
       "20538                             Keysight   supplier   \n",
       "18337                         DILLARDS Inc   customer   \n",
       "20488                          Wells Fargo   supplier   \n",
       "3507                  Cobalt International   customer   \n",
       "5513                Rowan Reliance Limited   supplier   \n",
       "18338                         DILLARDS Inc   customer   \n",
       "20489                            Synchrony   supplier   \n",
       "19008                        Georgia Power   customer   \n",
       "18468                    ELECTRO RENT Corp   customer   \n",
       "20883                       Southern Power   supplier   \n",
       "20516             Agilent Technologies Inc   supplier   \n",
       "18417                    ELECTRO RENT Corp   customer   \n",
       "13424    TAKE TWO INTERACTIVE SOFTWARE Inc   customer   \n",
       "15189                                 Sony   supplier   \n",
       "14895                         LUMINEX Corp   supplier   \n",
       "20586                                Canon   supplier   \n",
       "12965                              LabCorp   customer   \n",
       "18530                      Hewlett Packard   customer   \n",
       "13259  TAKE TWO INTERACTIVE SOFTWARE Inc's   customer   \n",
       "10668                                  KHK   supplier   \n",
       "9352         Ultragenyx Pharmaceutical Inc   customer   \n",
       "13261  TAKE TWO INTERACTIVE SOFTWARE Inc's   customer   \n",
       "15077                             Nintendo   supplier   \n",
       "15075                                 Sony   supplier   \n",
       "15534          Sucampo Pharmaceuticals Inc   supplier   \n",
       "14013                               Abbott   customer   \n",
       "1820                   NGL Energy Partners   customer   \n",
       "15190                            Microsoft   supplier   \n",
       "27059                        IMMUNOGEN INC      other   \n",
       "23877                                Roche      other   \n",
       "13425    TAKE TWO INTERACTIVE SOFTWARE Inc   customer   \n",
       "27058                        IMMUNOGEN INC      other   \n",
       "23878                               Sanofi      other   \n",
       "20514                  EL PASO ELECTRIC Co   supplier   \n",
       "27057                        IMMUNOGEN INC      other   \n",
       "23879                              Biotest      other   \n",
       "24176                   Valero Energy Corp      other   \n",
       "27136                        EchoStar Corp      other   \n",
       "26012                                  IBM   supplier   \n",
       "13260  TAKE TWO INTERACTIVE SOFTWARE Inc's   customer   \n",
       "21945              Insight Enterprises Inc   customer   \n",
       "24017             DISH Network Corporation      other   \n",
       "27213                               NuStar      other   \n",
       "26011                      CA Technologies   supplier   \n",
       "14012                               Takeda   customer   \n",
       "15533          Sucampo Pharmaceuticals Inc   supplier   \n",
       "26138                  ATLANTIC POWER CORP      other   \n",
       "27099               Anika Therapeutics Inc      other   \n",
       "23947                      DePuy Mitek Inc      other   \n",
       "22802                               Target      other   \n",
       "26491                 EMERSON RADIO Corp’s      other   \n",
       "20577      AEROJET ROCKETDYNE HOLDINGS Inc   supplier   \n",
       "21947              Insight Enterprises Inc   customer   \n",
       "26490                 EMERSON RADIO Corp’s      other   \n",
       "21944              Insight Enterprises Inc   customer   \n",
       "22801                             Wal Mart      other   \n",
       "21379                                Canon   supplier   \n",
       "26010                             Symantec   supplier   \n",
       "22206                             BC Hydro      other   \n",
       "21943              Insight Enterprises Inc   customer   \n",
       "4623                                   WPX   supplier   \n",
       "26014                             DataPipe   supplier   \n",
       "8640                          Dana Limited   customer   \n",
       "26013                               McAfee   supplier   \n",
       "18415         the Rio Grande Electric Coop   customer   \n",
       "24750                                 ATMI   customer   \n",
       "10215              Sypris Technologies Inc   supplier   \n",
       "21942              Insight Enterprises Inc   customer   \n",
       "19940                      Hewlett Packard   customer   \n",
       "26009                            Microsoft   supplier   \n",
       "9227         Ultragenyx Pharmaceutical Inc   customer   \n",
       "26069        CSG SYSTEMS INTERNATIONAL Inc      other   \n",
       "21946              Insight Enterprises Inc   customer   \n",
       "8874                    Buffalo Wild Wings   customer   \n",
       "14107        California Capital Equity LLC   supplier   \n",
       "10353                     NTN BUZZTIME Inc   supplier   \n",
       "26885                    KLONDEX MINES Ltd      other   \n",
       "10578                               Takeda   supplier   \n",
       "26511           UniTek Global Services Inc      other   \n",
       "22839                                  ATT      other   \n",
       "22056                              Comcast      other   \n",
       "14913                               Sprint   supplier   \n",
       "12620                         ALLERGAN Inc   customer   \n",
       "8156             Vanda Pharmaceuticals Inc   customer   \n",
       "23526                Waterton Global Value      other   \n",
       "8028                          Allergan PLC   customer   \n",
       "14689                                  MAP   supplier   \n",
       "21670                               Sprint      other   \n",
       "25878                          Telenav Inc      other   \n",
       "14438                 SEATTLE GENETICS Inc   customer   \n",
       "18517                      Lockheed Martin   customer   \n",
       "9518     TAKE TWO INTERACTIVE SOFTWARE Inc   customer   \n",
       "3600                Palo Alto Networks Inc   customer   \n",
       "8758                        Hydrodynex Inc   customer   \n",
       "\n",
       "                                                                     scores  \\\n",
       "20484                      [0.0009246112000000001, 0.9990751743, 2.394e-07]   \n",
       "18841                [0.0005523252000000001, 2.464e-07, 0.9994474053000001]   \n",
       "18331                      [0.0008386399000000001, 2.507e-07, 0.9991611242]   \n",
       "18332                [0.0008359244000000001, 2.861e-07, 0.9991637468000001]   \n",
       "20485                [0.0008817402000000001, 0.9991179705000001, 2.881e-07]   \n",
       "20787                               [0.0013373049, 0.9986623526, 3.553e-07]   \n",
       "20538                               [0.0002374612, 0.9997621179, 4.421e-07]   \n",
       "18337                         [0.0012583958, 4.463e-07, 0.9987411499000001]   \n",
       "20488                  [0.0012563277, 0.9987432361, 4.5640000000000004e-07]   \n",
       "3507                                [0.0003844802, 4.615e-07, 0.9996150732]   \n",
       "5513                                [0.0004846313, 0.9995148182, 4.811e-07]   \n",
       "18338                [0.0011446329000000001, 5.403e-07, 0.9988548756000001]   \n",
       "20489                   [0.0010312818, 0.9989681244, 5.588000000000001e-07]   \n",
       "19008                                [8.22092e-05, 5.705e-07, 0.9999172091]   \n",
       "18468                     [0.00019546250000000001, 5.906e-07, 0.9998039007]   \n",
       "20883                                [8.55852e-05, 0.9999137521, 6.668e-07]   \n",
       "20516                        [0.0005630229, 0.9994357824000001, 1.1728e-06]   \n",
       "18417                        [0.0005240456, 1.2526e-06, 0.9994747043000001]   \n",
       "13424  [0.00040451850000000004, 1.6363000000000001e-06, 0.9995937943000001]   \n",
       "15189                    [0.00041565360000000003, 0.9995827079, 1.6404e-06]   \n",
       "14895                    [1.5232900000000001e-05, 0.9999830127, 1.7162e-06]   \n",
       "20586                        [0.0001088471, 0.9998890758000001, 2.0304e-06]   \n",
       "12965                    [2.02416e-05, 2.2101000000000002e-06, 0.999977529]   \n",
       "18530                              [0.0001042338, 2.2264e-06, 0.9998935461]   \n",
       "13259        [0.00028491540000000003, 2.5690000000000003e-06, 0.9997125864]   \n",
       "10668              [0.00014396260000000002, 0.9998532534000001, 2.8059e-06]   \n",
       "9352                    [0.000143291, 2.9713000000000002e-06, 0.9998537302]   \n",
       "13261               [0.0006212367000000001, 3.0993e-06, 0.9993757010000001]   \n",
       "15077                              [0.0003983207, 0.9995985627, 3.1362e-06]   \n",
       "15075            [0.0003441685, 0.9996527433000001, 3.1517000000000002e-06]   \n",
       "15534             [6.92909e-05, 0.9999274611000001, 3.2189000000000002e-06]   \n",
       "14013                              [0.0001077736, 4.4249e-06, 0.9998878241]   \n",
       "1820                      [0.0040106601000000006, 4.8055e-06, 0.9959845543]   \n",
       "15190                   [0.0007435926, 0.9992514849, 4.872600000000001e-06]   \n",
       "27059                          [0.9999905825000001, 4.2068e-06, 5.2587e-06]   \n",
       "23877                             [0.9999904633000001, 5.33e-06, 4.254e-06]   \n",
       "13425                        [0.0007569565, 5.3322e-06, 0.9992376566000001]   \n",
       "27058                                [0.9999904037, 4.2314e-06, 5.3494e-06]   \n",
       "23878                                [0.9999902844, 5.4529e-06, 4.2621e-06]   \n",
       "20514                    [0.00039566700000000005, 0.9995988011, 5.5685e-06]   \n",
       "27057                                [0.9999898672, 4.4749e-06, 5.6547e-06]   \n",
       "23879                    [0.9999901056, 5.8004e-06, 4.0239000000000006e-06]   \n",
       "24176               [0.9999883175000001, 5.8241e-06, 5.848400000000001e-06]   \n",
       "27136                    [0.9999841452, 9.8027e-06, 6.0365000000000006e-06]   \n",
       "26012                        [0.0016803667, 0.9983134866000001, 6.0629e-06]   \n",
       "13260                              [0.0010678398, 6.0845e-06, 0.9989261627]   \n",
       "21945                              [0.0018527299, 6.4084e-06, 0.9981408119]   \n",
       "24017                     [0.999982357, 6.6448e-06, 1.0949000000000001e-05]   \n",
       "27213                                [0.9999871254, 6.1223e-06, 6.7435e-06]   \n",
       "26011                     [0.0019035124000000001, 0.9980897903, 6.7699e-06]   \n",
       "14012                    [0.00020372870000000002, 8.0093e-06, 0.9997882843]   \n",
       "15533                              [0.0001176316, 0.9998742342, 8.1231e-06]   \n",
       "26138               [0.9999863505000001, 5.470200000000001e-06, 8.1893e-06]   \n",
       "27099                     [0.9999848604, 7.0112e-06, 8.204600000000001e-06]   \n",
       "23947                                 [0.9999841452, 8.7862e-06, 7.096e-06]   \n",
       "22802                     [0.9999858737, 9.129400000000001e-06, 4.9368e-06]   \n",
       "26491                     [0.9999861121, 4.6959e-06, 9.173400000000001e-06]   \n",
       "20577                               [1.49969e-05, 0.9999756813, 9.3663e-06]   \n",
       "21947                      [0.0019045845000000001, 9.401e-06, 0.9980859756]   \n",
       "26490                    [0.9999858737, 4.7219000000000005e-06, 9.4235e-06]   \n",
       "21944                   [0.0023156891, 9.630800000000001e-06, 0.9976747036]   \n",
       "22801                                [0.9999854565, 9.8462e-06, 4.6178e-06]   \n",
       "21379                             [0.0001733242, 0.9998164773, 1.02498e-05]   \n",
       "26010                     [0.0025187451000000002, 0.9974709749, 1.0285e-05]   \n",
       "22206                    [0.9999839067, 1.03638e-05, 5.707000000000001e-06]   \n",
       "21943                                [0.00260414, 1.08068e-05, 0.997385025]   \n",
       "4623                        [0.0046206331, 0.9953680634000001, 1.13476e-05]   \n",
       "26014              [0.0022411905000000003, 0.9977465868000001, 1.22526e-05]   \n",
       "8640                         [9.37506e-05, 1.33739e-05, 0.9998928905000001]   \n",
       "26013                       [0.0021135311, 0.9978730679000001, 1.33984e-05]   \n",
       "18415   [0.0005269429000000001, 1.3519300000000001e-05, 0.9994595647000001]   \n",
       "24750            [1.4157400000000001e-05, 0.0003404279, 0.9996453524000001]   \n",
       "10215               [0.00011876660000000001, 0.9998668432000001, 1.432e-05]   \n",
       "21942                             [0.0025099774, 1.46647e-05, 0.9974753857]   \n",
       "19940                             [0.0001496039, 1.48386e-05, 0.9998356104]   \n",
       "26009                    [0.0023408374000000003, 0.9976443052, 1.49041e-05]   \n",
       "9227                              [0.0001721322, 1.49058e-05, 0.9998129606]   \n",
       "26069                               [0.9999808669, 3.9382e-06, 1.51496e-05]   \n",
       "21946              [0.0025044112000000003, 1.59111e-05, 0.9974796772000001]   \n",
       "8874                               [3.42226e-05, 1.63991e-05, 0.9999493361]   \n",
       "14107             [1.67788e-05, 0.9999787211000001, 4.5226000000000005e-06]   \n",
       "10353                               [4.19602e-05, 0.9999411106, 1.6943e-05]   \n",
       "26885                    [0.9999744892, 8.522900000000001e-06, 1.70126e-05]   \n",
       "10578                        [0.0001748607, 0.9998058081000001, 1.9309e-05]   \n",
       "26511                    [0.9999721646, 8.3906e-06, 1.9472000000000003e-05]   \n",
       "22839                    [0.9999710321, 2.0301600000000002e-05, 8.6397e-06]   \n",
       "22056                               [0.9999755025, 2.06319e-05, 3.8873e-06]   \n",
       "14913                             [0.0001335845, 0.9998451471, 2.11907e-05]   \n",
       "12620           [0.0018000458000000002, 2.2642300000000002e-05, 0.99817729]   \n",
       "8156             [0.0003260795, 2.2877200000000002e-05, 0.9996510148000001]   \n",
       "23526              [0.9999656677000001, 2.48763e-05, 9.446200000000001e-06]   \n",
       "8028                               [0.012202315, 2.53198e-05, 0.9877723455]   \n",
       "14689                             [0.0016307721, 0.9983429909, 2.62279e-05]   \n",
       "21670                              [0.9999588132, 2.69167e-05, 1.43108e-05]   \n",
       "25878                   [0.9999530315, 1.76921e-05, 2.9275900000000002e-05]   \n",
       "14438                              [0.0004000032, 3.2146e-05, 0.9995678067]   \n",
       "18517                              [1.81729e-05, 3.37183e-05, 0.9999480844]   \n",
       "9518                   [0.0014964859, 3.3794800000000004e-05, 0.9984697104]   \n",
       "3600                         [0.0008449698, 3.4788e-05, 0.9991202950000001]   \n",
       "8758                               [0.0104429815, 3.67068e-05, 0.989520371]   \n",
       "\n",
       "        label_score  \n",
       "20484  2.394000e-07  \n",
       "18841  2.464000e-07  \n",
       "18331  2.507000e-07  \n",
       "18332  2.861000e-07  \n",
       "20485  2.881000e-07  \n",
       "20787  3.553000e-07  \n",
       "20538  4.421000e-07  \n",
       "18337  4.463000e-07  \n",
       "20488  4.564000e-07  \n",
       "3507   4.615000e-07  \n",
       "5513   4.811000e-07  \n",
       "18338  5.403000e-07  \n",
       "20489  5.588000e-07  \n",
       "19008  5.705000e-07  \n",
       "18468  5.906000e-07  \n",
       "20883  6.668000e-07  \n",
       "20516  1.172800e-06  \n",
       "18417  1.252600e-06  \n",
       "13424  1.636300e-06  \n",
       "15189  1.640400e-06  \n",
       "14895  1.716200e-06  \n",
       "20586  2.030400e-06  \n",
       "12965  2.210100e-06  \n",
       "18530  2.226400e-06  \n",
       "13259  2.569000e-06  \n",
       "10668  2.805900e-06  \n",
       "9352   2.971300e-06  \n",
       "13261  3.099300e-06  \n",
       "15077  3.136200e-06  \n",
       "15075  3.151700e-06  \n",
       "15534  3.218900e-06  \n",
       "14013  4.424900e-06  \n",
       "1820   4.805500e-06  \n",
       "15190  4.872600e-06  \n",
       "27059  5.258700e-06  \n",
       "23877  5.330000e-06  \n",
       "13425  5.332200e-06  \n",
       "27058  5.349400e-06  \n",
       "23878  5.452900e-06  \n",
       "20514  5.568500e-06  \n",
       "27057  5.654700e-06  \n",
       "23879  5.800400e-06  \n",
       "24176  5.824100e-06  \n",
       "27136  6.036500e-06  \n",
       "26012  6.062900e-06  \n",
       "13260  6.084500e-06  \n",
       "21945  6.408400e-06  \n",
       "24017  6.644800e-06  \n",
       "27213  6.743500e-06  \n",
       "26011  6.769900e-06  \n",
       "14012  8.009300e-06  \n",
       "15533  8.123100e-06  \n",
       "26138  8.189300e-06  \n",
       "27099  8.204600e-06  \n",
       "23947  8.786200e-06  \n",
       "22802  9.129400e-06  \n",
       "26491  9.173400e-06  \n",
       "20577  9.366300e-06  \n",
       "21947  9.401000e-06  \n",
       "26490  9.423500e-06  \n",
       "21944  9.630800e-06  \n",
       "22801  9.846200e-06  \n",
       "21379  1.024980e-05  \n",
       "26010  1.028500e-05  \n",
       "22206  1.036380e-05  \n",
       "21943  1.080680e-05  \n",
       "4623   1.134760e-05  \n",
       "26014  1.225260e-05  \n",
       "8640   1.337390e-05  \n",
       "26013  1.339840e-05  \n",
       "18415  1.351930e-05  \n",
       "24750  1.415740e-05  \n",
       "10215  1.432000e-05  \n",
       "21942  1.466470e-05  \n",
       "19940  1.483860e-05  \n",
       "26009  1.490410e-05  \n",
       "9227   1.490580e-05  \n",
       "26069  1.514960e-05  \n",
       "21946  1.591110e-05  \n",
       "8874   1.639910e-05  \n",
       "14107  1.677880e-05  \n",
       "10353  1.694300e-05  \n",
       "26885  1.701260e-05  \n",
       "10578  1.930900e-05  \n",
       "26511  1.947200e-05  \n",
       "22839  2.030160e-05  \n",
       "22056  2.063190e-05  \n",
       "14913  2.119070e-05  \n",
       "12620  2.264230e-05  \n",
       "8156   2.287720e-05  \n",
       "23526  2.487630e-05  \n",
       "8028   2.531980e-05  \n",
       "14689  2.622790e-05  \n",
       "21670  2.691670e-05  \n",
       "25878  2.927590e-05  \n",
       "14438  3.214600e-05  \n",
       "18517  3.371830e-05  \n",
       "9518   3.379480e-05  \n",
       "3600   3.478800e-05  \n",
       "8758   3.670680e-05  "
      ]
     },
     "execution_count": 75,
     "metadata": {},
     "output_type": "execute_result"
    }
   ],
   "source": [
    "pd.set_option(\"display.max_colwidth\", None)\n",
    "pd.set_option(\"display.max_rows\", 100)\n",
    "\n",
    "issues[['sents', 'entity_2','relations','entity_1', 'prediction', 'scores','label_score']].head(100)"
   ]
  }
 ],
 "metadata": {
  "kernelspec": {
   "display_name": "CondaBase",
   "language": "python",
   "name": "base"
  },
  "language_info": {
   "codemirror_mode": {
    "name": "ipython",
    "version": 3
   },
   "file_extension": ".py",
   "mimetype": "text/x-python",
   "name": "python",
   "nbconvert_exporter": "python",
   "pygments_lexer": "ipython3",
   "version": "3.9.16"
  }
 },
 "nbformat": 4,
 "nbformat_minor": 5
}
