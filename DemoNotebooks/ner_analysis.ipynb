{
 "cells": [
  {
   "cell_type": "code",
   "execution_count": 1,
   "id": "b74d9b98-37b0-417c-9e88-3a966605b862",
   "metadata": {},
   "outputs": [
    {
     "name": "stderr",
     "output_type": "stream",
     "text": [
      "/notebooks/miniconda3/lib/python3.9/site-packages/tqdm/auto.py:21: TqdmWarning: IProgress not found. Please update jupyter and ipywidgets. See https://ipywidgets.readthedocs.io/en/stable/user_install.html\n",
      "  from .autonotebook import tqdm as notebook_tqdm\n"
     ]
    }
   ],
   "source": [
    "from pathlib import Path\n",
    "import sys\n",
    "current_path = Path.cwd()\n",
    "src_dir = current_path.parent\n",
    "sys.path.append(str(src_dir))\n",
    "from src.language_model.trf_loader import TrfLoader\n",
    "from src.language_model.spacy_loader import SpacyLoader\n",
    "\n"
   ]
  },
  {
   "cell_type": "code",
   "execution_count": 2,
   "id": "025d3bbf-a079-4064-8822-e340af36bcd2",
   "metadata": {},
   "outputs": [
    {
     "name": "stdout",
     "output_type": "stream",
     "text": [
      "2023-11-20 09:34:54,037 — 🌌 TrfTagger — INFO — Language model used is /notebooks/inferess-relation-extraction/artifacts/ner_model\n"
     ]
    }
   ],
   "source": [
    "trf_loader  = TrfLoader(lm=str(src_dir / \"artifacts/ner_model/\"),\n",
    "              entity_matcher=str(src_dir / \"artifacts/matcher_model/\"),\n",
    "              load_matcher=True)\n"
   ]
  },
  {
   "cell_type": "code",
   "execution_count": 6,
   "id": "db4cfb33-b17c-4f91-86ed-e76ac8d03693",
   "metadata": {},
   "outputs": [
    {
     "name": "stdout",
     "output_type": "stream",
     "text": [
      "CPU times: user 13.4 ms, sys: 51.3 ms, total: 64.6 ms\n",
      "Wall time: 194 ms\n"
     ]
    }
   ],
   "source": [
    "%%time\n",
    "sent = \"MACERICH Co generally enters into leases for Mall Stores and Freestanding Stores that also require tenants to pay a stated amount for operating expenses, generally excluding property taxes, regardless of the expenses MACERICH Co actually incurs at any Center\"\n",
    "sent = \"The decrease in DSP GROUP Inc sales to Hong Kong for the comparable periods resulted mainly from the decrease in sales to VTech Holding Ltd of 12% when comparing 2015 to 2014 and a decrease in sales to CCT Telecom Holdings Ltd of 34% when comparing 2015 to 2014.\"\n",
    "sent = 'Almost all of VSE Corp revenues are derived from contract services performed for Department of Defense (\"DoD\") agencies or for Federal Civil agencies, including the United States Postal Service (\"USPS\")'\n",
    "\n",
    "sents, spans, org_groups, aliases_docs =  trf_loader.predictor([sent] , chunck_size=1000)"
   ]
  },
  {
   "cell_type": "code",
   "execution_count": 7,
   "id": "c3652edf-3cf6-4a26-b23b-4f038848859e",
   "metadata": {},
   "outputs": [],
   "source": [
    "from pprint import pprint"
   ]
  },
  {
   "cell_type": "code",
   "execution_count": 8,
   "id": "3acfd91e-ffb3-4f12-974a-1dc67be24214",
   "metadata": {},
   "outputs": [
    {
     "name": "stdout",
     "output_type": "stream",
     "text": [
      "spans:\n",
      " [[{'text': 'VSE Corp', 'label': 'ORG', 'start': 14, 'end': 22, 'score': 0.9696691}, {'text': 'Department of Defense', 'label': 'ORG', 'start': 81, 'end': 102, 'score': 0.92406243}, {'text': 'United States Postal Service', 'label': 'ORG', 'start': 165, 'end': 193, 'score': 0.9791756}]]\n",
      "----------------------------------------------------------------------\n",
      "org_groups:\n",
      " [{'United States Postal Service': 0, 'Department of Defense': 1, 'VSE Corp': 2}]\n",
      "----------------------------------------------------------------------\n",
      "aliases_docs:\n",
      " [[]]\n"
     ]
    }
   ],
   "source": [
    "print(\"spans:\\n\",spans)\n",
    "print(\"-\"*70)\n",
    "print(\"org_groups:\\n\",org_groups)\n",
    "print(\"-\"*70)\n",
    "print(\"aliases_docs:\\n\",aliases_docs)"
   ]
  },
  {
   "cell_type": "code",
   "execution_count": 4,
   "id": "0f282a10-1964-413c-8724-ab3ccdec2b79",
   "metadata": {},
   "outputs": [
    {
     "data": {
      "text/plain": [
       "[{'CCT Telecom Holdings Ltd': 0, 'VTech Holding Ltd': 1, 'DSP GROUP Inc': 2}]"
      ]
     },
     "execution_count": 4,
     "metadata": {},
     "output_type": "execute_result"
    }
   ],
   "source": [
    "sent"
   ]
  },
  {
   "cell_type": "code",
   "execution_count": 5,
   "id": "de6923d4-2c38-4a0b-a804-5a75ed35ed51",
   "metadata": {},
   "outputs": [
    {
     "name": "stdout",
     "output_type": "stream",
     "text": [
      "2023-11-18 12:00:31,281 — 🌌 spaCy — INFO — Language model used is en_core_web_trf\n",
      "2023-11-18 12:00:31,282 — 🌌 spaCy — INFO — spaCy Work On GPU\n"
     ]
    }
   ],
   "source": [
    "spacy_loader = SpacyLoader(lm=\"en_core_web_trf\",\n",
    "          entity_matcher=str(src_dir / \"artifacts/matcher_model/\"),\n",
    "         load_matcher=True)\n"
   ]
  },
  {
   "cell_type": "code",
   "execution_count": 6,
   "id": "947d28ca-c7a4-47fc-9fe0-143e0f62c776",
   "metadata": {},
   "outputs": [
    {
     "name": "stdout",
     "output_type": "stream",
     "text": [
      "CPU times: user 10.6 s, sys: 171 ms, total: 10.8 s\n",
      "Wall time: 9.9 s\n"
     ]
    }
   ],
   "source": [
    "%%time\n",
    "sent = \"MACERICH Co generally enters into leases for Mall Stores and Freestanding Stores that also require tenants to pay a stated amount for operating expenses, generally excluding property taxes, regardless of the expenses MACERICH Co actually incurs at any Center\"\n",
    "sent = \"The decrease in DSP GROUP Inc sales to Hong Kong for the comparable periods resulted mainly from the decrease in sales to VTech Holding Ltd of 12% when comparing 2015 to 2014 and a decrease in sales to CCT Telecom Holdings Ltd of 34% when comparing 2015 to 2014.\"\n",
    "\n",
    "sents, spans, org_groups, aliases_docs =  spacy_loader.predictor([sent] , chunck_size=1000)"
   ]
  },
  {
   "cell_type": "code",
   "execution_count": 7,
   "id": "b16c08be-1a5e-42b1-867a-6d31267e80eb",
   "metadata": {},
   "outputs": [
    {
     "data": {
      "text/plain": [
       "[{'CCT Telecom Holdings Ltd': 0, 'VTech Holding Ltd': 1, 'DSP GROUP Inc': 2}]"
      ]
     },
     "execution_count": 7,
     "metadata": {},
     "output_type": "execute_result"
    }
   ],
   "source": [
    "org_groups"
   ]
  },
  {
   "cell_type": "code",
   "execution_count": 17,
   "id": "4286ffe3-3a70-41e3-9c79-325fbaf1b9c9",
   "metadata": {},
   "outputs": [],
   "source": [
    "sent = \"P and F INDUSTRIES Inc reports that The decline in Sears’ revenue is partially due to the timing of seasonal orders delivered in the third quarter of 2012 compared to the fourth quarter of 2011.\"\n",
    "sent = \"MACERICH Co generally enters into leases for Mall Stores and Freestanding Stores that also require tenants to pay a stated amount for operating expenses, generally excluding property taxes, regardless of the expenses MACERICH Co actually incurs at any Center\"\n",
    "sent = \"Bank of America and Intersections Inc other major financial institution clients have suspended or terminated their marketing of Intersections Inc products, and most other marketing through financial institutions has been reduced, suspended or terminated.\"\n",
    "sent = \"Two of Local Corp partners, Google and Yahoo, have historically provided a substantial portion of Local Corp revenue and the loss of either Google or Yahoo would have a material adverse effect on Local Corp operating results.\"\n",
    "sent = 'Pactiv Evergreen Inc have an unrivalled product offering in the North American foodservice and food merchandising markets and a \"one-face-to-the-customer\" service model'\n",
    "sent = \"China XD Plastics Co Ltd reports that Fees for all other services and related expenses were US$44,674 and nil, respectively, for the years ended December 31, 2014 and 2013, billed by KPMG for SOX compliance services\"\n",
    "sent = \"In the event that solar module manufacturers switch to POE encapsulant products from EVA encapsulants and STR HOLDINGS Inc do not offer a competitive POE product, such switch could materially and adversely affect STR HOLDINGS Inc business, financial condition and results of operations\"\n",
    "sent = 'The success of ADVANCED MICRO DEVICES Inc semi-custom SoC products is dependent on securing customers for ADVANCED MICRO DEVICES Inc semi-custom design pipeline and consumer market conditions, including the success of the Sony PlayStation(r)4, Sony , Microsoft Xbox One, Microsoft Xbox One S and Microsoft Xbox One X game console systems worldwide'\n",
    "sent = \"This segment also derives revenue from Company operated digital commerce sites in the United States for Speedo, True and Co., Van Heusen, and IZOD, as well as PVH Corp's styleBureau.com site\"\n",
    "sent = 'Almost all of VSE Corp revenues are derived from contract services performed for Department of Defense (\"DoD\") agencies or for Federal Civil agencies, including the United States Postal Service (\"USPS\")'\n",
    "sent = 'Woodward Inc reports that OEM customers with internal capabilities for similar products include General Electric, Caterpillar, Wartsila and Cummins'\n",
    "sent = \"Hospitals affiliated with Ascension Health currently account for a significant portion of Accretive Health Inc net services revenue, and Accretive Health Inc have several customers that have each accounted for 10% or more of Accretive Health Inc net services revenue in past fiscal periods.\"\n",
    "sent =  \"ERA GROUP Inc principal customers in the U.S. Gulf of Mexico are major integrated and independent exploration and production companies and U.S. government agencies, primarily the Bureau of Safety and Environmental Enforcement.\"\n",
    "sent = ' \"“Monster Jam”, “Teenage Mutant Ninja Turtles” and “Cabbage Patch Kids” Properties were the largest contributors with approximately 77% of 4Licensing Corp’s revenues in this business segment for 2009, exclusive of the one time “Teenage Mutant Ninja Turtles” payment.\",'\n",
    "sent = 'HMS Holdings Corp primary client base is comprised of CMS, state Medicaid agencies, and commercial health plans including Medicaid managed care, Medicare Advantage, and group health lines of business.'\n",
    "sent =  \"Southern Company, Alabama Power, Georgia Power, Mississippi Power (with the exception of its cost-based MRA electric tariffs described below), and Southern Company Gas each have a diversified base of customers and no single customer or industry comprises 10% or more of each company's revenues\"\n",
    "sent = \"Two of NORFOLK SOUTHERN Corp customers, DuPont and Sunbelt Chlor Alkai Partnership (Sunbelt), filed rate reasonableness complaints before the Surface Transportation Board (STB) alleging that NORFOLK SOUTHERN Corp tariff rates for transportation of regulated movements are unreasonable\""
   ]
  },
  {
   "cell_type": "code",
   "execution_count": 18,
   "id": "b13cf784-4fc9-4d0b-b204-b663c224cca1",
   "metadata": {},
   "outputs": [
    {
     "name": "stdout",
     "output_type": "stream",
     "text": [
      "\n",
      " ======================================== SENTENCE ======================================== \n",
      "\n",
      "Two of NORFOLK SOUTHERN Corp customers, DuPont and Sunbelt Chlor Alkai Partnership (Sunbelt), filed rate reasonableness complaints before the Surface Transportation Board (STB) alleging that NORFOLK SOUTHERN Corp tariff rates for transportation of regulated movements are unreasonable\n",
      "\n",
      "\n",
      "Inferess NER org_groups:  {'Surface Transportation Board': 0, 'STB': 0, 'Sunbelt Chlor Alkai Partnership': 1, 'NORFOLK SOUTHERN Corp': 2, 'DuPont': 3}\n",
      "\n",
      "\n",
      "Inferess NER spans:  [{'text': 'NORFOLK SOUTHERN Corp', 'label': 'ORG', 'start': 7, 'end': 28, 'score': 0.99459267}, {'text': 'DuPont', 'label': 'ORG', 'start': 40, 'end': 46, 'score': 0.97635365}, {'text': 'Sunbelt Chlor Alkai Partnership', 'label': 'ORG', 'start': 51, 'end': 82, 'score': 0.9924116}, {'text': 'Surface Transportation Board', 'label': 'ORG', 'start': 142, 'end': 170, 'score': 0.97671}, {'text': 'STB', 'label': 'ORG', 'start': 172, 'end': 175, 'score': 0.63202226}, {'text': 'NORFOLK SOUTHERN Corp', 'label': 'ORG', 'start': 191, 'end': 212, 'score': 0.9958218}]\n",
      "\n",
      "Execution Time For 1 Sentence:  0.19687414169311523\n"
     ]
    }
   ],
   "source": [
    "import time\n",
    "\n",
    "start_time = time.time()\n",
    "# Your line of code here\n",
    "sents, spans, org_groups, aliases_docs =  trf_loader.predictor([sent] , chunck_size=1000)\n",
    "end_time = time.time()\n",
    "execution_time = end_time - start_time\n",
    "print(\"\\n\",\"=\"*40,\"SENTENCE\", \"=\"*40,\"\\n\")\n",
    "print(sent)\n",
    "print(\"\\n\\nInferess NER org_groups: \",org_groups[0])\n",
    "print(\"\\n\\nInferess NER spans: \",spans[0])\n",
    "\n",
    "print(f\"\\nExecution Time For {len(sents)} Sentence: \",execution_time)\n"
   ]
  },
  {
   "cell_type": "code",
   "execution_count": 19,
   "id": "5b209017-3c5e-4a0a-9bcb-edbee1e4237b",
   "metadata": {},
   "outputs": [
    {
     "name": "stdout",
     "output_type": "stream",
     "text": [
      "\n",
      " ======================================== SENTENCE ======================================== \n",
      "\n",
      "Two of NORFOLK SOUTHERN Corp customers, DuPont and Sunbelt Chlor Alkai Partnership (Sunbelt), filed rate reasonableness complaints before the Surface Transportation Board (STB) alleging that NORFOLK SOUTHERN Corp tariff rates for transportation of regulated movements are unreasonable\n",
      "\n",
      "\n",
      "spaCy NER:  {'Sunbelt Chlor Alkai Partnership': 0, 'Sunbelt': 0, 'the Surface Transportation Board': 1, 'STB': 1, 'NORFOLK SOUTHERN Corp': 2, 'DuPont': 3}\n",
      "\n",
      "\n",
      "spaCy spans:  [{'text': 'Two', 'label': 'CARDINAL', 'start': 0, 'end': 3, 'token_start': 0, 'token_end': 1}, {'text': 'NORFOLK SOUTHERN Corp', 'label': 'ORG', 'start': 7, 'end': 28, 'token_start': 2, 'token_end': 5}, {'text': 'DuPont', 'label': 'ORG', 'start': 40, 'end': 46, 'token_start': 7, 'token_end': 8}, {'text': 'Sunbelt Chlor Alkai Partnership', 'label': 'ORG', 'start': 51, 'end': 82, 'token_start': 9, 'token_end': 13}, {'text': 'Sunbelt', 'label': 'ORG', 'start': 84, 'end': 91, 'token_start': 14, 'token_end': 15}, {'text': 'the Surface Transportation Board', 'label': 'ORG', 'start': 138, 'end': 170, 'token_start': 22, 'token_end': 26}, {'text': 'STB', 'label': 'ORG', 'start': 172, 'end': 175, 'token_start': 27, 'token_end': 28}, {'text': 'NORFOLK SOUTHERN Corp', 'label': 'ORG', 'start': 191, 'end': 212, 'token_start': 31, 'token_end': 34}]\n",
      "\n",
      "Execution Time For 1 Sentence:  0.20988011360168457\n"
     ]
    }
   ],
   "source": [
    "\n",
    "\n",
    "start_time = time.time()\n",
    "# Your line of code here\n",
    "sents, spans, org_groups, aliases_docs =  spacy_loader.predictor([sent] , chunck_size=1000)\n",
    "end_time = time.time()\n",
    "execution_time = end_time - start_time\n",
    "print(\"\\n\",\"=\"*40,\"SENTENCE\", \"=\"*40, \"\\n\")\n",
    "print(sent)\n",
    "print(\"\\n\\nspaCy NER: \",org_groups[0])\n",
    "print(\"\\n\\nspaCy spans: \",spans[0])\n",
    "\n",
    "print(f\"\\nExecution Time For {len(sents)} Sentence: \",execution_time)\n"
   ]
  },
  {
   "cell_type": "code",
   "execution_count": null,
   "id": "3371f8fc-dc39-45de-a746-5ad306cfec53",
   "metadata": {},
   "outputs": [],
   "source": []
  },
  {
   "cell_type": "code",
   "execution_count": null,
   "id": "043cbb57-84b0-43e8-83c5-4846d9fc4006",
   "metadata": {},
   "outputs": [],
   "source": []
  }
 ],
 "metadata": {
  "kernelspec": {
   "display_name": "CondaBase",
   "language": "python",
   "name": "base"
  },
  "language_info": {
   "codemirror_mode": {
    "name": "ipython",
    "version": 3
   },
   "file_extension": ".py",
   "mimetype": "text/x-python",
   "name": "python",
   "nbconvert_exporter": "python",
   "pygments_lexer": "ipython3",
   "version": "3.9.16"
  }
 },
 "nbformat": 4,
 "nbformat_minor": 5
}
