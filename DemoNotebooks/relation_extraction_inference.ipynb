{
 "cells": [
  {
   "cell_type": "markdown",
   "metadata": {
    "id": "nqQtYK-E3ED0"
   },
   "source": [
    "# _Load Inference Module_\n"
   ]
  },
  {
   "cell_type": "code",
   "execution_count": 14,
   "metadata": {},
   "outputs": [
    {
     "name": "stdout",
     "output_type": "stream",
     "text": [
      "Torch GPU Exists..\n",
      "2023-12-10 07:30:11,093 — 🌌 spaCy — INFO — Language model used is en_core_web_trf\n",
      "2023-12-10 07:30:11,094 — 🌌 spaCy — INFO — spaCy Work On CPU\n",
      "2023-12-10 07:30:13,645 — 💫 Relations Extractor — INFO — Loading tokenizer and model...\n",
      "Load with CUDA\n"
     ]
    },
    {
     "name": "stderr",
     "output_type": "stream",
     "text": [
      "12/10/2023 07:30:15 AM [INFO]: Loaded model.\n"
     ]
    },
    {
     "name": "stdout",
     "output_type": "stream",
     "text": [
      "2023-12-10 07:30:15,284 — 💫 Relations Extractor — INFO — Done!\n"
     ]
    }
   ],
   "source": [
    "import sys\n",
    "from pathlib import Path\n",
    "from typing import List, Union, Tuple, Dict\n",
    "import re\n",
    "from pathlib import Path\n",
    "import pandas as pd\n",
    "import numpy as np\n",
    "import torch\n",
    "src_dir = Path.cwd().parent\n",
    "sys.path.append(str(src_dir))\n",
    "from src.relation_extraction.infer import infer_from_trained, assign_relation\n",
    "pd.set_option('display.max_colwidth', None)\n",
    "pd.set_option('display.max_rows',100 )\n",
    "\n",
    "re_model = infer_from_trained(detect_entities=True,\n",
    "                             language_model=\"en_core_web_trf\",\n",
    "                             entity_matcher=str(src_dir /\"artifacts/matcher_model\"),\n",
    "                             require_gpu=True,\n",
    "                             load_matcher=True)\n",
    "\n",
    "args = {'model_path': str(src_dir / 'artifacts/re_model') ,\n",
    "              'batch_size':8}\n",
    "re_model.load_model(args)"
   ]
  },
  {
   "cell_type": "code",
   "execution_count": null,
   "metadata": {},
   "outputs": [],
   "source": []
  },
  {
   "cell_type": "code",
   "execution_count": 16,
   "metadata": {},
   "outputs": [],
   "source": [
    "sentence = \"If Westcon is unable to deliver phones of acceptable quality, or if there is a reduction or interruption in Westcon's ability to supply the phones in a timely manner, RingCentral Inc ability to bring services to market, the reliability of RingCentral Inc subscriptions and RingCentral Inc relationships with customers or RingCentral Inc overall reputation in the marketplace could suffer, which could cause RingCentral Inc to lose revenue\"\n",
    "sentence = \"There is supply chain among OMAR Inc and Ahmed INC, Where Omar Inc is designing interpritable ai system call integerated gradients, Also AHMED use this ai tech to serve Ahmed's clients\"\n",
    "sentence = \"In the event NASA were to cancel the SLS program, ALLIANT TECHSYSTEMS Inc believe that ALLIANT TECHSYSTEMS Inc will be reimbursed for certain amounts previously incurred by ALLIANT TECHSYSTEMS Inc as well as amounts to be incurred by ALLIANT TECHSYSTEMS Inc as part of that termination, e.g., severance, environmental liabilities and termination administration.\""
   ]
  },
  {
   "cell_type": "code",
   "execution_count": 3,
   "metadata": {},
   "outputs": [
    {
     "name": "stderr",
     "output_type": "stream",
     "text": [
      "mutate text: 100%|██████████| 9/9 [00:00<00:00, 6087.52it/s]\n",
      "12/10/2023 07:24:52 AM [INFO]: Tokenizing data...\n",
      "tokenization: 100%|██████████| 9/9 [00:00<00:00, 2937.87it/s]\n",
      "tags positioning: 100%|██████████| 9/9 [00:00<00:00, 9425.40it/s]\n"
     ]
    },
    {
     "name": "stdout",
     "output_type": "stream",
     "text": [
      "\n",
      "Invalid rows/total: 0/9\n"
     ]
    },
    {
     "name": "stderr",
     "output_type": "stream",
     "text": [
      "100%|██████████| 2/2 [00:00<00:00, 69.04it/s]\n",
      "mutate text: 100%|██████████| 9/9 [00:00<00:00, 6892.23it/s]\n",
      "12/10/2023 07:24:53 AM [INFO]: Tokenizing data...\n",
      "tokenization: 100%|██████████| 9/9 [00:00<00:00, 3118.70it/s]\n",
      "tags positioning: 100%|██████████| 9/9 [00:00<00:00, 10294.17it/s]\n"
     ]
    },
    {
     "name": "stdout",
     "output_type": "stream",
     "text": [
      "\n",
      "Invalid rows/total: 0/9\n"
     ]
    },
    {
     "name": "stderr",
     "output_type": "stream",
     "text": [
      "100%|██████████| 2/2 [00:00<00:00, 77.38it/s]\n"
     ]
    },
    {
     "data": {
      "text/html": [
       "<div>\n",
       "<style scoped>\n",
       "    .dataframe tbody tr th:only-of-type {\n",
       "        vertical-align: middle;\n",
       "    }\n",
       "\n",
       "    .dataframe tbody tr th {\n",
       "        vertical-align: top;\n",
       "    }\n",
       "\n",
       "    .dataframe thead th {\n",
       "        text-align: right;\n",
       "    }\n",
       "</style>\n",
       "<table border=\"1\" class=\"dataframe\">\n",
       "  <thead>\n",
       "    <tr style=\"text-align: right;\">\n",
       "      <th></th>\n",
       "      <th>relations</th>\n",
       "      <th>orig_sents</th>\n",
       "      <th>org_groups</th>\n",
       "    </tr>\n",
       "    <tr>\n",
       "      <th>idx</th>\n",
       "      <th></th>\n",
       "      <th></th>\n",
       "      <th></th>\n",
       "    </tr>\n",
       "  </thead>\n",
       "  <tbody>\n",
       "    <tr>\n",
       "      <th>0</th>\n",
       "      <td>[{'NASA': 'customer', 'ALLIANT TECHSYSTEMS Inc': 'supplier', 'score': 0.6097}, {'SLS': 'other', 'ALLIANT TECHSYSTEMS Inc': 'other', 'score': 0.6554}, {'SLS': 'other', 'NASA': 'other', 'score': 0.9694}]</td>\n",
       "      <td>In the event NASA were to cancel the SLS program, ALLIANT TECHSYSTEMS Inc believe that ALLIANT TECHSYSTEMS Inc will be reimbursed for certain amounts previously incurred by ALLIANT TECHSYSTEMS Inc as well as amounts to be incurred by ALLIANT TECHSYSTEMS Inc as part of that termination, e.g., severance, environmental liabilities and termination administration.</td>\n",
       "      <td>{'ALLIANT TECHSYSTEMS Inc': 0, 'NASA': 1, 'SLS': 2}</td>\n",
       "    </tr>\n",
       "  </tbody>\n",
       "</table>\n",
       "</div>"
      ],
      "text/plain": [
       "                                                                                                                                                                                                     relations  \\\n",
       "idx                                                                                                                                                                                                              \n",
       "0    [{'NASA': 'customer', 'ALLIANT TECHSYSTEMS Inc': 'supplier', 'score': 0.6097}, {'SLS': 'other', 'ALLIANT TECHSYSTEMS Inc': 'other', 'score': 0.6554}, {'SLS': 'other', 'NASA': 'other', 'score': 0.9694}]   \n",
       "\n",
       "                                                                                                                                                                                                                                                                                                                                                                    orig_sents  \\\n",
       "idx                                                                                                                                                                                                                                                                                                                                                                              \n",
       "0    In the event NASA were to cancel the SLS program, ALLIANT TECHSYSTEMS Inc believe that ALLIANT TECHSYSTEMS Inc will be reimbursed for certain amounts previously incurred by ALLIANT TECHSYSTEMS Inc as well as amounts to be incurred by ALLIANT TECHSYSTEMS Inc as part of that termination, e.g., severance, environmental liabilities and termination administration.   \n",
       "\n",
       "                                              org_groups  \n",
       "idx                                                       \n",
       "0    {'ALLIANT TECHSYSTEMS Inc': 0, 'NASA': 1, 'SLS': 2}  "
      ]
     },
     "execution_count": 3,
     "metadata": {},
     "output_type": "execute_result"
    }
   ],
   "source": [
    "re_model.predict_relations([sentence], reverse=True, mutate=True, num_positions=np.inf)"
   ]
  },
  {
   "cell_type": "code",
   "execution_count": 17,
   "metadata": {},
   "outputs": [],
   "source": [
    "#tagged_frame = pd.DataFrame(tagged_frame)\n",
    "tagged_frame = re_model.tag_sentences(sentences=[sentence])"
   ]
  },
  {
   "cell_type": "code",
   "execution_count": 18,
   "metadata": {},
   "outputs": [
    {
     "data": {
      "text/html": [
       "<div>\n",
       "<style scoped>\n",
       "    .dataframe tbody tr th:only-of-type {\n",
       "        vertical-align: middle;\n",
       "    }\n",
       "\n",
       "    .dataframe tbody tr th {\n",
       "        vertical-align: top;\n",
       "    }\n",
       "\n",
       "    .dataframe thead th {\n",
       "        text-align: right;\n",
       "    }\n",
       "</style>\n",
       "<table border=\"1\" class=\"dataframe\">\n",
       "  <thead>\n",
       "    <tr style=\"text-align: right;\">\n",
       "      <th></th>\n",
       "      <th>sents</th>\n",
       "      <th>orig_sents</th>\n",
       "      <th>entity1</th>\n",
       "      <th>entity2</th>\n",
       "      <th>org_groups</th>\n",
       "      <th>idx</th>\n",
       "      <th>r_id</th>\n",
       "    </tr>\n",
       "  </thead>\n",
       "  <tbody>\n",
       "    <tr>\n",
       "      <th>0</th>\n",
       "      <td>In the event [E2] NASA [/E2] were to cancel the SLS program, ALLIANT TECHSYSTEMS Inc believe that ALLIANT TECHSYSTEMS Inc will be reimbursed for certain amounts previously incurred by ALLIANT TECHSYSTEMS Inc as well as amounts to be incurred by [E1] ALLIANT TECHSYSTEMS Inc [/E1] as part of that termination, e.g., severance, environmental liabilities and termination administration.</td>\n",
       "      <td>In the event NASA were to cancel the SLS program, ALLIANT TECHSYSTEMS Inc believe that ALLIANT TECHSYSTEMS Inc will be reimbursed for certain amounts previously incurred by ALLIANT TECHSYSTEMS Inc as well as amounts to be incurred by ALLIANT TECHSYSTEMS Inc as part of that termination, e.g., severance, environmental liabilities and termination administration.</td>\n",
       "      <td>ALLIANT TECHSYSTEMS Inc</td>\n",
       "      <td>NASA</td>\n",
       "      <td>{'ALLIANT TECHSYSTEMS Inc': 0, 'NASA': 1, 'SLS': 2}</td>\n",
       "      <td>0</td>\n",
       "      <td>0_0</td>\n",
       "    </tr>\n",
       "    <tr>\n",
       "      <th>1</th>\n",
       "      <td>In the event [E2] NASA [/E2] were to cancel the SLS program, ALLIANT TECHSYSTEMS Inc believe that ALLIANT TECHSYSTEMS Inc will be reimbursed for certain amounts previously incurred by [E1] ALLIANT TECHSYSTEMS Inc [/E1] as well as amounts to be incurred by ALLIANT TECHSYSTEMS Inc as part of that termination, e.g., severance, environmental liabilities and termination administration.</td>\n",
       "      <td>In the event NASA were to cancel the SLS program, ALLIANT TECHSYSTEMS Inc believe that ALLIANT TECHSYSTEMS Inc will be reimbursed for certain amounts previously incurred by ALLIANT TECHSYSTEMS Inc as well as amounts to be incurred by ALLIANT TECHSYSTEMS Inc as part of that termination, e.g., severance, environmental liabilities and termination administration.</td>\n",
       "      <td>ALLIANT TECHSYSTEMS Inc</td>\n",
       "      <td>NASA</td>\n",
       "      <td>{'ALLIANT TECHSYSTEMS Inc': 0, 'NASA': 1, 'SLS': 2}</td>\n",
       "      <td>0</td>\n",
       "      <td>0_0</td>\n",
       "    </tr>\n",
       "    <tr>\n",
       "      <th>2</th>\n",
       "      <td>In the event [E2] NASA [/E2] were to cancel the SLS program, [E1] ALLIANT TECHSYSTEMS Inc [/E1] believe that ALLIANT TECHSYSTEMS Inc will be reimbursed for certain amounts previously incurred by ALLIANT TECHSYSTEMS Inc as well as amounts to be incurred by ALLIANT TECHSYSTEMS Inc as part of that termination, e.g., severance, environmental liabilities and termination administration.</td>\n",
       "      <td>In the event NASA were to cancel the SLS program, ALLIANT TECHSYSTEMS Inc believe that ALLIANT TECHSYSTEMS Inc will be reimbursed for certain amounts previously incurred by ALLIANT TECHSYSTEMS Inc as well as amounts to be incurred by ALLIANT TECHSYSTEMS Inc as part of that termination, e.g., severance, environmental liabilities and termination administration.</td>\n",
       "      <td>ALLIANT TECHSYSTEMS Inc</td>\n",
       "      <td>NASA</td>\n",
       "      <td>{'ALLIANT TECHSYSTEMS Inc': 0, 'NASA': 1, 'SLS': 2}</td>\n",
       "      <td>0</td>\n",
       "      <td>0_0</td>\n",
       "    </tr>\n",
       "    <tr>\n",
       "      <th>3</th>\n",
       "      <td>In the event [E2] NASA [/E2] were to cancel the SLS program, ALLIANT TECHSYSTEMS Inc believe that [E1] ALLIANT TECHSYSTEMS Inc [/E1] will be reimbursed for certain amounts previously incurred by ALLIANT TECHSYSTEMS Inc as well as amounts to be incurred by ALLIANT TECHSYSTEMS Inc as part of that termination, e.g., severance, environmental liabilities and termination administration.</td>\n",
       "      <td>In the event NASA were to cancel the SLS program, ALLIANT TECHSYSTEMS Inc believe that ALLIANT TECHSYSTEMS Inc will be reimbursed for certain amounts previously incurred by ALLIANT TECHSYSTEMS Inc as well as amounts to be incurred by ALLIANT TECHSYSTEMS Inc as part of that termination, e.g., severance, environmental liabilities and termination administration.</td>\n",
       "      <td>ALLIANT TECHSYSTEMS Inc</td>\n",
       "      <td>NASA</td>\n",
       "      <td>{'ALLIANT TECHSYSTEMS Inc': 0, 'NASA': 1, 'SLS': 2}</td>\n",
       "      <td>0</td>\n",
       "      <td>0_0</td>\n",
       "    </tr>\n",
       "    <tr>\n",
       "      <th>4</th>\n",
       "      <td>In the event NASA were to cancel the [E2] SLS [/E2] program, ALLIANT TECHSYSTEMS Inc believe that ALLIANT TECHSYSTEMS Inc will be reimbursed for certain amounts previously incurred by [E1] ALLIANT TECHSYSTEMS Inc [/E1] as well as amounts to be incurred by ALLIANT TECHSYSTEMS Inc as part of that termination, e.g., severance, environmental liabilities and termination administration.</td>\n",
       "      <td>In the event NASA were to cancel the SLS program, ALLIANT TECHSYSTEMS Inc believe that ALLIANT TECHSYSTEMS Inc will be reimbursed for certain amounts previously incurred by ALLIANT TECHSYSTEMS Inc as well as amounts to be incurred by ALLIANT TECHSYSTEMS Inc as part of that termination, e.g., severance, environmental liabilities and termination administration.</td>\n",
       "      <td>ALLIANT TECHSYSTEMS Inc</td>\n",
       "      <td>SLS</td>\n",
       "      <td>{'ALLIANT TECHSYSTEMS Inc': 0, 'NASA': 1, 'SLS': 2}</td>\n",
       "      <td>0</td>\n",
       "      <td>0_1</td>\n",
       "    </tr>\n",
       "    <tr>\n",
       "      <th>5</th>\n",
       "      <td>In the event NASA were to cancel the [E2] SLS [/E2] program, [E1] ALLIANT TECHSYSTEMS Inc [/E1] believe that ALLIANT TECHSYSTEMS Inc will be reimbursed for certain amounts previously incurred by ALLIANT TECHSYSTEMS Inc as well as amounts to be incurred by ALLIANT TECHSYSTEMS Inc as part of that termination, e.g., severance, environmental liabilities and termination administration.</td>\n",
       "      <td>In the event NASA were to cancel the SLS program, ALLIANT TECHSYSTEMS Inc believe that ALLIANT TECHSYSTEMS Inc will be reimbursed for certain amounts previously incurred by ALLIANT TECHSYSTEMS Inc as well as amounts to be incurred by ALLIANT TECHSYSTEMS Inc as part of that termination, e.g., severance, environmental liabilities and termination administration.</td>\n",
       "      <td>ALLIANT TECHSYSTEMS Inc</td>\n",
       "      <td>SLS</td>\n",
       "      <td>{'ALLIANT TECHSYSTEMS Inc': 0, 'NASA': 1, 'SLS': 2}</td>\n",
       "      <td>0</td>\n",
       "      <td>0_1</td>\n",
       "    </tr>\n",
       "    <tr>\n",
       "      <th>6</th>\n",
       "      <td>In the event NASA were to cancel the [E2] SLS [/E2] program, ALLIANT TECHSYSTEMS Inc believe that [E1] ALLIANT TECHSYSTEMS Inc [/E1] will be reimbursed for certain amounts previously incurred by ALLIANT TECHSYSTEMS Inc as well as amounts to be incurred by ALLIANT TECHSYSTEMS Inc as part of that termination, e.g., severance, environmental liabilities and termination administration.</td>\n",
       "      <td>In the event NASA were to cancel the SLS program, ALLIANT TECHSYSTEMS Inc believe that ALLIANT TECHSYSTEMS Inc will be reimbursed for certain amounts previously incurred by ALLIANT TECHSYSTEMS Inc as well as amounts to be incurred by ALLIANT TECHSYSTEMS Inc as part of that termination, e.g., severance, environmental liabilities and termination administration.</td>\n",
       "      <td>ALLIANT TECHSYSTEMS Inc</td>\n",
       "      <td>SLS</td>\n",
       "      <td>{'ALLIANT TECHSYSTEMS Inc': 0, 'NASA': 1, 'SLS': 2}</td>\n",
       "      <td>0</td>\n",
       "      <td>0_1</td>\n",
       "    </tr>\n",
       "    <tr>\n",
       "      <th>7</th>\n",
       "      <td>In the event NASA were to cancel the [E2] SLS [/E2] program, ALLIANT TECHSYSTEMS Inc believe that ALLIANT TECHSYSTEMS Inc will be reimbursed for certain amounts previously incurred by ALLIANT TECHSYSTEMS Inc as well as amounts to be incurred by [E1] ALLIANT TECHSYSTEMS Inc [/E1] as part of that termination, e.g., severance, environmental liabilities and termination administration.</td>\n",
       "      <td>In the event NASA were to cancel the SLS program, ALLIANT TECHSYSTEMS Inc believe that ALLIANT TECHSYSTEMS Inc will be reimbursed for certain amounts previously incurred by ALLIANT TECHSYSTEMS Inc as well as amounts to be incurred by ALLIANT TECHSYSTEMS Inc as part of that termination, e.g., severance, environmental liabilities and termination administration.</td>\n",
       "      <td>ALLIANT TECHSYSTEMS Inc</td>\n",
       "      <td>SLS</td>\n",
       "      <td>{'ALLIANT TECHSYSTEMS Inc': 0, 'NASA': 1, 'SLS': 2}</td>\n",
       "      <td>0</td>\n",
       "      <td>0_1</td>\n",
       "    </tr>\n",
       "    <tr>\n",
       "      <th>8</th>\n",
       "      <td>In the event [E1] NASA [/E1] were to cancel the [E2] SLS [/E2] program, ALLIANT TECHSYSTEMS Inc believe that ALLIANT TECHSYSTEMS Inc will be reimbursed for certain amounts previously incurred by ALLIANT TECHSYSTEMS Inc as well as amounts to be incurred by ALLIANT TECHSYSTEMS Inc as part of that termination, e.g., severance, environmental liabilities and termination administration.</td>\n",
       "      <td>In the event NASA were to cancel the SLS program, ALLIANT TECHSYSTEMS Inc believe that ALLIANT TECHSYSTEMS Inc will be reimbursed for certain amounts previously incurred by ALLIANT TECHSYSTEMS Inc as well as amounts to be incurred by ALLIANT TECHSYSTEMS Inc as part of that termination, e.g., severance, environmental liabilities and termination administration.</td>\n",
       "      <td>NASA</td>\n",
       "      <td>SLS</td>\n",
       "      <td>{'ALLIANT TECHSYSTEMS Inc': 0, 'NASA': 1, 'SLS': 2}</td>\n",
       "      <td>0</td>\n",
       "      <td>0_2</td>\n",
       "    </tr>\n",
       "  </tbody>\n",
       "</table>\n",
       "</div>"
      ],
      "text/plain": [
       "                                                                                                                                                                                                                                                                                                                                                                                             sents  \\\n",
       "0  In the event [E2] NASA [/E2] were to cancel the SLS program, ALLIANT TECHSYSTEMS Inc believe that ALLIANT TECHSYSTEMS Inc will be reimbursed for certain amounts previously incurred by ALLIANT TECHSYSTEMS Inc as well as amounts to be incurred by [E1] ALLIANT TECHSYSTEMS Inc [/E1] as part of that termination, e.g., severance, environmental liabilities and termination administration.   \n",
       "1  In the event [E2] NASA [/E2] were to cancel the SLS program, ALLIANT TECHSYSTEMS Inc believe that ALLIANT TECHSYSTEMS Inc will be reimbursed for certain amounts previously incurred by [E1] ALLIANT TECHSYSTEMS Inc [/E1] as well as amounts to be incurred by ALLIANT TECHSYSTEMS Inc as part of that termination, e.g., severance, environmental liabilities and termination administration.   \n",
       "2  In the event [E2] NASA [/E2] were to cancel the SLS program, [E1] ALLIANT TECHSYSTEMS Inc [/E1] believe that ALLIANT TECHSYSTEMS Inc will be reimbursed for certain amounts previously incurred by ALLIANT TECHSYSTEMS Inc as well as amounts to be incurred by ALLIANT TECHSYSTEMS Inc as part of that termination, e.g., severance, environmental liabilities and termination administration.   \n",
       "3  In the event [E2] NASA [/E2] were to cancel the SLS program, ALLIANT TECHSYSTEMS Inc believe that [E1] ALLIANT TECHSYSTEMS Inc [/E1] will be reimbursed for certain amounts previously incurred by ALLIANT TECHSYSTEMS Inc as well as amounts to be incurred by ALLIANT TECHSYSTEMS Inc as part of that termination, e.g., severance, environmental liabilities and termination administration.   \n",
       "4  In the event NASA were to cancel the [E2] SLS [/E2] program, ALLIANT TECHSYSTEMS Inc believe that ALLIANT TECHSYSTEMS Inc will be reimbursed for certain amounts previously incurred by [E1] ALLIANT TECHSYSTEMS Inc [/E1] as well as amounts to be incurred by ALLIANT TECHSYSTEMS Inc as part of that termination, e.g., severance, environmental liabilities and termination administration.   \n",
       "5  In the event NASA were to cancel the [E2] SLS [/E2] program, [E1] ALLIANT TECHSYSTEMS Inc [/E1] believe that ALLIANT TECHSYSTEMS Inc will be reimbursed for certain amounts previously incurred by ALLIANT TECHSYSTEMS Inc as well as amounts to be incurred by ALLIANT TECHSYSTEMS Inc as part of that termination, e.g., severance, environmental liabilities and termination administration.   \n",
       "6  In the event NASA were to cancel the [E2] SLS [/E2] program, ALLIANT TECHSYSTEMS Inc believe that [E1] ALLIANT TECHSYSTEMS Inc [/E1] will be reimbursed for certain amounts previously incurred by ALLIANT TECHSYSTEMS Inc as well as amounts to be incurred by ALLIANT TECHSYSTEMS Inc as part of that termination, e.g., severance, environmental liabilities and termination administration.   \n",
       "7  In the event NASA were to cancel the [E2] SLS [/E2] program, ALLIANT TECHSYSTEMS Inc believe that ALLIANT TECHSYSTEMS Inc will be reimbursed for certain amounts previously incurred by ALLIANT TECHSYSTEMS Inc as well as amounts to be incurred by [E1] ALLIANT TECHSYSTEMS Inc [/E1] as part of that termination, e.g., severance, environmental liabilities and termination administration.   \n",
       "8  In the event [E1] NASA [/E1] were to cancel the [E2] SLS [/E2] program, ALLIANT TECHSYSTEMS Inc believe that ALLIANT TECHSYSTEMS Inc will be reimbursed for certain amounts previously incurred by ALLIANT TECHSYSTEMS Inc as well as amounts to be incurred by ALLIANT TECHSYSTEMS Inc as part of that termination, e.g., severance, environmental liabilities and termination administration.   \n",
       "\n",
       "                                                                                                                                                                                                                                                                                                                                                                  orig_sents  \\\n",
       "0  In the event NASA were to cancel the SLS program, ALLIANT TECHSYSTEMS Inc believe that ALLIANT TECHSYSTEMS Inc will be reimbursed for certain amounts previously incurred by ALLIANT TECHSYSTEMS Inc as well as amounts to be incurred by ALLIANT TECHSYSTEMS Inc as part of that termination, e.g., severance, environmental liabilities and termination administration.   \n",
       "1  In the event NASA were to cancel the SLS program, ALLIANT TECHSYSTEMS Inc believe that ALLIANT TECHSYSTEMS Inc will be reimbursed for certain amounts previously incurred by ALLIANT TECHSYSTEMS Inc as well as amounts to be incurred by ALLIANT TECHSYSTEMS Inc as part of that termination, e.g., severance, environmental liabilities and termination administration.   \n",
       "2  In the event NASA were to cancel the SLS program, ALLIANT TECHSYSTEMS Inc believe that ALLIANT TECHSYSTEMS Inc will be reimbursed for certain amounts previously incurred by ALLIANT TECHSYSTEMS Inc as well as amounts to be incurred by ALLIANT TECHSYSTEMS Inc as part of that termination, e.g., severance, environmental liabilities and termination administration.   \n",
       "3  In the event NASA were to cancel the SLS program, ALLIANT TECHSYSTEMS Inc believe that ALLIANT TECHSYSTEMS Inc will be reimbursed for certain amounts previously incurred by ALLIANT TECHSYSTEMS Inc as well as amounts to be incurred by ALLIANT TECHSYSTEMS Inc as part of that termination, e.g., severance, environmental liabilities and termination administration.   \n",
       "4  In the event NASA were to cancel the SLS program, ALLIANT TECHSYSTEMS Inc believe that ALLIANT TECHSYSTEMS Inc will be reimbursed for certain amounts previously incurred by ALLIANT TECHSYSTEMS Inc as well as amounts to be incurred by ALLIANT TECHSYSTEMS Inc as part of that termination, e.g., severance, environmental liabilities and termination administration.   \n",
       "5  In the event NASA were to cancel the SLS program, ALLIANT TECHSYSTEMS Inc believe that ALLIANT TECHSYSTEMS Inc will be reimbursed for certain amounts previously incurred by ALLIANT TECHSYSTEMS Inc as well as amounts to be incurred by ALLIANT TECHSYSTEMS Inc as part of that termination, e.g., severance, environmental liabilities and termination administration.   \n",
       "6  In the event NASA were to cancel the SLS program, ALLIANT TECHSYSTEMS Inc believe that ALLIANT TECHSYSTEMS Inc will be reimbursed for certain amounts previously incurred by ALLIANT TECHSYSTEMS Inc as well as amounts to be incurred by ALLIANT TECHSYSTEMS Inc as part of that termination, e.g., severance, environmental liabilities and termination administration.   \n",
       "7  In the event NASA were to cancel the SLS program, ALLIANT TECHSYSTEMS Inc believe that ALLIANT TECHSYSTEMS Inc will be reimbursed for certain amounts previously incurred by ALLIANT TECHSYSTEMS Inc as well as amounts to be incurred by ALLIANT TECHSYSTEMS Inc as part of that termination, e.g., severance, environmental liabilities and termination administration.   \n",
       "8  In the event NASA were to cancel the SLS program, ALLIANT TECHSYSTEMS Inc believe that ALLIANT TECHSYSTEMS Inc will be reimbursed for certain amounts previously incurred by ALLIANT TECHSYSTEMS Inc as well as amounts to be incurred by ALLIANT TECHSYSTEMS Inc as part of that termination, e.g., severance, environmental liabilities and termination administration.   \n",
       "\n",
       "                   entity1 entity2  \\\n",
       "0  ALLIANT TECHSYSTEMS Inc    NASA   \n",
       "1  ALLIANT TECHSYSTEMS Inc    NASA   \n",
       "2  ALLIANT TECHSYSTEMS Inc    NASA   \n",
       "3  ALLIANT TECHSYSTEMS Inc    NASA   \n",
       "4  ALLIANT TECHSYSTEMS Inc     SLS   \n",
       "5  ALLIANT TECHSYSTEMS Inc     SLS   \n",
       "6  ALLIANT TECHSYSTEMS Inc     SLS   \n",
       "7  ALLIANT TECHSYSTEMS Inc     SLS   \n",
       "8                     NASA     SLS   \n",
       "\n",
       "                                            org_groups  idx r_id  \n",
       "0  {'ALLIANT TECHSYSTEMS Inc': 0, 'NASA': 1, 'SLS': 2}    0  0_0  \n",
       "1  {'ALLIANT TECHSYSTEMS Inc': 0, 'NASA': 1, 'SLS': 2}    0  0_0  \n",
       "2  {'ALLIANT TECHSYSTEMS Inc': 0, 'NASA': 1, 'SLS': 2}    0  0_0  \n",
       "3  {'ALLIANT TECHSYSTEMS Inc': 0, 'NASA': 1, 'SLS': 2}    0  0_0  \n",
       "4  {'ALLIANT TECHSYSTEMS Inc': 0, 'NASA': 1, 'SLS': 2}    0  0_1  \n",
       "5  {'ALLIANT TECHSYSTEMS Inc': 0, 'NASA': 1, 'SLS': 2}    0  0_1  \n",
       "6  {'ALLIANT TECHSYSTEMS Inc': 0, 'NASA': 1, 'SLS': 2}    0  0_1  \n",
       "7  {'ALLIANT TECHSYSTEMS Inc': 0, 'NASA': 1, 'SLS': 2}    0  0_1  \n",
       "8  {'ALLIANT TECHSYSTEMS Inc': 0, 'NASA': 1, 'SLS': 2}    0  0_2  "
      ]
     },
     "execution_count": 18,
     "metadata": {},
     "output_type": "execute_result"
    }
   ],
   "source": [
    "tagged_frame"
   ]
  },
  {
   "cell_type": "code",
   "execution_count": 19,
   "metadata": {},
   "outputs": [
    {
     "name": "stderr",
     "output_type": "stream",
     "text": [
      "mutate text: 100%|██████████| 9/9 [00:00<00:00, 6503.92it/s]\n",
      "12/10/2023 07:30:30 AM [INFO]: Tokenizing data...\n",
      "tokenization: 100%|██████████| 9/9 [00:00<00:00, 3110.99it/s]\n",
      "tags positioning: 100%|██████████| 9/9 [00:00<00:00, 12157.40it/s]\n"
     ]
    },
    {
     "name": "stdout",
     "output_type": "stream",
     "text": [
      "\n",
      "Invalid rows/total: 0/9\n"
     ]
    },
    {
     "name": "stderr",
     "output_type": "stream",
     "text": [
      "100%|██████████| 2/2 [00:00<00:00, 79.18it/s]\n",
      "mutate text: 100%|██████████| 9/9 [00:00<00:00, 7884.03it/s]\n",
      "12/10/2023 07:30:30 AM [INFO]: Tokenizing data...\n",
      "tokenization: 100%|██████████| 9/9 [00:00<00:00, 3237.73it/s]\n",
      "tags positioning: 100%|██████████| 9/9 [00:00<00:00, 12541.11it/s]\n"
     ]
    },
    {
     "name": "stdout",
     "output_type": "stream",
     "text": [
      "\n",
      "Invalid rows/total: 0/9\n"
     ]
    },
    {
     "name": "stderr",
     "output_type": "stream",
     "text": [
      "100%|██████████| 2/2 [00:00<00:00, 83.40it/s]\n"
     ]
    }
   ],
   "source": [
    "# estimate softmax scores    \n",
    "tagged_frame = re_model.predict_fn(tagged_frame, reverse=True, mutate=True)"
   ]
  },
  {
   "cell_type": "code",
   "execution_count": 20,
   "metadata": {},
   "outputs": [],
   "source": [
    "# aggregate multi-positioning relations.\n",
    "id_scores = tagged_frame.groupby(['r_id'])\\\n",
    " .apply(lambda x : list(np.mean(x['scores'].tolist(), axis=0))).to_dict()"
   ]
  },
  {
   "cell_type": "code",
   "execution_count": 21,
   "metadata": {},
   "outputs": [],
   "source": [
    "# assign aggregated relation for all positions\n",
    "tagged_frame['scores'] = tagged_frame['r_id'].apply(lambda x: id_scores[x])\n",
    "# drop duplicates from multi-positions\n",
    "tagged_frame.drop_duplicates(subset=['r_id'], inplace=True, ignore_index=True)"
   ]
  },
  {
   "cell_type": "code",
   "execution_count": 22,
   "metadata": {},
   "outputs": [
    {
     "data": {
      "text/html": [
       "<div>\n",
       "<style scoped>\n",
       "    .dataframe tbody tr th:only-of-type {\n",
       "        vertical-align: middle;\n",
       "    }\n",
       "\n",
       "    .dataframe tbody tr th {\n",
       "        vertical-align: top;\n",
       "    }\n",
       "\n",
       "    .dataframe thead th {\n",
       "        text-align: right;\n",
       "    }\n",
       "</style>\n",
       "<table border=\"1\" class=\"dataframe\">\n",
       "  <thead>\n",
       "    <tr style=\"text-align: right;\">\n",
       "      <th></th>\n",
       "      <th>sents</th>\n",
       "      <th>orig_sents</th>\n",
       "      <th>entity1</th>\n",
       "      <th>entity2</th>\n",
       "      <th>org_groups</th>\n",
       "      <th>idx</th>\n",
       "      <th>r_id</th>\n",
       "      <th>mutated_sents</th>\n",
       "      <th>scores</th>\n",
       "    </tr>\n",
       "  </thead>\n",
       "  <tbody>\n",
       "    <tr>\n",
       "      <th>0</th>\n",
       "      <td>In the event [E2] NASA [/E2] were to cancel the SLS program, ALLIANT TECHSYSTEMS Inc believe that ALLIANT TECHSYSTEMS Inc will be reimbursed for certain amounts previously incurred by ALLIANT TECHSYSTEMS Inc as well as amounts to be incurred by [E1] ALLIANT TECHSYSTEMS Inc [/E1] as part of that termination, e.g., severance, environmental liabilities and termination administration.</td>\n",
       "      <td>In the event NASA were to cancel the SLS program, ALLIANT TECHSYSTEMS Inc believe that ALLIANT TECHSYSTEMS Inc will be reimbursed for certain amounts previously incurred by ALLIANT TECHSYSTEMS Inc as well as amounts to be incurred by ALLIANT TECHSYSTEMS Inc as part of that termination, e.g., severance, environmental liabilities and termination administration.</td>\n",
       "      <td>ALLIANT TECHSYSTEMS Inc</td>\n",
       "      <td>NASA</td>\n",
       "      <td>{'ALLIANT TECHSYSTEMS Inc': 0, 'NASA': 1, 'SLS': 2}</td>\n",
       "      <td>0</td>\n",
       "      <td>0_0</td>\n",
       "      <td>In the event [E2] org-nine [/E2] were to cancel the SLS program, org-forty-eight believe that org-forty-eight will be reimbursed for certain amounts previously incurred by org-forty-eight as well as amounts to be incurred by [E1] org-forty-eight [/E1] as part of that termination, e.g., severance, environmental liabilities and termination administration.</td>\n",
       "      <td>[0.3352079577744007, 0.025905624614097178, 0.6388864368200302]</td>\n",
       "    </tr>\n",
       "    <tr>\n",
       "      <th>1</th>\n",
       "      <td>In the event NASA were to cancel the [E2] SLS [/E2] program, ALLIANT TECHSYSTEMS Inc believe that ALLIANT TECHSYSTEMS Inc will be reimbursed for certain amounts previously incurred by [E1] ALLIANT TECHSYSTEMS Inc [/E1] as well as amounts to be incurred by ALLIANT TECHSYSTEMS Inc as part of that termination, e.g., severance, environmental liabilities and termination administration.</td>\n",
       "      <td>In the event NASA were to cancel the SLS program, ALLIANT TECHSYSTEMS Inc believe that ALLIANT TECHSYSTEMS Inc will be reimbursed for certain amounts previously incurred by ALLIANT TECHSYSTEMS Inc as well as amounts to be incurred by ALLIANT TECHSYSTEMS Inc as part of that termination, e.g., severance, environmental liabilities and termination administration.</td>\n",
       "      <td>ALLIANT TECHSYSTEMS Inc</td>\n",
       "      <td>SLS</td>\n",
       "      <td>{'ALLIANT TECHSYSTEMS Inc': 0, 'NASA': 1, 'SLS': 2}</td>\n",
       "      <td>0</td>\n",
       "      <td>0_1</td>\n",
       "      <td>In the event org-ninety-one were to cancel the [E2] SLS [/E2] program, org-sixteen believe that org-sixteen will be reimbursed for certain amounts previously incurred by [E1] org-sixteen [/E1] as well as amounts to be incurred by org-sixteen as part of that termination, e.g., severance, environmental liabilities and termination administration.</td>\n",
       "      <td>[0.6959678828716278, 0.023183449637144804, 0.2808486968278885]</td>\n",
       "    </tr>\n",
       "    <tr>\n",
       "      <th>2</th>\n",
       "      <td>In the event [E1] NASA [/E1] were to cancel the [E2] SLS [/E2] program, ALLIANT TECHSYSTEMS Inc believe that ALLIANT TECHSYSTEMS Inc will be reimbursed for certain amounts previously incurred by ALLIANT TECHSYSTEMS Inc as well as amounts to be incurred by ALLIANT TECHSYSTEMS Inc as part of that termination, e.g., severance, environmental liabilities and termination administration.</td>\n",
       "      <td>In the event NASA were to cancel the SLS program, ALLIANT TECHSYSTEMS Inc believe that ALLIANT TECHSYSTEMS Inc will be reimbursed for certain amounts previously incurred by ALLIANT TECHSYSTEMS Inc as well as amounts to be incurred by ALLIANT TECHSYSTEMS Inc as part of that termination, e.g., severance, environmental liabilities and termination administration.</td>\n",
       "      <td>NASA</td>\n",
       "      <td>SLS</td>\n",
       "      <td>{'ALLIANT TECHSYSTEMS Inc': 0, 'NASA': 1, 'SLS': 2}</td>\n",
       "      <td>0</td>\n",
       "      <td>0_2</td>\n",
       "      <td>In the event [E1] org-seven [/E1] were to cancel the [E2] SLS [/E2] program, org-eighty-three believe that org-eighty-three will be reimbursed for certain amounts previously incurred by org-eighty-three as well as amounts to be incurred by org-eighty-three as part of that termination, e.g., severance, environmental liabilities and termination administration.</td>\n",
       "      <td>[0.9710360765457153, 0.017878979444503784, 0.01108497567474842]</td>\n",
       "    </tr>\n",
       "  </tbody>\n",
       "</table>\n",
       "</div>"
      ],
      "text/plain": [
       "                                                                                                                                                                                                                                                                                                                                                                                             sents  \\\n",
       "0  In the event [E2] NASA [/E2] were to cancel the SLS program, ALLIANT TECHSYSTEMS Inc believe that ALLIANT TECHSYSTEMS Inc will be reimbursed for certain amounts previously incurred by ALLIANT TECHSYSTEMS Inc as well as amounts to be incurred by [E1] ALLIANT TECHSYSTEMS Inc [/E1] as part of that termination, e.g., severance, environmental liabilities and termination administration.   \n",
       "1  In the event NASA were to cancel the [E2] SLS [/E2] program, ALLIANT TECHSYSTEMS Inc believe that ALLIANT TECHSYSTEMS Inc will be reimbursed for certain amounts previously incurred by [E1] ALLIANT TECHSYSTEMS Inc [/E1] as well as amounts to be incurred by ALLIANT TECHSYSTEMS Inc as part of that termination, e.g., severance, environmental liabilities and termination administration.   \n",
       "2  In the event [E1] NASA [/E1] were to cancel the [E2] SLS [/E2] program, ALLIANT TECHSYSTEMS Inc believe that ALLIANT TECHSYSTEMS Inc will be reimbursed for certain amounts previously incurred by ALLIANT TECHSYSTEMS Inc as well as amounts to be incurred by ALLIANT TECHSYSTEMS Inc as part of that termination, e.g., severance, environmental liabilities and termination administration.   \n",
       "\n",
       "                                                                                                                                                                                                                                                                                                                                                                  orig_sents  \\\n",
       "0  In the event NASA were to cancel the SLS program, ALLIANT TECHSYSTEMS Inc believe that ALLIANT TECHSYSTEMS Inc will be reimbursed for certain amounts previously incurred by ALLIANT TECHSYSTEMS Inc as well as amounts to be incurred by ALLIANT TECHSYSTEMS Inc as part of that termination, e.g., severance, environmental liabilities and termination administration.   \n",
       "1  In the event NASA were to cancel the SLS program, ALLIANT TECHSYSTEMS Inc believe that ALLIANT TECHSYSTEMS Inc will be reimbursed for certain amounts previously incurred by ALLIANT TECHSYSTEMS Inc as well as amounts to be incurred by ALLIANT TECHSYSTEMS Inc as part of that termination, e.g., severance, environmental liabilities and termination administration.   \n",
       "2  In the event NASA were to cancel the SLS program, ALLIANT TECHSYSTEMS Inc believe that ALLIANT TECHSYSTEMS Inc will be reimbursed for certain amounts previously incurred by ALLIANT TECHSYSTEMS Inc as well as amounts to be incurred by ALLIANT TECHSYSTEMS Inc as part of that termination, e.g., severance, environmental liabilities and termination administration.   \n",
       "\n",
       "                   entity1 entity2  \\\n",
       "0  ALLIANT TECHSYSTEMS Inc    NASA   \n",
       "1  ALLIANT TECHSYSTEMS Inc     SLS   \n",
       "2                     NASA     SLS   \n",
       "\n",
       "                                            org_groups  idx r_id  \\\n",
       "0  {'ALLIANT TECHSYSTEMS Inc': 0, 'NASA': 1, 'SLS': 2}    0  0_0   \n",
       "1  {'ALLIANT TECHSYSTEMS Inc': 0, 'NASA': 1, 'SLS': 2}    0  0_1   \n",
       "2  {'ALLIANT TECHSYSTEMS Inc': 0, 'NASA': 1, 'SLS': 2}    0  0_2   \n",
       "\n",
       "                                                                                                                                                                                                                                                                                                                                                              mutated_sents  \\\n",
       "0       In the event [E2] org-nine [/E2] were to cancel the SLS program, org-forty-eight believe that org-forty-eight will be reimbursed for certain amounts previously incurred by org-forty-eight as well as amounts to be incurred by [E1] org-forty-eight [/E1] as part of that termination, e.g., severance, environmental liabilities and termination administration.   \n",
       "1                 In the event org-ninety-one were to cancel the [E2] SLS [/E2] program, org-sixteen believe that org-sixteen will be reimbursed for certain amounts previously incurred by [E1] org-sixteen [/E1] as well as amounts to be incurred by org-sixteen as part of that termination, e.g., severance, environmental liabilities and termination administration.   \n",
       "2  In the event [E1] org-seven [/E1] were to cancel the [E2] SLS [/E2] program, org-eighty-three believe that org-eighty-three will be reimbursed for certain amounts previously incurred by org-eighty-three as well as amounts to be incurred by org-eighty-three as part of that termination, e.g., severance, environmental liabilities and termination administration.   \n",
       "\n",
       "                                                            scores  \n",
       "0   [0.3352079577744007, 0.025905624614097178, 0.6388864368200302]  \n",
       "1   [0.6959678828716278, 0.023183449637144804, 0.2808486968278885]  \n",
       "2  [0.9710360765457153, 0.017878979444503784, 0.01108497567474842]  "
      ]
     },
     "execution_count": 22,
     "metadata": {},
     "output_type": "execute_result"
    }
   ],
   "source": [
    "tagged_frame"
   ]
  },
  {
   "cell_type": "code",
   "execution_count": null,
   "metadata": {},
   "outputs": [],
   "source": []
  },
  {
   "cell_type": "code",
   "execution_count": 23,
   "metadata": {},
   "outputs": [],
   "source": [
    "# define max scores and its label_ids\n",
    "score, labels = torch.tensor(tagged_frame['scores']).max(1)\n",
    "# create relations info items to compine relations on each sentence\n",
    "tagged_frame.loc[:, 'relation'],\\\n",
    "tagged_frame.loc[:, 'scores'] =  labels, score\n",
    "tagged_frame.loc[:, 'relation'] = tagged_frame['relation']\\\n",
    ".apply(lambda x : re_model.id2label[str(x)])\n",
    "tagged_frame.loc[:, 'relations_info'] =tagged_frame\\\n",
    ".apply(lambda x : assign_relation(x['sents'], x['relation'], x['scores']), axis=1)\n",
    "\n",
    "relation_groups = []\n",
    "for i,group in tagged_frame.groupby('idx'):\n",
    "    relations = list(group['relations_info'])\n",
    "    group_id = group['idx'].unique()[0]\n",
    "    relation_groups.append({'relations':relations ,\n",
    "                            \"idx\": group_id})\n",
    "merged_df = pd.merge(pd.DataFrame(relation_groups), tagged_frame[['idx','orig_sents', 'org_groups']],\n",
    "                    on='idx', how='inner').drop_duplicates(['idx'])"
   ]
  },
  {
   "cell_type": "code",
   "execution_count": 24,
   "metadata": {},
   "outputs": [
    {
     "data": {
      "text/html": [
       "<div>\n",
       "<style scoped>\n",
       "    .dataframe tbody tr th:only-of-type {\n",
       "        vertical-align: middle;\n",
       "    }\n",
       "\n",
       "    .dataframe tbody tr th {\n",
       "        vertical-align: top;\n",
       "    }\n",
       "\n",
       "    .dataframe thead th {\n",
       "        text-align: right;\n",
       "    }\n",
       "</style>\n",
       "<table border=\"1\" class=\"dataframe\">\n",
       "  <thead>\n",
       "    <tr style=\"text-align: right;\">\n",
       "      <th></th>\n",
       "      <th>relations</th>\n",
       "      <th>idx</th>\n",
       "      <th>orig_sents</th>\n",
       "      <th>org_groups</th>\n",
       "    </tr>\n",
       "  </thead>\n",
       "  <tbody>\n",
       "    <tr>\n",
       "      <th>0</th>\n",
       "      <td>[{'NASA': 'customer', 'ALLIANT TECHSYSTEMS Inc': 'supplier', 'score': 0.6389}, {'SLS': 'other', 'ALLIANT TECHSYSTEMS Inc': 'other', 'score': 0.696}, {'SLS': 'other', 'NASA': 'other', 'score': 0.971}]</td>\n",
       "      <td>0</td>\n",
       "      <td>In the event NASA were to cancel the SLS program, ALLIANT TECHSYSTEMS Inc believe that ALLIANT TECHSYSTEMS Inc will be reimbursed for certain amounts previously incurred by ALLIANT TECHSYSTEMS Inc as well as amounts to be incurred by ALLIANT TECHSYSTEMS Inc as part of that termination, e.g., severance, environmental liabilities and termination administration.</td>\n",
       "      <td>{'ALLIANT TECHSYSTEMS Inc': 0, 'NASA': 1, 'SLS': 2}</td>\n",
       "    </tr>\n",
       "  </tbody>\n",
       "</table>\n",
       "</div>"
      ],
      "text/plain": [
       "                                                                                                                                                                                                 relations  \\\n",
       "0  [{'NASA': 'customer', 'ALLIANT TECHSYSTEMS Inc': 'supplier', 'score': 0.6389}, {'SLS': 'other', 'ALLIANT TECHSYSTEMS Inc': 'other', 'score': 0.696}, {'SLS': 'other', 'NASA': 'other', 'score': 0.971}]   \n",
       "\n",
       "   idx  \\\n",
       "0    0   \n",
       "\n",
       "                                                                                                                                                                                                                                                                                                                                                                  orig_sents  \\\n",
       "0  In the event NASA were to cancel the SLS program, ALLIANT TECHSYSTEMS Inc believe that ALLIANT TECHSYSTEMS Inc will be reimbursed for certain amounts previously incurred by ALLIANT TECHSYSTEMS Inc as well as amounts to be incurred by ALLIANT TECHSYSTEMS Inc as part of that termination, e.g., severance, environmental liabilities and termination administration.   \n",
       "\n",
       "                                            org_groups  \n",
       "0  {'ALLIANT TECHSYSTEMS Inc': 0, 'NASA': 1, 'SLS': 2}  "
      ]
     },
     "execution_count": 24,
     "metadata": {},
     "output_type": "execute_result"
    }
   ],
   "source": [
    "merged_df"
   ]
  },
  {
   "cell_type": "markdown",
   "metadata": {},
   "source": [
    "## Simple Data For Model Sanity Check"
   ]
  },
  {
   "cell_type": "code",
   "execution_count": 25,
   "metadata": {},
   "outputs": [],
   "source": [
    "import pandas as pd\n",
    "simple_data = pd.read_excel(src_dir / 'data/raw/simple_sentences_cs_report.xlsx')"
   ]
  },
  {
   "cell_type": "code",
   "execution_count": 27,
   "metadata": {
    "tags": []
   },
   "outputs": [
    {
     "name": "stderr",
     "output_type": "stream",
     "text": [
      "mutate text: 100%|██████████| 499/499 [00:00<00:00, 14205.34it/s]\n",
      "12/10/2023 07:32:22 AM [INFO]: Tokenizing data...\n",
      "tokenization: 100%|██████████| 499/499 [00:00<00:00, 9786.90it/s]\n",
      "tags positioning: 100%|██████████| 499/499 [00:00<00:00, 72601.56it/s]\n"
     ]
    },
    {
     "name": "stdout",
     "output_type": "stream",
     "text": [
      "\n",
      "Invalid rows/total: 0/499\n"
     ]
    },
    {
     "name": "stderr",
     "output_type": "stream",
     "text": [
      "100%|██████████| 63/63 [00:00<00:00, 99.16it/s] \n"
     ]
    }
   ],
   "source": [
    "predictions = re_model.predict_frame(simple_data, sentence_column = 'sentence')"
   ]
  },
  {
   "cell_type": "code",
   "execution_count": 29,
   "metadata": {},
   "outputs": [
    {
     "data": {
      "text/html": [
       "<div>\n",
       "<style scoped>\n",
       "    .dataframe tbody tr th:only-of-type {\n",
       "        vertical-align: middle;\n",
       "    }\n",
       "\n",
       "    .dataframe tbody tr th {\n",
       "        vertical-align: top;\n",
       "    }\n",
       "\n",
       "    .dataframe thead th {\n",
       "        text-align: right;\n",
       "    }\n",
       "</style>\n",
       "<table border=\"1\" class=\"dataframe\">\n",
       "  <thead>\n",
       "    <tr style=\"text-align: right;\">\n",
       "      <th></th>\n",
       "      <th>relations</th>\n",
       "      <th>orig_sents</th>\n",
       "      <th>org_groups</th>\n",
       "    </tr>\n",
       "    <tr>\n",
       "      <th>idx</th>\n",
       "      <th></th>\n",
       "      <th></th>\n",
       "      <th></th>\n",
       "    </tr>\n",
       "  </thead>\n",
       "  <tbody>\n",
       "    <tr>\n",
       "      <th>0</th>\n",
       "      <td>[{'Intel': 'supplier', 'Apple': 'customer', 'score': 0.999}]</td>\n",
       "      <td>Due to new government regulations, Apple has started buying microchips from Intel.</td>\n",
       "      <td>{'Apple': 0, 'Intel': 1}</td>\n",
       "    </tr>\n",
       "    <tr>\n",
       "      <th>1</th>\n",
       "      <td>[{'Oracle': 'supplier', 'Microsoft': 'customer', 'score': 0.9995}]</td>\n",
       "      <td>Government regulations require Microsoft to purchase software licenses from Oracle.</td>\n",
       "      <td>{'Microsoft': 0, 'Oracle': 1}</td>\n",
       "    </tr>\n",
       "  </tbody>\n",
       "</table>\n",
       "</div>"
      ],
      "text/plain": [
       "                                                              relations  \\\n",
       "idx                                                                       \n",
       "0          [{'Intel': 'supplier', 'Apple': 'customer', 'score': 0.999}]   \n",
       "1    [{'Oracle': 'supplier', 'Microsoft': 'customer', 'score': 0.9995}]   \n",
       "\n",
       "                                                                              orig_sents  \\\n",
       "idx                                                                                        \n",
       "0     Due to new government regulations, Apple has started buying microchips from Intel.   \n",
       "1    Government regulations require Microsoft to purchase software licenses from Oracle.   \n",
       "\n",
       "                        org_groups  \n",
       "idx                                 \n",
       "0         {'Apple': 0, 'Intel': 1}  \n",
       "1    {'Microsoft': 0, 'Oracle': 1}  "
      ]
     },
     "execution_count": 29,
     "metadata": {},
     "output_type": "execute_result"
    }
   ],
   "source": [
    "predictions.head(2)"
   ]
  },
  {
   "cell_type": "code",
   "execution_count": 30,
   "metadata": {},
   "outputs": [],
   "source": [
    "simple_data.loc[predictions.index, 'relations'] = predictions['relations']"
   ]
  },
  {
   "cell_type": "code",
   "execution_count": 32,
   "metadata": {},
   "outputs": [
    {
     "data": {
      "text/plain": [
       "25"
      ]
     },
     "execution_count": 32,
     "metadata": {},
     "output_type": "execute_result"
    }
   ],
   "source": [
    "simple_data['relations'].isna().sum()"
   ]
  },
  {
   "cell_type": "code",
   "execution_count": 33,
   "metadata": {},
   "outputs": [],
   "source": [
    "from itertools import chain\n",
    "def is_sc(relations):\n",
    "    if not relations:\n",
    "        return 0\n",
    "    if isinstance(relations, list):\n",
    "        return int(any([1 if x =='supplier' else 0 for x in\\\n",
    "             list(chain(*[list(r.values()) for r in relations])) ]))\n",
    "    else:\n",
    "        0\n"
   ]
  },
  {
   "cell_type": "code",
   "execution_count": 34,
   "metadata": {},
   "outputs": [],
   "source": [
    "relations = simple_data['relations'][1]"
   ]
  },
  {
   "cell_type": "code",
   "execution_count": 35,
   "metadata": {},
   "outputs": [
    {
     "data": {
      "text/plain": [
       "True"
      ]
     },
     "execution_count": 35,
     "metadata": {},
     "output_type": "execute_result"
    }
   ],
   "source": [
    "any([1 if x =='supplier' else 0 for x in\\\n",
    "             list(chain(*[list(r.values()) for r in relations])) ])"
   ]
  },
  {
   "cell_type": "code",
   "execution_count": 36,
   "metadata": {},
   "outputs": [],
   "source": [
    "simple_data.loc[:, 're_prediction'] = simple_data['relations'].apply(is_sc)"
   ]
  },
  {
   "cell_type": "code",
   "execution_count": 37,
   "metadata": {},
   "outputs": [],
   "source": [
    "simple_data['re_prediction'].fillna(0, inplace=True)"
   ]
  },
  {
   "cell_type": "code",
   "execution_count": 38,
   "metadata": {},
   "outputs": [],
   "source": [
    "simple_data.loc[:, 're_correct_prediction'] = simple_data['re_prediction'] == simple_data['true_label']"
   ]
  },
  {
   "cell_type": "code",
   "execution_count": 39,
   "metadata": {},
   "outputs": [
    {
     "data": {
      "text/plain": [
       "0"
      ]
     },
     "execution_count": 39,
     "metadata": {},
     "output_type": "execute_result"
    }
   ],
   "source": [
    "simple_data.re_prediction.isna().sum()"
   ]
  },
  {
   "cell_type": "code",
   "execution_count": 43,
   "metadata": {},
   "outputs": [],
   "source": [
    "correct = simple_data.query(\"true_label == re_prediction\")"
   ]
  },
  {
   "cell_type": "code",
   "execution_count": 44,
   "metadata": {},
   "outputs": [],
   "source": [
    "errors =  simple_data.query(\"true_label != re_prediction\")"
   ]
  },
  {
   "cell_type": "code",
   "execution_count": 45,
   "metadata": {},
   "outputs": [
    {
     "data": {
      "text/plain": [
       "1.0    29\n",
       "0.0    15\n",
       "Name: re_prediction, dtype: int64"
      ]
     },
     "execution_count": 45,
     "metadata": {},
     "output_type": "execute_result"
    }
   ],
   "source": [
    "errors.re_prediction.value_counts()"
   ]
  },
  {
   "cell_type": "code",
   "execution_count": 46,
   "metadata": {},
   "outputs": [
    {
     "data": {
      "text/plain": [
       "0.9063829787234042"
      ]
     },
     "execution_count": 46,
     "metadata": {},
     "output_type": "execute_result"
    }
   ],
   "source": [
    "simple_data.query(\"true_label == re_prediction\").shape[0]/ len(simple_data)"
   ]
  },
  {
   "cell_type": "code",
   "execution_count": 112,
   "metadata": {},
   "outputs": [],
   "source": [
    "sent = \"McDonald's yearly revenue numbers increased after it started sourcing potatoes for Idaho Potato Commission.\"\n",
    "sent = \"Starbucks potential revenue have surged after they started buying coffee beans from Colombian Coffee Growers Federation.\"\n",
    "sent = \"Whole Foods Market is UNITED NATURAL FOODS Inc only supernatural chain customer, and net sales to Whole Foods Market for the year ended August 3, 2013 increased by approximately $324 million or 17.2% over the prior year and accounted for approximately 36% of UNITED NATURAL FOODS Inc total net sales for each of the years ended August 3, 2013 and July 28, 2012\""
   ]
  },
  {
   "cell_type": "code",
   "execution_count": 113,
   "metadata": {},
   "outputs": [
    {
     "name": "stdout",
     "output_type": "stream",
     "text": [
      "| ID | GPU | MEM |\n",
      "------------------\n",
      "|  0 |  0% | 14% |\n",
      "2023-09-14 14:08:42,510 — 🌌 spaCy — INFO — Start batch job for 1 chunks\n",
      "2023-09-14 14:08:42,511 — 🌌 spaCy — INFO — process chunk#1 ...\n"
     ]
    },
    {
     "name": "stderr",
     "output_type": "stream",
     "text": [
      "mutate text: 100%|██████████| 1/1 [00:00<00:00, 1474.27it/s]\n",
      "09/14/2023 02:08:42 PM [INFO]: Tokenizing data...\n",
      "tokenization: 100%|██████████| 1/1 [00:00<00:00, 838.36it/s]\n",
      "tags positioning: 100%|██████████| 1/1 [00:00<00:00, 1680.41it/s]\n"
     ]
    },
    {
     "name": "stdout",
     "output_type": "stream",
     "text": [
      "\n",
      "Invalid rows/total: 0/1\n"
     ]
    },
    {
     "name": "stderr",
     "output_type": "stream",
     "text": [
      "100%|██████████| 1/1 [00:00<00:00, 133.35it/s]\n"
     ]
    },
    {
     "data": {
      "text/html": [
       "<div>\n",
       "<style scoped>\n",
       "    .dataframe tbody tr th:only-of-type {\n",
       "        vertical-align: middle;\n",
       "    }\n",
       "\n",
       "    .dataframe tbody tr th {\n",
       "        vertical-align: top;\n",
       "    }\n",
       "\n",
       "    .dataframe thead th {\n",
       "        text-align: right;\n",
       "    }\n",
       "</style>\n",
       "<table border=\"1\" class=\"dataframe\">\n",
       "  <thead>\n",
       "    <tr style=\"text-align: right;\">\n",
       "      <th></th>\n",
       "      <th>relations</th>\n",
       "      <th>orig_sents</th>\n",
       "      <th>org_groups</th>\n",
       "    </tr>\n",
       "    <tr>\n",
       "      <th>idx</th>\n",
       "      <th></th>\n",
       "      <th></th>\n",
       "      <th></th>\n",
       "    </tr>\n",
       "  </thead>\n",
       "  <tbody>\n",
       "    <tr>\n",
       "      <th>0</th>\n",
       "      <td>[{'Whole Foods Market': 'customer', 'UNITED NATURAL FOODS Inc': 'supplier', 'score': 0.9999}]</td>\n",
       "      <td>Whole Foods Market is UNITED NATURAL FOODS Inc only supernatural chain customer, and net sales to Whole Foods Market for the year ended August 3, 2013 increased by approximately $324 million or 17.2% over the prior year and accounted for approximately 36% of UNITED NATURAL FOODS Inc total net sales for each of the years ended August 3, 2013 and July 28, 2012</td>\n",
       "      <td>{'UNITED NATURAL FOODS Inc': 0, 'Whole Foods Market': 1}</td>\n",
       "    </tr>\n",
       "  </tbody>\n",
       "</table>\n",
       "</div>"
      ],
      "text/plain": [
       "                                                                                         relations  \\\n",
       "idx                                                                                                  \n",
       "0    [{'Whole Foods Market': 'customer', 'UNITED NATURAL FOODS Inc': 'supplier', 'score': 0.9999}]   \n",
       "\n",
       "                                                                                                                                                                                                                                                                                                                                                                   orig_sents  \\\n",
       "idx                                                                                                                                                                                                                                                                                                                                                                             \n",
       "0    Whole Foods Market is UNITED NATURAL FOODS Inc only supernatural chain customer, and net sales to Whole Foods Market for the year ended August 3, 2013 increased by approximately $324 million or 17.2% over the prior year and accounted for approximately 36% of UNITED NATURAL FOODS Inc total net sales for each of the years ended August 3, 2013 and July 28, 2012   \n",
       "\n",
       "                                                   org_groups  \n",
       "idx                                                            \n",
       "0    {'UNITED NATURAL FOODS Inc': 0, 'Whole Foods Market': 1}  "
      ]
     },
     "execution_count": 113,
     "metadata": {},
     "output_type": "execute_result"
    }
   ],
   "source": [
    "relation_extractor.predict_relations([sent])"
   ]
  },
  {
   "cell_type": "markdown",
   "metadata": {
    "id": "VQMuKGXXMwpE",
    "tags": []
   },
   "source": [
    "# _Extract supply chain relations from sequence of text_\n",
    "- Using `infere.predict_relations` to extract relations within `Sequence` of sentences "
   ]
  },
  {
   "cell_type": "code",
   "execution_count": 3,
   "metadata": {
    "id": "MWVDAAOwIQgI"
   },
   "outputs": [
    {
     "name": "stdout",
     "output_type": "stream",
     "text": [
      "| ID | GPU | MEM |\n",
      "------------------\n",
      "|  0 |  0% | 13% |\n",
      "2023-09-12 12:28:09,021 — 🌌 spaCy — INFO — Start batch job for 1 chunks\n",
      "2023-09-12 12:28:09,023 — 🌌 spaCy — INFO — process chunk#1 ...\n"
     ]
    },
    {
     "name": "stderr",
     "output_type": "stream",
     "text": [
      "mutate text: 100%|██████████| 28/28 [00:00<00:00, 8068.19it/s]\n",
      "09/12/2023 12:28:10 PM [INFO]: Tokenizing data...\n",
      "tokenization: 100%|██████████| 28/28 [00:00<00:00, 3473.13it/s]\n",
      "tags positioning: 100%|██████████| 28/28 [00:00<00:00, 20371.29it/s]\n"
     ]
    },
    {
     "name": "stdout",
     "output_type": "stream",
     "text": [
      "\n",
      "Invalid rows/total: 0/28\n"
     ]
    },
    {
     "name": "stderr",
     "output_type": "stream",
     "text": [
      "100%|██████████| 4/4 [00:00<00:00, 45.71it/s]\n"
     ]
    }
   ],
   "source": [
    "text = ['This Annual Report on Form 10 K presents information for Sirius XM Holdings Inc (\"Holdings\"), a Delaware Corp The terms \"Holdings,\" \"SIRIUS XM HOLDINGS Inc,\" \"SIRIUS XM HOLDINGS Inc,\" \"SIRIUS XM HOLDINGS Inc,\" and \"SIRIUS XM HOLDINGS Inc company\" as used herein and unless otherwise stated or indicated by context, refer to Sirius XM Holdings Inc..',\n",
    "    'TWENTY-FIRST CENTURY FOX INC has an approximate 19% interest in Rotana Holding FZ-LLC (\"Rotana\"), a diversified media company in the Middle East and North Africa.',\n",
    " 'TWENTY-FIRST CENTURY FOX INC reports that A significant stockholder of the Company, who owns more than 5% of the TWENTY-FIRST CENTURY FOX INC Class B Common Stock, owns a controlling interest in Rotana.',\n",
    " 'TWENTY-FIRST CENTURY FOX INC also has an option to sell its interest in Rotana in fiscal year 2015 at the higher of the price per share based on a bona-fide sale offer or the original subscription price plus interest.',\n",
    " 'In January 2014, TWENTY-FIRST CENTURY FOX INC terminated its licensing arrangement with Rotana Media Services (\"RMS\"), a subsidiary of Rotana, whereby RMS had licensed two English-language, free-to-air general entertainment channels from TWENTY-FIRST CENTURY FOX INC for distribution in the Middle East.',\n",
    " 'In connection with the termination, TWENTY-FIRST CENTURY FOX INC agreed to settle all outstanding receivables at a discount and RMS agreed to provide TWENTY-FIRST CENTURY FOX INC with continued satellite transponder capacity services for two years.',\n",
    " 'In addition, TWENTY-FIRST CENTURY FOX INC has provided a shareholder loan to the Rotana venture.',\n",
    " 'None of the amounts between TWENTY-FIRST CENTURY FOX INC and RMS in connection with the termination of the licensing agreement is material to TWENTY-FIRST CENTURY FOX INC either individually or in the aggregate.',\n",
    " 'In 2012, two customers, Samsung Electronics Company, Ltd. (\"Samsung\") and Taiwan Semiconductor Manufacturing Company, Ltd. (\"Taiwan Semiconductor\"), combined represented greater than 10 percent of total net sales.',\n",
    " 'The largest purchasers were Valero Energy Corp. (\"Valero\"), NGL Energy Partners LP, PVR Midstream LLC (\"PVR Midstream\"), Plains Marketing LP (\"Plains Marketing\"), and Monarch Natural Gas LLC which accounted for approximately 22%, 12%, 12%, 10% and 10% of consolidated oil and gas sales, respectively.',\n",
    "       'Greater Cannabis Co Inc reports that The FF Note may be pre paid in whole or in part by paying FF the following premiums',\n",
    "       \"Greater Cannabis Co Inc reports that The agreement provides for Green C payments to Pharmedica of a $100,000 license fee (which was paid by 2591028 Ontario Limited, an entity affiliated with Green C's Chief Executive Officer, on June 26, 2018) and annual royalties at a rate of 5% of the Net Sales of the Licensed Product subject to a Minimum Annual Royalty of $50,000.\"]\n",
    "# Predict sequence of text\n",
    "output = relation_extractor.predict_relations(text, mutate=True)"
   ]
  },
  {
   "cell_type": "code",
   "execution_count": 4,
   "metadata": {},
   "outputs": [
    {
     "data": {
      "text/plain": [
       "[{'orig_sents': 'This Annual Report on Form 10 K presents information for Sirius XM Holdings Inc (\"Holdings\"), a Delaware Corp The terms \"Holdings,\" \"SIRIUS XM HOLDINGS Inc,\" \"SIRIUS XM HOLDINGS Inc,\" \"SIRIUS XM HOLDINGS Inc,\" and \"SIRIUS XM HOLDINGS Inc company\" as used herein and unless otherwise stated or indicated by context, refer to Sirius XM Holdings Inc..',\n",
       "  'relations': [{'Delaware Corp': 'other',\n",
       "    'SIRIUS XM HOLDINGS Inc': 'other',\n",
       "    'score': 1.0}]},\n",
       " {'orig_sents': 'TWENTY FIRST CENTURY FOX INC has an approximate 19% interest in Rotana Holding FZ LLC (\"Rotana\"), a diversified media company in the Middle East and North Africa.',\n",
       "  'relations': [{'TWENTY FIRST CENTURY FOX INC': 'other',\n",
       "    'Rotana Holding FZ LLC': 'other',\n",
       "    'score': 1.0}]},\n",
       " {'orig_sents': 'TWENTY FIRST CENTURY FOX INC reports that A significant stockholder of the Company, who owns more than 5% of the TWENTY FIRST CENTURY FOX INC Class B Common Stock, owns a controlling interest in Rotana.',\n",
       "  'relations': [{'TWENTY FIRST CENTURY FOX INC': 'other',\n",
       "    'Rotana': 'other',\n",
       "    'score': 1.0}]},\n",
       " {'orig_sents': 'TWENTY FIRST CENTURY FOX INC also has an option to sell its interest in Rotana in fiscal year 2015 at the higher of the price per share based on a bona fide sale offer or the original subscription price plus interest.',\n",
       "  'relations': [{'TWENTY FIRST CENTURY FOX INC': 'other',\n",
       "    'Rotana': 'other',\n",
       "    'score': 0.9994}]},\n",
       " {'orig_sents': 'In January 2014, TWENTY FIRST CENTURY FOX INC terminated its licensing arrangement with Rotana Media Services (\"RMS\"), a subsidiary of Rotana, whereby RMS had licensed two English language, free to air general entertainment channels from TWENTY FIRST CENTURY FOX INC for distribution in the Middle East.',\n",
       "  'relations': [{'Rotana': 'other',\n",
       "    'Rotana Media Services': 'other',\n",
       "    'score': 0.9996},\n",
       "   {'TWENTY FIRST CENTURY FOX INC': 'customer',\n",
       "    'Rotana Media Services': 'supplier',\n",
       "    'score': 0.9959},\n",
       "   {'TWENTY FIRST CENTURY FOX INC': 'customer',\n",
       "    'Rotana': 'supplier',\n",
       "    'score': 0.9911}]},\n",
       " {'orig_sents': 'In connection with the termination, TWENTY FIRST CENTURY FOX INC agreed to settle all outstanding receivables at a discount and RMS agreed to provide TWENTY FIRST CENTURY FOX INC with continued satellite transponder capacity services for two years.',\n",
       "  'relations': [{'TWENTY FIRST CENTURY FOX INC': 'supplier',\n",
       "    'RMS': 'customer',\n",
       "    'score': 1.0}]},\n",
       " {'orig_sents': 'In addition, TWENTY FIRST CENTURY FOX INC has provided a shareholder loan to the Rotana venture.',\n",
       "  'relations': [{'TWENTY FIRST CENTURY FOX INC': 'other',\n",
       "    'Rotana': 'other',\n",
       "    'score': 0.9999}]},\n",
       " {'orig_sents': 'None of the amounts between TWENTY FIRST CENTURY FOX INC and RMS in connection with the termination of the licensing agreement is material to TWENTY FIRST CENTURY FOX INC either individually or in the aggregate.',\n",
       "  'relations': [{'TWENTY FIRST CENTURY FOX INC': 'supplier',\n",
       "    'RMS': 'customer',\n",
       "    'score': 0.9302}]},\n",
       " {'orig_sents': 'In 2012, two customers, Samsung Electronics Company, Ltd. (\"Samsung\") and Taiwan Semiconductor Manufacturing Company, Ltd. (\"Taiwan Semiconductor\"), combined represented greater than 10 percent of total net sales.',\n",
       "  'relations': [{'Taiwan Semiconductor Manufacturing Company, Ltd.': 'other',\n",
       "    'Samsung Electronics Company, Ltd.': 'other',\n",
       "    'score': 1.0}]},\n",
       " {'orig_sents': 'The largest purchasers were Valero Energy Corp. (\"Valero\"), NGL Energy Partners LP, PVR Midstream LLC (\"PVR Midstream\"), Plains Marketing LP (\"Plains Marketing\"), and Monarch Natural Gas LLC which accounted for approximately 22%, 12%, 12%, 10% and 10% of consolidated oil and gas sales, respectively.',\n",
       "  'relations': [{'PVR Midstream LLC': 'other',\n",
       "    'Valero Energy Corp.': 'other',\n",
       "    'score': 1.0},\n",
       "   {'Plains Marketing LP': 'other',\n",
       "    'Valero Energy Corp.': 'other',\n",
       "    'score': 1.0},\n",
       "   {'NGL Energy Partners LP': 'other',\n",
       "    'Valero Energy Corp.': 'other',\n",
       "    'score': 1.0},\n",
       "   {'Monarch Natural Gas LLC': 'other',\n",
       "    'Valero Energy Corp.': 'other',\n",
       "    'score': 1.0},\n",
       "   {'Plains Marketing LP': 'other',\n",
       "    'PVR Midstream LLC': 'other',\n",
       "    'score': 1.0},\n",
       "   {'NGL Energy Partners LP': 'other',\n",
       "    'PVR Midstream LLC': 'other',\n",
       "    'score': 1.0},\n",
       "   {'Monarch Natural Gas LLC': 'other',\n",
       "    'PVR Midstream LLC': 'other',\n",
       "    'score': 1.0},\n",
       "   {'NGL Energy Partners LP': 'other',\n",
       "    'Plains Marketing LP': 'other',\n",
       "    'score': 1.0},\n",
       "   {'Monarch Natural Gas LLC': 'other',\n",
       "    'Plains Marketing LP': 'other',\n",
       "    'score': 1.0},\n",
       "   {'Monarch Natural Gas LLC': 'other',\n",
       "    'NGL Energy Partners LP': 'other',\n",
       "    'score': 1.0}]},\n",
       " {'orig_sents': 'Greater Cannabis Co Inc reports that The FF Note may be pre paid in whole or in part by paying FF the following premiums',\n",
       "  'relations': [{'Greater Cannabis Co Inc': 'customer',\n",
       "    'FF': 'supplier',\n",
       "    'score': 0.9873}]},\n",
       " {'orig_sents': \"Greater Cannabis Co Inc reports that The agreement provides for Green C payments to Pharmedica of a $100,000 license fee (which was paid by 2591028 Ontario Limited, an entity affiliated with Green C's Chief Executive Officer, on June 26, 2018) and annual royalties at a rate of 5% of the Net Sales of the Licensed Product subject to a Minimum Annual Royalty of $50,000.\",\n",
       "  'relations': [{'Pharmedica': 'other', \"Green C's\": 'other', 'score': 0.9978},\n",
       "   {'2591028 Ontario Limited': 'other', \"Green C's\": 'other', 'score': 0.9995},\n",
       "   {'Greater Cannabis Co Inc': 'other', \"Green C's\": 'other', 'score': 0.9997},\n",
       "   {'2591028 Ontario Limited': 'other',\n",
       "    'Pharmedica': 'other',\n",
       "    'score': 0.8939},\n",
       "   {'Greater Cannabis Co Inc': 'other', 'Pharmedica': 'other', 'score': 0.995},\n",
       "   {'Greater Cannabis Co Inc': 'other',\n",
       "    '2591028 Ontario Limited': 'other',\n",
       "    'score': 0.997}]}]"
      ]
     },
     "execution_count": 4,
     "metadata": {},
     "output_type": "execute_result"
    }
   ],
   "source": [
    "from pprint import pprint as pp\n",
    "import json \n",
    "json.loads(output[['orig_sents', 'relations']].to_json(orient='records'))"
   ]
  },
  {
   "cell_type": "code",
   "execution_count": 16,
   "metadata": {},
   "outputs": [],
   "source": [
    "sentence = \"Advanced Micro Devices Inc have a wafer supply agreement with GLOBALFOUNDRIES Inc (GF) with obligations to purchase all of Advanced Micro Devices Inc microprocessor and accelerated processing unit (APU) product requirements and a certain portion of Advanced Micro Devices Inc graphics processing unit (GPU) product requirements manufactured at process nodes larger than 7 nanometer from GF, with limited exceptions\""
   ]
  },
  {
   "cell_type": "code",
   "execution_count": 17,
   "metadata": {},
   "outputs": [
    {
     "name": "stdout",
     "output_type": "stream",
     "text": [
      "| ID | GPU | MEM |\n",
      "------------------\n",
      "|  0 |  0% | 13% |\n",
      "2023-09-12 12:37:30,052 — 🌌 spaCy — INFO — Start batch job for 1 chunks\n",
      "2023-09-12 12:37:30,054 — 🌌 spaCy — INFO — process chunk#1 ...\n"
     ]
    },
    {
     "name": "stderr",
     "output_type": "stream",
     "text": [
      "mutate text: 100%|██████████| 3/3 [00:00<00:00, 2894.62it/s]\n",
      "09/12/2023 12:37:30 PM [INFO]: Tokenizing data...\n",
      "tokenization: 100%|██████████| 3/3 [00:00<00:00, 1415.56it/s]\n",
      "tags positioning: 100%|██████████| 3/3 [00:00<00:00, 3574.69it/s]\n"
     ]
    },
    {
     "name": "stdout",
     "output_type": "stream",
     "text": [
      "\n",
      "Invalid rows/total: 0/3\n"
     ]
    },
    {
     "name": "stderr",
     "output_type": "stream",
     "text": [
      "100%|██████████| 1/1 [00:00<00:00, 69.00it/s]\n"
     ]
    },
    {
     "data": {
      "text/html": [
       "<div>\n",
       "<style scoped>\n",
       "    .dataframe tbody tr th:only-of-type {\n",
       "        vertical-align: middle;\n",
       "    }\n",
       "\n",
       "    .dataframe tbody tr th {\n",
       "        vertical-align: top;\n",
       "    }\n",
       "\n",
       "    .dataframe thead th {\n",
       "        text-align: right;\n",
       "    }\n",
       "</style>\n",
       "<table border=\"1\" class=\"dataframe\">\n",
       "  <thead>\n",
       "    <tr style=\"text-align: right;\">\n",
       "      <th></th>\n",
       "      <th>relations</th>\n",
       "      <th>orig_sents</th>\n",
       "      <th>org_groups</th>\n",
       "    </tr>\n",
       "    <tr>\n",
       "      <th>idx</th>\n",
       "      <th></th>\n",
       "      <th></th>\n",
       "      <th></th>\n",
       "    </tr>\n",
       "  </thead>\n",
       "  <tbody>\n",
       "    <tr>\n",
       "      <th>0</th>\n",
       "      <td>[{'GLOBALFOUNDRIES Inc': 'customer', 'Advanced Micro Devices Inc': 'supplier', 'score': 0.9997}, {'GF': 'customer', 'Advanced Micro Devices Inc': 'supplier', 'score': 0.9994}, {'GF': 'other', 'GLOBALFOUNDRIES Inc': 'other', 'score': 0.9987}]</td>\n",
       "      <td>Advanced Micro Devices Inc have a wafer supply agreement with GLOBALFOUNDRIES Inc (GF) with obligations to purchase all of Advanced Micro Devices Inc microprocessor and accelerated processing unit (APU) product requirements and a certain portion of Advanced Micro Devices Inc graphics processing unit (GPU) product requirements manufactured at process nodes larger than 7 nanometer from GF, with limited exceptions</td>\n",
       "      <td>{'Advanced Micro Devices Inc': 0, 'GLOBALFOUNDRIES Inc': 1, 'GF': 2}</td>\n",
       "    </tr>\n",
       "  </tbody>\n",
       "</table>\n",
       "</div>"
      ],
      "text/plain": [
       "                                                                                                                                                                                                                                             relations  \\\n",
       "idx                                                                                                                                                                                                                                                      \n",
       "0    [{'GLOBALFOUNDRIES Inc': 'customer', 'Advanced Micro Devices Inc': 'supplier', 'score': 0.9997}, {'GF': 'customer', 'Advanced Micro Devices Inc': 'supplier', 'score': 0.9994}, {'GF': 'other', 'GLOBALFOUNDRIES Inc': 'other', 'score': 0.9987}]   \n",
       "\n",
       "                                                                                                                                                                                                                                                                                                                                                                                                                         orig_sents  \\\n",
       "idx                                                                                                                                                                                                                                                                                                                                                                                                                                   \n",
       "0    Advanced Micro Devices Inc have a wafer supply agreement with GLOBALFOUNDRIES Inc (GF) with obligations to purchase all of Advanced Micro Devices Inc microprocessor and accelerated processing unit (APU) product requirements and a certain portion of Advanced Micro Devices Inc graphics processing unit (GPU) product requirements manufactured at process nodes larger than 7 nanometer from GF, with limited exceptions   \n",
       "\n",
       "                                                               org_groups  \n",
       "idx                                                                        \n",
       "0    {'Advanced Micro Devices Inc': 0, 'GLOBALFOUNDRIES Inc': 1, 'GF': 2}  "
      ]
     },
     "execution_count": 17,
     "metadata": {},
     "output_type": "execute_result"
    }
   ],
   "source": [
    "relation_extractor.predict_relations([sentence], mutate=True)"
   ]
  },
  {
   "cell_type": "markdown",
   "metadata": {
    "tags": []
   },
   "source": [
    "# _Extract relation from file_ "
   ]
  },
  {
   "cell_type": "code",
   "execution_count": 7,
   "metadata": {},
   "outputs": [],
   "source": [
    "# output = relation_extractor.predict_frame(path = 'data/branches/branch0/train.json', sentence_column ='sents')"
   ]
  },
  {
   "cell_type": "code",
   "execution_count": 2,
   "metadata": {},
   "outputs": [],
   "source": [
    "import pandas as pd\n",
    "test_data = pd.read_json('data/raw/gold_test.json')"
   ]
  },
  {
   "cell_type": "code",
   "execution_count": 32,
   "metadata": {},
   "outputs": [
    {
     "name": "stderr",
     "output_type": "stream",
     "text": [
      "1/1: 100%|██████████| 174/174 [00:01<00:00, 108.19it/s]\n",
      "mutate text: 100%|██████████| 3605/3605 [00:00<00:00, 6334.24it/s]\n",
      "03/15/2023 07:10:37 AM [INFO]: Tokenizing data...\n",
      "tokenization: 100%|██████████| 3605/3605 [00:03<00:00, 1094.16it/s]\n",
      "tags positioning: 100%|██████████| 3605/3605 [00:00<00:00, 49848.24it/s]\n"
     ]
    },
    {
     "name": "stdout",
     "output_type": "stream",
     "text": [
      "\n",
      "Invalid rows/total: 0/3605\n"
     ]
    },
    {
     "name": "stderr",
     "output_type": "stream",
     "text": [
      "100%|██████████| 113/113 [00:15<00:00,  7.29it/s]\n"
     ]
    }
   ],
   "source": [
    "output = relation_extractor.predict_frame(path=test_data, sentence_column='Sentence')"
   ]
  },
  {
   "cell_type": "code",
   "execution_count": null,
   "metadata": {},
   "outputs": [
    {
     "data": {
      "text/html": [
       "<div>\n",
       "<style scoped>\n",
       "    .dataframe tbody tr th:only-of-type {\n",
       "        vertical-align: middle;\n",
       "    }\n",
       "\n",
       "    .dataframe tbody tr th {\n",
       "        vertical-align: top;\n",
       "    }\n",
       "\n",
       "    .dataframe thead th {\n",
       "        text-align: right;\n",
       "    }\n",
       "</style>\n",
       "<table border=\"1\" class=\"dataframe\">\n",
       "  <thead>\n",
       "    <tr style=\"text-align: right;\">\n",
       "      <th></th>\n",
       "      <th>sents</th>\n",
       "      <th>sentence_id</th>\n",
       "      <th>spans</th>\n",
       "      <th>org_groups</th>\n",
       "      <th>aliases</th>\n",
       "      <th>num_orgs</th>\n",
       "      <th>relations</th>\n",
       "    </tr>\n",
       "  </thead>\n",
       "  <tbody>\n",
       "    <tr>\n",
       "      <th>149</th>\n",
       "      <td>Also, on January 8, 2010 Biotest Pharmaceutica...</td>\n",
       "      <td>149</td>\n",
       "      <td>[{'text': 'January 8, 2010', 'label': 'DATE', ...</td>\n",
       "      <td>{'Sanquin': 0, 'Cetor': 1, 'Biotest Pharmaceut...</td>\n",
       "      <td>[]</td>\n",
       "      <td>4</td>\n",
       "      <td>{'other': [{'Cetor': 'Sanquin', 'score': 0.912...</td>\n",
       "    </tr>\n",
       "    <tr>\n",
       "      <th>68</th>\n",
       "      <td>Under a development agreement with Moxie, Gemm...</td>\n",
       "      <td>68</td>\n",
       "      <td>[{'text': 'Moxie', 'label': 'ORG', 'start': 35...</td>\n",
       "      <td>{'Gemma Power Inc.': 0, 'Argan': 1, 'Moxie': 2...</td>\n",
       "      <td>[]</td>\n",
       "      <td>5</td>\n",
       "      <td>{'other': [{'Argan': 'Gemma Power Inc.', 'scor...</td>\n",
       "    </tr>\n",
       "    <tr>\n",
       "      <th>24</th>\n",
       "      <td>SANGAMO THERAPEUTICS, INC reports that The inc...</td>\n",
       "      <td>24</td>\n",
       "      <td>[{'text': 'SANGAMO THERAPEUTICS, INC', 'label'...</td>\n",
       "      <td>{'Biogen': 0, 'SANGAMO THERAPEUTICS, INC': 1, ...</td>\n",
       "      <td>[]</td>\n",
       "      <td>4</td>\n",
       "      <td>{'supplier': [{'SANGAMO THERAPEUTICS, INC': 'B...</td>\n",
       "    </tr>\n",
       "    <tr>\n",
       "      <th>162</th>\n",
       "      <td>Sprint is entitled to expand the number of bun...</td>\n",
       "      <td>162</td>\n",
       "      <td>[{'text': 'Sprint', 'label': 'ORG', 'start': 0...</td>\n",
       "      <td>{'Sprint': 0, 'TeleNav Inc': 1}</td>\n",
       "      <td>[]</td>\n",
       "      <td>2</td>\n",
       "      <td>{'other': [{'TeleNav Inc': 'Sprint', 'score': ...</td>\n",
       "    </tr>\n",
       "    <tr>\n",
       "      <th>168</th>\n",
       "      <td>Sales to Samsung Electronics Co., Ltd. and its...</td>\n",
       "      <td>168</td>\n",
       "      <td>[{'text': 'Samsung Electronics Co., Ltd.', 'la...</td>\n",
       "      <td>{'Samsung Electronics Co., Ltd.': 0, 'Sanshin ...</td>\n",
       "      <td>[]</td>\n",
       "      <td>4</td>\n",
       "      <td>{'supplier': [{'Samsung Electronics Co., Ltd.'...</td>\n",
       "    </tr>\n",
       "    <tr>\n",
       "      <th>8</th>\n",
       "      <td>Applied Materials accounted for approximately ...</td>\n",
       "      <td>8</td>\n",
       "      <td>[{'text': 'Applied Materials', 'label': 'ORG',...</td>\n",
       "      <td>{'Applied Materials': 0, 'MKS Instruments Inc'...</td>\n",
       "      <td>[]</td>\n",
       "      <td>2</td>\n",
       "      <td>{'supplier': [{'MKS Instruments Inc': 'Applied...</td>\n",
       "    </tr>\n",
       "    <tr>\n",
       "      <th>113</th>\n",
       "      <td>VERSAR INC reports that PSG provides onsite en...</td>\n",
       "      <td>113</td>\n",
       "      <td>[{'text': 'VERSAR INC', 'label': 'ORG', 'start...</td>\n",
       "      <td>{'U.S. Army Reserve': 0, 'U.S. Army': 1, 'FAA'...</td>\n",
       "      <td>[]</td>\n",
       "      <td>12</td>\n",
       "      <td>{'other': [{'U.S. Army': 'U.S. Army Reserve', ...</td>\n",
       "    </tr>\n",
       "    <tr>\n",
       "      <th>4</th>\n",
       "      <td>AECOM reports that Washington Group Internatio...</td>\n",
       "      <td>4</td>\n",
       "      <td>[{'text': 'AECOM', 'label': 'ORG', 'start': 0,...</td>\n",
       "      <td>{'WGI Ohio': 0, 'Washington Group Internationa...</td>\n",
       "      <td>[]</td>\n",
       "      <td>5</td>\n",
       "      <td>{'other': [{'Washington Group International': ...</td>\n",
       "    </tr>\n",
       "    <tr>\n",
       "      <th>116</th>\n",
       "      <td>VERSAR INC reports that PSG provides onsite en...</td>\n",
       "      <td>116</td>\n",
       "      <td>[{'text': 'VERSAR INC', 'label': 'ORG', 'start...</td>\n",
       "      <td>{'U.S. Army Reserve': 0, 'U.S. Army': 1, 'FAA'...</td>\n",
       "      <td>[]</td>\n",
       "      <td>12</td>\n",
       "      <td>{'other': [{'U.S. Army': 'U.S. Army Reserve', ...</td>\n",
       "    </tr>\n",
       "    <tr>\n",
       "      <th>100</th>\n",
       "      <td>VERSAR INC reports that PSG provides onsite en...</td>\n",
       "      <td>100</td>\n",
       "      <td>[{'text': 'VERSAR INC', 'label': 'ORG', 'start...</td>\n",
       "      <td>{'U.S. Army Reserve': 0, 'U.S. Army': 1, 'FAA'...</td>\n",
       "      <td>[]</td>\n",
       "      <td>12</td>\n",
       "      <td>{'other': [{'U.S. Army': 'U.S. Army Reserve', ...</td>\n",
       "    </tr>\n",
       "  </tbody>\n",
       "</table>\n",
       "</div>"
      ],
      "text/plain": [
       "                                                 sents  sentence_id  \\\n",
       "149  Also, on January 8, 2010 Biotest Pharmaceutica...          149   \n",
       "68   Under a development agreement with Moxie, Gemm...           68   \n",
       "24   SANGAMO THERAPEUTICS, INC reports that The inc...           24   \n",
       "162  Sprint is entitled to expand the number of bun...          162   \n",
       "168  Sales to Samsung Electronics Co., Ltd. and its...          168   \n",
       "8    Applied Materials accounted for approximately ...            8   \n",
       "113  VERSAR INC reports that PSG provides onsite en...          113   \n",
       "4    AECOM reports that Washington Group Internatio...            4   \n",
       "116  VERSAR INC reports that PSG provides onsite en...          116   \n",
       "100  VERSAR INC reports that PSG provides onsite en...          100   \n",
       "\n",
       "                                                 spans  \\\n",
       "149  [{'text': 'January 8, 2010', 'label': 'DATE', ...   \n",
       "68   [{'text': 'Moxie', 'label': 'ORG', 'start': 35...   \n",
       "24   [{'text': 'SANGAMO THERAPEUTICS, INC', 'label'...   \n",
       "162  [{'text': 'Sprint', 'label': 'ORG', 'start': 0...   \n",
       "168  [{'text': 'Samsung Electronics Co., Ltd.', 'la...   \n",
       "8    [{'text': 'Applied Materials', 'label': 'ORG',...   \n",
       "113  [{'text': 'VERSAR INC', 'label': 'ORG', 'start...   \n",
       "4    [{'text': 'AECOM', 'label': 'ORG', 'start': 0,...   \n",
       "116  [{'text': 'VERSAR INC', 'label': 'ORG', 'start...   \n",
       "100  [{'text': 'VERSAR INC', 'label': 'ORG', 'start...   \n",
       "\n",
       "                                            org_groups aliases  num_orgs  \\\n",
       "149  {'Sanquin': 0, 'Cetor': 1, 'Biotest Pharmaceut...      []         4   \n",
       "68   {'Gemma Power Inc.': 0, 'Argan': 1, 'Moxie': 2...      []         5   \n",
       "24   {'Biogen': 0, 'SANGAMO THERAPEUTICS, INC': 1, ...      []         4   \n",
       "162                    {'Sprint': 0, 'TeleNav Inc': 1}      []         2   \n",
       "168  {'Samsung Electronics Co., Ltd.': 0, 'Sanshin ...      []         4   \n",
       "8    {'Applied Materials': 0, 'MKS Instruments Inc'...      []         2   \n",
       "113  {'U.S. Army Reserve': 0, 'U.S. Army': 1, 'FAA'...      []        12   \n",
       "4    {'WGI Ohio': 0, 'Washington Group Internationa...      []         5   \n",
       "116  {'U.S. Army Reserve': 0, 'U.S. Army': 1, 'FAA'...      []        12   \n",
       "100  {'U.S. Army Reserve': 0, 'U.S. Army': 1, 'FAA'...      []        12   \n",
       "\n",
       "                                             relations  \n",
       "149  {'other': [{'Cetor': 'Sanquin', 'score': 0.912...  \n",
       "68   {'other': [{'Argan': 'Gemma Power Inc.', 'scor...  \n",
       "24   {'supplier': [{'SANGAMO THERAPEUTICS, INC': 'B...  \n",
       "162  {'other': [{'TeleNav Inc': 'Sprint', 'score': ...  \n",
       "168  {'supplier': [{'Samsung Electronics Co., Ltd.'...  \n",
       "8    {'supplier': [{'MKS Instruments Inc': 'Applied...  \n",
       "113  {'other': [{'U.S. Army': 'U.S. Army Reserve', ...  \n",
       "4    {'other': [{'Washington Group International': ...  \n",
       "116  {'other': [{'U.S. Army': 'U.S. Army Reserve', ...  \n",
       "100  {'other': [{'U.S. Army': 'U.S. Army Reserve', ...  "
      ]
     },
     "execution_count": 33,
     "metadata": {},
     "output_type": "execute_result"
    }
   ],
   "source": [
    "output.sample(10)"
   ]
  }
 ],
 "metadata": {
  "accelerator": "GPU",
  "colab": {
   "provenance": []
  },
  "gpuClass": "standard",
  "kernelspec": {
   "display_name": "CondaBase",
   "language": "python",
   "name": "base"
  },
  "language_info": {
   "codemirror_mode": {
    "name": "ipython",
    "version": 3
   },
   "file_extension": ".py",
   "mimetype": "text/x-python",
   "name": "python",
   "nbconvert_exporter": "python",
   "pygments_lexer": "ipython3",
   "version": "3.9.16"
  }
 },
 "nbformat": 4,
 "nbformat_minor": 4
}
