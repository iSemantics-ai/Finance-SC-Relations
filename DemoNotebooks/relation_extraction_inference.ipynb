{
 "cells": [
  {
   "cell_type": "markdown",
   "metadata": {
    "id": "nqQtYK-E3ED0"
   },
   "source": [
    "# _Load Inference Module_\n"
   ]
  },
  {
   "cell_type": "code",
   "execution_count": 41,
   "metadata": {},
   "outputs": [
    {
     "name": "stdout",
     "output_type": "stream",
     "text": [
      "Torch GPU Exists..\n",
      "2023-11-21 13:23:35,104 — 🌌 spaCy — INFO — Language model used is en_core_web_trf\n",
      "2023-11-21 13:23:35,105 — 🌌 spaCy — INFO — spaCy Work On GPU\n",
      "2023-11-21 13:23:37,749 — 💫 Relations Extractor — INFO — Loading tokenizer and model...\n",
      "Load with CUDA\n"
     ]
    },
    {
     "name": "stderr",
     "output_type": "stream",
     "text": [
      "11/21/2023 01:23:39 PM [INFO]: Loaded model.\n"
     ]
    },
    {
     "name": "stdout",
     "output_type": "stream",
     "text": [
      "2023-11-21 13:23:39,305 — 💫 Relations Extractor — INFO — Done!\n"
     ]
    }
   ],
   "source": [
    "import sys\n",
    "from pathlib import Path\n",
    "src_dir = Path.cwd().parent\n",
    "sys.path.append(str(src_dir))\n",
    "from src.relation_extraction.infer import infer_from_trained\n",
    "import pandas as pd \n",
    "pd.set_option('display.max_colwidth', None)\n",
    "pd.set_option('display.max_rows',100 )\n",
    "\n",
    "re_model = infer_from_trained(detect_entities=True,\n",
    "                             language_model=\"en_core_web_trf\",\n",
    "                             entity_matcher=str(src_dir /\"artifacts/matcher_model\"),\n",
    "                             require_gpu=True,\n",
    "                             load_matcher=True)\n",
    "\n",
    "\n",
    "args = {'model_path': str(src_dir / 'artifacts/re_model') ,\n",
    "              'batch_size':8}\n",
    "re_model.load_model(args)"
   ]
  },
  {
   "cell_type": "code",
   "execution_count": 51,
   "metadata": {},
   "outputs": [],
   "source": [
    "sentences = \\\n",
    "[\"Adcirca is manufactured for UNITED THERAPEUTICS Corp by Lilly and distributed through its pharmaceutical wholesaler network on UNITED THERAPEUTICS Corp behalf\",\n",
    "\"As a result, changes in the strategies of Wal Mart or any of CHURCH and DWIGHT Co Inc other largest customers including a reduction in the number of brands they carry or a shift of shelf space to private label products, could materially harm CHURCH and DWIGHT Co Inc net sales and profitability.\",\n",
    "\"Two of Local Corp partners, Google and Yahoo, have historically provided a substantial portion of Local Corp revenue and the loss of either Google or Yahoo would have a material adverse effect on Local Corp operating results.\",\n",
    "\"Further, the majority of the leading handset and other wireless device companies including Huawei, LG, Microsoft, Oppo, Samsung, Sony, vivo, Xiaomi and ZTE have royalty bearing licenses under Qualcomm Inc patent portfolio for use in LTE or other OFDMA based products that do not implement any CDMA based standards.\",\n",
    " \"Kopin Corp reports that Sales to Raytheon Company and DRS Technologies are included within the Military Customers category.\",\n",
    " \"MERITOR Inc global customer portfolio includes companies such as AB Volvo, Navistar International Corporation, MAN, Ford, Daimler AG, BAE Systems, Iveco and PACCAR Inc\",\n",
    "\"Approximately $32.8 million and $46.7 million of SEMTECH Corp total sales to Samsung Electronics and Affiliates, one of SEMTECH Corp significant customers, in fiscal year 2016 and 2015, respectively, were for products that target the handheld market which includes mobile phones.\",\n",
    " \"In addition, five customers, including Sony and Microsoft, accounted for approximately 95% of the net revenue attributable to ADVANCED MICRO DEVICES Inc Enterprise, Embedded and Semi-Custom segment\",\n",
    " \"The success of ADVANCED MICRO DEVICES Inc semi-custom SoC products is dependent on securing customers for ADVANCED MICRO DEVICES Inc semi-custom design pipeline and consumer market conditions, including the success of the Sony PlayStation(r)4, Sony PlayStation(r)4 Pro, Microsoft Xbox One, Microsoft Xbox One S and Microsoft Xbox One X game console systems worldwide\",\n",
    "\"For some components, such as customized components and some of the processors that Hewlett Packard obtain from Intel, or the laser printer engines and toner cartridges that Hewlett Packard obtain from Canon, alternative sources either may not exist or may be unable to produce the quantities of those components necessary to satisfy Hewlett Packard production requirements\",\n",
    " \"This segment also derives revenue from Company operated digital commerce sites in the United States for Speedo, True and Co., Van Heusen, and IZOD, as well as PVH Corp's styleBureau.com site\",\n",
    " \"Woodward Inc reports that OEM customers with internal capabilities for similar products include General Electric, Caterpillar, Wartsila and Cummins\",\n",
    " \"In North America, Summer Infant Inc customers include Babies R Us, Wal Mart, Amazon, Target, Buy Buy Baby, Burlington Coat Factory, Kmart, Home Depot, and Lowe.\",\n",
    " \"During the fiscal year ended March 31, 2015, CAPSTONE TURBINE Corp recorded approximately $7.1 million and $2.6 million with respect to the accounts receivable allowances from BPC Engineering, one of CAPSTONE TURBINE Corp’s Russian distributors and Electro Mecanique Industries, one of CAPSTONE TURBINE Corp’s distributors in the Middle East and Africa, respectively.\",\n",
    " \"For the year ended June 28, 2014, Coriant GmbH accounted for $77.1 million, or 20 percent, of Oclaro Inc revenues, Cisco Systems Inc accounted for $49.1 million, or 13 percent, of Oclaro Inc revenues, and Huawei Technologies Co, Ltd\",\n",
    "\"BIOMARIN PHARMACEUTICAL INC reports that The net product revenues for each of the years ended December 31, 2015, 2014 and 2013 include $95.8 million, $97.0 million and $88.5 million, respectively, of royalty revenue on net Aldurazyme sales by Genzyme.\",\n",
    " \"Hospitals affiliated with Ascension Health currently account for a significant portion of Accretive Health Inc net services revenue, and Accretive Health Inc have several customers that have each accounted for 10% or more of Accretive Health Inc net services revenue in past fiscal periods.\",\n",
    " \"Sales of oil and gas production to Shell Trading US Company and Shell Energy North America US, L.P. collectively “Shell” and Chevron Natural Gas Inc and Chevron Products Company collectively “Chevron” accounted for 50% and 37%, respectively, of SARATOGA RESOURCES Inc consolidated sales in 2014.\",\n",
    " \"During 2015, Breitburn Energy Partners LP largest purchasers were Shell Trading US Company “Shell Trading”, which accounted for approximately 24% of Breitburn Energy Partners LP net sales revenues, and Plains Marketing “Plains Marketing”, which accounted for approximately 12% of Breitburn Energy Partners LP net sales revenues.\",\n",
    " \"GENTEX Corp has several important customers within the automotive industry, three of which each account for 10% or more of GENTEX Corp net sales in 2016 including direct sales to OEM customers and sales through their Tier 1 suppliers: Volkswagen Group, Toyota Motor Company, and Ford Motor Company.\",\n",
    " \"The utilities and Independent Power Producers IPPs segment is currently FUELCELL ENERGY Inc largest vertical market with customers that include utilities on both the East and West coast of the USA such as Dominion NYSE: D, one of the largest utilities in the USA, UIL Holdings NYSE: UIL and NRG Energy NYSE: NRG, the largest IPP in the USA.\",\n",
    " \"ERA GROUP Inc principal customers in the U.S. Gulf of Mexico are major integrated and independent exploration and production companies and U.S. government agencies, primarily the Bureau of Safety and Environmental Enforcement.\", \n",
    "\"Since American Superconductor Corp inception, American Superconductor Corp have served more than 10 Wind customers including Doosan Heavy Industries, Hyundai Heavy Industries, Inox Wind, Shenyang Blower Works, XJ Group and JCNE.\", \n",
    " \"In 2017 WESTMORELAND COAL Co Coal Canada segment derived approximately 86% of its revenues from coal sales to three customers: SaskPower, Trafigura Pte. Ltd and ATCO Power.\",\n",
    " \"Pace and Arris are two of EMCORE Corp largest customers.\",\n",
    " \"ATT Inc “ATT”, Comcast Corporation “Comcast”, CenturyLink Inc “CenturyLink”, and Verizon Communications Inc “Verizon” represent a significant portion of DYCOM INDUSTRIES Inc’s customer base and were over 10% or more of total revenue during fiscal 2011, 2010 or 2009 as reflected in the following table:\",\n",
    " \"ATLANTIC POWER CORP reports that Largest payers of transmission access charges supporting Path 15 annual revenue requirement are Pacific Gas Electric BBB+, Southern California Edison BBB+ and San Diego Gas Electric A.\",\n",
    " \"Heron Lake BioEnergy LLC pay Eco Energy a certain percentage of the FOB plant price for each gallon of ethanol shipped from Heron Lake BioEnergy LLC plant in consideration of Eco Energy services.\",\n",
    " \"Revenues from affiliates consist primarily of revenues from gathering, transportation, storage, offloading, wholesale marketing and products terminalling services provided primarily to Delek based on regulated tariff rates or contractually based fees and product sales to Alon USA Energy Inc, an equity method investee of Delek.\",\n",
    " \"Of the $4,020 in gross customer financing, $2,720 related to customers BOEING Co believe have less than investment-grade credit including American Airlines, United/Continental Airlines, and Hawaiian Airlines who were associated with 11%, 9% and 8%, respectively, of BOEING Co financing portfolio\",\n",
    " \"Hyundai Mobis, Volkswagen AG and Tata Motors were DANA Inc third, fourth and fifth largest customers in 2013\",\n",
    " \"EL PASO ELECTRIC CO /TX/ reports that Sales for Resale and Network Transmission Service to Rio Grande Electric Cooperative\", \n",
    " \"ALABAMA POWER CO reports that Southern Company's financial success is directly tied to the satisfaction of its customers\",\n",
    " \"Southern Company, Alabama Power, Georgia Power, Mississippi Power (with the exception of its cost-based MRA electric tariffs described below), and Southern Company Gas each have a diversified base of customers and no single customer or industry comprises 10% or more of each company's revenues\",\n",
    " \"SOUTHERN UNION CO reports that Most of Missouri Gas Energy's revenues are based on a distribution rate structure that eliminates the impact of weather and conservations\",\n",
    " \"Two of NORFOLK SOUTHERN Corp customers, DuPont and Sunbelt Chlor Alkai Partnership (Sunbelt), filed rate reasonableness complaints before the Surface Transportation Board (STB) alleging that NORFOLK SOUTHERN Corp tariff rates for transportation of regulated movements are unreasonable\",\n",
    " \"DIGIRAD Corp expect that Emory will continue to be one of DIGIRAD Corp most important customers, and it is possible DIGIRAD Corp relationship could expand or contract in the future\",\n",
    " '''As part of our merger with Spansion, we acquired agreements with Fujitsu Semiconductor Limited (\"FSL\"), XMC and SK Hynix Inc. (\"SK Hynix\").  Agreements with FSL include agreements for the supply of product wafer foundry services, sort services and assembly and test services relating to the microcontroller and analog businesses. These agreements are at competitive market rates and enable us to leverage FSL's existing manufacturing capabilities and relationships with its partners spanning across various technologies, processes, geometries and wafer sizes in their wafer fabrication facilities and package solutions in their back-end manufacturing facilities, until such time that we can either move these internally to our fabrication and back-end facilities or find alternative solutions. For FSL, the fabrication facilities are all located in Japan, while the back-end facilities are in Japan and other Asian countries. The supply agreements do not call for any minimum purchase commitments. The arrangement with XMC provides production support for advanced NOR technology products at 65, 45 and development of 32 nanometers. The arrangement with SK Hynix provides for the development and supply of SLC NAND products at the 4x and 3x nodes.''',\n",
    "\n",
    "]\n"
   ]
  },
  {
   "cell_type": "code",
   "execution_count": 54,
   "metadata": {},
   "outputs": [
    {
     "data": {
      "text/plain": [
       "'As part of FILER\\'s merger with Spansion, FILER acquired agreements with Fujitsu Semiconductor Limited (\"FSL\"), XMC and SK Hynix Inc. (\"SK Hynix\").  Agreements with FSL include agreements for the supply of product wafer foundry services, sort services and assembly and test services relating to the microcontroller and analog businesses. These agreements are at competitive market rates and enable us to leverage FSL\\'s existing manufacturing capabilities and relationships with its partners spanning across various technologies, processes, geometries and wafer sizes in their wafer fabrication facilities and package solutions in their back-end manufacturing facilities, until such time that we can either move these internally to our fabrication and back-end facilities or find alternative solutions. For FSL, the fabrication facilities are all located in Japan, while the back-end facilities are in Japan and other Asian countries. The supply agreements do not call for any minimum purchase commitments. The arrangement with XMC provides production support for advanced NOR technology products at 65, 45 and development of 32 nanometers. The arrangement with SK Hynix provides for the development and supply of SLC NAND products at the 4x and 3x nodes.'"
      ]
     },
     "execution_count": 54,
     "metadata": {},
     "output_type": "execute_result"
    }
   ],
   "source": [
    "sentences[::-1][0]"
   ]
  },
  {
   "cell_type": "code",
   "execution_count": 52,
   "metadata": {},
   "outputs": [
    {
     "name": "stderr",
     "output_type": "stream",
     "text": [
      "mutate text: 100%|██████████| 63/63 [00:00<00:00, 8430.63it/s]\n",
      "11/21/2023 01:31:35 PM [INFO]: Tokenizing data...\n",
      "tokenization: 100%|██████████| 63/63 [00:00<00:00, 1635.54it/s]\n",
      "tags positioning: 100%|██████████| 63/63 [00:00<00:00, 25410.25it/s]\n"
     ]
    },
    {
     "name": "stdout",
     "output_type": "stream",
     "text": [
      "\n",
      "Invalid rows/total: 0/63\n"
     ]
    },
    {
     "name": "stderr",
     "output_type": "stream",
     "text": [
      "100%|██████████| 8/8 [00:00<00:00, 17.34it/s]\n",
      "mutate text: 100%|██████████| 63/63 [00:00<00:00, 8691.29it/s]\n",
      "11/21/2023 01:31:36 PM [INFO]: Tokenizing data...\n",
      "tokenization: 100%|██████████| 63/63 [00:00<00:00, 1716.12it/s]\n",
      "tags positioning: 100%|██████████| 63/63 [00:00<00:00, 28342.93it/s]\n"
     ]
    },
    {
     "name": "stdout",
     "output_type": "stream",
     "text": [
      "\n",
      "Invalid rows/total: 0/63\n"
     ]
    },
    {
     "name": "stderr",
     "output_type": "stream",
     "text": [
      "100%|██████████| 8/8 [00:00<00:00, 17.33it/s]\n"
     ]
    },
    {
     "data": {
      "text/html": [
       "<div>\n",
       "<style scoped>\n",
       "    .dataframe tbody tr th:only-of-type {\n",
       "        vertical-align: middle;\n",
       "    }\n",
       "\n",
       "    .dataframe tbody tr th {\n",
       "        vertical-align: top;\n",
       "    }\n",
       "\n",
       "    .dataframe thead th {\n",
       "        text-align: right;\n",
       "    }\n",
       "</style>\n",
       "<table border=\"1\" class=\"dataframe\">\n",
       "  <thead>\n",
       "    <tr style=\"text-align: right;\">\n",
       "      <th></th>\n",
       "      <th>relations</th>\n",
       "      <th>orig_sents</th>\n",
       "      <th>org_groups</th>\n",
       "    </tr>\n",
       "    <tr>\n",
       "      <th>idx</th>\n",
       "      <th></th>\n",
       "      <th></th>\n",
       "      <th></th>\n",
       "    </tr>\n",
       "  </thead>\n",
       "  <tbody>\n",
       "    <tr>\n",
       "      <th>0</th>\n",
       "      <td>[{'SK Hynix Inc.': 'other', 'Fujitsu Semiconductor Limited': 'other', 'score': 0.6221}, {'Spansion': 'other', 'Fujitsu Semiconductor Limited': 'other', 'score': 0.6088}, {'FILER': 'supplier', 'Fujitsu Semiconductor Limited': 'customer', 'score': 0.8564}, {'XMC': 'other', 'Fujitsu Semiconductor Limited': 'other', 'score': 0.5608}, {'Spansion': 'other', 'SK Hynix Inc.': 'other', 'score': 0.989}, {'FILER': 'supplier', 'SK Hynix Inc.': 'customer', 'score': 0.8744}, {'XMC': 'other', 'SK Hynix Inc.': 'other', 'score': 0.9892}, {'FILER': 'supplier', 'Spansion': 'customer', 'score': 0.8222}, {'XMC': 'other', 'Spansion': 'other', 'score': 0.9778}, {'XMC': 'customer', 'FILER': 'supplier', 'score': 0.8059}]</td>\n",
       "      <td>As part of FILER's merger with Spansion, FILER acquired agreements with Fujitsu Semiconductor Limited (\"FSL\"), XMC and SK Hynix Inc. (\"SK Hynix\"). Agreements with FSL include agreements for the supply of product wafer foundry services, sort services and assembly and test services relating to the microcontroller and analog businesses. These agreements are at competitive market rates and enable us to leverage FSL's existing manufacturing capabilities and relationships with its partners spanning across various technologies, processes, geometries and wafer sizes in their wafer fabrication facilities and package solutions in their back end manufacturing facilities, until such time that we can either move these internally to our fabrication and back end facilities or find alternative solutions. For FSL, the fabrication facilities are all located in Japan, while the back end facilities are in Japan and other Asian countries. The supply agreements do not call for any minimum purchase commitments. The arrangement with XMC provides production support for advanced NOR technology products at 65, 45 and development of 32 nanometers. The arrangement with SK Hynix provides for the development and supply of SLC NAND products at the 4x and 3x nodes.</td>\n",
       "      <td>{'Fujitsu Semiconductor Limited': 0, 'FSL': 0, 'SK Hynix Inc.': 1, 'SK Hynix': 1, 'Spansion': 2, 'FILER': 3, 'XMC': 4}</td>\n",
       "    </tr>\n",
       "  </tbody>\n",
       "</table>\n",
       "</div>"
      ],
      "text/plain": [
       "                                                                                                                                                                                                                                                                                                                                                                                                                                                                                                                                                                                                                                                                                                                             relations  \\\n",
       "idx                                                                                                                                                                                                                                                                                                                                                                                                                                                                                                                                                                                                                                                                                                                                      \n",
       "0    [{'SK Hynix Inc.': 'other', 'Fujitsu Semiconductor Limited': 'other', 'score': 0.6221}, {'Spansion': 'other', 'Fujitsu Semiconductor Limited': 'other', 'score': 0.6088}, {'FILER': 'supplier', 'Fujitsu Semiconductor Limited': 'customer', 'score': 0.8564}, {'XMC': 'other', 'Fujitsu Semiconductor Limited': 'other', 'score': 0.5608}, {'Spansion': 'other', 'SK Hynix Inc.': 'other', 'score': 0.989}, {'FILER': 'supplier', 'SK Hynix Inc.': 'customer', 'score': 0.8744}, {'XMC': 'other', 'SK Hynix Inc.': 'other', 'score': 0.9892}, {'FILER': 'supplier', 'Spansion': 'customer', 'score': 0.8222}, {'XMC': 'other', 'Spansion': 'other', 'score': 0.9778}, {'XMC': 'customer', 'FILER': 'supplier', 'score': 0.8059}]   \n",
       "\n",
       "                                                                                                                                                                                                                                                                                                                                                                                                                                                                                                                                                                                                                                                                                                                                                                                                                                                                                                                                                                                                                                                                                                                                                                                                                                                                                               orig_sents  \\\n",
       "idx                                                                                                                                                                                                                                                                                                                                                                                                                                                                                                                                                                                                                                                                                                                                                                                                                                                                                                                                                                                                                                                                                                                                                                                                                                                                                                         \n",
       "0    As part of FILER's merger with Spansion, FILER acquired agreements with Fujitsu Semiconductor Limited (\"FSL\"), XMC and SK Hynix Inc. (\"SK Hynix\"). Agreements with FSL include agreements for the supply of product wafer foundry services, sort services and assembly and test services relating to the microcontroller and analog businesses. These agreements are at competitive market rates and enable us to leverage FSL's existing manufacturing capabilities and relationships with its partners spanning across various technologies, processes, geometries and wafer sizes in their wafer fabrication facilities and package solutions in their back end manufacturing facilities, until such time that we can either move these internally to our fabrication and back end facilities or find alternative solutions. For FSL, the fabrication facilities are all located in Japan, while the back end facilities are in Japan and other Asian countries. The supply agreements do not call for any minimum purchase commitments. The arrangement with XMC provides production support for advanced NOR technology products at 65, 45 and development of 32 nanometers. The arrangement with SK Hynix provides for the development and supply of SLC NAND products at the 4x and 3x nodes.   \n",
       "\n",
       "                                                                                                                 org_groups  \n",
       "idx                                                                                                                          \n",
       "0    {'Fujitsu Semiconductor Limited': 0, 'FSL': 0, 'SK Hynix Inc.': 1, 'SK Hynix': 1, 'Spansion': 2, 'FILER': 3, 'XMC': 4}  "
      ]
     },
     "execution_count": 52,
     "metadata": {},
     "output_type": "execute_result"
    }
   ],
   "source": [
    "\n",
    "out = re_model.predict_relations(sentences[::-1][:1], reverse=True, mutate=True)\n",
    "out.tail()"
   ]
  },
  {
   "cell_type": "code",
   "execution_count": null,
   "metadata": {},
   "outputs": [],
   "source": []
  },
  {
   "cell_type": "code",
   "execution_count": 15,
   "metadata": {},
   "outputs": [],
   "source": [
    "sentence = \"Commercial Manufacturing Agreement, dated as of September 18, 2015, as amended, by and between Alcami Corporation (f/k/a/ AAI Pharma Services Corp.) and Complete Pharma Holdings LLC (f/k/a Marathon Pharmaceuticals, LLC), as assigned by Complete Pharma Holdings LLC to PTC THERAPEUTICS Inc on April 20, 2017\""
   ]
  },
  {
   "cell_type": "code",
   "execution_count": null,
   "metadata": {},
   "outputs": [],
   "source": []
  },
  {
   "cell_type": "code",
   "execution_count": 17,
   "metadata": {},
   "outputs": [],
   "source": [
    "tagged = re_model.tag_sentences([sentence], only_one=False)"
   ]
  },
  {
   "cell_type": "code",
   "execution_count": 19,
   "metadata": {},
   "outputs": [
    {
     "data": {
      "text/plain": [
       "\u001b[0;31mSignature:\u001b[0m \u001b[0mre_model\u001b[0m\u001b[0;34m.\u001b[0m\u001b[0mpredict_fn\u001b[0m\u001b[0;34m(\u001b[0m\u001b[0mdf\u001b[0m\u001b[0;34m,\u001b[0m \u001b[0mreverse\u001b[0m\u001b[0;34m:\u001b[0m \u001b[0mbool\u001b[0m \u001b[0;34m=\u001b[0m \u001b[0;32mFalse\u001b[0m\u001b[0;34m,\u001b[0m \u001b[0mmutate\u001b[0m\u001b[0;34m:\u001b[0m \u001b[0mbool\u001b[0m \u001b[0;34m=\u001b[0m \u001b[0;32mTrue\u001b[0m\u001b[0;34m)\u001b[0m \u001b[0;34m->\u001b[0m \u001b[0mTuple\u001b[0m\u001b[0;34m\u001b[0m\u001b[0;34m\u001b[0m\u001b[0m\n",
       "\u001b[0;31mDocstring:\u001b[0m\n",
       "The predict_fn used for direct inference when the text is pre-processed\n",
       "@params\n",
       "-------\n",
       "- df(pd.DataFrame): dataframe with `sents` column containes org-tagged sentences\n",
       "\n",
       "@returns\n",
       "--------\n",
       "Tuple[\n",
       "    score(np.array), # Confident scores of the predicted label\n",
       "    out_labels(np.array), # The predicted label with highest score\n",
       "    out_losses(np.array) # The cross-entropy loss ]\n",
       "\u001b[0;31mFile:\u001b[0m      /tmp/ipykernel_815/4204573518.py\n",
       "\u001b[0;31mType:\u001b[0m      method\n"
      ]
     },
     "metadata": {},
     "output_type": "display_data"
    }
   ],
   "source": [
    "re_model.predict_fn?"
   ]
  },
  {
   "cell_type": "code",
   "execution_count": null,
   "metadata": {},
   "outputs": [
    {
     "name": "stderr",
     "output_type": "stream",
     "text": [
      "mutate text: 100%|██████████| 17/17 [00:00<00:00, 6575.36it/s]\n",
      "11/21/2023 12:49:41 PM [INFO]: Tokenizing data...\n",
      "tokenization: 100%|██████████| 17/17 [00:00<00:00, 3615.05it/s]\n",
      "tags positioning: 100%|██████████| 17/17 [00:00<00:00, 19697.01it/s]\n"
     ]
    },
    {
     "name": "stdout",
     "output_type": "stream",
     "text": [
      "\n",
      "Invalid rows/total: 0/17\n"
     ]
    },
    {
     "name": "stderr",
     "output_type": "stream",
     "text": [
      "100%|██████████| 3/3 [00:00<00:00, 55.09it/s]\n"
     ]
    },
    {
     "data": {
      "text/html": [
       "<div>\n",
       "<style scoped>\n",
       "    .dataframe tbody tr th:only-of-type {\n",
       "        vertical-align: middle;\n",
       "    }\n",
       "\n",
       "    .dataframe tbody tr th {\n",
       "        vertical-align: top;\n",
       "    }\n",
       "\n",
       "    .dataframe thead th {\n",
       "        text-align: right;\n",
       "    }\n",
       "</style>\n",
       "<table border=\"1\" class=\"dataframe\">\n",
       "  <thead>\n",
       "    <tr style=\"text-align: right;\">\n",
       "      <th></th>\n",
       "      <th>sents</th>\n",
       "      <th>orig_sents</th>\n",
       "      <th>entity1</th>\n",
       "      <th>entity2</th>\n",
       "      <th>org_groups</th>\n",
       "      <th>idx</th>\n",
       "      <th>r_id</th>\n",
       "      <th>mutated_sents</th>\n",
       "      <th>scores</th>\n",
       "    </tr>\n",
       "  </thead>\n",
       "  <tbody>\n",
       "    <tr>\n",
       "      <th>0</th>\n",
       "      <td>As part of our merger with Spansion, we acquired agreements with Fujitsu Semiconductor Limited (\"Fujitsu Semiconductor Limited\"), XMC and SK Hynix Inc. (\"[E2] SK Hynix Inc. [/E2]\"). Agreements with [E1] Fujitsu Semiconductor Limited [/E1] include agreements for the supply of product wafer foundry services, sort services and assembly and test services relating to the microcontroller and analog businesses.</td>\n",
       "      <td>As part of our merger with Spansion, we acquired agreements with Fujitsu Semiconductor Limited (\"FSL\"), XMC and SK Hynix Inc. (\"SK Hynix\"). Agreements with FSL include agreements for the supply of product wafer foundry services, sort services and assembly and test services relating to the microcontroller and analog businesses.</td>\n",
       "      <td>Fujitsu Semiconductor Limited</td>\n",
       "      <td>SK Hynix Inc.</td>\n",
       "      <td>{'Fujitsu Semiconductor Limited': 0, 'FSL': 0, 'SK Hynix Inc.': 1, 'SK Hynix': 1, 'Spansion': 2, 'XMC': 3}</td>\n",
       "      <td>0</td>\n",
       "      <td>0_0</td>\n",
       "      <td>As part of our merger with org-ninety-one, we acquired agreements with org-fifty-four (\"org-fifty-four\"), XMC and org-seventy-nine (\"[E2] org-seventy-nine [/E2]\"). Agreements with [E1] org-fifty-four [/E1] include agreements for the supply of product wafer foundry services, sort services and assembly and test services relating to the microcontroller and analog businesses.</td>\n",
       "      <td>[0.9711851477622986, 0.007361870724707842, 0.02145296521484852]</td>\n",
       "    </tr>\n",
       "    <tr>\n",
       "      <th>1</th>\n",
       "      <td>As part of our merger with Spansion, we acquired agreements with Fujitsu Semiconductor Limited (\"Fujitsu Semiconductor Limited\"), XMC and [E2] SK Hynix Inc. [/E2] (\"SK Hynix Inc.\"). Agreements with [E1] Fujitsu Semiconductor Limited [/E1] include agreements for the supply of product wafer foundry services, sort services and assembly and test services relating to the microcontroller and analog businesses.</td>\n",
       "      <td>As part of our merger with Spansion, we acquired agreements with Fujitsu Semiconductor Limited (\"FSL\"), XMC and SK Hynix Inc. (\"SK Hynix\"). Agreements with FSL include agreements for the supply of product wafer foundry services, sort services and assembly and test services relating to the microcontroller and analog businesses.</td>\n",
       "      <td>Fujitsu Semiconductor Limited</td>\n",
       "      <td>SK Hynix Inc.</td>\n",
       "      <td>{'Fujitsu Semiconductor Limited': 0, 'FSL': 0, 'SK Hynix Inc.': 1, 'SK Hynix': 1, 'Spansion': 2, 'XMC': 3}</td>\n",
       "      <td>0</td>\n",
       "      <td>0_0</td>\n",
       "      <td>As part of our merger with org-five, we acquired agreements with org-forty-eight (\"org-forty-eight\"), XMC and [E2] org-ninety-four [/E2] (\"org-ninety-four\"). Agreements with [E1] org-forty-eight [/E1] include agreements for the supply of product wafer foundry services, sort services and assembly and test services relating to the microcontroller and analog businesses.</td>\n",
       "      <td>[0.9276876449584961, 0.019265776500105858, 0.05304654687643051]</td>\n",
       "    </tr>\n",
       "    <tr>\n",
       "      <th>2</th>\n",
       "      <td>As part of our merger with Spansion, we acquired agreements with Fujitsu Semiconductor Limited (\"[E1] Fujitsu Semiconductor Limited [/E1]\"), XMC and SK Hynix Inc. (\"[E2] SK Hynix Inc. [/E2]\"). Agreements with Fujitsu Semiconductor Limited include agreements for the supply of product wafer foundry services, sort services and assembly and test services relating to the microcontroller and analog businesses.</td>\n",
       "      <td>As part of our merger with Spansion, we acquired agreements with Fujitsu Semiconductor Limited (\"FSL\"), XMC and SK Hynix Inc. (\"SK Hynix\"). Agreements with FSL include agreements for the supply of product wafer foundry services, sort services and assembly and test services relating to the microcontroller and analog businesses.</td>\n",
       "      <td>Fujitsu Semiconductor Limited</td>\n",
       "      <td>SK Hynix Inc.</td>\n",
       "      <td>{'Fujitsu Semiconductor Limited': 0, 'FSL': 0, 'SK Hynix Inc.': 1, 'SK Hynix': 1, 'Spansion': 2, 'XMC': 3}</td>\n",
       "      <td>0</td>\n",
       "      <td>0_0</td>\n",
       "      <td>As part of our merger with org-eighty-five, we acquired agreements with org-eighty-eight (\"[E1] org-eighty-eight [/E1]\"), XMC and org-forty-six (\"[E2] org-forty-six [/E2]\"). Agreements with org-eighty-eight include agreements for the supply of product wafer foundry services, sort services and assembly and test services relating to the microcontroller and analog businesses.</td>\n",
       "      <td>[0.9996612071990967, 0.0001402813068125397, 0.000198588430066593]</td>\n",
       "    </tr>\n",
       "    <tr>\n",
       "      <th>3</th>\n",
       "      <td>As part of our merger with Spansion, we acquired agreements with Fujitsu Semiconductor Limited (\"[E1] Fujitsu Semiconductor Limited [/E1]\"), XMC and [E2] SK Hynix Inc. [/E2] (\"SK Hynix Inc.\"). Agreements with Fujitsu Semiconductor Limited include agreements for the supply of product wafer foundry services, sort services and assembly and test services relating to the microcontroller and analog businesses.</td>\n",
       "      <td>As part of our merger with Spansion, we acquired agreements with Fujitsu Semiconductor Limited (\"FSL\"), XMC and SK Hynix Inc. (\"SK Hynix\"). Agreements with FSL include agreements for the supply of product wafer foundry services, sort services and assembly and test services relating to the microcontroller and analog businesses.</td>\n",
       "      <td>Fujitsu Semiconductor Limited</td>\n",
       "      <td>SK Hynix Inc.</td>\n",
       "      <td>{'Fujitsu Semiconductor Limited': 0, 'FSL': 0, 'SK Hynix Inc.': 1, 'SK Hynix': 1, 'Spansion': 2, 'XMC': 3}</td>\n",
       "      <td>0</td>\n",
       "      <td>0_0</td>\n",
       "      <td>As part of our merger with org-eighty-four, we acquired agreements with org-fifty-one (\"[E1] org-fifty-one [/E1]\"), XMC and [E2] org-seventy-four [/E2] (\"org-seventy-four\"). Agreements with org-fifty-one include agreements for the supply of product wafer foundry services, sort services and assembly and test services relating to the microcontroller and analog businesses.</td>\n",
       "      <td>[0.99953293800354, 0.00019238077220506966, 0.0002746083482634276]</td>\n",
       "    </tr>\n",
       "    <tr>\n",
       "      <th>4</th>\n",
       "      <td>As part of our merger with Spansion, we acquired agreements with [E1] Fujitsu Semiconductor Limited [/E1] (\"Fujitsu Semiconductor Limited\"), XMC and [E2] SK Hynix Inc. [/E2] (\"SK Hynix Inc.\"). Agreements with Fujitsu Semiconductor Limited include agreements for the supply of product wafer foundry services, sort services and assembly and test services relating to the microcontroller and analog businesses.</td>\n",
       "      <td>As part of our merger with Spansion, we acquired agreements with Fujitsu Semiconductor Limited (\"FSL\"), XMC and SK Hynix Inc. (\"SK Hynix\"). Agreements with FSL include agreements for the supply of product wafer foundry services, sort services and assembly and test services relating to the microcontroller and analog businesses.</td>\n",
       "      <td>Fujitsu Semiconductor Limited</td>\n",
       "      <td>SK Hynix Inc.</td>\n",
       "      <td>{'Fujitsu Semiconductor Limited': 0, 'FSL': 0, 'SK Hynix Inc.': 1, 'SK Hynix': 1, 'Spansion': 2, 'XMC': 3}</td>\n",
       "      <td>0</td>\n",
       "      <td>0_0</td>\n",
       "      <td>As part of our merger with org-twenty-nine, we acquired agreements with [E1] org-fourteen [/E1] (\"org-fourteen\"), XMC and [E2] org-ninety-three [/E2] (\"org-ninety-three\"). Agreements with org-fourteen include agreements for the supply of product wafer foundry services, sort services and assembly and test services relating to the microcontroller and analog businesses.</td>\n",
       "      <td>[0.9995803236961365, 0.00017811577708926052, 0.00024148756347130984]</td>\n",
       "    </tr>\n",
       "    <tr>\n",
       "      <th>5</th>\n",
       "      <td>As part of our merger with Spansion, we acquired agreements with [E1] Fujitsu Semiconductor Limited [/E1] (\"Fujitsu Semiconductor Limited\"), XMC and SK Hynix Inc. (\"[E2] SK Hynix Inc. [/E2]\"). Agreements with Fujitsu Semiconductor Limited include agreements for the supply of product wafer foundry services, sort services and assembly and test services relating to the microcontroller and analog businesses.</td>\n",
       "      <td>As part of our merger with Spansion, we acquired agreements with Fujitsu Semiconductor Limited (\"FSL\"), XMC and SK Hynix Inc. (\"SK Hynix\"). Agreements with FSL include agreements for the supply of product wafer foundry services, sort services and assembly and test services relating to the microcontroller and analog businesses.</td>\n",
       "      <td>Fujitsu Semiconductor Limited</td>\n",
       "      <td>SK Hynix Inc.</td>\n",
       "      <td>{'Fujitsu Semiconductor Limited': 0, 'FSL': 0, 'SK Hynix Inc.': 1, 'SK Hynix': 1, 'Spansion': 2, 'XMC': 3}</td>\n",
       "      <td>0</td>\n",
       "      <td>0_0</td>\n",
       "      <td>As part of our merger with org-fifteen, we acquired agreements with [E1] org-thirty-one [/E1] (\"org-thirty-one\"), XMC and org-eight (\"[E2] org-eight [/E2]\"). Agreements with org-thirty-one include agreements for the supply of product wafer foundry services, sort services and assembly and test services relating to the microcontroller and analog businesses.</td>\n",
       "      <td>[0.9995742440223694, 0.00019070212147198617, 0.00023514637723565102]</td>\n",
       "    </tr>\n",
       "    <tr>\n",
       "      <th>6</th>\n",
       "      <td>As part of our merger with [E2] Spansion [/E2], we acquired agreements with Fujitsu Semiconductor Limited (\"[E1] Fujitsu Semiconductor Limited [/E1]\"), XMC and SK Hynix Inc. (\"SK Hynix\"). Agreements with Fujitsu Semiconductor Limited include agreements for the supply of product wafer foundry services, sort services and assembly and test services relating to the microcontroller and analog businesses.</td>\n",
       "      <td>As part of our merger with Spansion, we acquired agreements with Fujitsu Semiconductor Limited (\"FSL\"), XMC and SK Hynix Inc. (\"SK Hynix\"). Agreements with FSL include agreements for the supply of product wafer foundry services, sort services and assembly and test services relating to the microcontroller and analog businesses.</td>\n",
       "      <td>Fujitsu Semiconductor Limited</td>\n",
       "      <td>Spansion</td>\n",
       "      <td>{'Fujitsu Semiconductor Limited': 0, 'FSL': 0, 'SK Hynix Inc.': 1, 'SK Hynix': 1, 'Spansion': 2, 'XMC': 3}</td>\n",
       "      <td>0</td>\n",
       "      <td>0_1</td>\n",
       "      <td>As part of our merger with [E2] org-fifty-one [/E2], we acquired agreements with org-thirty-seven (\"[E1] org-thirty-seven [/E1]\"), XMC and org-seventy-one (\"org-seventy-one\"). Agreements with org-thirty-seven include agreements for the supply of product wafer foundry services, sort services and assembly and test services relating to the microcontroller and analog businesses.</td>\n",
       "      <td>[0.951263427734375, 0.04801860451698303, 0.0007179865497164428]</td>\n",
       "    </tr>\n",
       "    <tr>\n",
       "      <th>7</th>\n",
       "      <td>As part of our merger with [E2] Spansion [/E2], we acquired agreements with Fujitsu Semiconductor Limited (\"Fujitsu Semiconductor Limited\"), XMC and SK Hynix Inc. (\"SK Hynix\"). Agreements with [E1] Fujitsu Semiconductor Limited [/E1] include agreements for the supply of product wafer foundry services, sort services and assembly and test services relating to the microcontroller and analog businesses.</td>\n",
       "      <td>As part of our merger with Spansion, we acquired agreements with Fujitsu Semiconductor Limited (\"FSL\"), XMC and SK Hynix Inc. (\"SK Hynix\"). Agreements with FSL include agreements for the supply of product wafer foundry services, sort services and assembly and test services relating to the microcontroller and analog businesses.</td>\n",
       "      <td>Fujitsu Semiconductor Limited</td>\n",
       "      <td>Spansion</td>\n",
       "      <td>{'Fujitsu Semiconductor Limited': 0, 'FSL': 0, 'SK Hynix Inc.': 1, 'SK Hynix': 1, 'Spansion': 2, 'XMC': 3}</td>\n",
       "      <td>0</td>\n",
       "      <td>0_1</td>\n",
       "      <td>As part of our merger with [E2] org-forty-one [/E2], we acquired agreements with org-fifty (\"org-fifty\"), XMC and org-twenty-six (\"org-twenty-six\"). Agreements with [E1] org-fifty [/E1] include agreements for the supply of product wafer foundry services, sort services and assembly and test services relating to the microcontroller and analog businesses.</td>\n",
       "      <td>[0.48682665824890137, 0.4985732138156891, 0.014600099064409733]</td>\n",
       "    </tr>\n",
       "    <tr>\n",
       "      <th>8</th>\n",
       "      <td>As part of our merger with [E2] Spansion [/E2], we acquired agreements with [E1] Fujitsu Semiconductor Limited [/E1] (\"Fujitsu Semiconductor Limited\"), XMC and SK Hynix Inc. (\"SK Hynix\"). Agreements with Fujitsu Semiconductor Limited include agreements for the supply of product wafer foundry services, sort services and assembly and test services relating to the microcontroller and analog businesses.</td>\n",
       "      <td>As part of our merger with Spansion, we acquired agreements with Fujitsu Semiconductor Limited (\"FSL\"), XMC and SK Hynix Inc. (\"SK Hynix\"). Agreements with FSL include agreements for the supply of product wafer foundry services, sort services and assembly and test services relating to the microcontroller and analog businesses.</td>\n",
       "      <td>Fujitsu Semiconductor Limited</td>\n",
       "      <td>Spansion</td>\n",
       "      <td>{'Fujitsu Semiconductor Limited': 0, 'FSL': 0, 'SK Hynix Inc.': 1, 'SK Hynix': 1, 'Spansion': 2, 'XMC': 3}</td>\n",
       "      <td>0</td>\n",
       "      <td>0_1</td>\n",
       "      <td>As part of our merger with [E2] org-sixteen [/E2], we acquired agreements with [E1] org-forty-eight [/E1] (\"org-forty-eight\"), XMC and org-fifty-nine (\"org-fifty-nine\"). Agreements with org-forty-eight include agreements for the supply of product wafer foundry services, sort services and assembly and test services relating to the microcontroller and analog businesses.</td>\n",
       "      <td>[0.9396485090255737, 0.0593537800014019, 0.0009976763976737857]</td>\n",
       "    </tr>\n",
       "    <tr>\n",
       "      <th>9</th>\n",
       "      <td>As part of our merger with Spansion, we acquired agreements with Fujitsu Semiconductor Limited (\"Fujitsu Semiconductor Limited\"), [E2] XMC [/E2] and SK Hynix Inc. (\"SK Hynix\"). Agreements with [E1] Fujitsu Semiconductor Limited [/E1] include agreements for the supply of product wafer foundry services, sort services and assembly and test services relating to the microcontroller and analog businesses.</td>\n",
       "      <td>As part of our merger with Spansion, we acquired agreements with Fujitsu Semiconductor Limited (\"FSL\"), XMC and SK Hynix Inc. (\"SK Hynix\"). Agreements with FSL include agreements for the supply of product wafer foundry services, sort services and assembly and test services relating to the microcontroller and analog businesses.</td>\n",
       "      <td>Fujitsu Semiconductor Limited</td>\n",
       "      <td>XMC</td>\n",
       "      <td>{'Fujitsu Semiconductor Limited': 0, 'FSL': 0, 'SK Hynix Inc.': 1, 'SK Hynix': 1, 'Spansion': 2, 'XMC': 3}</td>\n",
       "      <td>0</td>\n",
       "      <td>0_2</td>\n",
       "      <td>As part of our merger with org-forty-five, we acquired agreements with org-seventy-seven (\"org-seventy-seven\"), [E2] XMC [/E2] and org-fifty-one (\"org-fifty-one\"). Agreements with [E1] org-seventy-seven [/E1] include agreements for the supply of product wafer foundry services, sort services and assembly and test services relating to the microcontroller and analog businesses.</td>\n",
       "      <td>[0.9335480332374573, 0.01990564353764057, 0.04654621705412865]</td>\n",
       "    </tr>\n",
       "    <tr>\n",
       "      <th>10</th>\n",
       "      <td>As part of our merger with Spansion, we acquired agreements with [E1] Fujitsu Semiconductor Limited [/E1] (\"Fujitsu Semiconductor Limited\"), [E2] XMC [/E2] and SK Hynix Inc. (\"SK Hynix\"). Agreements with Fujitsu Semiconductor Limited include agreements for the supply of product wafer foundry services, sort services and assembly and test services relating to the microcontroller and analog businesses.</td>\n",
       "      <td>As part of our merger with Spansion, we acquired agreements with Fujitsu Semiconductor Limited (\"FSL\"), XMC and SK Hynix Inc. (\"SK Hynix\"). Agreements with FSL include agreements for the supply of product wafer foundry services, sort services and assembly and test services relating to the microcontroller and analog businesses.</td>\n",
       "      <td>Fujitsu Semiconductor Limited</td>\n",
       "      <td>XMC</td>\n",
       "      <td>{'Fujitsu Semiconductor Limited': 0, 'FSL': 0, 'SK Hynix Inc.': 1, 'SK Hynix': 1, 'Spansion': 2, 'XMC': 3}</td>\n",
       "      <td>0</td>\n",
       "      <td>0_2</td>\n",
       "      <td>As part of our merger with org-thirty-two, we acquired agreements with [E1] org-ninety-three [/E1] (\"org-ninety-three\"), [E2] XMC [/E2] and org-eighty-eight (\"org-eighty-eight\"). Agreements with org-ninety-three include agreements for the supply of product wafer foundry services, sort services and assembly and test services relating to the microcontroller and analog businesses.</td>\n",
       "      <td>[0.9997428059577942, 0.0001293437380809337, 0.00012791025801561773]</td>\n",
       "    </tr>\n",
       "    <tr>\n",
       "      <th>11</th>\n",
       "      <td>As part of our merger with Spansion, we acquired agreements with Fujitsu Semiconductor Limited (\"[E1] Fujitsu Semiconductor Limited [/E1]\"), [E2] XMC [/E2] and SK Hynix Inc. (\"SK Hynix\"). Agreements with Fujitsu Semiconductor Limited include agreements for the supply of product wafer foundry services, sort services and assembly and test services relating to the microcontroller and analog businesses.</td>\n",
       "      <td>As part of our merger with Spansion, we acquired agreements with Fujitsu Semiconductor Limited (\"FSL\"), XMC and SK Hynix Inc. (\"SK Hynix\"). Agreements with FSL include agreements for the supply of product wafer foundry services, sort services and assembly and test services relating to the microcontroller and analog businesses.</td>\n",
       "      <td>Fujitsu Semiconductor Limited</td>\n",
       "      <td>XMC</td>\n",
       "      <td>{'Fujitsu Semiconductor Limited': 0, 'FSL': 0, 'SK Hynix Inc.': 1, 'SK Hynix': 1, 'Spansion': 2, 'XMC': 3}</td>\n",
       "      <td>0</td>\n",
       "      <td>0_2</td>\n",
       "      <td>As part of our merger with org-zero, we acquired agreements with org-ninety-nine (\"[E1] org-ninety-nine [/E1]\"), [E2] XMC [/E2] and org-eight (\"org-eight\"). Agreements with org-ninety-nine include agreements for the supply of product wafer foundry services, sort services and assembly and test services relating to the microcontroller and analog businesses.</td>\n",
       "      <td>[0.9994811415672302, 0.00028151372680440545, 0.00023735691502224654]</td>\n",
       "    </tr>\n",
       "    <tr>\n",
       "      <th>12</th>\n",
       "      <td>As part of our merger with [E2] Spansion [/E2], we acquired agreements with Fujitsu Semiconductor Limited (\"FSL\"), XMC and [E1] SK Hynix Inc. [/E1] (\"SK Hynix Inc.\"). Agreements with FSL include agreements for the supply of product wafer foundry services, sort services and assembly and test services relating to the microcontroller and analog businesses.</td>\n",
       "      <td>As part of our merger with Spansion, we acquired agreements with Fujitsu Semiconductor Limited (\"FSL\"), XMC and SK Hynix Inc. (\"SK Hynix\"). Agreements with FSL include agreements for the supply of product wafer foundry services, sort services and assembly and test services relating to the microcontroller and analog businesses.</td>\n",
       "      <td>SK Hynix Inc.</td>\n",
       "      <td>Spansion</td>\n",
       "      <td>{'Fujitsu Semiconductor Limited': 0, 'FSL': 0, 'SK Hynix Inc.': 1, 'SK Hynix': 1, 'Spansion': 2, 'XMC': 3}</td>\n",
       "      <td>0</td>\n",
       "      <td>0_3</td>\n",
       "      <td>As part of our merger with [E2] org-fifty-seven [/E2], we acquired agreements with org-fifteen (\"FSL\"), XMC and [E1] org-seventy-one [/E1] (\"org-seventy-one\"). Agreements with FSL include agreements for the supply of product wafer foundry services, sort services and assembly and test services relating to the microcontroller and analog businesses.</td>\n",
       "      <td>[0.9642632603645325, 0.03509415686130524, 0.0006425702595151961]</td>\n",
       "    </tr>\n",
       "    <tr>\n",
       "      <th>13</th>\n",
       "      <td>As part of our merger with [E2] Spansion [/E2], we acquired agreements with Fujitsu Semiconductor Limited (\"FSL\"), XMC and SK Hynix Inc. (\"[E1] SK Hynix Inc. [/E1]\"). Agreements with FSL include agreements for the supply of product wafer foundry services, sort services and assembly and test services relating to the microcontroller and analog businesses.</td>\n",
       "      <td>As part of our merger with Spansion, we acquired agreements with Fujitsu Semiconductor Limited (\"FSL\"), XMC and SK Hynix Inc. (\"SK Hynix\"). Agreements with FSL include agreements for the supply of product wafer foundry services, sort services and assembly and test services relating to the microcontroller and analog businesses.</td>\n",
       "      <td>SK Hynix Inc.</td>\n",
       "      <td>Spansion</td>\n",
       "      <td>{'Fujitsu Semiconductor Limited': 0, 'FSL': 0, 'SK Hynix Inc.': 1, 'SK Hynix': 1, 'Spansion': 2, 'XMC': 3}</td>\n",
       "      <td>0</td>\n",
       "      <td>0_3</td>\n",
       "      <td>As part of our merger with [E2] org-sixteen [/E2], we acquired agreements with org-one hundred (\"FSL\"), XMC and org-ninety-one (\"[E1] org-ninety-one [/E1]\"). Agreements with FSL include agreements for the supply of product wafer foundry services, sort services and assembly and test services relating to the microcontroller and analog businesses.</td>\n",
       "      <td>[0.9589235782623291, 0.040546100586652756, 0.0005302412318997085]</td>\n",
       "    </tr>\n",
       "    <tr>\n",
       "      <th>14</th>\n",
       "      <td>As part of our merger with Spansion, we acquired agreements with Fujitsu Semiconductor Limited (\"FSL\"), [E2] XMC [/E2] and SK Hynix Inc. (\"[E1] SK Hynix Inc. [/E1]\"). Agreements with FSL include agreements for the supply of product wafer foundry services, sort services and assembly and test services relating to the microcontroller and analog businesses.</td>\n",
       "      <td>As part of our merger with Spansion, we acquired agreements with Fujitsu Semiconductor Limited (\"FSL\"), XMC and SK Hynix Inc. (\"SK Hynix\"). Agreements with FSL include agreements for the supply of product wafer foundry services, sort services and assembly and test services relating to the microcontroller and analog businesses.</td>\n",
       "      <td>SK Hynix Inc.</td>\n",
       "      <td>XMC</td>\n",
       "      <td>{'Fujitsu Semiconductor Limited': 0, 'FSL': 0, 'SK Hynix Inc.': 1, 'SK Hynix': 1, 'Spansion': 2, 'XMC': 3}</td>\n",
       "      <td>0</td>\n",
       "      <td>0_4</td>\n",
       "      <td>As part of our merger with org-ninety-eight, we acquired agreements with org-ninety-two (\"FSL\"), [E2] XMC [/E2] and org-sixty-eight (\"[E1] org-sixty-eight [/E1]\"). Agreements with FSL include agreements for the supply of product wafer foundry services, sort services and assembly and test services relating to the microcontroller and analog businesses.</td>\n",
       "      <td>[0.9994841814041138, 0.00033076104591600597, 0.00018506405467633158]</td>\n",
       "    </tr>\n",
       "    <tr>\n",
       "      <th>15</th>\n",
       "      <td>As part of our merger with Spansion, we acquired agreements with Fujitsu Semiconductor Limited (\"FSL\"), [E2] XMC [/E2] and [E1] SK Hynix Inc. [/E1] (\"SK Hynix Inc.\"). Agreements with FSL include agreements for the supply of product wafer foundry services, sort services and assembly and test services relating to the microcontroller and analog businesses.</td>\n",
       "      <td>As part of our merger with Spansion, we acquired agreements with Fujitsu Semiconductor Limited (\"FSL\"), XMC and SK Hynix Inc. (\"SK Hynix\"). Agreements with FSL include agreements for the supply of product wafer foundry services, sort services and assembly and test services relating to the microcontroller and analog businesses.</td>\n",
       "      <td>SK Hynix Inc.</td>\n",
       "      <td>XMC</td>\n",
       "      <td>{'Fujitsu Semiconductor Limited': 0, 'FSL': 0, 'SK Hynix Inc.': 1, 'SK Hynix': 1, 'Spansion': 2, 'XMC': 3}</td>\n",
       "      <td>0</td>\n",
       "      <td>0_4</td>\n",
       "      <td>As part of our merger with org-ninety-four, we acquired agreements with org-eighty (\"FSL\"), [E2] XMC [/E2] and [E1] org-ninety-eight [/E1] (\"org-ninety-eight\"). Agreements with FSL include agreements for the supply of product wafer foundry services, sort services and assembly and test services relating to the microcontroller and analog businesses.</td>\n",
       "      <td>[0.9995594620704651, 0.00024879135889932513, 0.00019174187036696821]</td>\n",
       "    </tr>\n",
       "    <tr>\n",
       "      <th>16</th>\n",
       "      <td>As part of our merger with [E1] Spansion [/E1], we acquired agreements with Fujitsu Semiconductor Limited (\"FSL\"), [E2] XMC [/E2] and SK Hynix Inc. (\"SK Hynix\"). Agreements with FSL include agreements for the supply of product wafer foundry services, sort services and assembly and test services relating to the microcontroller and analog businesses.</td>\n",
       "      <td>As part of our merger with Spansion, we acquired agreements with Fujitsu Semiconductor Limited (\"FSL\"), XMC and SK Hynix Inc. (\"SK Hynix\"). Agreements with FSL include agreements for the supply of product wafer foundry services, sort services and assembly and test services relating to the microcontroller and analog businesses.</td>\n",
       "      <td>Spansion</td>\n",
       "      <td>XMC</td>\n",
       "      <td>{'Fujitsu Semiconductor Limited': 0, 'FSL': 0, 'SK Hynix Inc.': 1, 'SK Hynix': 1, 'Spansion': 2, 'XMC': 3}</td>\n",
       "      <td>0</td>\n",
       "      <td>0_5</td>\n",
       "      <td>As part of our merger with [E1] org-six [/E1], we acquired agreements with org-forty-four (\"FSL\"), [E2] XMC [/E2] and org-four (\"org-four\"). Agreements with FSL include agreements for the supply of product wafer foundry services, sort services and assembly and test services relating to the microcontroller and analog businesses.</td>\n",
       "      <td>[0.9891858696937561, 0.000678601092658937, 0.010135489515960217]</td>\n",
       "    </tr>\n",
       "  </tbody>\n",
       "</table>\n",
       "</div>"
      ],
      "text/plain": [
       "                                                                                                                                                                                                                                                                                                                                                                                                                      sents  \\\n",
       "0   As part of our merger with Spansion, we acquired agreements with Fujitsu Semiconductor Limited (\"Fujitsu Semiconductor Limited\"), XMC and SK Hynix Inc. (\"[E2] SK Hynix Inc. [/E2]\"). Agreements with [E1] Fujitsu Semiconductor Limited [/E1] include agreements for the supply of product wafer foundry services, sort services and assembly and test services relating to the microcontroller and analog businesses.   \n",
       "1   As part of our merger with Spansion, we acquired agreements with Fujitsu Semiconductor Limited (\"Fujitsu Semiconductor Limited\"), XMC and [E2] SK Hynix Inc. [/E2] (\"SK Hynix Inc.\"). Agreements with [E1] Fujitsu Semiconductor Limited [/E1] include agreements for the supply of product wafer foundry services, sort services and assembly and test services relating to the microcontroller and analog businesses.   \n",
       "2   As part of our merger with Spansion, we acquired agreements with Fujitsu Semiconductor Limited (\"[E1] Fujitsu Semiconductor Limited [/E1]\"), XMC and SK Hynix Inc. (\"[E2] SK Hynix Inc. [/E2]\"). Agreements with Fujitsu Semiconductor Limited include agreements for the supply of product wafer foundry services, sort services and assembly and test services relating to the microcontroller and analog businesses.   \n",
       "3   As part of our merger with Spansion, we acquired agreements with Fujitsu Semiconductor Limited (\"[E1] Fujitsu Semiconductor Limited [/E1]\"), XMC and [E2] SK Hynix Inc. [/E2] (\"SK Hynix Inc.\"). Agreements with Fujitsu Semiconductor Limited include agreements for the supply of product wafer foundry services, sort services and assembly and test services relating to the microcontroller and analog businesses.   \n",
       "4   As part of our merger with Spansion, we acquired agreements with [E1] Fujitsu Semiconductor Limited [/E1] (\"Fujitsu Semiconductor Limited\"), XMC and [E2] SK Hynix Inc. [/E2] (\"SK Hynix Inc.\"). Agreements with Fujitsu Semiconductor Limited include agreements for the supply of product wafer foundry services, sort services and assembly and test services relating to the microcontroller and analog businesses.   \n",
       "5   As part of our merger with Spansion, we acquired agreements with [E1] Fujitsu Semiconductor Limited [/E1] (\"Fujitsu Semiconductor Limited\"), XMC and SK Hynix Inc. (\"[E2] SK Hynix Inc. [/E2]\"). Agreements with Fujitsu Semiconductor Limited include agreements for the supply of product wafer foundry services, sort services and assembly and test services relating to the microcontroller and analog businesses.   \n",
       "6        As part of our merger with [E2] Spansion [/E2], we acquired agreements with Fujitsu Semiconductor Limited (\"[E1] Fujitsu Semiconductor Limited [/E1]\"), XMC and SK Hynix Inc. (\"SK Hynix\"). Agreements with Fujitsu Semiconductor Limited include agreements for the supply of product wafer foundry services, sort services and assembly and test services relating to the microcontroller and analog businesses.   \n",
       "7        As part of our merger with [E2] Spansion [/E2], we acquired agreements with Fujitsu Semiconductor Limited (\"Fujitsu Semiconductor Limited\"), XMC and SK Hynix Inc. (\"SK Hynix\"). Agreements with [E1] Fujitsu Semiconductor Limited [/E1] include agreements for the supply of product wafer foundry services, sort services and assembly and test services relating to the microcontroller and analog businesses.   \n",
       "8        As part of our merger with [E2] Spansion [/E2], we acquired agreements with [E1] Fujitsu Semiconductor Limited [/E1] (\"Fujitsu Semiconductor Limited\"), XMC and SK Hynix Inc. (\"SK Hynix\"). Agreements with Fujitsu Semiconductor Limited include agreements for the supply of product wafer foundry services, sort services and assembly and test services relating to the microcontroller and analog businesses.   \n",
       "9        As part of our merger with Spansion, we acquired agreements with Fujitsu Semiconductor Limited (\"Fujitsu Semiconductor Limited\"), [E2] XMC [/E2] and SK Hynix Inc. (\"SK Hynix\"). Agreements with [E1] Fujitsu Semiconductor Limited [/E1] include agreements for the supply of product wafer foundry services, sort services and assembly and test services relating to the microcontroller and analog businesses.   \n",
       "10       As part of our merger with Spansion, we acquired agreements with [E1] Fujitsu Semiconductor Limited [/E1] (\"Fujitsu Semiconductor Limited\"), [E2] XMC [/E2] and SK Hynix Inc. (\"SK Hynix\"). Agreements with Fujitsu Semiconductor Limited include agreements for the supply of product wafer foundry services, sort services and assembly and test services relating to the microcontroller and analog businesses.   \n",
       "11       As part of our merger with Spansion, we acquired agreements with Fujitsu Semiconductor Limited (\"[E1] Fujitsu Semiconductor Limited [/E1]\"), [E2] XMC [/E2] and SK Hynix Inc. (\"SK Hynix\"). Agreements with Fujitsu Semiconductor Limited include agreements for the supply of product wafer foundry services, sort services and assembly and test services relating to the microcontroller and analog businesses.   \n",
       "12                                                      As part of our merger with [E2] Spansion [/E2], we acquired agreements with Fujitsu Semiconductor Limited (\"FSL\"), XMC and [E1] SK Hynix Inc. [/E1] (\"SK Hynix Inc.\"). Agreements with FSL include agreements for the supply of product wafer foundry services, sort services and assembly and test services relating to the microcontroller and analog businesses.   \n",
       "13                                                      As part of our merger with [E2] Spansion [/E2], we acquired agreements with Fujitsu Semiconductor Limited (\"FSL\"), XMC and SK Hynix Inc. (\"[E1] SK Hynix Inc. [/E1]\"). Agreements with FSL include agreements for the supply of product wafer foundry services, sort services and assembly and test services relating to the microcontroller and analog businesses.   \n",
       "14                                                      As part of our merger with Spansion, we acquired agreements with Fujitsu Semiconductor Limited (\"FSL\"), [E2] XMC [/E2] and SK Hynix Inc. (\"[E1] SK Hynix Inc. [/E1]\"). Agreements with FSL include agreements for the supply of product wafer foundry services, sort services and assembly and test services relating to the microcontroller and analog businesses.   \n",
       "15                                                      As part of our merger with Spansion, we acquired agreements with Fujitsu Semiconductor Limited (\"FSL\"), [E2] XMC [/E2] and [E1] SK Hynix Inc. [/E1] (\"SK Hynix Inc.\"). Agreements with FSL include agreements for the supply of product wafer foundry services, sort services and assembly and test services relating to the microcontroller and analog businesses.   \n",
       "16                                                           As part of our merger with [E1] Spansion [/E1], we acquired agreements with Fujitsu Semiconductor Limited (\"FSL\"), [E2] XMC [/E2] and SK Hynix Inc. (\"SK Hynix\"). Agreements with FSL include agreements for the supply of product wafer foundry services, sort services and assembly and test services relating to the microcontroller and analog businesses.   \n",
       "\n",
       "                                                                                                                                                                                                                                                                                                                                  orig_sents  \\\n",
       "0   As part of our merger with Spansion, we acquired agreements with Fujitsu Semiconductor Limited (\"FSL\"), XMC and SK Hynix Inc. (\"SK Hynix\"). Agreements with FSL include agreements for the supply of product wafer foundry services, sort services and assembly and test services relating to the microcontroller and analog businesses.   \n",
       "1   As part of our merger with Spansion, we acquired agreements with Fujitsu Semiconductor Limited (\"FSL\"), XMC and SK Hynix Inc. (\"SK Hynix\"). Agreements with FSL include agreements for the supply of product wafer foundry services, sort services and assembly and test services relating to the microcontroller and analog businesses.   \n",
       "2   As part of our merger with Spansion, we acquired agreements with Fujitsu Semiconductor Limited (\"FSL\"), XMC and SK Hynix Inc. (\"SK Hynix\"). Agreements with FSL include agreements for the supply of product wafer foundry services, sort services and assembly and test services relating to the microcontroller and analog businesses.   \n",
       "3   As part of our merger with Spansion, we acquired agreements with Fujitsu Semiconductor Limited (\"FSL\"), XMC and SK Hynix Inc. (\"SK Hynix\"). Agreements with FSL include agreements for the supply of product wafer foundry services, sort services and assembly and test services relating to the microcontroller and analog businesses.   \n",
       "4   As part of our merger with Spansion, we acquired agreements with Fujitsu Semiconductor Limited (\"FSL\"), XMC and SK Hynix Inc. (\"SK Hynix\"). Agreements with FSL include agreements for the supply of product wafer foundry services, sort services and assembly and test services relating to the microcontroller and analog businesses.   \n",
       "5   As part of our merger with Spansion, we acquired agreements with Fujitsu Semiconductor Limited (\"FSL\"), XMC and SK Hynix Inc. (\"SK Hynix\"). Agreements with FSL include agreements for the supply of product wafer foundry services, sort services and assembly and test services relating to the microcontroller and analog businesses.   \n",
       "6   As part of our merger with Spansion, we acquired agreements with Fujitsu Semiconductor Limited (\"FSL\"), XMC and SK Hynix Inc. (\"SK Hynix\"). Agreements with FSL include agreements for the supply of product wafer foundry services, sort services and assembly and test services relating to the microcontroller and analog businesses.   \n",
       "7   As part of our merger with Spansion, we acquired agreements with Fujitsu Semiconductor Limited (\"FSL\"), XMC and SK Hynix Inc. (\"SK Hynix\"). Agreements with FSL include agreements for the supply of product wafer foundry services, sort services and assembly and test services relating to the microcontroller and analog businesses.   \n",
       "8   As part of our merger with Spansion, we acquired agreements with Fujitsu Semiconductor Limited (\"FSL\"), XMC and SK Hynix Inc. (\"SK Hynix\"). Agreements with FSL include agreements for the supply of product wafer foundry services, sort services and assembly and test services relating to the microcontroller and analog businesses.   \n",
       "9   As part of our merger with Spansion, we acquired agreements with Fujitsu Semiconductor Limited (\"FSL\"), XMC and SK Hynix Inc. (\"SK Hynix\"). Agreements with FSL include agreements for the supply of product wafer foundry services, sort services and assembly and test services relating to the microcontroller and analog businesses.   \n",
       "10  As part of our merger with Spansion, we acquired agreements with Fujitsu Semiconductor Limited (\"FSL\"), XMC and SK Hynix Inc. (\"SK Hynix\"). Agreements with FSL include agreements for the supply of product wafer foundry services, sort services and assembly and test services relating to the microcontroller and analog businesses.   \n",
       "11  As part of our merger with Spansion, we acquired agreements with Fujitsu Semiconductor Limited (\"FSL\"), XMC and SK Hynix Inc. (\"SK Hynix\"). Agreements with FSL include agreements for the supply of product wafer foundry services, sort services and assembly and test services relating to the microcontroller and analog businesses.   \n",
       "12  As part of our merger with Spansion, we acquired agreements with Fujitsu Semiconductor Limited (\"FSL\"), XMC and SK Hynix Inc. (\"SK Hynix\"). Agreements with FSL include agreements for the supply of product wafer foundry services, sort services and assembly and test services relating to the microcontroller and analog businesses.   \n",
       "13  As part of our merger with Spansion, we acquired agreements with Fujitsu Semiconductor Limited (\"FSL\"), XMC and SK Hynix Inc. (\"SK Hynix\"). Agreements with FSL include agreements for the supply of product wafer foundry services, sort services and assembly and test services relating to the microcontroller and analog businesses.   \n",
       "14  As part of our merger with Spansion, we acquired agreements with Fujitsu Semiconductor Limited (\"FSL\"), XMC and SK Hynix Inc. (\"SK Hynix\"). Agreements with FSL include agreements for the supply of product wafer foundry services, sort services and assembly and test services relating to the microcontroller and analog businesses.   \n",
       "15  As part of our merger with Spansion, we acquired agreements with Fujitsu Semiconductor Limited (\"FSL\"), XMC and SK Hynix Inc. (\"SK Hynix\"). Agreements with FSL include agreements for the supply of product wafer foundry services, sort services and assembly and test services relating to the microcontroller and analog businesses.   \n",
       "16  As part of our merger with Spansion, we acquired agreements with Fujitsu Semiconductor Limited (\"FSL\"), XMC and SK Hynix Inc. (\"SK Hynix\"). Agreements with FSL include agreements for the supply of product wafer foundry services, sort services and assembly and test services relating to the microcontroller and analog businesses.   \n",
       "\n",
       "                          entity1        entity2  \\\n",
       "0   Fujitsu Semiconductor Limited  SK Hynix Inc.   \n",
       "1   Fujitsu Semiconductor Limited  SK Hynix Inc.   \n",
       "2   Fujitsu Semiconductor Limited  SK Hynix Inc.   \n",
       "3   Fujitsu Semiconductor Limited  SK Hynix Inc.   \n",
       "4   Fujitsu Semiconductor Limited  SK Hynix Inc.   \n",
       "5   Fujitsu Semiconductor Limited  SK Hynix Inc.   \n",
       "6   Fujitsu Semiconductor Limited       Spansion   \n",
       "7   Fujitsu Semiconductor Limited       Spansion   \n",
       "8   Fujitsu Semiconductor Limited       Spansion   \n",
       "9   Fujitsu Semiconductor Limited            XMC   \n",
       "10  Fujitsu Semiconductor Limited            XMC   \n",
       "11  Fujitsu Semiconductor Limited            XMC   \n",
       "12                  SK Hynix Inc.       Spansion   \n",
       "13                  SK Hynix Inc.       Spansion   \n",
       "14                  SK Hynix Inc.            XMC   \n",
       "15                  SK Hynix Inc.            XMC   \n",
       "16                       Spansion            XMC   \n",
       "\n",
       "                                                                                                    org_groups  \\\n",
       "0   {'Fujitsu Semiconductor Limited': 0, 'FSL': 0, 'SK Hynix Inc.': 1, 'SK Hynix': 1, 'Spansion': 2, 'XMC': 3}   \n",
       "1   {'Fujitsu Semiconductor Limited': 0, 'FSL': 0, 'SK Hynix Inc.': 1, 'SK Hynix': 1, 'Spansion': 2, 'XMC': 3}   \n",
       "2   {'Fujitsu Semiconductor Limited': 0, 'FSL': 0, 'SK Hynix Inc.': 1, 'SK Hynix': 1, 'Spansion': 2, 'XMC': 3}   \n",
       "3   {'Fujitsu Semiconductor Limited': 0, 'FSL': 0, 'SK Hynix Inc.': 1, 'SK Hynix': 1, 'Spansion': 2, 'XMC': 3}   \n",
       "4   {'Fujitsu Semiconductor Limited': 0, 'FSL': 0, 'SK Hynix Inc.': 1, 'SK Hynix': 1, 'Spansion': 2, 'XMC': 3}   \n",
       "5   {'Fujitsu Semiconductor Limited': 0, 'FSL': 0, 'SK Hynix Inc.': 1, 'SK Hynix': 1, 'Spansion': 2, 'XMC': 3}   \n",
       "6   {'Fujitsu Semiconductor Limited': 0, 'FSL': 0, 'SK Hynix Inc.': 1, 'SK Hynix': 1, 'Spansion': 2, 'XMC': 3}   \n",
       "7   {'Fujitsu Semiconductor Limited': 0, 'FSL': 0, 'SK Hynix Inc.': 1, 'SK Hynix': 1, 'Spansion': 2, 'XMC': 3}   \n",
       "8   {'Fujitsu Semiconductor Limited': 0, 'FSL': 0, 'SK Hynix Inc.': 1, 'SK Hynix': 1, 'Spansion': 2, 'XMC': 3}   \n",
       "9   {'Fujitsu Semiconductor Limited': 0, 'FSL': 0, 'SK Hynix Inc.': 1, 'SK Hynix': 1, 'Spansion': 2, 'XMC': 3}   \n",
       "10  {'Fujitsu Semiconductor Limited': 0, 'FSL': 0, 'SK Hynix Inc.': 1, 'SK Hynix': 1, 'Spansion': 2, 'XMC': 3}   \n",
       "11  {'Fujitsu Semiconductor Limited': 0, 'FSL': 0, 'SK Hynix Inc.': 1, 'SK Hynix': 1, 'Spansion': 2, 'XMC': 3}   \n",
       "12  {'Fujitsu Semiconductor Limited': 0, 'FSL': 0, 'SK Hynix Inc.': 1, 'SK Hynix': 1, 'Spansion': 2, 'XMC': 3}   \n",
       "13  {'Fujitsu Semiconductor Limited': 0, 'FSL': 0, 'SK Hynix Inc.': 1, 'SK Hynix': 1, 'Spansion': 2, 'XMC': 3}   \n",
       "14  {'Fujitsu Semiconductor Limited': 0, 'FSL': 0, 'SK Hynix Inc.': 1, 'SK Hynix': 1, 'Spansion': 2, 'XMC': 3}   \n",
       "15  {'Fujitsu Semiconductor Limited': 0, 'FSL': 0, 'SK Hynix Inc.': 1, 'SK Hynix': 1, 'Spansion': 2, 'XMC': 3}   \n",
       "16  {'Fujitsu Semiconductor Limited': 0, 'FSL': 0, 'SK Hynix Inc.': 1, 'SK Hynix': 1, 'Spansion': 2, 'XMC': 3}   \n",
       "\n",
       "    idx r_id  \\\n",
       "0     0  0_0   \n",
       "1     0  0_0   \n",
       "2     0  0_0   \n",
       "3     0  0_0   \n",
       "4     0  0_0   \n",
       "5     0  0_0   \n",
       "6     0  0_1   \n",
       "7     0  0_1   \n",
       "8     0  0_1   \n",
       "9     0  0_2   \n",
       "10    0  0_2   \n",
       "11    0  0_2   \n",
       "12    0  0_3   \n",
       "13    0  0_3   \n",
       "14    0  0_4   \n",
       "15    0  0_4   \n",
       "16    0  0_5   \n",
       "\n",
       "                                                                                                                                                                                                                                                                                                                                                                                   mutated_sents  \\\n",
       "0         As part of our merger with org-ninety-one, we acquired agreements with org-fifty-four (\"org-fifty-four\"), XMC and org-seventy-nine (\"[E2] org-seventy-nine [/E2]\"). Agreements with [E1] org-fifty-four [/E1] include agreements for the supply of product wafer foundry services, sort services and assembly and test services relating to the microcontroller and analog businesses.   \n",
       "1              As part of our merger with org-five, we acquired agreements with org-forty-eight (\"org-forty-eight\"), XMC and [E2] org-ninety-four [/E2] (\"org-ninety-four\"). Agreements with [E1] org-forty-eight [/E1] include agreements for the supply of product wafer foundry services, sort services and assembly and test services relating to the microcontroller and analog businesses.   \n",
       "2        As part of our merger with org-eighty-five, we acquired agreements with org-eighty-eight (\"[E1] org-eighty-eight [/E1]\"), XMC and org-forty-six (\"[E2] org-forty-six [/E2]\"). Agreements with org-eighty-eight include agreements for the supply of product wafer foundry services, sort services and assembly and test services relating to the microcontroller and analog businesses.   \n",
       "3           As part of our merger with org-eighty-four, we acquired agreements with org-fifty-one (\"[E1] org-fifty-one [/E1]\"), XMC and [E2] org-seventy-four [/E2] (\"org-seventy-four\"). Agreements with org-fifty-one include agreements for the supply of product wafer foundry services, sort services and assembly and test services relating to the microcontroller and analog businesses.   \n",
       "4              As part of our merger with org-twenty-nine, we acquired agreements with [E1] org-fourteen [/E1] (\"org-fourteen\"), XMC and [E2] org-ninety-three [/E2] (\"org-ninety-three\"). Agreements with org-fourteen include agreements for the supply of product wafer foundry services, sort services and assembly and test services relating to the microcontroller and analog businesses.   \n",
       "5                          As part of our merger with org-fifteen, we acquired agreements with [E1] org-thirty-one [/E1] (\"org-thirty-one\"), XMC and org-eight (\"[E2] org-eight [/E2]\"). Agreements with org-thirty-one include agreements for the supply of product wafer foundry services, sort services and assembly and test services relating to the microcontroller and analog businesses.   \n",
       "6      As part of our merger with [E2] org-fifty-one [/E2], we acquired agreements with org-thirty-seven (\"[E1] org-thirty-seven [/E1]\"), XMC and org-seventy-one (\"org-seventy-one\"). Agreements with org-thirty-seven include agreements for the supply of product wafer foundry services, sort services and assembly and test services relating to the microcontroller and analog businesses.   \n",
       "7                             As part of our merger with [E2] org-forty-one [/E2], we acquired agreements with org-fifty (\"org-fifty\"), XMC and org-twenty-six (\"org-twenty-six\"). Agreements with [E1] org-fifty [/E1] include agreements for the supply of product wafer foundry services, sort services and assembly and test services relating to the microcontroller and analog businesses.   \n",
       "8             As part of our merger with [E2] org-sixteen [/E2], we acquired agreements with [E1] org-forty-eight [/E1] (\"org-forty-eight\"), XMC and org-fifty-nine (\"org-fifty-nine\"). Agreements with org-forty-eight include agreements for the supply of product wafer foundry services, sort services and assembly and test services relating to the microcontroller and analog businesses.   \n",
       "9      As part of our merger with org-forty-five, we acquired agreements with org-seventy-seven (\"org-seventy-seven\"), [E2] XMC [/E2] and org-fifty-one (\"org-fifty-one\"). Agreements with [E1] org-seventy-seven [/E1] include agreements for the supply of product wafer foundry services, sort services and assembly and test services relating to the microcontroller and analog businesses.   \n",
       "10  As part of our merger with org-thirty-two, we acquired agreements with [E1] org-ninety-three [/E1] (\"org-ninety-three\"), [E2] XMC [/E2] and org-eighty-eight (\"org-eighty-eight\"). Agreements with org-ninety-three include agreements for the supply of product wafer foundry services, sort services and assembly and test services relating to the microcontroller and analog businesses.   \n",
       "11                         As part of our merger with org-zero, we acquired agreements with org-ninety-nine (\"[E1] org-ninety-nine [/E1]\"), [E2] XMC [/E2] and org-eight (\"org-eight\"). Agreements with org-ninety-nine include agreements for the supply of product wafer foundry services, sort services and assembly and test services relating to the microcontroller and analog businesses.   \n",
       "12                                  As part of our merger with [E2] org-fifty-seven [/E2], we acquired agreements with org-fifteen (\"FSL\"), XMC and [E1] org-seventy-one [/E1] (\"org-seventy-one\"). Agreements with FSL include agreements for the supply of product wafer foundry services, sort services and assembly and test services relating to the microcontroller and analog businesses.   \n",
       "13                                    As part of our merger with [E2] org-sixteen [/E2], we acquired agreements with org-one hundred (\"FSL\"), XMC and org-ninety-one (\"[E1] org-ninety-one [/E1]\"). Agreements with FSL include agreements for the supply of product wafer foundry services, sort services and assembly and test services relating to the microcontroller and analog businesses.   \n",
       "14                              As part of our merger with org-ninety-eight, we acquired agreements with org-ninety-two (\"FSL\"), [E2] XMC [/E2] and org-sixty-eight (\"[E1] org-sixty-eight [/E1]\"). Agreements with FSL include agreements for the supply of product wafer foundry services, sort services and assembly and test services relating to the microcontroller and analog businesses.   \n",
       "15                                 As part of our merger with org-ninety-four, we acquired agreements with org-eighty (\"FSL\"), [E2] XMC [/E2] and [E1] org-ninety-eight [/E1] (\"org-ninety-eight\"). Agreements with FSL include agreements for the supply of product wafer foundry services, sort services and assembly and test services relating to the microcontroller and analog businesses.   \n",
       "16                                                     As part of our merger with [E1] org-six [/E1], we acquired agreements with org-forty-four (\"FSL\"), [E2] XMC [/E2] and org-four (\"org-four\"). Agreements with FSL include agreements for the supply of product wafer foundry services, sort services and assembly and test services relating to the microcontroller and analog businesses.   \n",
       "\n",
       "                                                                  scores  \n",
       "0        [0.9711851477622986, 0.007361870724707842, 0.02145296521484852]  \n",
       "1        [0.9276876449584961, 0.019265776500105858, 0.05304654687643051]  \n",
       "2      [0.9996612071990967, 0.0001402813068125397, 0.000198588430066593]  \n",
       "3      [0.99953293800354, 0.00019238077220506966, 0.0002746083482634276]  \n",
       "4   [0.9995803236961365, 0.00017811577708926052, 0.00024148756347130984]  \n",
       "5   [0.9995742440223694, 0.00019070212147198617, 0.00023514637723565102]  \n",
       "6        [0.951263427734375, 0.04801860451698303, 0.0007179865497164428]  \n",
       "7        [0.48682665824890137, 0.4985732138156891, 0.014600099064409733]  \n",
       "8        [0.9396485090255737, 0.0593537800014019, 0.0009976763976737857]  \n",
       "9         [0.9335480332374573, 0.01990564353764057, 0.04654621705412865]  \n",
       "10   [0.9997428059577942, 0.0001293437380809337, 0.00012791025801561773]  \n",
       "11  [0.9994811415672302, 0.00028151372680440545, 0.00023735691502224654]  \n",
       "12      [0.9642632603645325, 0.03509415686130524, 0.0006425702595151961]  \n",
       "13     [0.9589235782623291, 0.040546100586652756, 0.0005302412318997085]  \n",
       "14  [0.9994841814041138, 0.00033076104591600597, 0.00018506405467633158]  \n",
       "15  [0.9995594620704651, 0.00024879135889932513, 0.00019174187036696821]  \n",
       "16      [0.9891858696937561, 0.000678601092658937, 0.010135489515960217]  "
      ]
     },
     "execution_count": 17,
     "metadata": {},
     "output_type": "execute_result"
    }
   ],
   "source": [
    "score, labels , re_model.predict_fn(tagged)"
   ]
  },
  {
   "cell_type": "code",
   "execution_count": 10,
   "metadata": {},
   "outputs": [
    {
     "name": "stderr",
     "output_type": "stream",
     "text": [
      "mutate text: 100%|██████████| 3/3 [00:00<00:00, 3612.66it/s]\n",
      "09/20/2023 10:36:00 PM [INFO]: Tokenizing data...\n",
      "tokenization: 100%|██████████| 3/3 [00:00<00:00, 2304.56it/s]\n",
      "tags positioning: 100%|██████████| 3/3 [00:00<00:00, 3988.24it/s]\n"
     ]
    },
    {
     "name": "stdout",
     "output_type": "stream",
     "text": [
      "\n",
      "Invalid rows/total: 0/3\n"
     ]
    },
    {
     "name": "stderr",
     "output_type": "stream",
     "text": [
      "100%|██████████| 1/1 [00:00<00:00, 82.73it/s]\n",
      "mutate text: 100%|██████████| 3/3 [00:00<00:00, 4370.58it/s]\n",
      "09/20/2023 10:36:00 PM [INFO]: Tokenizing data...\n",
      "tokenization: 100%|██████████| 3/3 [00:00<00:00, 2431.48it/s]\n",
      "tags positioning: 100%|██████████| 3/3 [00:00<00:00, 4882.78it/s]\n"
     ]
    },
    {
     "name": "stdout",
     "output_type": "stream",
     "text": [
      "\n",
      "Invalid rows/total: 0/3\n"
     ]
    },
    {
     "name": "stderr",
     "output_type": "stream",
     "text": [
      "100%|██████████| 1/1 [00:00<00:00, 81.95it/s]\n"
     ]
    },
    {
     "data": {
      "text/html": [
       "<div>\n",
       "<style scoped>\n",
       "    .dataframe tbody tr th:only-of-type {\n",
       "        vertical-align: middle;\n",
       "    }\n",
       "\n",
       "    .dataframe tbody tr th {\n",
       "        vertical-align: top;\n",
       "    }\n",
       "\n",
       "    .dataframe thead th {\n",
       "        text-align: right;\n",
       "    }\n",
       "</style>\n",
       "<table border=\"1\" class=\"dataframe\">\n",
       "  <thead>\n",
       "    <tr style=\"text-align: right;\">\n",
       "      <th></th>\n",
       "      <th>relations</th>\n",
       "      <th>orig_sents</th>\n",
       "      <th>org_groups</th>\n",
       "    </tr>\n",
       "    <tr>\n",
       "      <th>idx</th>\n",
       "      <th></th>\n",
       "      <th></th>\n",
       "      <th></th>\n",
       "    </tr>\n",
       "  </thead>\n",
       "  <tbody>\n",
       "    <tr>\n",
       "      <th>0</th>\n",
       "      <td>[{'iSemantics': 'customer', 'Apple inc's': 'supplier', 'score': 0.9972}, {'Inferess': 'customer', 'Apple inc's': 'supplier', 'score': 0.9223}, {'Inferess': 'other', 'iSemantics': 'other', 'score': 0.4358}]</td>\n",
       "      <td>Agreement between Apple inc's partner Inferess and iSemantics for supply chain since iSemantics using Inferess's software</td>\n",
       "      <td>{'Apple inc's': 0, 'iSemantics': 1, 'Inferess': 2}</td>\n",
       "    </tr>\n",
       "  </tbody>\n",
       "</table>\n",
       "</div>"
      ],
      "text/plain": [
       "                                                                                                                                                                                                         relations  \\\n",
       "idx                                                                                                                                                                                                                  \n",
       "0    [{'iSemantics': 'customer', 'Apple inc's': 'supplier', 'score': 0.9972}, {'Inferess': 'customer', 'Apple inc's': 'supplier', 'score': 0.9223}, {'Inferess': 'other', 'iSemantics': 'other', 'score': 0.4358}]   \n",
       "\n",
       "                                                                                                                    orig_sents  \\\n",
       "idx                                                                                                                              \n",
       "0    Agreement between Apple inc's partner Inferess and iSemantics for supply chain since iSemantics using Inferess's software   \n",
       "\n",
       "                                             org_groups  \n",
       "idx                                                      \n",
       "0    {'Apple inc's': 0, 'iSemantics': 1, 'Inferess': 2}  "
      ]
     },
     "execution_count": 10,
     "metadata": {},
     "output_type": "execute_result"
    }
   ],
   "source": [
    "re_model.predict_relations([sentence], mutate=True, reverse=True)"
   ]
  },
  {
   "cell_type": "code",
   "execution_count": 12,
   "metadata": {},
   "outputs": [],
   "source": [
    "import pandas as pd\n",
    "simple_data = pd.read_excel(src_dir / 'data/raw/simple_sentences_cs_report.xlsx')"
   ]
  },
  {
   "cell_type": "code",
   "execution_count": 13,
   "metadata": {
    "tags": []
   },
   "outputs": [
    {
     "name": "stderr",
     "output_type": "stream",
     "text": [
      "mutate text: 100%|██████████| 465/465 [00:00<00:00, 21217.46it/s]\n",
      "09/20/2023 10:30:15 PM [INFO]: Tokenizing data...\n",
      "tokenization: 100%|██████████| 465/465 [00:00<00:00, 8547.80it/s]\n",
      "tags positioning: 100%|██████████| 465/465 [00:00<00:00, 63157.00it/s]\n"
     ]
    },
    {
     "name": "stdout",
     "output_type": "stream",
     "text": [
      "\n",
      "Invalid rows/total: 0/465\n"
     ]
    },
    {
     "name": "stderr",
     "output_type": "stream",
     "text": [
      "100%|██████████| 59/59 [00:01<00:00, 37.62it/s]\n"
     ]
    }
   ],
   "source": [
    "predictions = relation_extractor.predict_frame(simple_data, sentence_column = 'sentence')"
   ]
  },
  {
   "cell_type": "code",
   "execution_count": 6,
   "metadata": {},
   "outputs": [],
   "source": [
    "simple_data.loc[predictions.index, 'relations'] = predictions['relations']"
   ]
  },
  {
   "cell_type": "code",
   "execution_count": 7,
   "metadata": {},
   "outputs": [
    {
     "data": {
      "text/plain": [
       "[{'Intel': 'supplier', 'Apple': 'customer', 'score': 0.9904}]"
      ]
     },
     "execution_count": 7,
     "metadata": {},
     "output_type": "execute_result"
    }
   ],
   "source": [
    "relations = simple_data.iloc[0]['relations']\n",
    "relations"
   ]
  },
  {
   "cell_type": "code",
   "execution_count": 8,
   "metadata": {},
   "outputs": [
    {
     "data": {
      "text/plain": [
       "25"
      ]
     },
     "execution_count": 8,
     "metadata": {},
     "output_type": "execute_result"
    }
   ],
   "source": [
    "simple_data['relations'].isna().sum()"
   ]
  },
  {
   "cell_type": "code",
   "execution_count": 9,
   "metadata": {},
   "outputs": [],
   "source": [
    "from itertools import chain\n",
    "def is_sc(relations):\n",
    "    if not relations:\n",
    "        return 0\n",
    "    if isinstance(relations, list):\n",
    "        return int(any([1 if x =='supplier' else 0 for x in\\\n",
    "             list(chain(*[list(r.values()) for r in relations])) ]))\n",
    "    else:\n",
    "        0\n"
   ]
  },
  {
   "cell_type": "code",
   "execution_count": 10,
   "metadata": {},
   "outputs": [],
   "source": [
    "relations = simple_data['relations'][1]"
   ]
  },
  {
   "cell_type": "code",
   "execution_count": 12,
   "metadata": {},
   "outputs": [
    {
     "data": {
      "text/plain": [
       "True"
      ]
     },
     "execution_count": 12,
     "metadata": {},
     "output_type": "execute_result"
    }
   ],
   "source": [
    "any([1 if x =='supplier' else 0 for x in\\\n",
    "             list(chain(*[list(r.values()) for r in relations])) ])"
   ]
  },
  {
   "cell_type": "code",
   "execution_count": 14,
   "metadata": {},
   "outputs": [],
   "source": [
    "simple_data.loc[:, 're_prediction'] = simple_data['relations'].apply(is_sc)"
   ]
  },
  {
   "cell_type": "code",
   "execution_count": 15,
   "metadata": {},
   "outputs": [],
   "source": [
    "simple_data['re_prediction'].fillna(0, inplace=True)"
   ]
  },
  {
   "cell_type": "code",
   "execution_count": 16,
   "metadata": {},
   "outputs": [],
   "source": [
    "simple_data.loc[:, 're_correct_prediction'] = simple_data['re_prediction'] == simple_data['true_label']"
   ]
  },
  {
   "cell_type": "code",
   "execution_count": 17,
   "metadata": {},
   "outputs": [
    {
     "data": {
      "text/plain": [
       "0"
      ]
     },
     "execution_count": 17,
     "metadata": {},
     "output_type": "execute_result"
    }
   ],
   "source": [
    "simple_data.re_prediction.isna().sum()"
   ]
  },
  {
   "cell_type": "code",
   "execution_count": 18,
   "metadata": {},
   "outputs": [],
   "source": [
    "simple_data.to_excel(\"data/raw/simple_sentences_cs_report_with_re.xlsx\")"
   ]
  },
  {
   "cell_type": "code",
   "execution_count": 19,
   "metadata": {},
   "outputs": [],
   "source": [
    "correct = simple_data.query(\"true_label == re_prediction\")"
   ]
  },
  {
   "cell_type": "code",
   "execution_count": 20,
   "metadata": {},
   "outputs": [],
   "source": [
    "errors =  simple_data.query(\"true_label != re_prediction\")"
   ]
  },
  {
   "cell_type": "code",
   "execution_count": 87,
   "metadata": {},
   "outputs": [
    {
     "data": {
      "text/plain": [
       "0.0    22\n",
       "1.0    21\n",
       "Name: re_prediction, dtype: int64"
      ]
     },
     "execution_count": 87,
     "metadata": {},
     "output_type": "execute_result"
    }
   ],
   "source": [
    "errors.re_prediction.value_counts()"
   ]
  },
  {
   "cell_type": "code",
   "execution_count": 21,
   "metadata": {},
   "outputs": [
    {
     "data": {
      "text/plain": [
       "0.9"
      ]
     },
     "execution_count": 21,
     "metadata": {},
     "output_type": "execute_result"
    }
   ],
   "source": [
    "simple_data.query(\"true_label == re_prediction\").shape[0]/ len(simple_data)"
   ]
  },
  {
   "cell_type": "code",
   "execution_count": 112,
   "metadata": {},
   "outputs": [],
   "source": [
    "sent = \"McDonald's yearly revenue numbers increased after it started sourcing potatoes for Idaho Potato Commission.\"\n",
    "sent = \"Starbucks potential revenue have surged after they started buying coffee beans from Colombian Coffee Growers Federation.\"\n",
    "sent = \"Whole Foods Market is UNITED NATURAL FOODS Inc only supernatural chain customer, and net sales to Whole Foods Market for the year ended August 3, 2013 increased by approximately $324 million or 17.2% over the prior year and accounted for approximately 36% of UNITED NATURAL FOODS Inc total net sales for each of the years ended August 3, 2013 and July 28, 2012\""
   ]
  },
  {
   "cell_type": "code",
   "execution_count": 113,
   "metadata": {},
   "outputs": [
    {
     "name": "stdout",
     "output_type": "stream",
     "text": [
      "| ID | GPU | MEM |\n",
      "------------------\n",
      "|  0 |  0% | 14% |\n",
      "2023-09-14 14:08:42,510 — 🌌 spaCy — INFO — Start batch job for 1 chunks\n",
      "2023-09-14 14:08:42,511 — 🌌 spaCy — INFO — process chunk#1 ...\n"
     ]
    },
    {
     "name": "stderr",
     "output_type": "stream",
     "text": [
      "mutate text: 100%|██████████| 1/1 [00:00<00:00, 1474.27it/s]\n",
      "09/14/2023 02:08:42 PM [INFO]: Tokenizing data...\n",
      "tokenization: 100%|██████████| 1/1 [00:00<00:00, 838.36it/s]\n",
      "tags positioning: 100%|██████████| 1/1 [00:00<00:00, 1680.41it/s]\n"
     ]
    },
    {
     "name": "stdout",
     "output_type": "stream",
     "text": [
      "\n",
      "Invalid rows/total: 0/1\n"
     ]
    },
    {
     "name": "stderr",
     "output_type": "stream",
     "text": [
      "100%|██████████| 1/1 [00:00<00:00, 133.35it/s]\n"
     ]
    },
    {
     "data": {
      "text/html": [
       "<div>\n",
       "<style scoped>\n",
       "    .dataframe tbody tr th:only-of-type {\n",
       "        vertical-align: middle;\n",
       "    }\n",
       "\n",
       "    .dataframe tbody tr th {\n",
       "        vertical-align: top;\n",
       "    }\n",
       "\n",
       "    .dataframe thead th {\n",
       "        text-align: right;\n",
       "    }\n",
       "</style>\n",
       "<table border=\"1\" class=\"dataframe\">\n",
       "  <thead>\n",
       "    <tr style=\"text-align: right;\">\n",
       "      <th></th>\n",
       "      <th>relations</th>\n",
       "      <th>orig_sents</th>\n",
       "      <th>org_groups</th>\n",
       "    </tr>\n",
       "    <tr>\n",
       "      <th>idx</th>\n",
       "      <th></th>\n",
       "      <th></th>\n",
       "      <th></th>\n",
       "    </tr>\n",
       "  </thead>\n",
       "  <tbody>\n",
       "    <tr>\n",
       "      <th>0</th>\n",
       "      <td>[{'Whole Foods Market': 'customer', 'UNITED NATURAL FOODS Inc': 'supplier', 'score': 0.9999}]</td>\n",
       "      <td>Whole Foods Market is UNITED NATURAL FOODS Inc only supernatural chain customer, and net sales to Whole Foods Market for the year ended August 3, 2013 increased by approximately $324 million or 17.2% over the prior year and accounted for approximately 36% of UNITED NATURAL FOODS Inc total net sales for each of the years ended August 3, 2013 and July 28, 2012</td>\n",
       "      <td>{'UNITED NATURAL FOODS Inc': 0, 'Whole Foods Market': 1}</td>\n",
       "    </tr>\n",
       "  </tbody>\n",
       "</table>\n",
       "</div>"
      ],
      "text/plain": [
       "                                                                                         relations  \\\n",
       "idx                                                                                                  \n",
       "0    [{'Whole Foods Market': 'customer', 'UNITED NATURAL FOODS Inc': 'supplier', 'score': 0.9999}]   \n",
       "\n",
       "                                                                                                                                                                                                                                                                                                                                                                   orig_sents  \\\n",
       "idx                                                                                                                                                                                                                                                                                                                                                                             \n",
       "0    Whole Foods Market is UNITED NATURAL FOODS Inc only supernatural chain customer, and net sales to Whole Foods Market for the year ended August 3, 2013 increased by approximately $324 million or 17.2% over the prior year and accounted for approximately 36% of UNITED NATURAL FOODS Inc total net sales for each of the years ended August 3, 2013 and July 28, 2012   \n",
       "\n",
       "                                                   org_groups  \n",
       "idx                                                            \n",
       "0    {'UNITED NATURAL FOODS Inc': 0, 'Whole Foods Market': 1}  "
      ]
     },
     "execution_count": 113,
     "metadata": {},
     "output_type": "execute_result"
    }
   ],
   "source": [
    "relation_extractor.predict_relations([sent])"
   ]
  },
  {
   "cell_type": "markdown",
   "metadata": {
    "id": "VQMuKGXXMwpE",
    "tags": []
   },
   "source": [
    "# _Extract supply chain relations from sequence of text_\n",
    "- Using `infere.predict_relations` to extract relations within `Sequence` of sentences "
   ]
  },
  {
   "cell_type": "code",
   "execution_count": 3,
   "metadata": {
    "id": "MWVDAAOwIQgI"
   },
   "outputs": [
    {
     "name": "stdout",
     "output_type": "stream",
     "text": [
      "| ID | GPU | MEM |\n",
      "------------------\n",
      "|  0 |  0% | 13% |\n",
      "2023-09-12 12:28:09,021 — 🌌 spaCy — INFO — Start batch job for 1 chunks\n",
      "2023-09-12 12:28:09,023 — 🌌 spaCy — INFO — process chunk#1 ...\n"
     ]
    },
    {
     "name": "stderr",
     "output_type": "stream",
     "text": [
      "mutate text: 100%|██████████| 28/28 [00:00<00:00, 8068.19it/s]\n",
      "09/12/2023 12:28:10 PM [INFO]: Tokenizing data...\n",
      "tokenization: 100%|██████████| 28/28 [00:00<00:00, 3473.13it/s]\n",
      "tags positioning: 100%|██████████| 28/28 [00:00<00:00, 20371.29it/s]\n"
     ]
    },
    {
     "name": "stdout",
     "output_type": "stream",
     "text": [
      "\n",
      "Invalid rows/total: 0/28\n"
     ]
    },
    {
     "name": "stderr",
     "output_type": "stream",
     "text": [
      "100%|██████████| 4/4 [00:00<00:00, 45.71it/s]\n"
     ]
    }
   ],
   "source": [
    "text = ['This Annual Report on Form 10 K presents information for Sirius XM Holdings Inc (\"Holdings\"), a Delaware Corp The terms \"Holdings,\" \"SIRIUS XM HOLDINGS Inc,\" \"SIRIUS XM HOLDINGS Inc,\" \"SIRIUS XM HOLDINGS Inc,\" and \"SIRIUS XM HOLDINGS Inc company\" as used herein and unless otherwise stated or indicated by context, refer to Sirius XM Holdings Inc..',\n",
    "    'TWENTY-FIRST CENTURY FOX INC has an approximate 19% interest in Rotana Holding FZ-LLC (\"Rotana\"), a diversified media company in the Middle East and North Africa.',\n",
    " 'TWENTY-FIRST CENTURY FOX INC reports that A significant stockholder of the Company, who owns more than 5% of the TWENTY-FIRST CENTURY FOX INC Class B Common Stock, owns a controlling interest in Rotana.',\n",
    " 'TWENTY-FIRST CENTURY FOX INC also has an option to sell its interest in Rotana in fiscal year 2015 at the higher of the price per share based on a bona-fide sale offer or the original subscription price plus interest.',\n",
    " 'In January 2014, TWENTY-FIRST CENTURY FOX INC terminated its licensing arrangement with Rotana Media Services (\"RMS\"), a subsidiary of Rotana, whereby RMS had licensed two English-language, free-to-air general entertainment channels from TWENTY-FIRST CENTURY FOX INC for distribution in the Middle East.',\n",
    " 'In connection with the termination, TWENTY-FIRST CENTURY FOX INC agreed to settle all outstanding receivables at a discount and RMS agreed to provide TWENTY-FIRST CENTURY FOX INC with continued satellite transponder capacity services for two years.',\n",
    " 'In addition, TWENTY-FIRST CENTURY FOX INC has provided a shareholder loan to the Rotana venture.',\n",
    " 'None of the amounts between TWENTY-FIRST CENTURY FOX INC and RMS in connection with the termination of the licensing agreement is material to TWENTY-FIRST CENTURY FOX INC either individually or in the aggregate.',\n",
    " 'In 2012, two customers, Samsung Electronics Company, Ltd. (\"Samsung\") and Taiwan Semiconductor Manufacturing Company, Ltd. (\"Taiwan Semiconductor\"), combined represented greater than 10 percent of total net sales.',\n",
    " 'The largest purchasers were Valero Energy Corp. (\"Valero\"), NGL Energy Partners LP, PVR Midstream LLC (\"PVR Midstream\"), Plains Marketing LP (\"Plains Marketing\"), and Monarch Natural Gas LLC which accounted for approximately 22%, 12%, 12%, 10% and 10% of consolidated oil and gas sales, respectively.',\n",
    "       'Greater Cannabis Co Inc reports that The FF Note may be pre paid in whole or in part by paying FF the following premiums',\n",
    "       \"Greater Cannabis Co Inc reports that The agreement provides for Green C payments to Pharmedica of a $100,000 license fee (which was paid by 2591028 Ontario Limited, an entity affiliated with Green C's Chief Executive Officer, on June 26, 2018) and annual royalties at a rate of 5% of the Net Sales of the Licensed Product subject to a Minimum Annual Royalty of $50,000.\"]\n",
    "# Predict sequence of text\n",
    "output = relation_extractor.predict_relations(text, mutate=True)"
   ]
  },
  {
   "cell_type": "code",
   "execution_count": 4,
   "metadata": {},
   "outputs": [
    {
     "data": {
      "text/plain": [
       "[{'orig_sents': 'This Annual Report on Form 10 K presents information for Sirius XM Holdings Inc (\"Holdings\"), a Delaware Corp The terms \"Holdings,\" \"SIRIUS XM HOLDINGS Inc,\" \"SIRIUS XM HOLDINGS Inc,\" \"SIRIUS XM HOLDINGS Inc,\" and \"SIRIUS XM HOLDINGS Inc company\" as used herein and unless otherwise stated or indicated by context, refer to Sirius XM Holdings Inc..',\n",
       "  'relations': [{'Delaware Corp': 'other',\n",
       "    'SIRIUS XM HOLDINGS Inc': 'other',\n",
       "    'score': 1.0}]},\n",
       " {'orig_sents': 'TWENTY FIRST CENTURY FOX INC has an approximate 19% interest in Rotana Holding FZ LLC (\"Rotana\"), a diversified media company in the Middle East and North Africa.',\n",
       "  'relations': [{'TWENTY FIRST CENTURY FOX INC': 'other',\n",
       "    'Rotana Holding FZ LLC': 'other',\n",
       "    'score': 1.0}]},\n",
       " {'orig_sents': 'TWENTY FIRST CENTURY FOX INC reports that A significant stockholder of the Company, who owns more than 5% of the TWENTY FIRST CENTURY FOX INC Class B Common Stock, owns a controlling interest in Rotana.',\n",
       "  'relations': [{'TWENTY FIRST CENTURY FOX INC': 'other',\n",
       "    'Rotana': 'other',\n",
       "    'score': 1.0}]},\n",
       " {'orig_sents': 'TWENTY FIRST CENTURY FOX INC also has an option to sell its interest in Rotana in fiscal year 2015 at the higher of the price per share based on a bona fide sale offer or the original subscription price plus interest.',\n",
       "  'relations': [{'TWENTY FIRST CENTURY FOX INC': 'other',\n",
       "    'Rotana': 'other',\n",
       "    'score': 0.9994}]},\n",
       " {'orig_sents': 'In January 2014, TWENTY FIRST CENTURY FOX INC terminated its licensing arrangement with Rotana Media Services (\"RMS\"), a subsidiary of Rotana, whereby RMS had licensed two English language, free to air general entertainment channels from TWENTY FIRST CENTURY FOX INC for distribution in the Middle East.',\n",
       "  'relations': [{'Rotana': 'other',\n",
       "    'Rotana Media Services': 'other',\n",
       "    'score': 0.9996},\n",
       "   {'TWENTY FIRST CENTURY FOX INC': 'customer',\n",
       "    'Rotana Media Services': 'supplier',\n",
       "    'score': 0.9959},\n",
       "   {'TWENTY FIRST CENTURY FOX INC': 'customer',\n",
       "    'Rotana': 'supplier',\n",
       "    'score': 0.9911}]},\n",
       " {'orig_sents': 'In connection with the termination, TWENTY FIRST CENTURY FOX INC agreed to settle all outstanding receivables at a discount and RMS agreed to provide TWENTY FIRST CENTURY FOX INC with continued satellite transponder capacity services for two years.',\n",
       "  'relations': [{'TWENTY FIRST CENTURY FOX INC': 'supplier',\n",
       "    'RMS': 'customer',\n",
       "    'score': 1.0}]},\n",
       " {'orig_sents': 'In addition, TWENTY FIRST CENTURY FOX INC has provided a shareholder loan to the Rotana venture.',\n",
       "  'relations': [{'TWENTY FIRST CENTURY FOX INC': 'other',\n",
       "    'Rotana': 'other',\n",
       "    'score': 0.9999}]},\n",
       " {'orig_sents': 'None of the amounts between TWENTY FIRST CENTURY FOX INC and RMS in connection with the termination of the licensing agreement is material to TWENTY FIRST CENTURY FOX INC either individually or in the aggregate.',\n",
       "  'relations': [{'TWENTY FIRST CENTURY FOX INC': 'supplier',\n",
       "    'RMS': 'customer',\n",
       "    'score': 0.9302}]},\n",
       " {'orig_sents': 'In 2012, two customers, Samsung Electronics Company, Ltd. (\"Samsung\") and Taiwan Semiconductor Manufacturing Company, Ltd. (\"Taiwan Semiconductor\"), combined represented greater than 10 percent of total net sales.',\n",
       "  'relations': [{'Taiwan Semiconductor Manufacturing Company, Ltd.': 'other',\n",
       "    'Samsung Electronics Company, Ltd.': 'other',\n",
       "    'score': 1.0}]},\n",
       " {'orig_sents': 'The largest purchasers were Valero Energy Corp. (\"Valero\"), NGL Energy Partners LP, PVR Midstream LLC (\"PVR Midstream\"), Plains Marketing LP (\"Plains Marketing\"), and Monarch Natural Gas LLC which accounted for approximately 22%, 12%, 12%, 10% and 10% of consolidated oil and gas sales, respectively.',\n",
       "  'relations': [{'PVR Midstream LLC': 'other',\n",
       "    'Valero Energy Corp.': 'other',\n",
       "    'score': 1.0},\n",
       "   {'Plains Marketing LP': 'other',\n",
       "    'Valero Energy Corp.': 'other',\n",
       "    'score': 1.0},\n",
       "   {'NGL Energy Partners LP': 'other',\n",
       "    'Valero Energy Corp.': 'other',\n",
       "    'score': 1.0},\n",
       "   {'Monarch Natural Gas LLC': 'other',\n",
       "    'Valero Energy Corp.': 'other',\n",
       "    'score': 1.0},\n",
       "   {'Plains Marketing LP': 'other',\n",
       "    'PVR Midstream LLC': 'other',\n",
       "    'score': 1.0},\n",
       "   {'NGL Energy Partners LP': 'other',\n",
       "    'PVR Midstream LLC': 'other',\n",
       "    'score': 1.0},\n",
       "   {'Monarch Natural Gas LLC': 'other',\n",
       "    'PVR Midstream LLC': 'other',\n",
       "    'score': 1.0},\n",
       "   {'NGL Energy Partners LP': 'other',\n",
       "    'Plains Marketing LP': 'other',\n",
       "    'score': 1.0},\n",
       "   {'Monarch Natural Gas LLC': 'other',\n",
       "    'Plains Marketing LP': 'other',\n",
       "    'score': 1.0},\n",
       "   {'Monarch Natural Gas LLC': 'other',\n",
       "    'NGL Energy Partners LP': 'other',\n",
       "    'score': 1.0}]},\n",
       " {'orig_sents': 'Greater Cannabis Co Inc reports that The FF Note may be pre paid in whole or in part by paying FF the following premiums',\n",
       "  'relations': [{'Greater Cannabis Co Inc': 'customer',\n",
       "    'FF': 'supplier',\n",
       "    'score': 0.9873}]},\n",
       " {'orig_sents': \"Greater Cannabis Co Inc reports that The agreement provides for Green C payments to Pharmedica of a $100,000 license fee (which was paid by 2591028 Ontario Limited, an entity affiliated with Green C's Chief Executive Officer, on June 26, 2018) and annual royalties at a rate of 5% of the Net Sales of the Licensed Product subject to a Minimum Annual Royalty of $50,000.\",\n",
       "  'relations': [{'Pharmedica': 'other', \"Green C's\": 'other', 'score': 0.9978},\n",
       "   {'2591028 Ontario Limited': 'other', \"Green C's\": 'other', 'score': 0.9995},\n",
       "   {'Greater Cannabis Co Inc': 'other', \"Green C's\": 'other', 'score': 0.9997},\n",
       "   {'2591028 Ontario Limited': 'other',\n",
       "    'Pharmedica': 'other',\n",
       "    'score': 0.8939},\n",
       "   {'Greater Cannabis Co Inc': 'other', 'Pharmedica': 'other', 'score': 0.995},\n",
       "   {'Greater Cannabis Co Inc': 'other',\n",
       "    '2591028 Ontario Limited': 'other',\n",
       "    'score': 0.997}]}]"
      ]
     },
     "execution_count": 4,
     "metadata": {},
     "output_type": "execute_result"
    }
   ],
   "source": [
    "from pprint import pprint as pp\n",
    "import json \n",
    "json.loads(output[['orig_sents', 'relations']].to_json(orient='records'))"
   ]
  },
  {
   "cell_type": "code",
   "execution_count": 16,
   "metadata": {},
   "outputs": [],
   "source": [
    "sentence = \"Advanced Micro Devices Inc have a wafer supply agreement with GLOBALFOUNDRIES Inc (GF) with obligations to purchase all of Advanced Micro Devices Inc microprocessor and accelerated processing unit (APU) product requirements and a certain portion of Advanced Micro Devices Inc graphics processing unit (GPU) product requirements manufactured at process nodes larger than 7 nanometer from GF, with limited exceptions\""
   ]
  },
  {
   "cell_type": "code",
   "execution_count": 17,
   "metadata": {},
   "outputs": [
    {
     "name": "stdout",
     "output_type": "stream",
     "text": [
      "| ID | GPU | MEM |\n",
      "------------------\n",
      "|  0 |  0% | 13% |\n",
      "2023-09-12 12:37:30,052 — 🌌 spaCy — INFO — Start batch job for 1 chunks\n",
      "2023-09-12 12:37:30,054 — 🌌 spaCy — INFO — process chunk#1 ...\n"
     ]
    },
    {
     "name": "stderr",
     "output_type": "stream",
     "text": [
      "mutate text: 100%|██████████| 3/3 [00:00<00:00, 2894.62it/s]\n",
      "09/12/2023 12:37:30 PM [INFO]: Tokenizing data...\n",
      "tokenization: 100%|██████████| 3/3 [00:00<00:00, 1415.56it/s]\n",
      "tags positioning: 100%|██████████| 3/3 [00:00<00:00, 3574.69it/s]\n"
     ]
    },
    {
     "name": "stdout",
     "output_type": "stream",
     "text": [
      "\n",
      "Invalid rows/total: 0/3\n"
     ]
    },
    {
     "name": "stderr",
     "output_type": "stream",
     "text": [
      "100%|██████████| 1/1 [00:00<00:00, 69.00it/s]\n"
     ]
    },
    {
     "data": {
      "text/html": [
       "<div>\n",
       "<style scoped>\n",
       "    .dataframe tbody tr th:only-of-type {\n",
       "        vertical-align: middle;\n",
       "    }\n",
       "\n",
       "    .dataframe tbody tr th {\n",
       "        vertical-align: top;\n",
       "    }\n",
       "\n",
       "    .dataframe thead th {\n",
       "        text-align: right;\n",
       "    }\n",
       "</style>\n",
       "<table border=\"1\" class=\"dataframe\">\n",
       "  <thead>\n",
       "    <tr style=\"text-align: right;\">\n",
       "      <th></th>\n",
       "      <th>relations</th>\n",
       "      <th>orig_sents</th>\n",
       "      <th>org_groups</th>\n",
       "    </tr>\n",
       "    <tr>\n",
       "      <th>idx</th>\n",
       "      <th></th>\n",
       "      <th></th>\n",
       "      <th></th>\n",
       "    </tr>\n",
       "  </thead>\n",
       "  <tbody>\n",
       "    <tr>\n",
       "      <th>0</th>\n",
       "      <td>[{'GLOBALFOUNDRIES Inc': 'customer', 'Advanced Micro Devices Inc': 'supplier', 'score': 0.9997}, {'GF': 'customer', 'Advanced Micro Devices Inc': 'supplier', 'score': 0.9994}, {'GF': 'other', 'GLOBALFOUNDRIES Inc': 'other', 'score': 0.9987}]</td>\n",
       "      <td>Advanced Micro Devices Inc have a wafer supply agreement with GLOBALFOUNDRIES Inc (GF) with obligations to purchase all of Advanced Micro Devices Inc microprocessor and accelerated processing unit (APU) product requirements and a certain portion of Advanced Micro Devices Inc graphics processing unit (GPU) product requirements manufactured at process nodes larger than 7 nanometer from GF, with limited exceptions</td>\n",
       "      <td>{'Advanced Micro Devices Inc': 0, 'GLOBALFOUNDRIES Inc': 1, 'GF': 2}</td>\n",
       "    </tr>\n",
       "  </tbody>\n",
       "</table>\n",
       "</div>"
      ],
      "text/plain": [
       "                                                                                                                                                                                                                                             relations  \\\n",
       "idx                                                                                                                                                                                                                                                      \n",
       "0    [{'GLOBALFOUNDRIES Inc': 'customer', 'Advanced Micro Devices Inc': 'supplier', 'score': 0.9997}, {'GF': 'customer', 'Advanced Micro Devices Inc': 'supplier', 'score': 0.9994}, {'GF': 'other', 'GLOBALFOUNDRIES Inc': 'other', 'score': 0.9987}]   \n",
       "\n",
       "                                                                                                                                                                                                                                                                                                                                                                                                                         orig_sents  \\\n",
       "idx                                                                                                                                                                                                                                                                                                                                                                                                                                   \n",
       "0    Advanced Micro Devices Inc have a wafer supply agreement with GLOBALFOUNDRIES Inc (GF) with obligations to purchase all of Advanced Micro Devices Inc microprocessor and accelerated processing unit (APU) product requirements and a certain portion of Advanced Micro Devices Inc graphics processing unit (GPU) product requirements manufactured at process nodes larger than 7 nanometer from GF, with limited exceptions   \n",
       "\n",
       "                                                               org_groups  \n",
       "idx                                                                        \n",
       "0    {'Advanced Micro Devices Inc': 0, 'GLOBALFOUNDRIES Inc': 1, 'GF': 2}  "
      ]
     },
     "execution_count": 17,
     "metadata": {},
     "output_type": "execute_result"
    }
   ],
   "source": [
    "relation_extractor.predict_relations([sentence], mutate=True)"
   ]
  },
  {
   "cell_type": "markdown",
   "metadata": {
    "tags": []
   },
   "source": [
    "# _Extract relation from file_ "
   ]
  },
  {
   "cell_type": "code",
   "execution_count": 7,
   "metadata": {},
   "outputs": [],
   "source": [
    "# output = relation_extractor.predict_frame(path = 'data/branches/branch0/train.json', sentence_column ='sents')"
   ]
  },
  {
   "cell_type": "code",
   "execution_count": 2,
   "metadata": {},
   "outputs": [],
   "source": [
    "import pandas as pd\n",
    "test_data = pd.read_json('data/raw/gold_test.json')"
   ]
  },
  {
   "cell_type": "code",
   "execution_count": 32,
   "metadata": {},
   "outputs": [
    {
     "name": "stderr",
     "output_type": "stream",
     "text": [
      "1/1: 100%|██████████| 174/174 [00:01<00:00, 108.19it/s]\n",
      "mutate text: 100%|██████████| 3605/3605 [00:00<00:00, 6334.24it/s]\n",
      "03/15/2023 07:10:37 AM [INFO]: Tokenizing data...\n",
      "tokenization: 100%|██████████| 3605/3605 [00:03<00:00, 1094.16it/s]\n",
      "tags positioning: 100%|██████████| 3605/3605 [00:00<00:00, 49848.24it/s]\n"
     ]
    },
    {
     "name": "stdout",
     "output_type": "stream",
     "text": [
      "\n",
      "Invalid rows/total: 0/3605\n"
     ]
    },
    {
     "name": "stderr",
     "output_type": "stream",
     "text": [
      "100%|██████████| 113/113 [00:15<00:00,  7.29it/s]\n"
     ]
    }
   ],
   "source": [
    "output = relation_extractor.predict_frame(path=test_data, sentence_column='Sentence')"
   ]
  },
  {
   "cell_type": "code",
   "execution_count": null,
   "metadata": {},
   "outputs": [
    {
     "data": {
      "text/html": [
       "<div>\n",
       "<style scoped>\n",
       "    .dataframe tbody tr th:only-of-type {\n",
       "        vertical-align: middle;\n",
       "    }\n",
       "\n",
       "    .dataframe tbody tr th {\n",
       "        vertical-align: top;\n",
       "    }\n",
       "\n",
       "    .dataframe thead th {\n",
       "        text-align: right;\n",
       "    }\n",
       "</style>\n",
       "<table border=\"1\" class=\"dataframe\">\n",
       "  <thead>\n",
       "    <tr style=\"text-align: right;\">\n",
       "      <th></th>\n",
       "      <th>sents</th>\n",
       "      <th>sentence_id</th>\n",
       "      <th>spans</th>\n",
       "      <th>org_groups</th>\n",
       "      <th>aliases</th>\n",
       "      <th>num_orgs</th>\n",
       "      <th>relations</th>\n",
       "    </tr>\n",
       "  </thead>\n",
       "  <tbody>\n",
       "    <tr>\n",
       "      <th>149</th>\n",
       "      <td>Also, on January 8, 2010 Biotest Pharmaceutica...</td>\n",
       "      <td>149</td>\n",
       "      <td>[{'text': 'January 8, 2010', 'label': 'DATE', ...</td>\n",
       "      <td>{'Sanquin': 0, 'Cetor': 1, 'Biotest Pharmaceut...</td>\n",
       "      <td>[]</td>\n",
       "      <td>4</td>\n",
       "      <td>{'other': [{'Cetor': 'Sanquin', 'score': 0.912...</td>\n",
       "    </tr>\n",
       "    <tr>\n",
       "      <th>68</th>\n",
       "      <td>Under a development agreement with Moxie, Gemm...</td>\n",
       "      <td>68</td>\n",
       "      <td>[{'text': 'Moxie', 'label': 'ORG', 'start': 35...</td>\n",
       "      <td>{'Gemma Power Inc.': 0, 'Argan': 1, 'Moxie': 2...</td>\n",
       "      <td>[]</td>\n",
       "      <td>5</td>\n",
       "      <td>{'other': [{'Argan': 'Gemma Power Inc.', 'scor...</td>\n",
       "    </tr>\n",
       "    <tr>\n",
       "      <th>24</th>\n",
       "      <td>SANGAMO THERAPEUTICS, INC reports that The inc...</td>\n",
       "      <td>24</td>\n",
       "      <td>[{'text': 'SANGAMO THERAPEUTICS, INC', 'label'...</td>\n",
       "      <td>{'Biogen': 0, 'SANGAMO THERAPEUTICS, INC': 1, ...</td>\n",
       "      <td>[]</td>\n",
       "      <td>4</td>\n",
       "      <td>{'supplier': [{'SANGAMO THERAPEUTICS, INC': 'B...</td>\n",
       "    </tr>\n",
       "    <tr>\n",
       "      <th>162</th>\n",
       "      <td>Sprint is entitled to expand the number of bun...</td>\n",
       "      <td>162</td>\n",
       "      <td>[{'text': 'Sprint', 'label': 'ORG', 'start': 0...</td>\n",
       "      <td>{'Sprint': 0, 'TeleNav Inc': 1}</td>\n",
       "      <td>[]</td>\n",
       "      <td>2</td>\n",
       "      <td>{'other': [{'TeleNav Inc': 'Sprint', 'score': ...</td>\n",
       "    </tr>\n",
       "    <tr>\n",
       "      <th>168</th>\n",
       "      <td>Sales to Samsung Electronics Co., Ltd. and its...</td>\n",
       "      <td>168</td>\n",
       "      <td>[{'text': 'Samsung Electronics Co., Ltd.', 'la...</td>\n",
       "      <td>{'Samsung Electronics Co., Ltd.': 0, 'Sanshin ...</td>\n",
       "      <td>[]</td>\n",
       "      <td>4</td>\n",
       "      <td>{'supplier': [{'Samsung Electronics Co., Ltd.'...</td>\n",
       "    </tr>\n",
       "    <tr>\n",
       "      <th>8</th>\n",
       "      <td>Applied Materials accounted for approximately ...</td>\n",
       "      <td>8</td>\n",
       "      <td>[{'text': 'Applied Materials', 'label': 'ORG',...</td>\n",
       "      <td>{'Applied Materials': 0, 'MKS Instruments Inc'...</td>\n",
       "      <td>[]</td>\n",
       "      <td>2</td>\n",
       "      <td>{'supplier': [{'MKS Instruments Inc': 'Applied...</td>\n",
       "    </tr>\n",
       "    <tr>\n",
       "      <th>113</th>\n",
       "      <td>VERSAR INC reports that PSG provides onsite en...</td>\n",
       "      <td>113</td>\n",
       "      <td>[{'text': 'VERSAR INC', 'label': 'ORG', 'start...</td>\n",
       "      <td>{'U.S. Army Reserve': 0, 'U.S. Army': 1, 'FAA'...</td>\n",
       "      <td>[]</td>\n",
       "      <td>12</td>\n",
       "      <td>{'other': [{'U.S. Army': 'U.S. Army Reserve', ...</td>\n",
       "    </tr>\n",
       "    <tr>\n",
       "      <th>4</th>\n",
       "      <td>AECOM reports that Washington Group Internatio...</td>\n",
       "      <td>4</td>\n",
       "      <td>[{'text': 'AECOM', 'label': 'ORG', 'start': 0,...</td>\n",
       "      <td>{'WGI Ohio': 0, 'Washington Group Internationa...</td>\n",
       "      <td>[]</td>\n",
       "      <td>5</td>\n",
       "      <td>{'other': [{'Washington Group International': ...</td>\n",
       "    </tr>\n",
       "    <tr>\n",
       "      <th>116</th>\n",
       "      <td>VERSAR INC reports that PSG provides onsite en...</td>\n",
       "      <td>116</td>\n",
       "      <td>[{'text': 'VERSAR INC', 'label': 'ORG', 'start...</td>\n",
       "      <td>{'U.S. Army Reserve': 0, 'U.S. Army': 1, 'FAA'...</td>\n",
       "      <td>[]</td>\n",
       "      <td>12</td>\n",
       "      <td>{'other': [{'U.S. Army': 'U.S. Army Reserve', ...</td>\n",
       "    </tr>\n",
       "    <tr>\n",
       "      <th>100</th>\n",
       "      <td>VERSAR INC reports that PSG provides onsite en...</td>\n",
       "      <td>100</td>\n",
       "      <td>[{'text': 'VERSAR INC', 'label': 'ORG', 'start...</td>\n",
       "      <td>{'U.S. Army Reserve': 0, 'U.S. Army': 1, 'FAA'...</td>\n",
       "      <td>[]</td>\n",
       "      <td>12</td>\n",
       "      <td>{'other': [{'U.S. Army': 'U.S. Army Reserve', ...</td>\n",
       "    </tr>\n",
       "  </tbody>\n",
       "</table>\n",
       "</div>"
      ],
      "text/plain": [
       "                                                 sents  sentence_id  \\\n",
       "149  Also, on January 8, 2010 Biotest Pharmaceutica...          149   \n",
       "68   Under a development agreement with Moxie, Gemm...           68   \n",
       "24   SANGAMO THERAPEUTICS, INC reports that The inc...           24   \n",
       "162  Sprint is entitled to expand the number of bun...          162   \n",
       "168  Sales to Samsung Electronics Co., Ltd. and its...          168   \n",
       "8    Applied Materials accounted for approximately ...            8   \n",
       "113  VERSAR INC reports that PSG provides onsite en...          113   \n",
       "4    AECOM reports that Washington Group Internatio...            4   \n",
       "116  VERSAR INC reports that PSG provides onsite en...          116   \n",
       "100  VERSAR INC reports that PSG provides onsite en...          100   \n",
       "\n",
       "                                                 spans  \\\n",
       "149  [{'text': 'January 8, 2010', 'label': 'DATE', ...   \n",
       "68   [{'text': 'Moxie', 'label': 'ORG', 'start': 35...   \n",
       "24   [{'text': 'SANGAMO THERAPEUTICS, INC', 'label'...   \n",
       "162  [{'text': 'Sprint', 'label': 'ORG', 'start': 0...   \n",
       "168  [{'text': 'Samsung Electronics Co., Ltd.', 'la...   \n",
       "8    [{'text': 'Applied Materials', 'label': 'ORG',...   \n",
       "113  [{'text': 'VERSAR INC', 'label': 'ORG', 'start...   \n",
       "4    [{'text': 'AECOM', 'label': 'ORG', 'start': 0,...   \n",
       "116  [{'text': 'VERSAR INC', 'label': 'ORG', 'start...   \n",
       "100  [{'text': 'VERSAR INC', 'label': 'ORG', 'start...   \n",
       "\n",
       "                                            org_groups aliases  num_orgs  \\\n",
       "149  {'Sanquin': 0, 'Cetor': 1, 'Biotest Pharmaceut...      []         4   \n",
       "68   {'Gemma Power Inc.': 0, 'Argan': 1, 'Moxie': 2...      []         5   \n",
       "24   {'Biogen': 0, 'SANGAMO THERAPEUTICS, INC': 1, ...      []         4   \n",
       "162                    {'Sprint': 0, 'TeleNav Inc': 1}      []         2   \n",
       "168  {'Samsung Electronics Co., Ltd.': 0, 'Sanshin ...      []         4   \n",
       "8    {'Applied Materials': 0, 'MKS Instruments Inc'...      []         2   \n",
       "113  {'U.S. Army Reserve': 0, 'U.S. Army': 1, 'FAA'...      []        12   \n",
       "4    {'WGI Ohio': 0, 'Washington Group Internationa...      []         5   \n",
       "116  {'U.S. Army Reserve': 0, 'U.S. Army': 1, 'FAA'...      []        12   \n",
       "100  {'U.S. Army Reserve': 0, 'U.S. Army': 1, 'FAA'...      []        12   \n",
       "\n",
       "                                             relations  \n",
       "149  {'other': [{'Cetor': 'Sanquin', 'score': 0.912...  \n",
       "68   {'other': [{'Argan': 'Gemma Power Inc.', 'scor...  \n",
       "24   {'supplier': [{'SANGAMO THERAPEUTICS, INC': 'B...  \n",
       "162  {'other': [{'TeleNav Inc': 'Sprint', 'score': ...  \n",
       "168  {'supplier': [{'Samsung Electronics Co., Ltd.'...  \n",
       "8    {'supplier': [{'MKS Instruments Inc': 'Applied...  \n",
       "113  {'other': [{'U.S. Army': 'U.S. Army Reserve', ...  \n",
       "4    {'other': [{'Washington Group International': ...  \n",
       "116  {'other': [{'U.S. Army': 'U.S. Army Reserve', ...  \n",
       "100  {'other': [{'U.S. Army': 'U.S. Army Reserve', ...  "
      ]
     },
     "execution_count": 33,
     "metadata": {},
     "output_type": "execute_result"
    }
   ],
   "source": [
    "output.sample(10)"
   ]
  }
 ],
 "metadata": {
  "accelerator": "GPU",
  "colab": {
   "provenance": []
  },
  "gpuClass": "standard",
  "kernelspec": {
   "display_name": "CondaBase",
   "language": "python",
   "name": "base"
  },
  "language_info": {
   "codemirror_mode": {
    "name": "ipython",
    "version": 3
   },
   "file_extension": ".py",
   "mimetype": "text/x-python",
   "name": "python",
   "nbconvert_exporter": "python",
   "pygments_lexer": "ipython3",
   "version": "3.9.16"
  }
 },
 "nbformat": 4,
 "nbformat_minor": 4
}
