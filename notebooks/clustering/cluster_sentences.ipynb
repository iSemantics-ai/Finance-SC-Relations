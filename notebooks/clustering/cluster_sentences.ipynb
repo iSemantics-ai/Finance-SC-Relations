{
 "cells": [
  {
   "cell_type": "markdown",
   "id": "1a1a1083",
   "metadata": {},
   "source": [
    "### Imports"
   ]
  },
  {
   "cell_type": "code",
   "execution_count": 1,
   "id": "f05f8df9",
   "metadata": {},
   "outputs": [],
   "source": [
    "import json\n",
    "import pandas as pd\n",
    "import numpy as np\n",
    "import os\n",
    "import collections\n",
    "import math\n",
    "from typing import Dict, Any, Text, Tuple\n",
    "import yaml\n",
    "import sys\n",
    "from pathlib import Path\n",
    "import re\n",
    "\n",
    "from tqdm import tqdm\n",
    "import sklearn.cluster\n"
   ]
  },
  {
   "cell_type": "code",
   "execution_count": null,
   "id": "5f33a5ba",
   "metadata": {},
   "outputs": [],
   "source": []
  },
  {
   "cell_type": "code",
   "execution_count": 6,
   "id": "b61d9c47",
   "metadata": {},
   "outputs": [],
   "source": [
    "pd.options.mode.chained_assignment = None  # default='warn'"
   ]
  },
  {
   "cell_type": "code",
   "execution_count": 2,
   "id": "fac31bb5",
   "metadata": {},
   "outputs": [],
   "source": [
    "#machine = \"local\"\n",
    "machine = \"paperspace\"\n",
    "\n",
    "if machine == \"local\":\n",
    "    src_dir= Path.cwd().parent    \n",
    "elif machine == \"paperspace\":\n",
    "    src_dir = Path(\"/notebooks/inferess-relation-extraction/\")\n",
    "\n",
    "sys.path.append(str(src_dir))\n",
    "\n"
   ]
  },
  {
   "cell_type": "code",
   "execution_count": 93,
   "id": "56654eaa",
   "metadata": {},
   "outputs": [],
   "source": []
  },
  {
   "cell_type": "code",
   "execution_count": 3,
   "id": "a62be0fc",
   "metadata": {},
   "outputs": [
    {
     "name": "stderr",
     "output_type": "stream",
     "text": [
      "10/22/2023 04:03:41 - INFO - sentence_transformers.SentenceTransformer -   Load pretrained SentenceTransformer: hkunlp/instructor-large\n"
     ]
    },
    {
     "name": "stdout",
     "output_type": "stream",
     "text": [
      "load INSTRUCTOR_Transformer\n",
      "max_seq_length  512\n"
     ]
    },
    {
     "name": "stderr",
     "output_type": "stream",
     "text": [
      "10/22/2023 04:03:47 - INFO - sentence_transformers.SentenceTransformer -   Use pytorch device: cuda\n"
     ]
    }
   ],
   "source": [
    "\n",
    "from src.matcher.core import SimCSE_Matcher\n",
    "from InstructorEmbedding import INSTRUCTOR\n",
    "\n",
    "instructor_model = INSTRUCTOR('hkunlp/instructor-large')\n",
    "\n",
    "# sent_embd_model = SimCSE_Matcher(\n",
    "#         model_name_or_path=\"sentence-transformers/all-MiniLM-L6-v2\"\n",
    "#     )\n",
    "\n",
    "#sentence_emb_model = \"minilm\"\n",
    "sentence_emb_model = \"instructor\"\n",
    "\n",
    "def encode_sentences(sentence_list):\n",
    "    if sentence_emb_model == \"minilm\":\n",
    "        embeddings =  sent_embd_model.encode(sentence_list)\n",
    "        return embeddings.numpy()\n",
    "    elif sentence_emb_model == \"instructor\":\n",
    "        embeddings = instructor_model.encode(sentence_list)\n",
    "        return embeddings\n",
    "\n",
    "\n"
   ]
  },
  {
   "cell_type": "markdown",
   "id": "d61d2236",
   "metadata": {},
   "source": [
    "### Test set from annotated"
   ]
  },
  {
   "cell_type": "code",
   "execution_count": 57,
   "id": "339ee9cf",
   "metadata": {},
   "outputs": [
    {
     "name": "stdout",
     "output_type": "stream",
     "text": [
      "(23590, 29)\n",
      "Index(['level_0', 'index', 'accessionNumber', 'filer', 'firstEntity',\n",
      "       'relationship', 'secondEntity', 'sentence', 'sme_relations',\n",
      "       'duplicate_sentences', 'sent_size', 'clause_size', 'deduped',\n",
      "       'sc_score', 'sc_label', 'cc_class', 'cc_class_2', 'cc_class_score',\n",
      "       'cc_class_2_score', 'spans', 'org_groups', 'aliases', 'num_orgs',\n",
      "       'filtered_org_groups', 'num_orgs_filter', 're_relations', 're_score',\n",
      "       're_rel_label', 're_pred_match'],\n",
      "      dtype='object')\n"
     ]
    },
    {
     "data": {
      "text/plain": [
       "customer    16051\n",
       "supplier     3834\n",
       "other        2983\n",
       "NaN           722\n",
       "Name: re_rel_label, dtype: int64"
      ]
     },
     "execution_count": 57,
     "metadata": {},
     "output_type": "execute_result"
    }
   ],
   "source": [
    "org_data_df = pd.read_excel(\"./test_pipeline_data/huge_set_deduped_data/huge_train_dedup_sc_cc_re.xlsx\")\n",
    "\n",
    "print(org_data_df.shape)\n",
    "\n",
    "print(org_data_df.columns)\n",
    "\n",
    "\n",
    "org_data_df.re_rel_label.value_counts(dropna=False)"
   ]
  },
  {
   "cell_type": "code",
   "execution_count": 81,
   "id": "8b95a318",
   "metadata": {},
   "outputs": [
    {
     "name": "stdout",
     "output_type": "stream",
     "text": [
      "Concepts learned well in both SC and RE\n",
      "(7734, 31)\n",
      "Need more train data to learn better RE\n",
      "(1335, 31)\n",
      "Need more train data to learn better in SC\n",
      "(6067, 31)\n",
      "Need more train data to learn better in SC and RE \n",
      "(3239, 31)\n",
      "New concepts that are not covered in SC relation\n",
      "(1509, 31)\n"
     ]
    }
   ],
   "source": [
    "org_data_df.loc[:, \"data_status\"] = \"ignore\"\n",
    "\n",
    "print(\"Concepts learned well in both SC and RE\")\n",
    "\n",
    "\n",
    "data_df = org_data_df[(org_data_df[\"sc_label\"] == 1) & \n",
    "                       (org_data_df[\"sc_score\"] > 0.95) &\n",
    "                       (org_data_df[\"re_score\"] > 0.95) &              \n",
    "                       (org_data_df[\"re_rel_label\"].isin([\"customer\", \"supplier\"]))] \n",
    "\n",
    "org_data_df.loc[data_df.index, \"data_status\"] = \"well_trained\"\n",
    "\n",
    "print(data_df.shape)\n",
    "\n",
    "#----------------------\n",
    "print(\"Need more train data to learn better RE\")\n",
    "\n",
    "\n",
    "data_df = org_data_df[(org_data_df[\"sc_label\"] == 1) & \n",
    "                       (org_data_df[\"sc_score\"] > 0.95) &\n",
    "                       (org_data_df[\"re_score\"] < 0.95) &              \n",
    "                       (org_data_df[\"re_rel_label\"].isin([\"customer\", \"supplier\"]))]                                             \n",
    "org_data_df.loc[data_df.index, \"data_status\"] = \"need_more_re\"\n",
    "\n",
    "print(data_df.shape)\n",
    "\n",
    "#----------------------\n",
    "print(\"Need more train data to learn better in SC\")\n",
    "\n",
    "data_df = org_data_df[(org_data_df[\"sc_label\"] == 1) & \n",
    "                       (org_data_df[\"sc_score\"] < 0.95) &\n",
    "                       (org_data_df[\"re_score\"] > 0.95) &              \n",
    "                       (org_data_df[\"re_rel_label\"].isin([\"customer\", \"supplier\"]))]                                             \n",
    "org_data_df.loc[data_df.index, \"data_status\"] = \"need_more_sc\"\n",
    "print(data_df.shape)\n",
    "\n",
    "print(\"Need more train data to learn better in SC and RE \")\n",
    "\n",
    "data_df = org_data_df[(org_data_df[\"sc_label\"] == 1) & \n",
    "                       (org_data_df[\"sc_score\"] < 0.95) &\n",
    "                       (org_data_df[\"re_score\"] < 0.95) &              \n",
    "                       (org_data_df[\"re_rel_label\"].isin([\"customer\", \"supplier\"]))]                                             \n",
    "org_data_df.loc[data_df.index, \"data_status\"] = \"need_more_sc_re\"\n",
    "print(data_df.shape)\n",
    "\n",
    "\n",
    "#----------------------\n",
    "print(\"New concepts that are not covered in SC relation\")\n",
    "data_df = org_data_df[(org_data_df[\"sc_label\"] == 0) & \n",
    "                       (org_data_df[\"re_rel_label\"].isin([\"customer\", \"supplier\"]))]                                             \n",
    "print(data_df.shape)\n",
    "org_data_df.loc[data_df.index, \"data_status\"] = \"need_concepts_sc\"\n",
    "\n"
   ]
  },
  {
   "cell_type": "code",
   "execution_count": null,
   "id": "b5d03eb1",
   "metadata": {},
   "outputs": [],
   "source": []
  },
  {
   "cell_type": "code",
   "execution_count": null,
   "id": "ee2474d2",
   "metadata": {},
   "outputs": [],
   "source": []
  },
  {
   "cell_type": "code",
   "execution_count": 16,
   "id": "eb139928",
   "metadata": {},
   "outputs": [],
   "source": [
    "def create_cluster_sentences(sentence_list, n_clusters=50):    \n",
    "    embeddings = encode_sentences(sentence_list)\n",
    "    clustering_model = sklearn.cluster.KMeans(n_clusters=n_clusters)\n",
    "    clustering_model.fit(embeddings)\n",
    "    cluster_labels = clustering_model.labels_\n",
    "\n",
    "    return cluster_labels\n",
    "\n",
    "# Create an Excel writer object\n",
    "\n",
    "def write_clusers_to_spreadsheet(data, cluster_labels, out_file):\n",
    "    writer = pd.ExcelWriter(out_file)\n",
    "    data.loc[:, \"cluster_labels\"] = cluster_labels\n",
    "    data.to_excel(writer, sheet_name=\"all_clusters\", index=False)\n",
    "\n",
    "    # Get unique cluster labels (excluding -1, which represents noise)\n",
    "    unique_clusters = np.unique(cluster_labels[cluster_labels != -1])\n",
    "    for cluster_label in unique_clusters:\n",
    "        # Filter data for the current cluster label\n",
    "        cluster_data = data[data[\"cluster_labels\"] == cluster_label]\n",
    "\n",
    "        # Write the cluster data to a separate sheet\n",
    "        sheet_name = f\"{cluster_label}\"\n",
    "        cluster_data.to_excel(writer, sheet_name=sheet_name, index=False)\n",
    "\n",
    "    # Save the Excel file\n",
    "    writer.save()\n",
    "\n"
   ]
  },
  {
   "cell_type": "code",
   "execution_count": 31,
   "id": "7ef43c43",
   "metadata": {},
   "outputs": [
    {
     "name": "stdout",
     "output_type": "stream",
     "text": [
      "(1335, 29)\n"
     ]
    }
   ],
   "source": [
    "data_df = org_data_df[(org_data_df[\"sc_label\"] == 1) & \n",
    "                       (org_data_df[\"sc_score\"] > 0.95) &\n",
    "                       (org_data_df[\"re_score\"] < 0.95) &              \n",
    "                       (org_data_df[\"re_rel_label\"].isin([\"customer\", \"supplier\"]))]                                             \n",
    "print(data_df.shape)\n"
   ]
  },
  {
   "cell_type": "code",
   "execution_count": 32,
   "id": "e0059f74",
   "metadata": {},
   "outputs": [
    {
     "name": "stderr",
     "output_type": "stream",
     "text": [
      "/tmp/ipykernel_182/3172286116.py:13: SettingWithCopyWarning: \n",
      "A value is trying to be set on a copy of a slice from a DataFrame.\n",
      "Try using .loc[row_indexer,col_indexer] = value instead\n",
      "\n",
      "See the caveats in the documentation: https://pandas.pydata.org/pandas-docs/stable/user_guide/indexing.html#returning-a-view-versus-a-copy\n",
      "  data.loc[:, \"cluster_labels\"] = cluster_labels\n",
      "/tmp/ipykernel_182/3172286116.py:27: FutureWarning: save is not part of the public API, usage can give in unexpected results and will be removed in a future version\n",
      "  writer.save()\n"
     ]
    }
   ],
   "source": [
    "# call\n",
    "\n",
    "sentence_list = data_df[\"sentence\"].to_list() \n",
    "\n",
    "sentence_list = [[\"Represent the finance sentence for clustering: \", sent] for sent in sentence_list]\n",
    "\n",
    "cluster_labels = create_cluster_sentences(sentence_list, n_clusters=25)\n",
    "\n",
    "out_file = \"./test_pipeline_data/huge_set_deduped_data/clusters_pos/more_pos_data_for_re.xlsx\"\n",
    "\n",
    "write_clusers_to_spreadsheet(data_df, cluster_labels, out_file)"
   ]
  },
  {
   "cell_type": "code",
   "execution_count": 25,
   "id": "4c73940b",
   "metadata": {},
   "outputs": [],
   "source": [
    "\n",
    "# data_df[data_df[\"cluster_labels\"] == 0].cc_class.value_counts(dropna=False)\n",
    "\n",
    "# group by cluster labels and print the value counts of cc_class column\n",
    "\n",
    "# for _, cluster_group in data_df.groupby(\"cluster_labels\"):\n",
    "#     print(_)\n",
    "#     print(cluster_group.cc_class.value_counts()[:3])\n",
    "#     print(\"--------------------------------------------------\")\n",
    "          \n",
    "\n"
   ]
  },
  {
   "cell_type": "markdown",
   "id": "928cbe2f",
   "metadata": {},
   "source": [
    "#### Find simillar sentences"
   ]
  },
  {
   "cell_type": "markdown",
   "id": "4f67d0cb",
   "metadata": {},
   "source": [
    "<!-- {'all_0': {'dir': '/notebooks/inferess-relation-extraction/data/raw/llm_relations_other_from_label_0_v2_3.xlsx'},\n",
    " 'all_1': {'dir': '/notebooks/inferess-relation-extraction/data/raw/llm_relations_all_label_1_v2_3.xlsx'},\n",
    " 'all_other': {'dir': '/notebooks/inferess-relation-extraction/data/raw/llm_relations_other_relation_v2_3.xlsx'},\n",
    " 'huge_1': {'dir': '/notebooks/inferess-relation-extraction/data/raw/huge_train_llm_aligned_v2_3_0_1300.xlsx'},\n",
    " 'huge_1_complex': {'dir': '/notebooks/inferess-relation-extraction/data/raw/huge_train_complex_sents_llm_v2_3.xlsx'}} -->"
   ]
  },
  {
   "cell_type": "code",
   "execution_count": 40,
   "id": "9b8f12ab",
   "metadata": {},
   "outputs": [],
   "source": [
    "data1 = pd.read_excel(\"/notebooks/inferess-relation-extraction/data/raw/llm_relations_all_label_1_v2_3.xlsx\")\n",
    "data1[\"file\"] = \"all_1\" \n",
    "#data1 = data1[data1[\"agree\"]]\n",
    "data1 = data1[[\"file\", \"index\", \"sentence\", \"sme_relations\", \"concept_class\", \"agreement_relation\", \"license_relation\"]]\n",
    "\n",
    "data2 = pd.read_excel(\"/notebooks/inferess-relation-extraction/data/raw/huge_train_llm_aligned_v2_3_0_1300.xlsx\")\n",
    "data2[\"file\"] = \"huge_1\" \n",
    "data2 = data2[[\"file\", \"index\", \"sentence\", \"sme_relations\", \"concept_class\", \"agreement_relation\", \"license_relation\"]]\n",
    "\n",
    "data3 = pd.read_excel(\"/notebooks/inferess-relation-extraction/data/raw/huge_train_complex_sents_llm_v2_3.xlsx\")\n",
    "data3[\"file\"] = \"huge_complex\" \n",
    "data3 = data3[[\"file\", \"index\", \"sentence\", \"sme_relations\", \"concept_class\", \"agreement_relation\", \"license_relation\"]]\n",
    "\n",
    "pos_train_data = pd.concat([data1, data2, data3], axis=0)\n",
    "pos_train_data.reset_index(drop=True, inplace=True)\n",
    "data1, data2, data3 = None, None, None"
   ]
  },
  {
   "cell_type": "code",
   "execution_count": 50,
   "id": "b9d567f4",
   "metadata": {},
   "outputs": [
    {
     "data": {
      "text/plain": [
       "(840, 7)"
      ]
     },
     "execution_count": 50,
     "metadata": {},
     "output_type": "execute_result"
    }
   ],
   "source": [
    "# looks like we have only filtered CS data for agreement and license relations\n",
    "\n",
    "pos_train_data[((pos_train_data[\"concept_class\"].isin([\"agreement_and_partnership\", \"services agreement\" ,\"licensing_and_ip\"])))\n",
    "                                |  (pos_train_data[\"agreement_relation\"] == \"customer_supplier\")\n",
    "                                | (pos_train_data[\"license_relation\"].notna())].shape"
   ]
  },
  {
   "cell_type": "code",
   "execution_count": 54,
   "id": "fe89976c",
   "metadata": {},
   "outputs": [],
   "source": [
    "#pos_train_data[pos_train_data.agreement_relation.notna()].concept_class.value_counts(dropna=False)\n",
    "\n",
    "#pos_train_data[pos_train_data.license_relation.notna()].concept_class.value_counts(dropna=False)\n",
    "\n",
    "#pos_train_data[pos_train_data.agreement_relation.isna()].concept_class.value_counts(dropna=False)"
   ]
  },
  {
   "cell_type": "code",
   "execution_count": 5,
   "id": "f43b7b98",
   "metadata": {},
   "outputs": [],
   "source": [
    "# create sentence embeddings for all the sentences in the data\n",
    "org_sentence_list = pos_train_data[\"sentence\"].to_list()\n",
    "sentence_list = [[\"Represent the finance sentence for retrival: \", sent] for sent in org_sentence_list]\n",
    "\n",
    "sentence_embeddings =  encode_sentences(sentence_list)\n"
   ]
  },
  {
   "cell_type": "code",
   "execution_count": 15,
   "id": "57cb3f30",
   "metadata": {},
   "outputs": [],
   "source": [
    "# given new sentences, find the top k similar sentences from the existing data\n",
    "\n",
    "def find_similar_sentences_from_data(sent_embd, sentence_embeddings, sentence_list, k=5):\n",
    "    # calculate cosine similarity between the current sentence and all the sentences\n",
    "    cosine_scores = sklearn.metrics.pairwise.cosine_similarity(sent_embd, sentence_embeddings)[0]\n",
    "    print(cosine_scores.shape)\n",
    "    # get the top k similar sentences\n",
    "    top_k_sentence_indices = cosine_scores.argsort()[-k:][::-1]\n",
    "    # get the scores \n",
    "    top_k_sentence_scores = cosine_scores[top_k_sentence_indices]\n",
    "\n",
    "    # get the actual sentences\n",
    "    top_k_sentences = [sentence_list[idx] for idx in top_k_sentence_indices]\n",
    "\n",
    "\n",
    "    return top_k_sentences, top_k_sentence_indices, top_k_sentence_scores"
   ]
  },
  {
   "cell_type": "code",
   "execution_count": 19,
   "id": "102b6368",
   "metadata": {},
   "outputs": [
    {
     "name": "stdout",
     "output_type": "stream",
     "text": [
      "(4005,)\n",
      "------------          Query  ---------------\n",
      "For example, IONIS PHARMACEUTICALS Inc licensed IONIS FXIRx to Bayer to develop and commercialize IO\n",
      "NIS FXIRx for the prevention of thrombosis\n",
      "\n",
      "------------          Matching  ---------------\n",
      "score :0.9125923\n",
      "For example, SCYNEXIS Inc currently have a development license and supply agreement with R-Pharm, pu\n",
      "rsuant to which SCYNEXIS Inc license to R-Pharm rights to develop and commercialize SCY-078 in the f\n",
      "ield of human health in Russia and certain smaller non-core markets, and if SCY-078 receives marketi\n",
      "ng approval, SCYNEXIS Inc may enter into additional sales and marketing arrangements with third part\n",
      "ies for international sales\n",
      "--------------------------------------\n",
      "score :0.9113324\n",
      "In May 2015, IONIS PHARMACEUTICALS Inc exclusively licensed IONIS FXIRx to Bayer.\n",
      "--------------------------------------\n",
      "score :0.91124916\n",
      "For example, under BIOSANTE PHARMACEUTICALS Inc license agreement with Jazz Pharmaceuticals, Jazz Ph\n",
      "armaceuticals has agreed to use commercially reasonable efforts to manufacture, market, sell and dis\n",
      "tribute Elestrin for commercial sale and distribution throughout the United States, and under BIOSAN\n",
      "TE PHARMACEUTICALS Inc agreement with Teva, Teva has agreed to use commercially reasonable efforts t\n",
      "o market BIOSANTE PHARMACEUTICALS Inc male testosterone gel in the United States\n",
      "--------------------------------------\n",
      "score :0.9087353\n",
      "REPLIGEN Corp licensing agreement with Pfizer provided for REPLIGEN Corp to potentially receive paym\n",
      "ents from Pfizer based on milestones related to clinical development and initial commercial sales in\n",
      " specific geographies, as well as royalty payments from Pfizer based on its future sales of RG3039 o\n",
      "r any SMA compounds developed under the license agreement\n",
      "--------------------------------------\n",
      "score :0.9056346\n",
      "For example, TESARO Inc have entered into a collaboration and license agreement with Janssen Biotech\n",
      " Inc, or Janssen, under which TESARO Inc granted Janssen licenses under certain patent rights and kn\n",
      "ow how relating to niraparib, for prostate cancer worldwide.\n",
      "--------------------------------------\n"
     ]
    }
   ],
   "source": [
    "query_sentence = \"For example, IONIS PHARMACEUTICALS Inc licensed IONIS FXIRx to Bayer to develop and commercialize IONIS FXIRx for the prevention of thrombosis\"\n",
    "\n",
    "query_sentence_e = [[\"Represent the finance sentence for retrival: \", query_sentence]]\n",
    "query_sentence_e = encode_sentences(query_sentence_e)\n",
    "\n",
    "top_k_sentences,top_k_sentence_indices, top_k_sentence_scores = \\\n",
    "    (find_similar_sentences_from_data(query_sentence_e, sentence_embeddings, org_sentence_list, k=5))\n",
    "\n",
    "\n",
    "\n",
    "print(\"------------          Query  ---------------\")\n",
    "print( \"\\n\".join([query_sentence[i:i+100] for i in range(0, len(query_sentence), 100 )]     ))\n",
    "\n",
    "print(\"\\n------------          Matching  ---------------\")\n",
    "\n",
    "for topk in range(len(top_k_sentences)):\n",
    "    sent = top_k_sentences[topk]\n",
    "    score = top_k_sentence_scores[topk]\n",
    "    print(\"score :\" + str(score))     \n",
    "    print( \"\\n\".join([sent[i:i+100] for i in range(0, len(sent), 100 )] ))\n",
    "\n",
    "    print(\"--------------------------------------\")\n",
    "\n"
   ]
  },
  {
   "cell_type": "markdown",
   "id": "8a66ce38",
   "metadata": {},
   "source": [
    "#### matching sents in org_train_data"
   ]
  },
  {
   "cell_type": "code",
   "execution_count": 60,
   "id": "e8da9eec",
   "metadata": {},
   "outputs": [
    {
     "name": "stdout",
     "output_type": "stream",
     "text": [
      "well_trained       7734\n",
      "need_more_sc       6067\n",
      "ignore             3706\n",
      "need_more_sc_re    3239\n",
      "need_conepts_sc    1509\n",
      "need_more_re       1335\n",
      "Name: data_status, dtype: int64\n",
      "Index(['level_0', 'index', 'accessionNumber', 'filer', 'firstEntity',\n",
      "       'relationship', 'secondEntity', 'sentence', 'sme_relations',\n",
      "       'duplicate_sentences', 'sent_size', 'clause_size', 'deduped',\n",
      "       'sc_score', 'sc_label', 'cc_class', 'cc_class_2', 'cc_class_score',\n",
      "       'cc_class_2_score', 'spans', 'org_groups', 'aliases', 'num_orgs',\n",
      "       'filtered_org_groups', 'num_orgs_filter', 're_relations', 're_score',\n",
      "       're_rel_label', 're_pred_match', 'data_status'],\n",
      "      dtype='object')\n"
     ]
    }
   ],
   "source": [
    "print(org_data_df.data_status.value_counts(dropna=False))\n",
    "\n",
    "print(org_data_df.columns)"
   ]
  },
  {
   "cell_type": "code",
   "execution_count": 101,
   "id": "a88ecc60",
   "metadata": {},
   "outputs": [],
   "source": [
    "# find the number of sentences that are matching in training data for score > 0.9\n",
    "\n",
    "def find_matching_sentences_count_from_data(query_df, sentence_embeddings, score_threshold=0.5):\n",
    "\n",
    "    query_sentence_e = [[\"Represent the finance sentence for retrival: \", sentence]\n",
    "                        for sentence in query_df[\"sentence\"].to_list()]\n",
    "    \n",
    "    query_sentence_e = encode_sentences(query_sentence_e)\n",
    "\n",
    "    sent_match_count = []\n",
    "\n",
    "    for idx in tqdm(range(query_sentence_e.shape[0])):\n",
    "        # calculate cosine similarity between the current sentence and all the sentences\n",
    "        cosine_scores = sklearn.metrics.pairwise.cosine_similarity([query_sentence_e[idx]], sentence_embeddings)[0]\n",
    "\n",
    "        # score greater than threshold\n",
    "        cosine_scores = cosine_scores[cosine_scores > score_threshold]\n",
    "\n",
    "        sent_match_count.append(len(cosine_scores))\n",
    "    \n",
    "    return sent_match_count\n",
    "\n"
   ]
  },
  {
   "cell_type": "code",
   "execution_count": null,
   "id": "f054f7c8",
   "metadata": {},
   "outputs": [],
   "source": []
  },
  {
   "cell_type": "code",
   "execution_count": null,
   "id": "137dc9be",
   "metadata": {},
   "outputs": [],
   "source": []
  },
  {
   "cell_type": "code",
   "execution_count": 104,
   "id": "9140d364",
   "metadata": {},
   "outputs": [
    {
     "name": "stderr",
     "output_type": "stream",
     "text": [
      "100%|██████████| 10641/10641 [04:11<00:00, 42.28it/s]\n",
      "/tmp/ipykernel_321/3631625443.py:9: SettingWithCopyWarning: \n",
      "A value is trying to be set on a copy of a slice from a DataFrame.\n",
      "Try using .loc[row_indexer,col_indexer] = value instead\n",
      "\n",
      "See the caveats in the documentation: https://pandas.pydata.org/pandas-docs/stable/user_guide/indexing.html#returning-a-view-versus-a-copy\n",
      "  query_df.loc[:, \"matching_sent_count\"] = find_matching_sentences_count_from_data(query_df, sentence_embeddings, score_threshold=0.9)\n"
     ]
    }
   ],
   "source": [
    "org_data_df.loc[:, \"matching_sent_count\"] = -1\n",
    "\n",
    "\n",
    "query_df = org_data_df[org_data_df[\"data_status\"].isin([\"need_more_sc\", \"need_more_re\" ,\"need_more_sc_re\"])] \n",
    "\n",
    "\n",
    "query_df.loc[:, \"matching_sent_count\"] = find_matching_sentences_count_from_data(query_df, sentence_embeddings, score_threshold=0.9)\n",
    "org_data_df.loc[query_df.index, \"matching_sent_count\"] = query_df[\"matching_sent_count\"]\n"
   ]
  },
  {
   "cell_type": "code",
   "execution_count": 112,
   "id": "0e8c7c74",
   "metadata": {},
   "outputs": [
    {
     "data": {
      "text/plain": [
       "count    6172.000000\n",
       "mean        6.520901\n",
       "std        15.380847\n",
       "min         1.000000\n",
       "25%         1.000000\n",
       "50%         3.000000\n",
       "75%         6.000000\n",
       "max       266.000000\n",
       "Name: matching_sent_count, dtype: float64"
      ]
     },
     "execution_count": 112,
     "metadata": {},
     "output_type": "execute_result"
    }
   ],
   "source": [
    "org_data_df[org_data_df[\"matching_sent_count\"] > 0 ].matching_sent_count.describe()"
   ]
  },
  {
   "cell_type": "code",
   "execution_count": 115,
   "id": "892180e1",
   "metadata": {},
   "outputs": [
    {
     "data": {
      "text/plain": [
       "Index(['level_0', 'index', 'accessionNumber', 'filer', 'firstEntity',\n",
       "       'relationship', 'secondEntity', 'sentence', 'sme_relations',\n",
       "       'duplicate_sentences', 'sent_size', 'clause_size', 'deduped',\n",
       "       'sc_score', 'sc_label', 'cc_class', 'cc_class_2', 'cc_class_score',\n",
       "       'cc_class_2_score', 'spans', 'org_groups', 'aliases', 'num_orgs',\n",
       "       'filtered_org_groups', 'num_orgs_filter', 're_relations', 're_score',\n",
       "       're_rel_label', 're_pred_match', 'data_status', 'matching_sent_count'],\n",
       "      dtype='object')"
      ]
     },
     "execution_count": 115,
     "metadata": {},
     "output_type": "execute_result"
    }
   ],
   "source": [
    "org_data_df.columns"
   ]
  },
  {
   "cell_type": "code",
   "execution_count": 114,
   "id": "364335eb",
   "metadata": {},
   "outputs": [],
   "source": [
    "org_data_df.to_excel(\"./test_pipeline_data/huge_set_deduped_data/huge_train_dedup_sc_cc_re.xlsx\", index=False)"
   ]
  }
 ],
 "metadata": {
  "kernelspec": {
   "display_name": "Python 3 (ipykernel)",
   "language": "python",
   "name": "python3"
  },
  "toc-autonumbering": true
 },
 "nbformat": 4,
 "nbformat_minor": 5
}
