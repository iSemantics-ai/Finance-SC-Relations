{
 "cells": [
  {
   "cell_type": "markdown",
   "id": "5c99fa8f-a90e-41d8-b770-3b69cf9b7007",
   "metadata": {},
   "source": [
    "# **_Basic dependencies_**"
   ]
  },
  {
   "cell_type": "code",
   "execution_count": 1,
   "id": "a9d2df1f-0428-4bd2-bf52-7bcd55ff46d8",
   "metadata": {},
   "outputs": [
    {
     "name": "stderr",
     "output_type": "stream",
     "text": [
      "/Users/shyamshinde/codebase/inferess-relation-extraction/venv/lib/python3.10/site-packages/tqdm/auto.py:21: TqdmWarning: IProgress not found. Please update jupyter and ipywidgets. See https://ipywidgets.readthedocs.io/en/stable/user_install.html\n",
      "  from .autonotebook import tqdm as notebook_tqdm\n"
     ]
    }
   ],
   "source": [
    "import json\n",
    "import pandas as pd\n",
    "import os\n",
    "import math\n",
    "from tqdm import tqdm\n",
    "from typing import Dict, Any, Text, Tuple\n",
    "import yaml\n",
    "import sys\n",
    "import collections as collections\n",
    "from pathlib import Path\n",
    "\n",
    "src_dir= Path.cwd().parent\n",
    "sys.path.append(str(src_dir))\n",
    "\n",
    "\n",
    "import src.labels_generator.llm_relation_prompt as llm_relation_prompt\n",
    "import src.labels_generator.utils as llm_relation_utils\n",
    "from src.utils.logs import get_logger\n",
    "from src.matcher.core import SimCSE_Matcher\n",
    "\n",
    "\n",
    "\n"
   ]
  },
  {
   "cell_type": "code",
   "execution_count": 63,
   "id": "26116e2f",
   "metadata": {},
   "outputs": [],
   "source": []
  },
  {
   "cell_type": "code",
   "execution_count": 90,
   "id": "8baa54fa",
   "metadata": {},
   "outputs": [
    {
     "data": {
      "text/plain": [
       "<module 'src.labels_generator.llm_relation_prompt' from '/Users/shyamshinde/codebase/inferess-relation-extraction/src/labels_generator/llm_relation_prompt.py'>"
      ]
     },
     "execution_count": 90,
     "metadata": {},
     "output_type": "execute_result"
    }
   ],
   "source": [
    "import importlib\n",
    "importlib.reload(llm_relation_prompt)\n"
   ]
  },
  {
   "cell_type": "code",
   "execution_count": 18,
   "id": "b19efe3e",
   "metadata": {},
   "outputs": [],
   "source": [
    "def get_entity_matcher(entity_names_to_index):\n",
    "    # \"pipeline-artifacts/matcher/all-MiniLM-Nli-All-Random-v4\"\n",
    "    entity_matcher = SimCSE_Matcher(model_name_or_path=\"sentence-transformers/all-MiniLM-L6-v2\")\n",
    "    entity_matcher.build_index(entity_names_to_index)\n",
    "    return entity_matcher\n",
    "       \n",
    "def get_first_match(matcher, entity_search, threshold):\n",
    "    \n",
    "    results = matcher.search(entity_search, threshold=threshold)\n",
    "    if results:\n",
    "        return results[0][0], results[0][1]\n",
    "    else:\n",
    "        return None, None\n",
    "\n",
    "sentence_transformers_matcher = SimCSE_Matcher(model_name_or_path=\"sentence-transformers/all-MiniLM-L6-v2\")"
   ]
  },
  {
   "cell_type": "code",
   "execution_count": null,
   "id": "fee1715c",
   "metadata": {},
   "outputs": [],
   "source": []
  },
  {
   "cell_type": "code",
   "execution_count": null,
   "id": "ce3e4137",
   "metadata": {},
   "outputs": [],
   "source": [
    "# entity_matcher = get_entity_matcher()\n",
    "# # test\n",
    "# get_first_match(entity_matcher, \"ScanSource\", threshold=0.9)\n"
   ]
  },
  {
   "cell_type": "code",
   "execution_count": null,
   "id": "dbf3b4dc",
   "metadata": {},
   "outputs": [],
   "source": []
  },
  {
   "cell_type": "code",
   "execution_count": 168,
   "id": "3d5c525e",
   "metadata": {},
   "outputs": [],
   "source": [
    "def get_results_df(new_results_path, old_results_path):    \n",
    "    # load new_results\n",
    "    new_results_df = pd.read_excel(new_results_path)\n",
    "    # rename columns if exists\n",
    "    new_results_df.rename(columns={\"accessionNumber\": \"accessionnumber\",\n",
    "                               \"reporterName\": \"reporter_name\",\n",
    "                               \"company_name\": \"reported_company\"}, inplace=True)\n",
    "    new_results_df = new_results_df[new_results_df[\"accessionnumber\"].notna()]\n",
    "\n",
    "\n",
    "    print(\"new_results_df shape: \", new_results_df.shape)\n",
    "    print(\"new_results_df columns: \", new_results_df.columns)\n",
    "\n",
    "    # load old_results\n",
    "    old_results_df = pd.read_excel(old_results_path)\n",
    "    # filter old_results to only include the accession_number that are in new_results\n",
    "    old_results_df = old_results_df[old_results_df.accessionnumber.isin(new_results_df.accessionnumber.unique())]\n",
    "    print(\"old_results_df shape: \", old_results_df.shape)\n",
    "    print(\"old_results_df columns: \", old_results_df.columns)\n",
    "   \n",
    "    return new_results_df, old_results_df\n",
    "\n"
   ]
  },
  {
   "cell_type": "code",
   "execution_count": 169,
   "id": "5ea9b0fb",
   "metadata": {},
   "outputs": [
    {
     "name": "stdout",
     "output_type": "stream",
     "text": [
      "new_results_df shape:  (5737, 11)\n",
      "new_results_df columns:  Index(['accessionnumber', 'cik', 'reporter_name', 'reported_company',\n",
      "       'sentence_id', 'sentence', 'relation', 'score', 'sents_scores',\n",
      "       'agreration_results', 'winning_relation'],\n",
      "      dtype='object')\n",
      "old_results_df shape:  (1069, 12)\n",
      "old_results_df columns:  Index(['valid_from', 'last_seen', 'reporter_id', 'reporter_name',\n",
      "       'relationship_type', 'reported_company_id', 'reported_company',\n",
      "       'date_from', 'date_to', 'confidence', 'accession_number',\n",
      "       'accessionnumber'],\n",
      "      dtype='object')\n"
     ]
    }
   ],
   "source": [
    "new_results_path = 'test_pipeline_data/filings_gt_25_relns/sc_re_final_report.xlsx'\n",
    "old_results_path = 'test_pipeline_data/relation_table_joined_on_text.xlsx'\n",
    "\n",
    "\n",
    "new_results_df, old_results_df = get_results_df(new_results_path, old_results_path)\n",
    "\n"
   ]
  },
  {
   "cell_type": "code",
   "execution_count": 6,
   "id": "ea768358",
   "metadata": {},
   "outputs": [],
   "source": [
    "# Debug purpose, can be ignored \n",
    "\n",
    "#- Quick experimental check on reporter/filer names \n",
    "\n",
    "# drop duplicates on accessionnumber and reporter_name\n",
    "new_reporter_names_df = new_results_df.drop_duplicates(subset=[\"accessionnumber\", \"reporter_name\"], keep=\"first\")\n",
    "old_reporter_names_df = old_results_df.drop_duplicates(subset=[\"accessionnumber\", \"reporter_name\"], keep=\"first\")\n",
    "\n",
    "# join two dfs on accessionnumber and print df\n",
    "joined_df = pd.merge(new_reporter_names_df, old_reporter_names_df, on=[\"accessionnumber\"], how=\"inner\", suffixes=(\"_new\", \"_old\"))\n",
    "\n",
    "#joined_df[[\"accession_number\", \"reporter_name_new\", \"reporter_name_old\"]]"
   ]
  },
  {
   "cell_type": "code",
   "execution_count": 170,
   "id": "c279241f",
   "metadata": {},
   "outputs": [
    {
     "name": "stderr",
     "output_type": "stream",
     "text": [
      "09/26/2023 16:15:26 - INFO - src.matcher.core -   Encoding embeddings for sentences...\n",
      "09/26/2023 16:15:26 - INFO - src.matcher.core -   Building index...\n",
      "09/26/2023 16:15:26 - INFO - src.matcher.core -   Use CPU-version faiss\n",
      "09/26/2023 16:15:26 - INFO - src.matcher.core -   Finished\n",
      "09/26/2023 16:15:27 - INFO - src.matcher.core -   Encoding embeddings for sentences...\n",
      "09/26/2023 16:15:27 - INFO - src.matcher.core -   Building index...\n",
      "09/26/2023 16:15:27 - INFO - src.matcher.core -   Use CPU-version faiss\n",
      "09/26/2023 16:15:27 - INFO - src.matcher.core -   Finished\n",
      "09/26/2023 16:15:28 - INFO - src.matcher.core -   Encoding embeddings for sentences...\n",
      "09/26/2023 16:15:28 - INFO - src.matcher.core -   Building index...\n",
      "09/26/2023 16:15:28 - INFO - src.matcher.core -   Use CPU-version faiss\n",
      "09/26/2023 16:15:29 - INFO - src.matcher.core -   Finished\n",
      "09/26/2023 16:15:29 - INFO - src.matcher.core -   Encoding embeddings for sentences...\n",
      "09/26/2023 16:15:29 - INFO - src.matcher.core -   Building index...\n",
      "09/26/2023 16:15:29 - INFO - src.matcher.core -   Use CPU-version faiss\n",
      "09/26/2023 16:15:30 - INFO - src.matcher.core -   Finished\n",
      "09/26/2023 16:15:30 - INFO - src.matcher.core -   Encoding embeddings for sentences...\n",
      "09/26/2023 16:15:30 - INFO - src.matcher.core -   Building index...\n",
      "09/26/2023 16:15:30 - INFO - src.matcher.core -   Use CPU-version faiss\n",
      "09/26/2023 16:15:30 - INFO - src.matcher.core -   Finished\n",
      "09/26/2023 16:15:31 - INFO - src.matcher.core -   Encoding embeddings for sentences...\n",
      "09/26/2023 16:15:32 - INFO - src.matcher.core -   Building index...\n",
      "09/26/2023 16:15:32 - INFO - src.matcher.core -   Use CPU-version faiss\n",
      "09/26/2023 16:15:32 - INFO - src.matcher.core -   Finished\n",
      "09/26/2023 16:15:33 - INFO - src.matcher.core -   Encoding embeddings for sentences...\n",
      "09/26/2023 16:15:33 - INFO - src.matcher.core -   Building index...\n",
      "09/26/2023 16:15:33 - INFO - src.matcher.core -   Use CPU-version faiss\n",
      "09/26/2023 16:15:33 - INFO - src.matcher.core -   Finished\n",
      "09/26/2023 16:15:34 - INFO - src.matcher.core -   Encoding embeddings for sentences...\n",
      "09/26/2023 16:15:34 - INFO - src.matcher.core -   Building index...\n",
      "09/26/2023 16:15:34 - INFO - src.matcher.core -   Use CPU-version faiss\n",
      "09/26/2023 16:15:34 - INFO - src.matcher.core -   Finished\n",
      "09/26/2023 16:15:35 - INFO - src.matcher.core -   Encoding embeddings for sentences...\n",
      "09/26/2023 16:15:35 - INFO - src.matcher.core -   Building index...\n",
      "09/26/2023 16:15:35 - INFO - src.matcher.core -   Use CPU-version faiss\n",
      "09/26/2023 16:15:35 - INFO - src.matcher.core -   Finished\n",
      "09/26/2023 16:15:36 - INFO - src.matcher.core -   Encoding embeddings for sentences...\n",
      "09/26/2023 16:15:36 - INFO - src.matcher.core -   Building index...\n",
      "09/26/2023 16:15:36 - INFO - src.matcher.core -   Use CPU-version faiss\n",
      "09/26/2023 16:15:36 - INFO - src.matcher.core -   Finished\n",
      "09/26/2023 16:15:38 - INFO - src.matcher.core -   Encoding embeddings for sentences...\n",
      "09/26/2023 16:15:38 - INFO - src.matcher.core -   Building index...\n",
      "09/26/2023 16:15:38 - INFO - src.matcher.core -   Use CPU-version faiss\n",
      "09/26/2023 16:15:38 - INFO - src.matcher.core -   Finished\n",
      "09/26/2023 16:15:39 - INFO - src.matcher.core -   Encoding embeddings for sentences...\n",
      "09/26/2023 16:15:39 - INFO - src.matcher.core -   Building index...\n",
      "09/26/2023 16:15:39 - INFO - src.matcher.core -   Use CPU-version faiss\n",
      "09/26/2023 16:15:39 - INFO - src.matcher.core -   Finished\n",
      "09/26/2023 16:15:40 - INFO - src.matcher.core -   Encoding embeddings for sentences...\n",
      "09/26/2023 16:15:40 - INFO - src.matcher.core -   Building index...\n",
      "09/26/2023 16:15:40 - INFO - src.matcher.core -   Use CPU-version faiss\n",
      "09/26/2023 16:15:40 - INFO - src.matcher.core -   Finished\n",
      "09/26/2023 16:15:41 - INFO - src.matcher.core -   Encoding embeddings for sentences...\n",
      "09/26/2023 16:15:41 - INFO - src.matcher.core -   Building index...\n",
      "09/26/2023 16:15:41 - INFO - src.matcher.core -   Use CPU-version faiss\n",
      "09/26/2023 16:15:41 - INFO - src.matcher.core -   Finished\n",
      "09/26/2023 16:15:42 - INFO - src.matcher.core -   Encoding embeddings for sentences...\n",
      "09/26/2023 16:15:42 - INFO - src.matcher.core -   Building index...\n",
      "09/26/2023 16:15:42 - INFO - src.matcher.core -   Use CPU-version faiss\n",
      "09/26/2023 16:15:42 - INFO - src.matcher.core -   Finished\n",
      "09/26/2023 16:15:44 - INFO - src.matcher.core -   Encoding embeddings for sentences...\n",
      "09/26/2023 16:15:44 - INFO - src.matcher.core -   Building index...\n",
      "09/26/2023 16:15:44 - INFO - src.matcher.core -   Use CPU-version faiss\n",
      "09/26/2023 16:15:44 - INFO - src.matcher.core -   Finished\n",
      "09/26/2023 16:15:45 - INFO - src.matcher.core -   Encoding embeddings for sentences...\n",
      "09/26/2023 16:15:45 - INFO - src.matcher.core -   Building index...\n",
      "09/26/2023 16:15:45 - INFO - src.matcher.core -   Use CPU-version faiss\n",
      "09/26/2023 16:15:45 - INFO - src.matcher.core -   Finished\n",
      "09/26/2023 16:15:46 - INFO - src.matcher.core -   Encoding embeddings for sentences...\n",
      "09/26/2023 16:15:46 - INFO - src.matcher.core -   Building index...\n",
      "09/26/2023 16:15:46 - INFO - src.matcher.core -   Use CPU-version faiss\n",
      "09/26/2023 16:15:46 - INFO - src.matcher.core -   Finished\n",
      "09/26/2023 16:15:47 - INFO - src.matcher.core -   Encoding embeddings for sentences...\n",
      "09/26/2023 16:15:48 - INFO - src.matcher.core -   Building index...\n",
      "09/26/2023 16:15:48 - INFO - src.matcher.core -   Use CPU-version faiss\n",
      "09/26/2023 16:15:48 - INFO - src.matcher.core -   Finished\n",
      "09/26/2023 16:15:49 - INFO - src.matcher.core -   Encoding embeddings for sentences...\n",
      "09/26/2023 16:15:49 - INFO - src.matcher.core -   Building index...\n",
      "09/26/2023 16:15:49 - INFO - src.matcher.core -   Use CPU-version faiss\n",
      "09/26/2023 16:15:49 - INFO - src.matcher.core -   Finished\n",
      "09/26/2023 16:15:50 - INFO - src.matcher.core -   Encoding embeddings for sentences...\n",
      "09/26/2023 16:15:50 - INFO - src.matcher.core -   Building index...\n",
      "09/26/2023 16:15:50 - INFO - src.matcher.core -   Use CPU-version faiss\n",
      "09/26/2023 16:15:50 - INFO - src.matcher.core -   Finished\n",
      "09/26/2023 16:15:52 - INFO - src.matcher.core -   Encoding embeddings for sentences...\n",
      "09/26/2023 16:15:52 - INFO - src.matcher.core -   Building index...\n",
      "09/26/2023 16:15:52 - INFO - src.matcher.core -   Use CPU-version faiss\n",
      "09/26/2023 16:15:52 - INFO - src.matcher.core -   Finished\n",
      "09/26/2023 16:15:53 - INFO - src.matcher.core -   Encoding embeddings for sentences...\n",
      "09/26/2023 16:15:53 - INFO - src.matcher.core -   Building index...\n",
      "09/26/2023 16:15:53 - INFO - src.matcher.core -   Use CPU-version faiss\n",
      "09/26/2023 16:15:53 - INFO - src.matcher.core -   Finished\n",
      "09/26/2023 16:15:54 - INFO - src.matcher.core -   Encoding embeddings for sentences...\n",
      "09/26/2023 16:15:54 - INFO - src.matcher.core -   Building index...\n",
      "09/26/2023 16:15:54 - INFO - src.matcher.core -   Use CPU-version faiss\n",
      "09/26/2023 16:15:54 - INFO - src.matcher.core -   Finished\n",
      "09/26/2023 16:15:55 - INFO - src.matcher.core -   Encoding embeddings for sentences...\n",
      "09/26/2023 16:15:55 - INFO - src.matcher.core -   Building index...\n",
      "09/26/2023 16:15:55 - INFO - src.matcher.core -   Use CPU-version faiss\n",
      "09/26/2023 16:15:55 - INFO - src.matcher.core -   Finished\n",
      "09/26/2023 16:15:56 - INFO - src.matcher.core -   Encoding embeddings for sentences...\n",
      "09/26/2023 16:15:56 - INFO - src.matcher.core -   Building index...\n",
      "09/26/2023 16:15:56 - INFO - src.matcher.core -   Use CPU-version faiss\n",
      "09/26/2023 16:15:56 - INFO - src.matcher.core -   Finished\n",
      "09/26/2023 16:15:57 - INFO - src.matcher.core -   Encoding embeddings for sentences...\n",
      "09/26/2023 16:15:57 - INFO - src.matcher.core -   Building index...\n",
      "09/26/2023 16:15:57 - INFO - src.matcher.core -   Use CPU-version faiss\n",
      "09/26/2023 16:15:57 - INFO - src.matcher.core -   Finished\n",
      "09/26/2023 16:15:58 - INFO - src.matcher.core -   Encoding embeddings for sentences...\n",
      "09/26/2023 16:15:58 - INFO - src.matcher.core -   Building index...\n",
      "09/26/2023 16:15:58 - INFO - src.matcher.core -   Use CPU-version faiss\n",
      "09/26/2023 16:15:58 - INFO - src.matcher.core -   Finished\n",
      "09/26/2023 16:16:00 - INFO - src.matcher.core -   Encoding embeddings for sentences...\n",
      "09/26/2023 16:16:00 - INFO - src.matcher.core -   Building index...\n",
      "09/26/2023 16:16:00 - INFO - src.matcher.core -   Use CPU-version faiss\n",
      "09/26/2023 16:16:00 - INFO - src.matcher.core -   Finished\n",
      "09/26/2023 16:16:01 - INFO - src.matcher.core -   Encoding embeddings for sentences...\n",
      "09/26/2023 16:16:01 - INFO - src.matcher.core -   Building index...\n",
      "09/26/2023 16:16:01 - INFO - src.matcher.core -   Use CPU-version faiss\n",
      "09/26/2023 16:16:01 - INFO - src.matcher.core -   Finished\n",
      "09/26/2023 16:16:02 - INFO - src.matcher.core -   Encoding embeddings for sentences...\n",
      "09/26/2023 16:16:02 - INFO - src.matcher.core -   Building index...\n",
      "09/26/2023 16:16:02 - INFO - src.matcher.core -   Use CPU-version faiss\n",
      "09/26/2023 16:16:02 - INFO - src.matcher.core -   Finished\n",
      "09/26/2023 16:16:03 - INFO - src.matcher.core -   Encoding embeddings for sentences...\n",
      "09/26/2023 16:16:03 - INFO - src.matcher.core -   Building index...\n",
      "09/26/2023 16:16:03 - INFO - src.matcher.core -   Use CPU-version faiss\n",
      "09/26/2023 16:16:03 - INFO - src.matcher.core -   Finished\n",
      "09/26/2023 16:16:05 - INFO - src.matcher.core -   Encoding embeddings for sentences...\n",
      "09/26/2023 16:16:05 - INFO - src.matcher.core -   Building index...\n",
      "09/26/2023 16:16:05 - INFO - src.matcher.core -   Use CPU-version faiss\n",
      "09/26/2023 16:16:05 - INFO - src.matcher.core -   Finished\n",
      "09/26/2023 16:16:06 - INFO - src.matcher.core -   Encoding embeddings for sentences...\n",
      "09/26/2023 16:16:06 - INFO - src.matcher.core -   Building index...\n",
      "09/26/2023 16:16:06 - INFO - src.matcher.core -   Use CPU-version faiss\n",
      "09/26/2023 16:16:06 - INFO - src.matcher.core -   Finished\n",
      "09/26/2023 16:16:07 - INFO - src.matcher.core -   Encoding embeddings for sentences...\n",
      "09/26/2023 16:16:07 - INFO - src.matcher.core -   Building index...\n",
      "09/26/2023 16:16:07 - INFO - src.matcher.core -   Use CPU-version faiss\n",
      "09/26/2023 16:16:07 - INFO - src.matcher.core -   Finished\n"
     ]
    }
   ],
   "source": [
    "reported_company_new_to_old_dict = {}\n",
    "\n",
    "for accessionnumber in new_results_df[new_results_df.accessionnumber.notna()].accessionnumber.unique():\n",
    "    if not accessionnumber:\n",
    "        continue    \n",
    "\n",
    "    # get all rows for this accessionnumber\n",
    "    df = old_results_df[old_results_df.accessionnumber == accessionnumber]\n",
    "    # get all reported_company for this accessionnumber\n",
    "    reported_companies_old = df[df.reported_company.notna()].reported_company.unique().tolist()\n",
    "\n",
    "    # get entity_matcher for reported_companies_old\n",
    "    entity_matcher = get_entity_matcher(reported_companies_old)\n",
    "\n",
    "    # get all reported_company for this accessionnumber\n",
    "    df_new = new_results_df[new_results_df.accessionnumber == accessionnumber]\n",
    "    reported_companies_new = df_new[df_new.reported_company.notna()].reported_company.unique().tolist()\n",
    "    reported_company_new_to_old_dict[accessionnumber] = {}\n",
    "\n",
    "    for reported_company_new in reported_companies_new:\n",
    "        # get matching_reported_company_old\n",
    "        matching_reported_company_old, score = get_first_match(entity_matcher, reported_company_new, threshold=0.85)\n",
    "        # add to dict\n",
    "        reported_company_new_to_old_dict[accessionnumber][reported_company_new] =  matching_reported_company_old\n",
    "    \n",
    "\n"
   ]
  },
  {
   "cell_type": "code",
   "execution_count": 24,
   "id": "fbded6c3",
   "metadata": {},
   "outputs": [],
   "source": [
    "# Debug purpose, can be ignored\n",
    "\n",
    "#  dataframe from dict by adding accessionnumber as column, new reported company and old matching company\n",
    "\n",
    "# reported_company_new_to_old_records = []\n",
    "# for accessionnumber in reported_company_new_to_old_dict.keys():\n",
    "\n",
    "#     for new_reported_company, old_reported_company in reported_company_new_to_old_dict[accessionnumber].items():\n",
    "#         reported_company_new_to_old_records.append({\"accessionnumber\": accessionnumber,\n",
    "#                                                     \"reported_company_new\": new_reported_company,\n",
    "#                                                     \"reported_company_old\": old_reported_company})\n",
    "        \n",
    "\n",
    "# reported_company_new_to_old_df = pd.DataFrame.from_records(reported_company_new_to_old_records)\n",
    "# # write to file\n",
    "# reported_company_new_to_old_df.to_excel(\"./test_pipeline_data/filings_gt_25_relns/reported_company_new_to_old_df_0.85.xlsx\")\n",
    "\n",
    "\n",
    "# from reported_company_new_to_old_dict, for each accessionnumber, print total count of {reported_company_new and reported_company_old }\n",
    "\n",
    "# for accessionnumber, reported_company_new_to_old in reported_company_new_to_old_dict.items():\n",
    "#     print(f\"\"\"{accessionnumber}    {len(reported_company_new_to_old.keys())} {len([v for v in reported_company_new_to_old.values() if v])}\"\"\")\n",
    "    \n"
   ]
  },
  {
   "cell_type": "code",
   "execution_count": 92,
   "id": "ef6391ed",
   "metadata": {},
   "outputs": [],
   "source": [
    "\n"
   ]
  },
  {
   "cell_type": "code",
   "execution_count": 171,
   "id": "d2bd5114",
   "metadata": {},
   "outputs": [],
   "source": [
    "# update new_results_df by adding matching_reported_company_old column\n",
    "new_results_df[\"matched_reported_company_old\"] = None\n",
    "for accessionnumber, reported_company_new_to_old in reported_company_new_to_old_dict.items():\n",
    "    for reported_company_new, matching_reported_company_old in reported_company_new_to_old.items():\n",
    "        new_results_df.loc[(new_results_df.accessionnumber == accessionnumber) & (new_results_df.reported_company == reported_company_new), \"matched_reported_company_old\"] = matching_reported_company_old"
   ]
  },
  {
   "cell_type": "code",
   "execution_count": 26,
   "id": "e7123376",
   "metadata": {},
   "outputs": [
    {
     "name": "stdout",
     "output_type": "stream",
     "text": [
      "Recall of old relation in new results 68.38166510757718\n"
     ]
    }
   ],
   "source": [
    "# TODO - move it later in this notebook\n",
    "\n",
    "new_results_df[new_results_df[\"matched_reported_company_old\"].notna()].shape\n",
    "\n",
    "recall_old_relation = new_results_df[new_results_df[\"matched_reported_company_old\"].notna()].shape[0] / old_results_df.shape[0] * 100\n",
    "\n",
    "print(f\"Recall of old relation in new results {recall_old_relation}\")\n",
    "\n"
   ]
  },
  {
   "cell_type": "code",
   "execution_count": 172,
   "id": "497d1ff8",
   "metadata": {},
   "outputs": [
    {
     "data": {
      "text/plain": [
       "Index(['accessionnumber', 'cik', 'reporter_name', 'reported_company',\n",
       "       'sentence_id', 'sentence', 'relation', 'score', 'sents_scores',\n",
       "       'agreration_results', 'winning_relation',\n",
       "       'matched_reported_company_old'],\n",
       "      dtype='object')"
      ]
     },
     "execution_count": 172,
     "metadata": {},
     "output_type": "execute_result"
    }
   ],
   "source": [
    "new_results_df.columns"
   ]
  },
  {
   "cell_type": "code",
   "execution_count": 173,
   "id": "735c191c",
   "metadata": {},
   "outputs": [
    {
     "name": "stdout",
     "output_type": "stream",
     "text": [
      "(2854, 18)\n",
      "Error distribution when relation_match is False\n",
      "winning_relation\n",
      "customer    259\n",
      "supplier    163\n",
      "other        32\n",
      "Name: count, dtype: int64\n"
     ]
    }
   ],
   "source": [
    "# write no_match_in_old to excel \n",
    "\n",
    "(new_results_df[new_results_df[\"matched_reported_company_old\"].isna()].\n",
    " to_excel(\"test_pipeline_data/filings_gt_25_relns/new_results_no_match_in_old.xlsx\", index=False))\n",
    "\n",
    "\n",
    "old_results_df[\"matched_reported_company_old\"] = old_results_df.reported_company\n",
    "\n",
    "# slice old_results_df to only include columns that are needed\n",
    "sliced_old_results_df = old_results_df[['reporter_id', 'reporter_name',\n",
    "       'relationship_type', 'reported_company_id', 'reported_company', 'matched_reported_company_old',\n",
    "       'accessionnumber']]\n",
    "\n",
    "# join old and new df on accessionnumber and matched_reported_company_old\n",
    "joined_df = pd.merge(new_results_df, sliced_old_results_df, \n",
    "                     on=[\"accessionnumber\",  \"matched_reported_company_old\"], \n",
    "                     how=\"inner\", suffixes=(\"_new\", \"_old\"))\n",
    "\n",
    "\n",
    "# Add flag if the relationship_type in old_df is the same as winning_relation in new df\n",
    "joined_df[\"relation_match\"] = joined_df.apply(lambda x: x.relationship_type == x.winning_relation, axis=1)\n",
    "\n",
    "print(joined_df.shape)\n",
    "\n",
    "print(\"Sentence level : Error distribution when relation_match is False\")\n",
    "print(joined_df[joined_df[\"relation_match\"] == False].winning_relation.value_counts())\n",
    "\n",
    "# Write to file\n",
    "\n",
    "(joined_df[['accessionnumber', 'cik', 'reporter_name_new', 'reported_company_new', 'reported_company_old',\n",
    "       'sentence_id', 'sentence', 'relation', 'score', 'sents_scores',\n",
    "       'agreration_results', 'winning_relation', 'relationship_type', 'relation_match',\n",
    "       'matched_reported_company_old', 'reporter_id', 'reporter_name_old', 'reported_company_id']].\n",
    "       to_excel(\"test_pipeline_data/filings_gt_25_relns/new_results_vs_old.xlsx\", index=False))\n",
    "\n"
   ]
  },
  {
   "cell_type": "code",
   "execution_count": 137,
   "id": "ddf4329c",
   "metadata": {},
   "outputs": [],
   "source": [
    "\n",
    "# find all reported_company_found_in_new_results\n",
    "# preq: reported_company_new_to_old_dict\n",
    "\n",
    "\n",
    "conflict_relations_reported_company_new = collections.defaultdict(list)\n",
    "\n",
    "for accessionnumber in joined_df.accessionnumber.unique():    \n",
    "    conflict_relations_reported_company_new[accessionnumber] = (\n",
    "        joined_df[(joined_df[\"relation_match\"] == False) & (joined_df[\"accessionnumber\"] == accessionnumber)].\n",
    "        reported_company_new.to_list())\n",
    "\n",
    "#conflict_relations_reported_company_new\n"
   ]
  },
  {
   "cell_type": "code",
   "execution_count": 138,
   "id": "145a8a6c",
   "metadata": {},
   "outputs": [
    {
     "data": {
      "text/plain": [
       "Index(['accessionnumber', 'cik', 'reporter_name_new', 'reported_company_new',\n",
       "       'sentence_id', 'sentence', 'relation', 'score', 'sents_scores',\n",
       "       'agreration_results', 'winning_relation',\n",
       "       'matched_reported_company_old', 'reporter_id', 'reporter_name_old',\n",
       "       'relationship_type', 'reported_company_id', 'reported_company_old',\n",
       "       'relation_match'],\n",
       "      dtype='object')"
      ]
     },
     "execution_count": 138,
     "metadata": {},
     "output_type": "execute_result"
    }
   ],
   "source": [
    "joined_df.columns"
   ]
  },
  {
   "cell_type": "code",
   "execution_count": 45,
   "id": "063de73d",
   "metadata": {},
   "outputs": [
    {
     "data": {
      "text/plain": [
       "Index(['accessionnumber', 'cik', 'reporter_name_new', 'reported_company_new',\n",
       "       'sentence_id', 'sentence', 'relation', 'score', 'sents_scores',\n",
       "       'agreration_results', 'winning_relation',\n",
       "       'matched_reported_company_old', 'reporter_id', 'reporter_name_old',\n",
       "       'relationship_type', 'reported_company_id', 'reported_company_old',\n",
       "       'relation_match'],\n",
       "      dtype='object')"
      ]
     },
     "execution_count": 45,
     "metadata": {},
     "output_type": "execute_result"
    }
   ],
   "source": [
    "joined_df.reported_company_old"
   ]
  },
  {
   "cell_type": "code",
   "execution_count": 29,
   "id": "75e94f75",
   "metadata": {},
   "outputs": [
    {
     "name": "stdout",
     "output_type": "stream",
     "text": [
      "print the shape number of rows where conflict_with_old_relation is True\n"
     ]
    },
    {
     "data": {
      "text/plain": [
       "(454, 12)"
      ]
     },
     "execution_count": 29,
     "metadata": {},
     "output_type": "execute_result"
    }
   ],
   "source": [
    "# generate sentences for where old and new results are not matching\n",
    "# preq: joined_df\n",
    "# preq: file: test_pipeline_data/filings_gt_25_relns/filings_gt_25_relns_final_report.xlsx\n",
    "\n",
    "# load filings_gt_25_relns_final_report.xlsx\n",
    "filings_gt_25_relns_final_report_df = pd.read_excel(\"test_pipeline_data/filings_gt_25_relns/sc_re_final_report.xlsx\")\n",
    "filings_gt_25_relns_final_report_df = filings_gt_25_relns_final_report_df[filings_gt_25_relns_final_report_df[\"accessionNumber\"].notna()]\n",
    "\n",
    "# check if company_name in filings_gt_25_relns_final_report_df is not in reported_company_found_in_new_results\n",
    "filings_gt_25_relns_final_report_df[\"conflict_with_old_relation\"] = filings_gt_25_relns_final_report_df.apply(lambda x: x.company_name in conflict_relations_reported_company_new[x.accessionNumber], axis=1)\n",
    "\n",
    "(filings_gt_25_relns_final_report_df[filings_gt_25_relns_final_report_df[\"conflict_with_old_relation\"]==True].\n",
    "    to_excel(\"test_pipeline_data/filings_gt_25_relns/sc_re_conflict_with_old_relation.xlsx\", index=False))\n",
    "\n",
    "print(\"print the shape number of rows where conflict_with_old_relation is True\")\n",
    "filings_gt_25_relns_final_report_df[filings_gt_25_relns_final_report_df[\"conflict_with_old_relation\"]==True].shape\n",
    "\n"
   ]
  },
  {
   "cell_type": "markdown",
   "id": "91287c8c",
   "metadata": {},
   "source": [
    "<!-- \n",
    "Stastical comparison of new and old results for 36 filing companies with > 25 relations from athena:old_prediction table\n",
    "\n",
    "1. New results have approx 1.8 times more relations than old results, even after having 0.95 threshold for both SC and RE model\n",
    "2. 65% recall of old relations in new results, meaning we did not find relations for 35% companies \n",
    "3. Out of 65% relations, 85% of relations are exactly matching with old results relations. \n",
    "    - Most of 15% erros are due to conflict in customer/suppier relation, rather than conflict with `other` \n",
    "  \n",
    "Next steps - \n",
    "1. Find error patterns in the relations conflicts of old and new results by doing -> manual review + help from LLM\n",
    "2. Find why low recall(65%) of old relations in new results, one prominant reason could be NER, but need to check\n",
    "3. Validate extra relations detected in new results \n",
    " -->\n"
   ]
  },
  {
   "cell_type": "code",
   "execution_count": null,
   "id": "d13001c5",
   "metadata": {},
   "outputs": [],
   "source": []
  },
  {
   "cell_type": "code",
   "execution_count": 37,
   "id": "33cd5f4e",
   "metadata": {},
   "outputs": [],
   "source": [
    "# generate sentences for where old and new results are not matching\n",
    "# preq: joined_df\n",
    "# preq: file: test_pipeline_data/filings_gt_25_relns/filings_gt_25_relns_final_report.xlsx\n",
    "\n",
    "# load filings_gt_25_relns_final_report.xlsx\n",
    "filings_gt_25_relns_final_report_df = pd.read_excel(\"test_pipeline_data/filings_gt_25_relns/filings_gt_25_relns_final_report.xlsx\")\n",
    "filings_gt_25_relns_final_report_df = filings_gt_25_relns_final_report_df[filings_gt_25_relns_final_report_df[\"accessionNumber\"].notna()]\n",
    "\n",
    "# check if company_name in filings_gt_25_relns_final_report_df is not in reported_company_found_in_new_results\n",
    "filings_gt_25_relns_final_report_df[\"conflict_with_old_relation\"] = filings_gt_25_relns_final_report_df.apply(lambda x: x.company_name in conflict_relations_reported_company_new[x.accessionNumber], axis=1)\n",
    "\n",
    "\n"
   ]
  },
  {
   "cell_type": "code",
   "execution_count": 38,
   "id": "aeeacf80",
   "metadata": {},
   "outputs": [
    {
     "data": {
      "text/plain": [
       "conflict_with_old_relation\n",
       "False    5283\n",
       "True      454\n",
       "Name: count, dtype: int64"
      ]
     },
     "execution_count": 38,
     "metadata": {},
     "output_type": "execute_result"
    }
   ],
   "source": [
    "filings_gt_25_relns_final_report_df.conflict_with_old_relation.value_counts()    "
   ]
  },
  {
   "cell_type": "code",
   "execution_count": null,
   "id": "c6841221",
   "metadata": {},
   "outputs": [],
   "source": [
    "\n",
    "# Stastical comparison of new and old results for 36 filing companies with > 25 relations from athena:old_prediction table\n",
    "\n",
    "# 1. New results have approx 1.8 times more relations than old results, even after having 0.95 threshold for both SC and RE model\n",
    "# 2. 65% recall of old relations in new results, meaning we did not find relations for 35% companies \n",
    "# 3. Out of 65% relations, 85% of relations are exactly matching with old results relations. \n",
    "#     - Most of 15% erros are due to conflict in customer/suppier relation, rather than conflict with `other` \n",
    "  \n",
    "# Next steps - \n",
    "# 1. Find error patterns in the relations conflicts of old and new results by doing -> manual review + help from LLM\n",
    "# 2. Find why low recall(65%) of old relations in new results, one prominant reason could be NER, but need to check\n",
    "# 3. Validate extra relations detected in new results \n",
    "\n"
   ]
  },
  {
   "cell_type": "code",
   "execution_count": 216,
   "id": "f57c584d",
   "metadata": {},
   "outputs": [
    {
     "data": {
      "text/plain": [
       "(454, 18)"
      ]
     },
     "execution_count": 216,
     "metadata": {},
     "output_type": "execute_result"
    }
   ],
   "source": [
    "conflict_final_report_df = joined_df[joined_df[\"relation_match\"] == False].reset_index(drop=True)\n",
    "\n",
    "conflict_final_report_df.shape\n",
    "\n",
    "conflict_final_report_df = conflict_final_report_df[['accessionnumber', 'cik', 'reporter_name_new', 'reported_company_new',\n",
    "       'sentence_id', 'sentence', 'relation', 'score', 'sents_scores',\n",
    "       'agreration_results', 'winning_relation',\n",
    "       'matched_reported_company_old', 'reported_company_old',\n",
    "       'relationship_type' ]]\n",
    "\n",
    "# rename columns of suffix _new to remove _new\n",
    "conflict_final_report_df.rename(columns={\"reporter_name_new\": \"reporter_name\",\n",
    "                                         \"reported_company_new\": \"reported_company\",\n",
    "                                         \"relationship_type\": \"old_relation\"}, \n",
    "                                         inplace=True)\n"
   ]
  },
  {
   "cell_type": "code",
   "execution_count": 270,
   "id": "4b57f781",
   "metadata": {},
   "outputs": [],
   "source": [
    "# ## conflict_final_report_df.to_excel(\"test_pipeline_data/filings_gt_25_relns/sc_re_conflict_with_old_relation.xlsx\", index=False)\n"
   ]
  },
  {
   "cell_type": "code",
   "execution_count": 269,
   "id": "ff61e485",
   "metadata": {},
   "outputs": [
    {
     "data": {
      "text/plain": [
       "Index(['accessionnumber', 'cik', 'reporter_name', 'reported_company',\n",
       "       'sentence_id', 'sentence', 'relation', 'score', 'sents_scores',\n",
       "       'agreration_results', 'winning_relation',\n",
       "       'matched_reported_company_old', 'reported_company_old', 'old_relation'],\n",
       "      dtype='object')"
      ]
     },
     "execution_count": 269,
     "metadata": {},
     "output_type": "execute_result"
    }
   ],
   "source": [
    "conflict_final_report_df.columns"
   ]
  },
  {
   "cell_type": "markdown",
   "id": "7d013c2a",
   "metadata": {},
   "source": [
    "### Run llm"
   ]
  },
  {
   "cell_type": "code",
   "execution_count": null,
   "id": "6a21955e",
   "metadata": {},
   "outputs": [],
   "source": []
  },
  {
   "cell_type": "code",
   "execution_count": 273,
   "id": "82034827",
   "metadata": {},
   "outputs": [],
   "source": [
    "output_df = (pd.read_excel(\n",
    "    \"test_pipeline_data/filings_gt_25_relns/final_report_conflict_with_old_relation_llm.xlsx\"))\n",
    "\n",
    "output_df.shape\n",
    "\n",
    "# eval \n",
    "output_df[\"agreration_results\"] = output_df[\"agreration_results\"].apply(eval) \n",
    "output_df[\"sents_scores\"] = output_df[\"sents_scores\"].apply(eval) \n",
    "output_df[\"relations\"] = output_df[\"relations\"].apply(eval) \n",
    "\n"
   ]
  },
  {
   "cell_type": "code",
   "execution_count": 274,
   "id": "452119ef",
   "metadata": {},
   "outputs": [
    {
     "data": {
      "text/plain": [
       "Index(['accessionnumber', 'cik', 'reporter_name', 'reported_company',\n",
       "       'sentence_id', 'sentence', 'relation', 'score', 'sents_scores',\n",
       "       'agreration_results', 'winning_relation',\n",
       "       'matched_reported_company_old', 'reported_company_old', 'old_relation',\n",
       "       'explanation', 'relation_completion', 'relations', 'llm_relation_label',\n",
       "       'llm_winning_relation', 'old_llm_align', 'new_llm_align'],\n",
       "      dtype='object')"
      ]
     },
     "execution_count": 274,
     "metadata": {},
     "output_type": "execute_result"
    }
   ],
   "source": [
    "output_df.columns\n"
   ]
  },
  {
   "cell_type": "code",
   "execution_count": 50,
   "id": "0cc36ad7",
   "metadata": {},
   "outputs": [],
   "source": [
    "# batch_size = 100\n",
    "# num_batches = math.ceil(filings_gt_25_relns_final_report_df.shape[0] / batch_size)\n",
    "# batch_dfs = [filings_gt_25_relns_final_report_df[i*batch_size: (i+1) *batch_size]  for i in range(num_batches)] \n",
    "\n",
    "# output_batch_dfs = []\n",
    "# for batch_df in batch_dfs:\n",
    "#     output_batch_df = llm_relation_prompt.generate_relations(batch_df, {\"sentence\": \"{sentence}\"},\n",
    "#                                        {\"customer\": \"supplier\"}) \n",
    "#     output_batch_dfs.append(output_batch_df)\n",
    "\n",
    "# output_df = pd.concat(output_batch_dfs, axis=0)\n",
    "\n",
    "#output_df.to_excel(\"test_pipeline_data/filings_gt_25_relns/final_report_conflict_with_old_relation_llm.xlsx\", index=False)\n",
    "\n"
   ]
  },
  {
   "cell_type": "code",
   "execution_count": 230,
   "id": "48a38d58",
   "metadata": {},
   "outputs": [
    {
     "data": {
      "text/plain": [
       "Index(['accessionnumber', 'cik', 'reporter_name', 'reported_company',\n",
       "       'sentence_id', 'sentence', 'relation', 'score', 'sents_scores',\n",
       "       'agreration_results', 'winning_relation',\n",
       "       'matched_reported_company_old', 'reported_company_old', 'old_relation',\n",
       "       'explanation', 'relation_completion', 'relations'],\n",
       "      dtype='object')"
      ]
     },
     "execution_count": 230,
     "metadata": {},
     "output_type": "execute_result"
    }
   ],
   "source": [
    "output_df.columns"
   ]
  },
  {
   "cell_type": "code",
   "execution_count": null,
   "id": "72cd6611",
   "metadata": {},
   "outputs": [],
   "source": []
  },
  {
   "cell_type": "code",
   "execution_count": 275,
   "id": "007a0c8f",
   "metadata": {},
   "outputs": [],
   "source": [
    "def generate_llm_relation_label(row, matcher_object, threshold):\n",
    "    \n",
    "    reporter = row[\"reporter_name\"]\n",
    "    reported_company = row[\"reported_company\"]\n",
    "\n",
    "    reverse_relation_dict = {\"customer\": \"supplier\", \"supplier\": \"customer\"}\n",
    "\n",
    "    # zip source_companies and dest_companies\n",
    "    for llm_relation in row[\"relations\"]:\n",
    "        llm_source_company = llm_relation[0]\n",
    "        llm_dest_company = llm_relation[2]\n",
    "        llm_relation_label = llm_relation[1]\n",
    "\n",
    "        # match llm_source_company and llm_dest_company using matcher_object\n",
    "        source_match = True if matcher_object.similarity(reported_company, [llm_source_company]).max() > threshold else False\n",
    "        dest_match = True if matcher_object.similarity(reporter, [llm_dest_company]).max() > threshold else False\n",
    "        \n",
    "        if source_match and dest_match:\n",
    "            if llm_relation_label in reverse_relation_dict:\n",
    "                return llm_relation_label\n",
    "            else:\n",
    "                return \"other\"\n",
    "\n",
    "        source_match = True if matcher_object.similarity(reporter, [llm_source_company]).max() > threshold else False\n",
    "        dest_match = True if matcher_object.similarity(reported_company, [llm_dest_company]).max() > threshold else False\n",
    "      \n",
    "        if source_match and dest_match:\n",
    "            return reverse_relation_dict.get(llm_relation_label, \"other\")\n",
    "        \n",
    "    return \"other\"\n",
    "\n",
    "\n",
    "# generate llm relations for output_df\n",
    "output_df[\"llm_relation_label\"] = output_df.apply(lambda x: generate_llm_relation_label(x, sentence_transformers_matcher, threshold=0.85), axis=1)\n",
    "    "
   ]
  },
  {
   "cell_type": "code",
   "execution_count": 87,
   "id": "43dc2676",
   "metadata": {},
   "outputs": [
    {
     "data": {
      "text/plain": [
       "0.97184396"
      ]
     },
     "execution_count": 87,
     "metadata": {},
     "output_type": "execute_result"
    }
   ],
   "source": []
  },
  {
   "cell_type": "code",
   "execution_count": 71,
   "id": "0c0a4c81",
   "metadata": {},
   "outputs": [
    {
     "name": "stderr",
     "output_type": "stream",
     "text": [
      "Search relations: 100%|██████████| 454/454 [00:08<00:00, 51.39it/s]\n"
     ]
    }
   ],
   "source": [
    "# output_df[\"old_pipeline_relation\"] = output_df.apply(lambda x: [x.company_name , x.relation, x.reporterName], \n",
    "#                                                      axis=1)\n",
    "\n",
    "# output_df[\"new_pipeline_relation\"] = output_df.apply(lambda x: [x.company_name , x.winning_relation, x.reporterName], \n",
    "#                                                      axis=1)\n",
    "\n",
    "\n",
    "# # Search relations and return mask\n",
    "# tqdm.pandas(desc=\"Search relations\")\n",
    "# output_df['old_llm_align'] =\\\n",
    "# output_df[['old_pipeline_relation', 'relations']]\\\n",
    "# .progress_apply(lambda x:\n",
    "# llm_relation_utils.relation_search(\n",
    "# query_relation=  x.iloc[0],\n",
    "# relations_tuples= x.iloc[1],\n",
    "# matcher=sentence_transformers_matcher,\n",
    "# threshold=0.85,\n",
    "# main_relations=[\"customer\", \"supplier\"]), axis=1).to_list()\n",
    "\n",
    "\n",
    "# # Search relations and return mask\n",
    "# tqdm.pandas(desc=\"Search relations\")\n",
    "# output_df['new_llm_align'] =\\\n",
    "# output_df[['new_pipeline_relation', 'relations']]\\\n",
    "# .progress_apply(lambda x:\n",
    "# llm_relation_utils.relation_search(\n",
    "# query_relation=  x.iloc[0],\n",
    "# relations_tuples= x.iloc[1],\n",
    "# matcher=sentence_transformers_matcher,\n",
    "# threshold=0.85,\n",
    "# main_relations=[\"customer\", \"supplier\"]), axis=1).to_list()\n",
    "\n"
   ]
  },
  {
   "cell_type": "code",
   "execution_count": 232,
   "id": "e6bd0962",
   "metadata": {},
   "outputs": [
    {
     "data": {
      "text/plain": [
       "{'not_found': 207,\n",
       " 'customer': 127,\n",
       " 'supplier': 103,\n",
       " 'financial_trade': 16,\n",
       " 'nothing': 1}"
      ]
     },
     "execution_count": 232,
     "metadata": {},
     "output_type": "execute_result"
    }
   ],
   "source": [
    "dict(output_df.llm_relation_label.value_counts())"
   ]
  },
  {
   "cell_type": "code",
   "execution_count": 234,
   "id": "c7540085",
   "metadata": {},
   "outputs": [
    {
     "data": {
      "text/plain": [
       "Index(['accessionnumber', 'cik', 'reporter_name', 'reported_company',\n",
       "       'sentence_id', 'sentence', 'relation', 'score', 'sents_scores',\n",
       "       'agreration_results', 'winning_relation',\n",
       "       'matched_reported_company_old', 'reported_company_old', 'old_relation',\n",
       "       'explanation', 'relation_completion', 'relations',\n",
       "       'llm_relation_label'],\n",
       "      dtype='object')"
      ]
     },
     "execution_count": 234,
     "metadata": {},
     "output_type": "execute_result"
    }
   ],
   "source": [
    "output_df.columns"
   ]
  },
  {
   "cell_type": "code",
   "execution_count": 320,
   "id": "4b3c5fef",
   "metadata": {},
   "outputs": [],
   "source": [
    "# group by accessionNumber and company_name and find the winning relations from each group of sentences\n",
    "# winning relation is the relation with max count of llm_relation_label in the group\n",
    "\n",
    "accessionnumber_company_name_to_winning_relation_dict = collections.defaultdict(dict)\n",
    "\n",
    "for gorup_columns, group in output_df.groupby([\"accessionnumber\", \"reported_company\"]):\n",
    "    \n",
    "    label_count = dict(group.llm_relation_label.value_counts())\n",
    "    \n",
    "    if label_count.get(\"customer\", 0) > label_count.get(\"supplier\", 0):\n",
    "        winning_relation = \"customer\"\n",
    "    elif label_count.get(\"customer\", 0) < label_count.get(\"supplier\", 0):\n",
    "        winning_relation = \"supplier\"\n",
    "    else: \n",
    "        winning_relation = \"other\"\n",
    "    \n",
    "    # get the accessionnumber and company_name from group\n",
    "    accessionnumber = gorup_columns[0]\n",
    "    reported_company = gorup_columns[1]\n",
    "\n",
    "    accessionnumber_company_name_to_winning_relation_dict[accessionnumber][reported_company] = winning_relation\n",
    "\n",
    "# add winning_relation to output_df\n",
    "output_df[\"llm_winning_relation\"] = output_df.apply(lambda x: accessionnumber_company_name_to_winning_relation_dict[x.accessionnumber][x.reported_company], axis=1)"
   ]
  },
  {
   "cell_type": "code",
   "execution_count": 330,
   "id": "3ab8cbcc",
   "metadata": {},
   "outputs": [],
   "source": [
    "# there is bug in winning_relation ; hence fix here\n",
    "\n",
    "def max_score_winning_relation(agreration_result):\n",
    "    default_winning_relation = \"other\"\n",
    "    if agreration_result.get(\"customer\") > agreration_result.get(\"supplier\"):\n",
    "        return \"customer\"\n",
    "    elif agreration_result.get(\"supplier\") > agreration_result.get(\"customer\"):\n",
    "        return \"supplier\"\n",
    "    else:\n",
    "        return default_winning_relation\n",
    "\n",
    "output_df.loc[:, \"winning_relation\"] =   output_df.agreration_results.apply(max_score_winning_relation)\n"
   ]
  },
  {
   "cell_type": "code",
   "execution_count": 331,
   "id": "5f765d84",
   "metadata": {},
   "outputs": [],
   "source": [
    "# check how many rows have winning_relation same as old_pipeline_relation\n",
    "output_df.loc[:, \"old_llm_align\"] = output_df.apply(lambda x: x.llm_winning_relation == x.old_relation, axis=1)\n",
    "output_df.loc[:, \"new_llm_align\"] = output_df.apply(lambda x: x.llm_winning_relation == x.winning_relation, axis=1)\n"
   ]
  },
  {
   "cell_type": "code",
   "execution_count": 335,
   "id": "b4ac9e1f",
   "metadata": {},
   "outputs": [],
   "source": [
    "# ## output_df.to_excel(\"test_pipeline_data/filings_gt_25_relns/final_report_conflict_with_old_relation_llm.xlsx\", index=False)\n"
   ]
  },
  {
   "cell_type": "code",
   "execution_count": 280,
   "id": "9fc3cd18",
   "metadata": {},
   "outputs": [
    {
     "data": {
      "text/plain": [
       "old_relation\n",
       "supplier    268\n",
       "customer    186\n",
       "Name: count, dtype: int64"
      ]
     },
     "execution_count": 280,
     "metadata": {},
     "output_type": "execute_result"
    }
   ],
   "source": [
    "output_df.old_relation.value_counts()"
   ]
  },
  {
   "cell_type": "code",
   "execution_count": 332,
   "id": "031e1ec2",
   "metadata": {},
   "outputs": [],
   "source": [
    "# find the unique rows on accessionNumber, company_name\n",
    "unique_output_df = output_df.drop_duplicates(subset=[\"accessionnumber\", \"reported_company\"], keep=\"first\")\n"
   ]
  },
  {
   "cell_type": "code",
   "execution_count": 317,
   "id": "3c029cca",
   "metadata": {},
   "outputs": [
    {
     "data": {
      "text/plain": [
       "winning_relation\n",
       "customer    70\n",
       "supplier    36\n",
       "other       23\n",
       "Name: count, dtype: int64"
      ]
     },
     "execution_count": 317,
     "metadata": {},
     "output_type": "execute_result"
    }
   ],
   "source": [
    "unique_output_df.winning_relation.value_counts()"
   ]
  },
  {
   "cell_type": "code",
   "execution_count": 318,
   "id": "5f654ef7",
   "metadata": {},
   "outputs": [
    {
     "data": {
      "text/plain": [
       "old_relation\n",
       "supplier    78\n",
       "customer    51\n",
       "Name: count, dtype: int64"
      ]
     },
     "execution_count": 318,
     "metadata": {},
     "output_type": "execute_result"
    }
   ],
   "source": [
    "unique_output_df.old_relation.value_counts()"
   ]
  },
  {
   "cell_type": "code",
   "execution_count": 283,
   "id": "ac1127ad",
   "metadata": {},
   "outputs": [
    {
     "data": {
      "text/plain": [
       "old_llm_align\n",
       "False    104\n",
       "True      25\n",
       "Name: count, dtype: int64"
      ]
     },
     "execution_count": 283,
     "metadata": {},
     "output_type": "execute_result"
    }
   ],
   "source": [
    "unique_output_df.old_llm_align.value_counts()"
   ]
  },
  {
   "cell_type": "code",
   "execution_count": 333,
   "id": "c0e28547",
   "metadata": {},
   "outputs": [
    {
     "data": {
      "text/plain": [
       "new_llm_align\n",
       "False    66\n",
       "True     63\n",
       "Name: count, dtype: int64"
      ]
     },
     "execution_count": 333,
     "metadata": {},
     "output_type": "execute_result"
    }
   ],
   "source": [
    "unique_output_df.new_llm_align.value_counts()"
   ]
  },
  {
   "cell_type": "code",
   "execution_count": 334,
   "id": "d458103b",
   "metadata": {},
   "outputs": [],
   "source": [
    "# ## unique_output_df.to_excel(\"test_pipeline_data/filings_gt_25_relns/final_report_unique_conflict_with_old_relation_llm.xlsx\", index=False)\n",
    "\n"
   ]
  },
  {
   "cell_type": "code",
   "execution_count": null,
   "id": "48345a79",
   "metadata": {},
   "outputs": [],
   "source": []
  },
  {
   "cell_type": "code",
   "execution_count": null,
   "id": "0faaf7e7",
   "metadata": {},
   "outputs": [],
   "source": []
  },
  {
   "cell_type": "markdown",
   "id": "a11b07a9",
   "metadata": {},
   "source": [
    "#### Try out new winning relation methods on conflict dataset "
   ]
  },
  {
   "cell_type": "code",
   "execution_count": 288,
   "id": "068a3ec5",
   "metadata": {},
   "outputs": [
    {
     "data": {
      "text/plain": [
       "Index(['accessionnumber', 'cik', 'reporter_name', 'reported_company',\n",
       "       'sentence_id', 'sentence', 'relation', 'score', 'sents_scores',\n",
       "       'agreration_results', 'winning_relation',\n",
       "       'matched_reported_company_old', 'reported_company_old', 'old_relation',\n",
       "       'explanation', 'relation_completion', 'relations', 'llm_relation_label',\n",
       "       'llm_winning_relation', 'old_llm_align', 'new_llm_align'],\n",
       "      dtype='object')"
      ]
     },
     "execution_count": 288,
     "metadata": {},
     "output_type": "execute_result"
    }
   ],
   "source": [
    "unique_output_df.columns"
   ]
  },
  {
   "cell_type": "code",
   "execution_count": null,
   "id": "32c1a25c",
   "metadata": {},
   "outputs": [],
   "source": []
  },
  {
   "cell_type": "code",
   "execution_count": 328,
   "id": "38ebe9f3",
   "metadata": {},
   "outputs": [],
   "source": [
    "def max_score_winning_relation(agreration_result):\n",
    "    default_winning_relation = \"other\"\n",
    "    if agreration_result.get(\"customer\") > agreration_result.get(\"supplier\"):\n",
    "        return \"customer\"\n",
    "    elif agreration_result.get(\"supplier\") > agreration_result.get(\"customer\"):\n",
    "        return \"supplier\"\n",
    "    else:\n",
    "        return default_winning_relation\n",
    "\n",
    "\n",
    "def winning_relation_maxpool(row):\n",
    "    sents_score = row[\"sents_scores\"]\n",
    "    default_winning_relation = \"other\"\n",
    "    \n",
    "    count_customer = len(sents_score.get(\"customer_scores\", []))\n",
    "    count_supplier = len(sents_score.get(\"supplier_scores\", []))\n",
    "    count_other = len(sents_score.get(\"other_scores\", []))\n",
    "\n",
    "    if count_customer > count_supplier:\n",
    "        return \"customer\"\n",
    "    elif count_supplier > count_customer:\n",
    "        return \"supplier\"\n",
    "    else:\n",
    "        return default_winning_relation\n",
    "    \n",
    "def winning_relation_maxsum(row):\n",
    "    sents_score = row[\"sents_scores\"]\n",
    "    default_winning_relation = \"other\"\n",
    "    \n",
    "    count_customer = sum(sents_score.get(\"customer_scores\", [0]))\n",
    "    count_supplier = sum(sents_score.get(\"supplier_scores\", [0]))\n",
    "    count_other = sum(sents_score.get(\"other_scores\", [0]))\n",
    "\n",
    "    if count_customer > count_supplier:\n",
    "        return \"customer\"\n",
    "    elif count_supplier > count_customer:\n",
    "        return \"supplier\"\n",
    "    else:\n",
    "        return default_winning_relation\n",
    "\n",
    "\n",
    "#unique_output_df.loc[:, \"new_winning_relation\"] =   unique_output_df.agreration_results.apply(max_score_winning_relation)\n",
    "#unique_output_df.loc[:, \"new_winning_relation_maxpool\"] =   unique_output_df.apply(winning_relation_maxpool, axis=1)\n",
    "\n",
    "#unique_output_df.loc[:, \"new_winning_relation_maxsum\"] =   unique_output_df.apply(winning_relation_maxsum, axis=1)\n"
   ]
  },
  {
   "cell_type": "code",
   "execution_count": 312,
   "id": "d3206f02",
   "metadata": {},
   "outputs": [],
   "source": [
    "#unique_output_df.loc[:, \"new_llm_align_new\"] = unique_output_df.apply(lambda x: x.llm_winning_relation == x.new_winning_relation, axis=1)\n",
    "\n",
    "#unique_output_df.loc[:, \"new_llm_align_maxpool\"] = unique_output_df.apply(lambda x: x.llm_winning_relation == x.new_winning_relation_maxpool, axis=1)\n",
    "\n",
    "#unique_output_df.loc[:, \"new_llm_align_maxsum\"] = unique_output_df.apply(lambda x: x.llm_winning_relation == x.new_winning_relation_maxsum, axis=1)\n"
   ]
  },
  {
   "cell_type": "code",
   "execution_count": 311,
   "id": "2b12ada8",
   "metadata": {},
   "outputs": [
    {
     "data": {
      "text/plain": [
       "new_llm_align_maxsum\n",
       "False    67\n",
       "True     62\n",
       "Name: count, dtype: int64"
      ]
     },
     "execution_count": 311,
     "metadata": {},
     "output_type": "execute_result"
    }
   ],
   "source": [
    "unique_output_df.new_llm_align_maxsum.value_counts()"
   ]
  },
  {
   "cell_type": "code",
   "execution_count": 313,
   "id": "566edc96",
   "metadata": {},
   "outputs": [
    {
     "data": {
      "text/plain": [
       "Index(['accessionnumber', 'cik', 'reporter_name', 'reported_company',\n",
       "       'sentence_id', 'sentence', 'relation', 'score', 'sents_scores',\n",
       "       'agreration_results', 'winning_relation',\n",
       "       'matched_reported_company_old', 'reported_company_old', 'old_relation',\n",
       "       'explanation', 'relation_completion', 'relations', 'llm_relation_label',\n",
       "       'llm_winning_relation', 'old_llm_align', 'new_llm_align'],\n",
       "      dtype='object')"
      ]
     },
     "execution_count": 313,
     "metadata": {},
     "output_type": "execute_result"
    }
   ],
   "source": [
    "output_df.columns"
   ]
  },
  {
   "cell_type": "code",
   "execution_count": null,
   "id": "fe3b6c55",
   "metadata": {},
   "outputs": [],
   "source": [
    "output_df.loc[:, \"winning_relation\"] =   output_df.agreration_results.apply(max_score_winning_relation)\n"
   ]
  },
  {
   "cell_type": "markdown",
   "id": "5e5108ba",
   "metadata": {},
   "source": []
  },
  {
   "cell_type": "code",
   "execution_count": 329,
   "id": "c32b1fb6",
   "metadata": {},
   "outputs": [],
   "source": []
  },
  {
   "cell_type": "code",
   "execution_count": 5,
   "id": "7ba0e2a1",
   "metadata": {},
   "outputs": [],
   "source": []
  },
  {
   "cell_type": "code",
   "execution_count": 6,
   "id": "7413bb2e",
   "metadata": {},
   "outputs": [
    {
     "data": {
      "text/plain": [
       "(956509, 5)"
      ]
     },
     "execution_count": 6,
     "metadata": {},
     "output_type": "execute_result"
    }
   ],
   "source": [
    "labeled_relationships_sentences_neg.shape"
   ]
  },
  {
   "cell_type": "code",
   "execution_count": 9,
   "id": "42e075ca",
   "metadata": {},
   "outputs": [
    {
     "name": "stdout",
     "output_type": "stream",
     "text": [
      "Index(['key', 'company_name', 'related_entity', 'relationship_type',\n",
      "       'sentence'],\n",
      "      dtype='object')\n",
      "(8479, 5)\n"
     ]
    }
   ],
   "source": [
    " \n",
    "\n",
    "# find unique count on company_name and related_entity\n",
    "\n",
    "#print(labeled_relationships_sentences.groupby([\"key\", \"company_name\", \"related_entity\", \"relationship_type\"]).count().shape)\n",
    " "
   ]
  },
  {
   "cell_type": "code",
   "execution_count": null,
   "id": "c1afc0a1",
   "metadata": {},
   "outputs": [],
   "source": []
  },
  {
   "cell_type": "code",
   "execution_count": 382,
   "id": "f7cf4585",
   "metadata": {},
   "outputs": [],
   "source": []
  },
  {
   "cell_type": "code",
   "execution_count": 383,
   "id": "79a763c0",
   "metadata": {},
   "outputs": [],
   "source": []
  },
  {
   "cell_type": "code",
   "execution_count": 372,
   "id": "43968072",
   "metadata": {},
   "outputs": [
    {
     "name": "stdout",
     "output_type": "stream",
     "text": [
      "14996\n",
      "14996\n"
     ]
    }
   ],
   "source": []
  },
  {
   "cell_type": "code",
   "execution_count": 10,
   "id": "48ff5396",
   "metadata": {},
   "outputs": [],
   "source": []
  },
  {
   "cell_type": "code",
   "execution_count": 11,
   "id": "0997cfb1",
   "metadata": {},
   "outputs": [
    {
     "name": "stdout",
     "output_type": "stream",
     "text": [
      "entity_in_sentence\n",
      "False    887480\n",
      "True      69029\n",
      "Name: count, dtype: int64\n"
     ]
    }
   ],
   "source": []
  },
  {
   "cell_type": "code",
   "execution_count": 418,
   "id": "a1f2fb72",
   "metadata": {},
   "outputs": [
    {
     "data": {
      "text/plain": [
       "Index(['key', 'company_name', 'related_entity', 'relationship_type',\n",
       "       'sentence', 'join_id', 'acc_join_id', 'entity_in_sentence'],\n",
       "      dtype='object')"
      ]
     },
     "execution_count": 418,
     "metadata": {},
     "output_type": "execute_result"
    }
   ],
   "source": []
  },
  {
   "cell_type": "code",
   "execution_count": 12,
   "id": "2186773f",
   "metadata": {},
   "outputs": [],
   "source": []
  },
  {
   "cell_type": "code",
   "execution_count": 414,
   "id": "8b774ab0",
   "metadata": {},
   "outputs": [],
   "source": []
  },
  {
   "cell_type": "code",
   "execution_count": null,
   "id": "b1ab0fa6",
   "metadata": {},
   "outputs": [],
   "source": []
  }
 ],
 "metadata": {
  "kernelspec": {
   "display_name": "Python 3 (ipykernel)",
   "language": "python",
   "name": "python3"
  },
  "language_info": {
   "codemirror_mode": {
    "name": "ipython",
    "version": 3
   },
   "file_extension": ".py",
   "mimetype": "text/x-python",
   "name": "python",
   "nbconvert_exporter": "python",
   "pygments_lexer": "ipython3",
   "version": "3.10.6"
  },
  "toc-autonumbering": true
 },
 "nbformat": 4,
 "nbformat_minor": 5
}
